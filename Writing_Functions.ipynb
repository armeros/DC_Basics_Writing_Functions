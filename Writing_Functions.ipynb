{
  "nbformat": 4,
  "nbformat_minor": 0,
  "metadata": {
    "colab": {
      "name": "Writing_Functions",
      "provenance": []
    },
    "kernelspec": {
      "name": "python3",
      "display_name": "Python 3"
    },
    "language_info": {
      "name": "python"
    }
  },
  "cells": [
    {
      "cell_type": "markdown",
      "source": [
        "### **Crafting a docstring**\n",
        "\n",
        "The first function you write is `count_letter()`. It takes a string and a single letter and returns the number of times the letter appears in the string. You want the users of your open-source package to be able to understand how this function works easily, so you will need to give it a ***docstring***. Build up a ***Google Style docstring*** for this function by following these steps.\n",
        "\n",
        "* Copy the following string and add it as the docstring for the function: \n",
        "  \n",
        "  ```\n",
        "  Count the number of times `letter` appears in `content`.\n",
        "  ```"
      ],
      "metadata": {
        "id": "rAfTM6KxkyWD"
      }
    },
    {
      "cell_type": "code",
      "source": [
        "# Add a docstring to count_letter()\n",
        "def count_letter(content, letter):\n",
        "    \"\"\"Count the number of times `letter` appears in `content`.\"\"\"\n",
        "    if (not isinstance(letter, str)) or len(letter) != 1:\n",
        "      raise ValueError('`letter` must be a single character string.')\n",
        "    return len([char for char in content if char == letter])"
      ],
      "metadata": {
        "id": "VgyMcec7lbXw"
      },
      "execution_count": null,
      "outputs": []
    },
    {
      "cell_type": "markdown",
      "source": [
        "* Now add the arguments section, using the Google style for docstrings. Use `str` to indicate a string."
      ],
      "metadata": {
        "id": "kjq2_XyplnFP"
      }
    },
    {
      "cell_type": "code",
      "source": [
        "def count_letter(content, letter):\n",
        "    \"\"\"Count the number of times `letter` appears in `content`.\n",
        "\n",
        "    # Add a Google style arguments section\n",
        "    Args:\n",
        "        content (str): The string to search.\n",
        "        letter (str): The letter to search for.\n",
        "    \"\"\"\n",
        "    if (not isinstance(letter, str)) or len(letter) != 1:\n",
        "        raise ValueError('`letter` must be a single character string.')\n",
        "    return len([char for char in content if char == letter])"
      ],
      "metadata": {
        "id": "XqL-dr0wn_5K"
      },
      "execution_count": null,
      "outputs": []
    },
    {
      "cell_type": "markdown",
      "source": [
        "* Add a returns section that informs the user the return value is an `int`."
      ],
      "metadata": {
        "id": "Rqer2OqVoHia"
      }
    },
    {
      "cell_type": "code",
      "source": [
        "def count_letter(content, letter):\n",
        "    \"\"\"Count the number of times `letter` appears in `content`.\n",
        "\n",
        "    Args:\n",
        "        content (str): The string to search.\n",
        "        letter (str): The letter to search for.\n",
        "\n",
        "    # Add a returns section\n",
        "    Returns:\n",
        "        int\n",
        "    \"\"\"\n",
        "    if (not isinstance(letter, str)) or len(letter) != 1:\n",
        "        raise ValueError('\"letter\" must be a single character string.')\n",
        "    return len([char for char in content if char == letter])"
      ],
      "metadata": {
        "id": "UuETRTBEoPLx"
      },
      "execution_count": null,
      "outputs": []
    },
    {
      "cell_type": "markdown",
      "source": [
        "* Finally, add some information about the `ValueError` that gets raised when the arguments aren't correct."
      ],
      "metadata": {
        "id": "cMg-MjTHoaSh"
      }
    },
    {
      "cell_type": "code",
      "source": [
        "def count_letter(content, letter):\n",
        "    \"\"\"Count the number of times `letter` appears in `content`.\n",
        "\n",
        "    Args:\n",
        "        content (str): The string to search.\n",
        "        letter (str): The letter to search for.\n",
        "\n",
        "    Returns:\n",
        "        int\n",
        "\n",
        "    # Add a section detailing what errors might be raised\n",
        "    Raises:\n",
        "        ValueError: If `letter` is not a one-character string.\n",
        "    \"\"\"\n",
        "    if (not isinstance(letter, str)) or len(letter) != 1:\n",
        "        raise ValueError('`letter` must be a single character string.')\n",
        "    return len([char for char in content if char == letter])"
      ],
      "metadata": {
        "id": "ADAKGUqzoi8J"
      },
      "execution_count": null,
      "outputs": []
    },
    {
      "cell_type": "markdown",
      "source": [
        "While ***docstring*** does require a bit more typing, the information presented here will make it very easy for others to use this code in the future. Remember that even though computers execute it, code is actually written for humans to read (otherwise you'd just be writing the 1s and 0s that the computer operates on).\n",
        "\n",
        "### **Retrieving docstrings**\n",
        "\n",
        "You've been asked to complete the `build_tooltip()` function that retrieves a docstring from an arbitrary function.\n",
        "\n",
        "You will be reusing the `count_letter()` function that you developed in the last exercise to show that we can properly extract its docstring.\n",
        "\n",
        "1. Begin by getting the docstring for the function `count_letter()`. Use an attribute of the `count_letter()` function."
      ],
      "metadata": {
        "id": "VhmprvIro1a5"
      }
    },
    {
      "cell_type": "code",
      "source": [
        "def count_letter(content, letter):\n",
        "    \"\"\"Count the number of times `letter` appears in `content`.\n",
        "\n",
        "    Args:\n",
        "        content (str): The string to search.\n",
        "        letter (str): The letter to search for.\n",
        "\n",
        "    Returns:\n",
        "        int\n",
        "\n",
        "    # Add a section detailing what errors might be raised\n",
        "    Raises:\n",
        "        ValueError: If `letter` is not a one-character string.\n",
        "    \"\"\"\n",
        "    if (not isinstance(letter, str)) or len(letter) != 1:\n",
        "        raise ValueError('`letter` must be a single character string.')\n",
        "    return len([char for char in content if char == letter])\n",
        "\n",
        "# Get the docstring with an attribute of count_letter()\n",
        "docstring = count_letter.__doc__\n",
        "\n",
        "border = '#' * 28\n",
        "print('{}\\n{}\\n{}'.format(border, docstring, border))"
      ],
      "metadata": {
        "colab": {
          "base_uri": "https://localhost:8080/"
        },
        "id": "7dWNPjtNph2n",
        "outputId": "1ebb2718-8d65-4870-feb1-d9d0ba08692d"
      },
      "execution_count": null,
      "outputs": [
        {
          "output_type": "stream",
          "name": "stdout",
          "text": [
            "############################\n",
            "Count the number of times `letter` appears in `content`.\n",
            "\n",
            "    Args:\n",
            "        content (str): The string to search.\n",
            "        letter (str): The letter to search for.\n",
            "\n",
            "    Returns:\n",
            "        int\n",
            "\n",
            "    # Add a section detailing what errors might be raised\n",
            "    Raises:\n",
            "        ValueError: If `letter` is not a one-character string.\n",
            "    \n",
            "############################\n"
          ]
        }
      ]
    },
    {
      "cell_type": "markdown",
      "source": [
        "2. Now use a function from the `inspect` module to get a better-formatted version of `count_letter()`'s docstring."
      ],
      "metadata": {
        "id": "iSt0FeMqqFf2"
      }
    },
    {
      "cell_type": "code",
      "source": [
        "def count_letter(content, letter):\n",
        "    \"\"\"Count the number of times `letter` appears in `content`.\n",
        "\n",
        "    Args:\n",
        "        content (str): The string to search.\n",
        "        letter (str): The letter to search for.\n",
        "\n",
        "    Returns:\n",
        "        int\n",
        "\n",
        "    # Add a section detailing what errors might be raised\n",
        "    Raises:\n",
        "        ValueError: If `letter` is not a one-character string.\n",
        "    \"\"\"\n",
        "    if (not isinstance(letter, str)) or len(letter) != 1:\n",
        "        raise ValueError('`letter` must be a single character string.')\n",
        "    return len([char for char in content if char == letter])\n",
        "\n",
        "import inspect\n",
        "\n",
        "# Get the docstring with a function from the inspect module\n",
        "docstring = inspect.getdoc(count_letter)\n",
        "\n",
        "border = '#' * 28\n",
        "print('{}\\n{}\\n{}'.format(border, docstring, border))"
      ],
      "metadata": {
        "colab": {
          "base_uri": "https://localhost:8080/"
        },
        "id": "R6xL8otVqAYe",
        "outputId": "3b0129ea-3922-4f0c-cc1c-e3d67137a3a7"
      },
      "execution_count": null,
      "outputs": [
        {
          "output_type": "stream",
          "name": "stdout",
          "text": [
            "############################\n",
            "Count the number of times `letter` appears in `content`.\n",
            "\n",
            "Args:\n",
            "    content (str): The string to search.\n",
            "    letter (str): The letter to search for.\n",
            "\n",
            "Returns:\n",
            "    int\n",
            "\n",
            "# Add a section detailing what errors might be raised\n",
            "Raises:\n",
            "    ValueError: If `letter` is not a one-character string.\n",
            "############################\n"
          ]
        }
      ]
    },
    {
      "cell_type": "markdown",
      "source": [
        "3. Now create a `build_tooltip()` function that can extract the docstring from ***any*** function that we pass to it."
      ],
      "metadata": {
        "id": "U-AwgZmaqWyu"
      }
    },
    {
      "cell_type": "code",
      "source": [
        "def count_letter(content, letter):\n",
        "    \"\"\"Count the number of times `letter` appears in `content`.\n",
        "\n",
        "    Args:\n",
        "        content (str): The string to search.\n",
        "        letter (str): The letter to search for.\n",
        "\n",
        "    Returns:\n",
        "        int\n",
        "\n",
        "    # Add a section detailing what errors might be raised\n",
        "    Raises:\n",
        "        ValueError: If `letter` is not a one-character string.\n",
        "    \"\"\"\n",
        "    if (not isinstance(letter, str)) or len(letter) != 1:\n",
        "        raise ValueError('`letter` must be a single character string.')\n",
        "    return len([char for char in content if char == letter])\n",
        "\n",
        "def build_tooltip(function):\n",
        "    \"\"\"Create a tooltip for any function that shows the \n",
        "    function's docstring.\n",
        "    \n",
        "    Args:\n",
        "        function (callable): The function we want a tooltip for.\n",
        "      \n",
        "    Returns:\n",
        "        str\n",
        "    \"\"\"\n",
        "    import inspect\n",
        "    # Use 'inspect' to get the docstring\n",
        "    docstring = inspect.getdoc(function)\n",
        "    border = '#' * 28\n",
        "    return '{}\\n{}\\n{}'.format(border, docstring, border)\n",
        "\n",
        "print(build_tooltip(count_letter))\n",
        "print(build_tooltip(range))\n",
        "print(build_tooltip(print))"
      ],
      "metadata": {
        "colab": {
          "base_uri": "https://localhost:8080/"
        },
        "id": "tcpq_q-GqvCB",
        "outputId": "6af7ecee-39a8-4d11-dc5f-3a1ab9458f84"
      },
      "execution_count": null,
      "outputs": [
        {
          "output_type": "stream",
          "name": "stdout",
          "text": [
            "############################\n",
            "Count the number of times `letter` appears in `content`.\n",
            "\n",
            "Args:\n",
            "    content (str): The string to search.\n",
            "    letter (str): The letter to search for.\n",
            "\n",
            "Returns:\n",
            "    int\n",
            "\n",
            "# Add a section detailing what errors might be raised\n",
            "Raises:\n",
            "    ValueError: If `letter` is not a one-character string.\n",
            "############################\n",
            "############################\n",
            "range(stop) -> range object\n",
            "range(start, stop[, step]) -> range object\n",
            "\n",
            "Return an object that produces a sequence of integers from start (inclusive)\n",
            "to stop (exclusive) by step.  range(i, j) produces i, i+1, i+2, ..., j-1.\n",
            "start defaults to 0, and stop is omitted!  range(4) produces 0, 1, 2, 3.\n",
            "These are exactly the valid indices for a list of 4 elements.\n",
            "When step is given, it specifies the increment (or decrement).\n",
            "############################\n",
            "############################\n",
            "print(value, ..., sep=' ', end='\\n', file=sys.stdout, flush=False)\n",
            "\n",
            "Prints the values to a stream, or to sys.stdout by default.\n",
            "Optional keyword arguments:\n",
            "file:  a file-like object (stream); defaults to the current sys.stdout.\n",
            "sep:   string inserted between values, default a space.\n",
            "end:   string appended after the last value, default a newline.\n",
            "flush: whether to forcibly flush the stream.\n",
            "############################\n"
          ]
        }
      ]
    },
    {
      "cell_type": "markdown",
      "source": [
        "Notice how the `count_letter.__doc__` version of the docstring had strange whitespace at the beginning of all but the first line. That's because the docstring is indented to line up visually when reading the code. But when we want to print the docstring, removing those leading spaces with `inspect.getdoc()` will look much better.\n",
        "\n",
        "# ***DRY: Don't Repeat Yourself***\n",
        "### **Extract a function**\n",
        "\n",
        "While you were developing a model to predict the likelihood of a student graduating from college, you wrote this bit of code to get the z-scores of students' yearly GPAs. Now you're ready to turn it into a production-quality system, so you need to do something about the repetition. Writing a function to calculate the z-scores would improve this code.\n",
        "\n",
        "```\n",
        "# Standardize the GPAs for each year\n",
        "df['y1_z'] = (df.y1_gpa - df.y1_gpa.mean()) / df.y1_gpa.std()\n",
        "df['y2_z'] = (df.y2_gpa - df.y2_gpa.mean()) / df.y2_gpa.std()\n",
        "df['y3_z'] = (df.y3_gpa - df.y3_gpa.mean()) / df.y3_gpa.std()\n",
        "df['y4_z'] = (df.y4_gpa - df.y4_gpa.mean()) / df.y4_gpa.std()\n",
        "```\n",
        "\n",
        "*Note: `df` is a pandas DataFrame where each row is a student with 4 columns of yearly student GPAs: `y1_gpa`, `y2_gpa`, `y3_gpa`, `y4_gpa`*\n",
        "\n",
        "* Finish the function so that it returns the z-scores of a column.\n",
        "* Use the function to calculate the z-scores for each year (`df['y1_z']`, `df['y2_z']`, etc.) from the raw GPA scores (`df.y1_gpa`, `df.y2_gpa`, etc.)."
      ],
      "metadata": {
        "id": "V5X-X1nmraB0"
      }
    },
    {
      "cell_type": "code",
      "metadata": {
        "colab": {
          "base_uri": "https://localhost:8080/",
          "height": 144
        },
        "id": "wq74m7V1kFWz",
        "outputId": "bfbe8c8d-83cc-48af-e1c6-941e90582efd"
      },
      "source": [
        "import pandas as pd\n",
        "import numpy as np\n",
        "\n",
        "df = pd.read_csv('gpa.csv').drop(columns='Unnamed: 0')\n",
        "\n",
        "def standardize(column):\n",
        "    \"\"\"Standardize the values in a column.\n",
        "\n",
        "    Args:\n",
        "        column (pandas Series): The data to standardize.\n",
        "\n",
        "    Returns:\n",
        "        pandas Series: the values as z-scores\n",
        "    \"\"\"\n",
        "    # Finish the function so that it returns the z-scores\n",
        "    z_score = (df[column] - df[column].mean()) / df[column].std()\n",
        "    return z_score\n",
        "\n",
        "# Use the standardize() function to calculate the z-scores\n",
        "df['y1_z'] = standardize(\"y1_gpa\")\n",
        "df['y2_z'] = standardize(\"y2_gpa\")\n",
        "df['y3_z'] = standardize(\"y3_gpa\")\n",
        "df['y4_z'] = standardize(\"y4_gpa\")\n",
        "\n",
        "df.head(3)"
      ],
      "execution_count": null,
      "outputs": [
        {
          "output_type": "execute_result",
          "data": {
            "text/html": [
              "\n",
              "  <div id=\"df-987e210a-8d9d-43a5-a955-a31389b72a25\">\n",
              "    <div class=\"colab-df-container\">\n",
              "      <div>\n",
              "<style scoped>\n",
              "    .dataframe tbody tr th:only-of-type {\n",
              "        vertical-align: middle;\n",
              "    }\n",
              "\n",
              "    .dataframe tbody tr th {\n",
              "        vertical-align: top;\n",
              "    }\n",
              "\n",
              "    .dataframe thead th {\n",
              "        text-align: right;\n",
              "    }\n",
              "</style>\n",
              "<table border=\"1\" class=\"dataframe\">\n",
              "  <thead>\n",
              "    <tr style=\"text-align: right;\">\n",
              "      <th></th>\n",
              "      <th>y1_gpa</th>\n",
              "      <th>y2_gpa</th>\n",
              "      <th>y3_gpa</th>\n",
              "      <th>y4_gpa</th>\n",
              "      <th>y1_z</th>\n",
              "      <th>y2_z</th>\n",
              "      <th>y3_z</th>\n",
              "      <th>y4_z</th>\n",
              "    </tr>\n",
              "  </thead>\n",
              "  <tbody>\n",
              "    <tr>\n",
              "      <th>0</th>\n",
              "      <td>2.785877</td>\n",
              "      <td>2.052513</td>\n",
              "      <td>2.170544</td>\n",
              "      <td>0.065570</td>\n",
              "      <td>0.790863</td>\n",
              "      <td>0.028021</td>\n",
              "      <td>0.172322</td>\n",
              "      <td>-1.711179</td>\n",
              "    </tr>\n",
              "    <tr>\n",
              "      <th>1</th>\n",
              "      <td>1.144557</td>\n",
              "      <td>2.666498</td>\n",
              "      <td>0.267098</td>\n",
              "      <td>2.884737</td>\n",
              "      <td>-0.872971</td>\n",
              "      <td>0.564636</td>\n",
              "      <td>-1.347122</td>\n",
              "      <td>0.824431</td>\n",
              "    </tr>\n",
              "    <tr>\n",
              "      <th>2</th>\n",
              "      <td>0.907406</td>\n",
              "      <td>0.423634</td>\n",
              "      <td>2.613459</td>\n",
              "      <td>0.030950</td>\n",
              "      <td>-1.113376</td>\n",
              "      <td>-1.395595</td>\n",
              "      <td>0.525883</td>\n",
              "      <td>-1.742317</td>\n",
              "    </tr>\n",
              "  </tbody>\n",
              "</table>\n",
              "</div>\n",
              "      <button class=\"colab-df-convert\" onclick=\"convertToInteractive('df-987e210a-8d9d-43a5-a955-a31389b72a25')\"\n",
              "              title=\"Convert this dataframe to an interactive table.\"\n",
              "              style=\"display:none;\">\n",
              "        \n",
              "  <svg xmlns=\"http://www.w3.org/2000/svg\" height=\"24px\"viewBox=\"0 0 24 24\"\n",
              "       width=\"24px\">\n",
              "    <path d=\"M0 0h24v24H0V0z\" fill=\"none\"/>\n",
              "    <path d=\"M18.56 5.44l.94 2.06.94-2.06 2.06-.94-2.06-.94-.94-2.06-.94 2.06-2.06.94zm-11 1L8.5 8.5l.94-2.06 2.06-.94-2.06-.94L8.5 2.5l-.94 2.06-2.06.94zm10 10l.94 2.06.94-2.06 2.06-.94-2.06-.94-.94-2.06-.94 2.06-2.06.94z\"/><path d=\"M17.41 7.96l-1.37-1.37c-.4-.4-.92-.59-1.43-.59-.52 0-1.04.2-1.43.59L10.3 9.45l-7.72 7.72c-.78.78-.78 2.05 0 2.83L4 21.41c.39.39.9.59 1.41.59.51 0 1.02-.2 1.41-.59l7.78-7.78 2.81-2.81c.8-.78.8-2.07 0-2.86zM5.41 20L4 18.59l7.72-7.72 1.47 1.35L5.41 20z\"/>\n",
              "  </svg>\n",
              "      </button>\n",
              "      \n",
              "  <style>\n",
              "    .colab-df-container {\n",
              "      display:flex;\n",
              "      flex-wrap:wrap;\n",
              "      gap: 12px;\n",
              "    }\n",
              "\n",
              "    .colab-df-convert {\n",
              "      background-color: #E8F0FE;\n",
              "      border: none;\n",
              "      border-radius: 50%;\n",
              "      cursor: pointer;\n",
              "      display: none;\n",
              "      fill: #1967D2;\n",
              "      height: 32px;\n",
              "      padding: 0 0 0 0;\n",
              "      width: 32px;\n",
              "    }\n",
              "\n",
              "    .colab-df-convert:hover {\n",
              "      background-color: #E2EBFA;\n",
              "      box-shadow: 0px 1px 2px rgba(60, 64, 67, 0.3), 0px 1px 3px 1px rgba(60, 64, 67, 0.15);\n",
              "      fill: #174EA6;\n",
              "    }\n",
              "\n",
              "    [theme=dark] .colab-df-convert {\n",
              "      background-color: #3B4455;\n",
              "      fill: #D2E3FC;\n",
              "    }\n",
              "\n",
              "    [theme=dark] .colab-df-convert:hover {\n",
              "      background-color: #434B5C;\n",
              "      box-shadow: 0px 1px 3px 1px rgba(0, 0, 0, 0.15);\n",
              "      filter: drop-shadow(0px 1px 2px rgba(0, 0, 0, 0.3));\n",
              "      fill: #FFFFFF;\n",
              "    }\n",
              "  </style>\n",
              "\n",
              "      <script>\n",
              "        const buttonEl =\n",
              "          document.querySelector('#df-987e210a-8d9d-43a5-a955-a31389b72a25 button.colab-df-convert');\n",
              "        buttonEl.style.display =\n",
              "          google.colab.kernel.accessAllowed ? 'block' : 'none';\n",
              "\n",
              "        async function convertToInteractive(key) {\n",
              "          const element = document.querySelector('#df-987e210a-8d9d-43a5-a955-a31389b72a25');\n",
              "          const dataTable =\n",
              "            await google.colab.kernel.invokeFunction('convertToInteractive',\n",
              "                                                     [key], {});\n",
              "          if (!dataTable) return;\n",
              "\n",
              "          const docLinkHtml = 'Like what you see? Visit the ' +\n",
              "            '<a target=\"_blank\" href=https://colab.research.google.com/notebooks/data_table.ipynb>data table notebook</a>'\n",
              "            + ' to learn more about interactive tables.';\n",
              "          element.innerHTML = '';\n",
              "          dataTable['output_type'] = 'display_data';\n",
              "          await google.colab.output.renderOutput(dataTable, element);\n",
              "          const docLink = document.createElement('div');\n",
              "          docLink.innerHTML = docLinkHtml;\n",
              "          element.appendChild(docLink);\n",
              "        }\n",
              "      </script>\n",
              "    </div>\n",
              "  </div>\n",
              "  "
            ],
            "text/plain": [
              "     y1_gpa    y2_gpa    y3_gpa  ...      y2_z      y3_z      y4_z\n",
              "0  2.785877  2.052513  2.170544  ...  0.028021  0.172322 -1.711179\n",
              "1  1.144557  2.666498  0.267098  ...  0.564636 -1.347122  0.824431\n",
              "2  0.907406  0.423634  2.613459  ... -1.395595  0.525883 -1.742317\n",
              "\n",
              "[3 rows x 8 columns]"
            ]
          },
          "metadata": {},
          "execution_count": 3
        }
      ]
    },
    {
      "cell_type": "markdown",
      "source": [
        "`standardize()` will probably be useful in other places in your code, and now it is easy to use, test, and update if you need to. It's also easier to tell what the code is doing because of the docstring and the name of the function.\n",
        "\n",
        "# ***Do One Thing***\n",
        "\n",
        "### **Split up a function**\n",
        "Another engineer on your team has written this function to calculate the mean and median of a sorted list. You want to show them how to split it into two simpler functions: `mean()` and `median()`\n",
        "\n",
        "```\n",
        "def mean_and_median(values):\n",
        "    \"\"\"Get the mean and median of a sorted list of `values`\n",
        "\n",
        "    Args:\n",
        "        values (iterable of float): A list of numbers\n",
        "\n",
        "    Returns:\n",
        "        tuple (float, float): The mean and median\n",
        "    \"\"\"\n",
        "    mean = sum(values) / len(values)\n",
        "    midpoint = int(len(values) / 2)\n",
        "    \n",
        "    if len(values) % 2 == 0:\n",
        "        median = (values[midpoint - 1] + values[midpoint]) / 2\n",
        "    else:\n",
        "        median = values[midpoint]\n",
        "\n",
        "    return mean, median\n",
        "```\n",
        "\n",
        "* Write the `mean()` function.\n",
        "\n",
        "* Write the `median()` function."
      ],
      "metadata": {
        "id": "QNXRB-qqvX39"
      }
    },
    {
      "cell_type": "code",
      "metadata": {
        "id": "M9uPR1k_Senm"
      },
      "source": [
        "# Write functions that do one thing\n",
        "def mean(values):\n",
        "    \"\"\"Get the mean of a list of values\n",
        "\n",
        "    Args:\n",
        "      values (iterable of float): A list of numbers\n",
        "\n",
        "    Returns:\n",
        "      float\n",
        "    \"\"\"\n",
        "    # Write the mean() function\n",
        "    mean = sum(values) / len(values)\n",
        "    return mean\n",
        "\n",
        "def median(values):\n",
        "    \"\"\"Get the median of a list of values\n",
        "\n",
        "    Args:\n",
        "      values (iterable of float): A list of numbers\n",
        "\n",
        "    Returns:\n",
        "      float\n",
        "    \"\"\"\n",
        "  # Write the median() function\n",
        "    midpoint = int(len(values) / 2)\n",
        "    if len(values) % 2 == 0:\n",
        "        median = (values[midpoint - 1] + values[midpoint]) / 2\n",
        "    else:\n",
        "        median = values[midpoint]\n",
        "    return median"
      ],
      "execution_count": null,
      "outputs": []
    },
    {
      "cell_type": "markdown",
      "source": [
        "Each function does one thing and does it well. Using, testing, and maintaining these will be a breeze (although you'll probably just use `numpy.mean()` and `numpy.median()` for this in real life).\n",
        "\n",
        "## **List is mutable**"
      ],
      "metadata": {
        "id": "sT_sPv7Ow1Ka"
      }
    },
    {
      "cell_type": "code",
      "source": [
        "def foo(x):\n",
        "    x[0] = 99\n",
        "\n",
        "my_list = [1, 2, 3]\n",
        "foo(my_list)\n",
        "print(my_list)"
      ],
      "metadata": {
        "colab": {
          "base_uri": "https://localhost:8080/"
        },
        "id": "SQfD9dn-J60E",
        "outputId": "5f2c42af-a101-41c7-c814-62a871e3c073"
      },
      "execution_count": null,
      "outputs": [
        {
          "output_type": "stream",
          "name": "stdout",
          "text": [
            "[99, 2, 3]\n"
          ]
        }
      ]
    },
    {
      "cell_type": "markdown",
      "source": [
        "## **Integer is immutable**\n",
        "\n",
        "\n"
      ],
      "metadata": {
        "id": "b_WszKytKKiT"
      }
    },
    {
      "cell_type": "code",
      "source": [
        "def bar(x):\n",
        "    x = x + 90\n",
        "\n",
        "my_var = 3\n",
        "bar(my_var)\n",
        "print(my_var)"
      ],
      "metadata": {
        "colab": {
          "base_uri": "https://localhost:8080/"
        },
        "id": "n6wmOBQkKSoL",
        "outputId": "334a9b21-198c-4a95-d726-130f6be4b5dd"
      },
      "execution_count": null,
      "outputs": [
        {
          "output_type": "stream",
          "name": "stdout",
          "text": [
            "3\n"
          ]
        }
      ]
    },
    {
      "cell_type": "markdown",
      "source": [
        "# **Mutable default arguments are dangerous!**"
      ],
      "metadata": {
        "id": "okRQ7F3TLMW7"
      }
    },
    {
      "cell_type": "code",
      "source": [
        "def foo(var=[]):\n",
        "    var.append(1)\n",
        "    return var\n",
        "print(foo())\n",
        "print(foo())"
      ],
      "metadata": {
        "colab": {
          "base_uri": "https://localhost:8080/"
        },
        "id": "BzbAgz11LOFR",
        "outputId": "3ad8f142-8cfd-4218-871b-c671296461e1"
      },
      "execution_count": null,
      "outputs": [
        {
          "output_type": "stream",
          "name": "stdout",
          "text": [
            "[1]\n",
            "[1, 1]\n"
          ]
        }
      ]
    },
    {
      "cell_type": "code",
      "source": [
        "def foo(var=None):\n",
        "    if var is None:\n",
        "        var = []\n",
        "    var.append(1)\n",
        "    return var\n",
        "print(foo())\n",
        "print(foo())"
      ],
      "metadata": {
        "colab": {
          "base_uri": "https://localhost:8080/"
        },
        "id": "1sHKyj9sLvTh",
        "outputId": "c4d288c1-da31-46ad-d3a9-fd39c309b02b"
      },
      "execution_count": null,
      "outputs": [
        {
          "output_type": "stream",
          "name": "stdout",
          "text": [
            "[1]\n",
            "[1]\n"
          ]
        }
      ]
    },
    {
      "cell_type": "markdown",
      "source": [
        "### **Mutable or immutable?**\n",
        "\n",
        "The following function adds a mapping between a string and the lowercase version of that string to a dictionary. What do you expect the values of `d` and `s` to be after the function is called?\n",
        "\n"
      ],
      "metadata": {
        "id": "Tlyx38viMEu_"
      }
    },
    {
      "cell_type": "code",
      "metadata": {
        "colab": {
          "base_uri": "https://localhost:8080/"
        },
        "id": "yBIGrs95Rk9R",
        "outputId": "5737e825-bb9a-481b-dd4a-7e1738a5f9e7"
      },
      "source": [
        "def store_lower(_dict, _string):\n",
        "    \"\"\"Add a mapping between `_string` and a lowercased version of `_string` to `_dict`\n",
        "\n",
        "    Args:\n",
        "        _dict (dict): The dictionary to update.\n",
        "        _string (str): The string to add.\n",
        "    \"\"\"\n",
        "    orig_string = _string\n",
        "    _string = _string.lower()\n",
        "    _dict[orig_string] = _string\n",
        "\n",
        "d = {}\n",
        "s = 'Hello'\n",
        "\n",
        "store_lower(d, s)\n",
        "print(f'd = {d}:: Dictionaries are mutable.')\n",
        "print(f's = {s}:: Strings are immutable.')"
      ],
      "execution_count": null,
      "outputs": [
        {
          "output_type": "stream",
          "name": "stdout",
          "text": [
            "d = {'Hello': 'hello'}:: Dictionaries are mutable.\n",
            "s = Hello:: Strings are immutable.\n"
          ]
        }
      ]
    },
    {
      "cell_type": "markdown",
      "source": [
        "### **Best practice for default arguments**\n",
        "\n",
        "One of your co-workers (who obviously didn't take this course) has written this function for adding a column to a pandas DataFrame. Unfortunately, ***they used a mutable variable as a default argument value!*** Please show them a better way to do this so that they don't get unexpected behavior.\n",
        "\n",
        "```\n",
        "def add_column(values, df=pandas.DataFrame()):\n",
        "    \"\"\"Add a column of `values` to a DataFrame `df`.\n",
        "    The column will be named \"col_<n>\" where \"n\" is\n",
        "    the numerical index of the column.\n",
        "\n",
        "    Args:\n",
        "        values (iterable): The values of the new column\n",
        "        df (DataFrame, optional): The DataFrame to update.\n",
        "          If no DataFrame is passed, one is created by default.\n",
        "\n",
        "    Returns:\n",
        "        DataFrame\n",
        "    \"\"\"\n",
        "    df['col_{}'.format(len(df.columns))] = values\n",
        "    return df\n",
        "```\n",
        "\n",
        "\n",
        "Change the default value of df to an immutable value to follow best practices.\n",
        "Update the code of the function so that a new DataFrame is created if the caller didn't pass one."
      ],
      "metadata": {
        "id": "OkHPNekUM_L-"
      }
    },
    {
      "cell_type": "code",
      "metadata": {
        "id": "AGFwb2B8fePj"
      },
      "source": [
        "# DON'T use a mutable variable as a default argument value.  \n",
        "import pandas as pd\n",
        "\n",
        "# Use an immutable variable for the default argument \n",
        "def better_add_column(values, df=None):\n",
        "    \"\"\"Add a column of `values` to a DataFrame `df`.\n",
        "    The column will be named \"col_<n>\" where \"n\" is\n",
        "    the numerical index of the column.\n",
        "\n",
        "    Args:\n",
        "      values (iterable): The values of the new column\n",
        "      df (DataFrame, optional): The DataFrame to update.\n",
        "        If no DataFrame is passed, one is created by default.\n",
        "\n",
        "    Returns:\n",
        "      DataFrame\n",
        "    \"\"\"\n",
        "    # Update the function to create a default DataFrame\n",
        "    if df is None:\n",
        "        df = pandas.DataFrame()\n",
        "    df['col_{}'.format(len(df.columns))] = values\n",
        "    return df"
      ],
      "execution_count": null,
      "outputs": []
    },
    {
      "cell_type": "markdown",
      "source": [
        "When you need to set a mutable variable as a default argument, always use `None` and then set the value in the body of the function. This prevents unexpected behavior like adding multiple columns if you call the function more than once."
      ],
      "metadata": {
        "id": "NYvmb61hN4Fd"
      }
    },
    {
      "cell_type": "markdown",
      "source": [
        "# ***Using a context manager***\n",
        "\n",
        "```\n",
        "with <context-manager>(<args>) as <variable-name>:\n",
        "    # Run your code here\n",
        "    # This code is running \"inside the context\"\n",
        "\n",
        "# This code runs after the context is removed\n",
        "```\n",
        "\n",
        "### **The number of cats**\n",
        "\n",
        "Count the number of times the word \"cat\" appears in \"Alice's Adventures in Wonderland\" by Lewis Carroll. You have already downloaded a text file, `alice.txt`, with the entire contents of this great book.\n",
        "\n",
        "* Use the `open()` context manager to open `alice.txt` and assign the file to the `file`| variable."
      ],
      "metadata": {
        "id": "JwttFaGBO59c"
      }
    },
    {
      "cell_type": "code",
      "metadata": {
        "colab": {
          "base_uri": "https://localhost:8080/"
        },
        "id": "g2wB2olmEenu",
        "outputId": "992ab5e0-7686-48d4-f94e-da83450824d2"
      },
      "source": [
        "# Open \"alice.txt\" and assign the file to \"file\"\n",
        "with open('alice.txt') as file:\n",
        "    text = file.read()\n",
        "\n",
        "n = 0\n",
        "for word in text.split():\n",
        "    if word.lower() in ['cat', 'cats']:\n",
        "        n += 1\n",
        "\n",
        "print('Lewis Carroll uses the word \"cat\" {} times.'.format(n))"
      ],
      "execution_count": null,
      "outputs": [
        {
          "output_type": "stream",
          "name": "stdout",
          "text": [
            "Lewis Carroll uses the word \"cat\" 24 times.\n"
          ]
        }
      ]
    },
    {
      "cell_type": "markdown",
      "source": [
        "By opening the file using the \n",
        "```\n",
        "with open()\n",
        "```\n",
        "statement, you were able to read in the text of the file. More importantly, when you were done reading the text, the context manager closed the file for you.\n",
        "\n",
        "### **The speed of cats**\n",
        "\n",
        "You're working on a new web service that processes Instagram feeds to identify which pictures contain cats. The code that processes the data is slower than you would like it to be, so you are working on tuning it up to run faster. Given an `image`, you have two functions that can process it:\n",
        "\n",
        "* `process_with_numpy(image)`\n",
        "* `process_with_pytorch(image)`\n",
        "\n",
        "Your colleague wrote a context manager, `timer()`, that will print out how long the code inside the context block takes to run. She is suggesting you use it to see which of the two options is faster. Time each function to determine which one to use in your web service.\n",
        "\n",
        "* Use the `timer()` context manager to time how long `process_with_numpy(image)` takes to run.\n",
        "* Use the `timer()` context manager to time how long `process_with_pytorch(image)` takes to run."
      ],
      "metadata": {
        "id": "YglLM6PFQYiB"
      }
    },
    {
      "cell_type": "code",
      "metadata": {
        "id": "-0wh8NcJIj5N",
        "colab": {
          "base_uri": "https://localhost:8080/"
        },
        "outputId": "cdf879e8-0012-4608-ae38-1700c46c2dd1"
      },
      "source": [
        "# Don't worry about the code before ########### line for now.\n",
        "\n",
        "import numpy as np\n",
        "import time, contextlib\n",
        "\n",
        "def get_image_from_instagram():\n",
        "    return np.random.rand(84, 84)\n",
        "\n",
        "def process_with_numpy(p):\n",
        "    _process_pic(0.1521)\n",
        "\n",
        "def process_with_pytorch(p):\n",
        "    _process_pic(0.0328)\n",
        "\n",
        "def _process_pic(n_sec):\n",
        "    print('Processing', end='', flush=True)\n",
        "    for i in range(10):\n",
        "        print('.', end='' if i < 9 else 'done!\\n', flush=True)\n",
        "        time.sleep(n_sec)\n",
        "\n",
        "@contextlib.contextmanager # This will be explained below.  Don't worry now.\n",
        "def timer():\n",
        "    \"\"\"Time how long code in the context block takes to run.\"\"\"\n",
        "    t0 = time.time()\n",
        "    try:\n",
        "        yield\n",
        "    except:\n",
        "        raise\n",
        "    finally:\n",
        "        t1 = time.time()\n",
        "        print('Elapsed: {:.2f} seconds'.format(t1 - t0))\n",
        "\n",
        "###############################################################\n",
        "\n",
        "image = get_image_from_instagram()\n",
        "\n",
        "# Time how long process_with_numpy(image) takes to run\n",
        "with timer():\n",
        "    print('Numpy version')\n",
        "    process_with_numpy(image)\n",
        "\n",
        "# Time how long process_with_pytorch(image) takes to run\n",
        "with timer():\n",
        "    print('Pytorch version')\n",
        "    process_with_pytorch(image)"
      ],
      "execution_count": null,
      "outputs": [
        {
          "output_type": "stream",
          "name": "stdout",
          "text": [
            "Numpy version\n",
            "Processing..........done!\n",
            "Elapsed: 1.54 seconds\n",
            "Pytorch version\n",
            "Processing..........done!\n",
            "Elapsed: 0.34 seconds\n"
          ]
        }
      ]
    },
    {
      "cell_type": "markdown",
      "source": [
        "The `pytorch` version is faster.\n",
        "\n",
        "You may have noticed there was no as `<variable name>` at the end of the with statement in `timer()` context manager. That is because `timer()` is a context manager that **<ins>does NOT return a value</ins>**, so the as `<variable name>` at the end of the with statement isn't necessary. Below, you'll learn how to write your own context managers like `timer()`.\n",
        "\n",
        "# **How to create** ***a context manager***\n",
        "\n",
        "You may want to create a context manager if your code follows this pattern\n",
        "\n",
        "![image.png](data:image/png;base64,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)\n",
        "\n",
        "```\n",
        "@contextlib.contextmanager\n",
        "def my_context():\n",
        "    # Add any set up code you need (optional)\n",
        "    yield\n",
        "    # Add any teardown code you need (optional)\n",
        "```\n",
        "0. import `contextlib`\n",
        "1. Define a function.\n",
        "2. (optional) Add any set up code your context needs.\n",
        "3. ***Use the \"yield\" keyword.***\n",
        "4. (optional) Add any teardown code your context needs.\n",
        "5. Add the decorator immediately above the **def** keyword.\n",
        "\n",
        "  ```\n",
        "  @contextlib.contextmanager\n",
        "  ```\n"
      ],
      "metadata": {
        "id": "sej0U8jiTSbr"
      }
    },
    {
      "cell_type": "code",
      "source": [
        "import contextlib\n",
        "\n",
        "@contextlib.contextmanager\n",
        "def my_context():\n",
        "    print('hello')\n",
        "    yield 42\n",
        "    print('goodbye')\n",
        "\n",
        "with my_context() as foo:\n",
        "    print('foo is {}'.format(foo))"
      ],
      "metadata": {
        "colab": {
          "base_uri": "https://localhost:8080/"
        },
        "id": "OgXJH_AVI_86",
        "outputId": "46b993cc-58a2-4bb8-cddd-8ff1fe7786f7"
      },
      "execution_count": null,
      "outputs": [
        {
          "output_type": "stream",
          "name": "stdout",
          "text": [
            "hello\n",
            "foo is 42\n",
            "goodbye\n"
          ]
        }
      ]
    },
    {
      "cell_type": "markdown",
      "source": [
        "# **Yielding a value or** ***None***"
      ],
      "metadata": {
        "id": "zZ_LOVc7J6Vg"
      }
    },
    {
      "cell_type": "code",
      "source": [
        "import contextlib, os\n",
        "\n",
        "@contextlib.contextmanager\n",
        "def in_dir(path):\n",
        "    # save current working directory\n",
        "    old_dir = os.getcwd()\n",
        "\n",
        "    # switch to new working directory\n",
        "    os.chdir(path)\n",
        "    \n",
        "    yield\n",
        "\n",
        "    # change back to previous working directory\n",
        "    os.chdir(old_dir)\n",
        "\n",
        "with in_dir('/content/sample_data'): # google colab default file directory\n",
        "    project_files = os.listdir()\n",
        "\n",
        "for i in project_files:\n",
        "    print(i)  "
      ],
      "metadata": {
        "colab": {
          "base_uri": "https://localhost:8080/"
        },
        "id": "g-B0ujgRKFgH",
        "outputId": "3ee3d219-a097-465d-8266-3f227ef0b904"
      },
      "execution_count": null,
      "outputs": [
        {
          "output_type": "stream",
          "name": "stdout",
          "text": [
            "anscombe.json\n",
            "README.md\n",
            "mnist_train_small.csv\n",
            "california_housing_train.csv\n",
            "mnist_test.csv\n",
            "california_housing_test.csv\n"
          ]
        }
      ]
    },
    {
      "cell_type": "markdown",
      "source": [
        "`in_dir()` is a context manager that changes the current working directory to a specific path and then changes it back after the context block is done. It does not need to return anything with its **\"`yield`\"** statement.\n",
        "\n",
        "### **The timer() context manager**\n",
        "\n",
        "Write a context manager to time how long their functions take to run.\n",
        "\n",
        "* Add a decorator from the `contextlib` module to the `timer()` function that will make it act like a context manager.\n",
        "* Send control from the `timer()` function to the context block."
      ],
      "metadata": {
        "id": "CzkjZfteQPg8"
      }
    },
    {
      "cell_type": "code",
      "metadata": {
        "colab": {
          "base_uri": "https://localhost:8080/"
        },
        "id": "xjdTeZx1J7AB",
        "outputId": "569b139a-edef-499e-932b-512cb814a5ed"
      },
      "source": [
        "# Writing a context manager\n",
        "import contextlib, time\n",
        "\n",
        "# 3 elements of a context manager are \n",
        "  # 1 a function definition \n",
        "  # 2 a yield statement \n",
        "  # 3 the @contextlib.contextmanager decorator.\n",
        "\n",
        "# Add a decorator that will make timer() a context manager\n",
        "@contextlib.contextmanager\n",
        "def timer():\n",
        "    \"\"\"Time the execution of a context block.\n",
        "\n",
        "    Yields:\n",
        "      None\n",
        "    \"\"\"\n",
        "    start = time.time()\n",
        "\n",
        "    # Send control back to the context block\n",
        "    yield \n",
        "\n",
        "    end = time.time()\n",
        "    print('Elapsed: {:.2f}s'.format(end - start))\n",
        "\n",
        "with timer():\n",
        "    print('This should take approximately 0.25 seconds')\n",
        "    time.sleep(0.25)"
      ],
      "execution_count": null,
      "outputs": [
        {
          "output_type": "stream",
          "name": "stdout",
          "text": [
            "This should take approximately 0.25 seconds\n",
            "Elapsed: 0.25s\n"
          ]
        }
      ]
    },
    {
      "cell_type": "markdown",
      "source": [
        "Notice that the three elements of a context manager are all here: \n",
        "\n",
        "1. a function definition\n",
        "2. a yield statement\n",
        "3. the `@contextlib.contextmanager` decorator. \n",
        "\n",
        "It's also worth noticing that `timer()` is a context manager that does not return an explicit value, so `yield` is written by itself without specifying anything to return.\n",
        "\n",
        "### **A read-only `open()` context manager**\n",
        "You have a bunch of data files for your next deep learning project that took you months to collect and clean. It would be terrible if you accidentally overwrote one of those files when trying to read it in for training, so you decide to create a read-only version of the `open()` context manager to use in your project.\n",
        "\n",
        "The regular `open()` context manager:\n",
        "\n",
        "  * takes a filename and a mode (`'r'` for read, `'w'` for write, or `'a'` for append)\n",
        "  * opens the file for reading, writing, or appending\n",
        "  * yields control back to the context, along with a reference to the file\n",
        "  * waits for the context to finish\n",
        "  * and then closes the file before exiting\n",
        "\n",
        "Your context manager will do the same thing, except it will ***only take the filename as an argument and it will only open the file for reading***.\n",
        "\n",
        "\n",
        "* Yield control from `open_read_only()` to the context block, ensuring that the `read_only_file` object gets assigned to `my_file`.\n",
        "* Use `read_only_file`'s `.close()` method to ensure that you don't leave open files lying around."
      ],
      "metadata": {
        "id": "CiPcsUY5RwP6"
      }
    },
    {
      "cell_type": "code",
      "metadata": {
        "colab": {
          "base_uri": "https://localhost:8080/"
        },
        "id": "-QkisWNANhkd",
        "outputId": "316660d4-f732-4556-b7d6-e6c15030a8c4"
      },
      "source": [
        "# Writing a context manager\n",
        "import contextlib, time\n",
        "\n",
        "# 3 elements of a context manager are \n",
        "  # 1 a function definition \n",
        "  # 2 a yield statement \n",
        "  # 3 the @contextlib.contextmanager decorator.\n",
        "\n",
        "@contextlib.contextmanager\n",
        "def open_read_only(filename):\n",
        "    \"\"\"Open a file in read-only mode.\n",
        "\n",
        "    Args:\n",
        "      filename (str): The location of the file to read\n",
        "\n",
        "    Yields:\n",
        "      file object\n",
        "    \"\"\"\n",
        "    read_only_file = open(filename, mode='r')\n",
        "\n",
        "    # Yield read_only_file so it can be assigned to my_file\n",
        "\n",
        "    yield read_only_file\n",
        "    \n",
        "    # Close read_only_file\n",
        "    read_only_file.close()\n",
        "\n",
        "with open_read_only('my_file.txt') as my_file:\n",
        "    print(my_file.read())"
      ],
      "execution_count": null,
      "outputs": [
        {
          "output_type": "stream",
          "name": "stdout",
          "text": [
            "Congratulations! You wrote a context manager that acts like \"open()\" but operates in read-only mode!\n"
          ]
        }
      ]
    },
    {
      "cell_type": "markdown",
      "source": [
        "With **`open_read_only()`** your files are safe from being accidentally overwritten. This function is an example of a context manager that does return a value, so we write **`yield read_only_file`** instead of just **`yield`**. Then the **`read_only_file`** object gets assigned to **`my_file`** in the **`with`** statement so that whoever is using your context can call its **`.read()`** method in the context block."
      ],
      "metadata": {
        "id": "pjE0D98KToB-"
      }
    },
    {
      "cell_type": "markdown",
      "source": [
        "# **Nested contexts**\n",
        "\n"
      ],
      "metadata": {
        "id": "oTPG4OPixUr3"
      }
    },
    {
      "cell_type": "code",
      "source": [
        "def copy(src, dst):\n",
        "    \"\"\"Copy the contents of one file to another.\n",
        "    Args:\n",
        "        src (str): File name of the file to be copied.\n",
        "        dst (str): Where to write the new file.\n",
        "    \"\"\"\n",
        "    # Open the source file and read in the contents\n",
        "    with open(src) as f_src:\n",
        "        contents = f_src.read()\n",
        "\n",
        "    # Open the destination file and write out the contents\n",
        "    with open(dst, 'w') as f_dst:\n",
        "        f_dst.write(contents)"
      ],
      "metadata": {
        "id": "uP9pj9IrxaoY"
      },
      "execution_count": null,
      "outputs": []
    },
    {
      "cell_type": "markdown",
      "source": [
        "Sometimes, the file is too large. So we should write a nested context to gradually write the file line by line."
      ],
      "metadata": {
        "id": "6V1OQTCwxnGG"
      }
    },
    {
      "cell_type": "code",
      "source": [
        "def copy(src, dst):\n",
        "    \"\"\"Copy the contents of one file to another.\n",
        "    Args:\n",
        "        src (str): File name of the file to be copied.\n",
        "        dst (str): Where to write the new file.\n",
        "    \"\"\"\n",
        "    # Open both files\n",
        "    with open(src) as f_src:\n",
        "        with open(dst, 'w') as f_dst:\n",
        "            # Read and write each line, one line at a time\n",
        "            for line in f_src:\n",
        "                f_dst.write(line)"
      ],
      "metadata": {
        "id": "kSc9oTzhxxbs"
      },
      "execution_count": null,
      "outputs": []
    },
    {
      "cell_type": "markdown",
      "source": [
        "### **Scraping the NASDAQ**\n",
        "\n",
        "You are going to collect and analyze some data on how their stock is doing. The context manager stock(`'NVDA'`) will connect to the NASDAQ and return an object that you can use to get the latest price by calling its **`.price()`** method.\n",
        "\n",
        "You want to connect to `stock('NVDA')` and record 10 timesteps of price data by writing it to the file `NVDA.txt`.\n",
        "\n",
        "You will notice the use of an underscore when iterating over the for loop. If this is confusing to you, don't worry. It could easily be replaced with **`i`**, if we planned to do something with it, like use it as an index. Since we won't be using it, we can use a dummy operator, **`_`**, which doesn't use any additional memory.\n",
        "\n",
        "* Use the **`stock('NVDA')`** context manager and assign the result to **`nvda`**.\n",
        "* Open a file for writing with `open('NVDA.txt', 'w')` and assign the file object to `f_out` so you can record the price over time."
      ],
      "metadata": {
        "id": "ecLkOLHp0XTa"
      }
    },
    {
      "cell_type": "code",
      "source": [
        "import contextlib\n",
        "import numpy as np\n",
        "\n",
        "class MockStock:\n",
        "    def __init__(self, loc, scale):\n",
        "        self.loc = loc\n",
        "        self.scale = scale\n",
        "        self.recent = list(np.random.laplace(loc, scale, 2))\n",
        "\n",
        "    def price(self):\n",
        "        sign = np.sign(self.recent[1] - self.recent[0])\n",
        "        # 70% chance of going same direction\n",
        "        sign = 1 if sign == 0 else (sign if np.random.rand() > 0.3 else -1 * sign)\n",
        "        new = self.recent[1] + sign * np.random.rand() / 10.0\n",
        "        self.recent = [self.recent[1], new]\n",
        "        return new\n",
        "\n",
        "@contextlib.contextmanager\n",
        "def stock(symbol):\n",
        "    base = 140.00\n",
        "    scale = 1.0\n",
        "    mock = MockStock(base, scale)\n",
        "    print('Opening stock ticker for {}'.format(symbol))\n",
        "    yield mock\n",
        "    print('Closing stock ticker')\n",
        "\n",
        "\n",
        "################################################################################\n",
        "\n",
        "# Use the \"stock('NVDA')\" context manager\n",
        "# and assign the result to the variable \"nvda\"\n",
        "with stock('NVDA') as nvda:\n",
        "    # Open \"NVDA.txt\" for writing as f_out\n",
        "    with open('NVDA.txt', 'w') as f_out:\n",
        "        for _ in range(10):\n",
        "            value = nvda.price()\n",
        "            print('Logging ${:.2f} for NVDA'.format(value))\n",
        "            f_out.write('{:.2f}\\n'.format(value))"
      ],
      "metadata": {
        "colab": {
          "base_uri": "https://localhost:8080/"
        },
        "id": "si32W3Ez1r84",
        "outputId": "364e0f5d-7965-4384-fa0b-ac0c90e0e9e4"
      },
      "execution_count": null,
      "outputs": [
        {
          "output_type": "stream",
          "name": "stdout",
          "text": [
            "Opening stock ticker for NVDA\n",
            "Logging $140.92 for NVDA\n",
            "Logging $140.93 for NVDA\n",
            "Logging $141.02 for NVDA\n",
            "Logging $141.08 for NVDA\n",
            "Logging $141.13 for NVDA\n",
            "Logging $141.18 for NVDA\n",
            "Logging $141.09 for NVDA\n",
            "Logging $141.05 for NVDA\n",
            "Logging $141.00 for NVDA\n",
            "Logging $140.93 for NVDA\n",
            "Closing stock ticker\n"
          ]
        }
      ]
    },
    {
      "cell_type": "markdown",
      "source": [
        "Now you can monitor the **NVIDIA** stock price and decide when is the exact right time to buy. Nesting context managers like this allows you to connect to the stock market (the **CONNECT/DISCONNECT** pattern) and write to a file (the **OPEN/CLOSE** pattern) at the same time.\n",
        "\n",
        "# **Handling Errors**\n",
        "### **Changing the working directory**\n",
        "\n",
        "You are using an open-source library t, but it writes out checkpoint training models to the current working directory. You find that behavior frustrating because you don't want to have to launch the script from the directory where the models will be saved.\n",
        "\n",
        "You decide that one way to fix this is to write a context manager that \n",
        "* changes the current working directory \n",
        "* lets you build your models\n",
        "* and then resets the working directory to its original location. \n",
        "\n",
        "You'll want to be sure that ***any errors that occur*** during model training don't prevent you from resetting the working directory to its original location.\n",
        "\n",
        "* Add a statement that lets you handle any errors that might occur inside the context.\n",
        "* Add a statement that ensures **`os.chdir(current_dir)`** will be called, whether there was an error or not."
      ],
      "metadata": {
        "id": "S_E0o5LS3kik"
      }
    },
    {
      "cell_type": "code",
      "metadata": {
        "id": "bJ34DqqNe3VS"
      },
      "source": [
        "import contextlib\n",
        "\n",
        "@contextlib.contextmanager\n",
        "def in_dir(directory):\n",
        "    \"\"\"Change current working directory to `directory`,\n",
        "    allow the user to run some code, and change back.\n",
        "\n",
        "    Args:\n",
        "        directory (str): The path to a directory to work in.\n",
        "    \"\"\"\n",
        "    current_dir = os.getcwd()\n",
        "    os.chdir(directory)\n",
        "\n",
        "    # Add code that lets you handle errors\n",
        "    try:\n",
        "        yield\n",
        "    # Ensure the directory is reset,\n",
        "    # whether there was an error or not\n",
        "    finally:\n",
        "        os.chdir(current_dir)"
      ],
      "execution_count": null,
      "outputs": []
    },
    {
      "cell_type": "markdown",
      "source": [
        "Now, even if someone writes buggy code when using your context manager, you will be sure to change the current working directory back to what it was when they called **`in_dir()`**. This is important to do because your users might be relying on their working directory being what it was when they started the script. **`in_dir()`** is a great example of the **CHANGE/RESET** pattern that indicates you should use a context manager.\n",
        "\n",
        "# **Functions as arguments**\n",
        "\n",
        "* Functions ก็คือ object อย่างนึง จะเอาไปใส่เป็นตัวแปรในฟังก์ชันอื่นๆก็ได้ ยกตัวอย่างเช่นฟังก์ชันด้านล่างนี้\n"
      ],
      "metadata": {
        "id": "BW06Do4T6rte"
      }
    },
    {
      "cell_type": "code",
      "source": [
        "def has_docstring(func):\n",
        "    \"\"\"Check to see if the function\n",
        "    `func` has a docstring.\n",
        "    Args:\n",
        "    func (callable): A function.\n",
        "    Returns:\n",
        "    bool\n",
        "    \"\"\"\n",
        "    return func.__doc__ is not None\n",
        "\n",
        "def no():\n",
        "    return 42\n",
        "def yes():\n",
        "    \"\"\"Return the value 42\n",
        "    \"\"\"\n",
        "    return 42\n",
        "\n",
        "#  Passing functions as argument\n",
        "\n",
        "print(has_docstring(no))\n",
        "print(has_docstring(yes))"
      ],
      "metadata": {
        "colab": {
          "base_uri": "https://localhost:8080/"
        },
        "id": "gn-C3jQmKkNR",
        "outputId": "b87aa4f4-ec95-4e54-afbe-877ad39e8fc8"
      },
      "execution_count": null,
      "outputs": [
        {
          "output_type": "stream",
          "name": "stdout",
          "text": [
            "False\n",
            "True\n"
          ]
        }
      ]
    },
    {
      "cell_type": "markdown",
      "source": [
        "# **Defining a function inside another function**\n",
        "\n",
        "* Nested functions a.k.a. inner functions/ helper functions/ child functions"
      ],
      "metadata": {
        "id": "teCJEBxfLABg"
      }
    },
    {
      "cell_type": "code",
      "source": [
        "def foo():\n",
        "    x = [3, 6, 9]\n",
        "    \n",
        "    def bar(y):\n",
        "        print(y)\n",
        "    \n",
        "    for value in x:\n",
        "        bar(x)\n",
        "\n",
        "foo()"
      ],
      "metadata": {
        "colab": {
          "base_uri": "https://localhost:8080/"
        },
        "id": "-G0sOaa4LRk_",
        "outputId": "b7e54589-d6f6-4f04-e3cc-232ba3c508a5"
      },
      "execution_count": null,
      "outputs": [
        {
          "output_type": "stream",
          "name": "stdout",
          "text": [
            "[3, 6, 9]\n",
            "[3, 6, 9]\n",
            "[3, 6, 9]\n"
          ]
        }
      ]
    },
    {
      "cell_type": "markdown",
      "source": [
        "# **Functions as a returned values**\n",
        "\n"
      ],
      "metadata": {
        "id": "SAxpRnoJMAAN"
      }
    },
    {
      "cell_type": "code",
      "source": [
        "def get_function():\n",
        "    def print_me(s):\n",
        "        print(s)\n",
        "    return print_me\n",
        "    \n",
        "new_func = get_function()\n",
        "new_func('This is a sentence.')"
      ],
      "metadata": {
        "colab": {
          "base_uri": "https://localhost:8080/"
        },
        "id": "EZDafn75MGsm",
        "outputId": "606915fb-7018-4053-87c1-9ff3dfa6f609"
      },
      "execution_count": null,
      "outputs": [
        {
          "output_type": "stream",
          "name": "stdout",
          "text": [
            "This is a sentence.\n"
          ]
        }
      ]
    },
    {
      "cell_type": "markdown",
      "source": [
        "### **Building a command line data app**\n",
        "\n",
        "You are building a command line tool that lets a user interactively explore a data set. We've defined four functions: `mean()`, `std()`, `minimum()`, and `maximum()` that users can call to analyze their data. Help finish this section of the code so that your users can call any of these functions by typing the function name at the input prompt.\n",
        "\n",
        "Note: The function `get_user_input()` in this exercise is a mock version of asking the user to enter a command. It randomly returns one of the four function names. In real life, you would ask for input and wait until the user entered a value.\n",
        "\n",
        "* Add the functions `std()`, `minimum()`, and `maximum()` to the `function_map` dictionary, like we did with `mean()`.\n",
        "* The name of the function the user wants to call is stored in `func_name`. Use the dictionary of functions, `function_map`, to call the chosen function and pass `data` as an argument."
      ],
      "metadata": {
        "id": "JuKElzIlMTbD"
      }
    },
    {
      "cell_type": "code",
      "metadata": {
        "colab": {
          "base_uri": "https://localhost:8080/"
        },
        "id": "OezfvHj6fqDY",
        "outputId": "65d48c51-68c7-4142-b7ab-985d72e74d32"
      },
      "source": [
        "### Decorators: \n",
        "\n",
        "import numpy as np\n",
        "import pandas as pd \n",
        "from random import choice\n",
        "\n",
        "# เตรียมข้อมูลให้เหมือนโจทย์\n",
        "d = np.array([[ 72.1, 198. ], [ 69.8, 204. ], [ 63.2, 164. ], [ 64.7, 238. ]])\n",
        "data = pd.DataFrame(data=d, columns=[\"height\", \"weight\"])\n",
        "mean = lambda df: df.mean()\n",
        "std = lambda df: df.std()\n",
        "minimum = lambda df: df.min()\n",
        "maximum = lambda df: df.max()\n",
        "\n",
        "def get_user_input(prompt='Type a command: '):\n",
        "    command = choice(['mean', 'std', 'minimum', 'maximum'])\n",
        "    print(prompt)\n",
        "    print('> {}'.format(command))\n",
        "    return command\n",
        "\n",
        "def load_data():\n",
        "    df = pd.DataFrame()\n",
        "    df['height'] = [72.1, 69.8, 63.2, 64.7]\n",
        "    df['weight'] = [198, 204, 164, 238]\n",
        "    return df\n",
        "\n",
        "\n",
        "# Add the missing function references to the function map\n",
        "function_map = {'mean': mean, 'std': std, 'minimum': minimum,'maximum': maximum}\n",
        "\n",
        "data = load_data()\n",
        "print(data)\n",
        "\n",
        "func_name = get_user_input()\n",
        "\n",
        "# Call the chosen function and pass \"data\" as an argument\n",
        "function_map[func_name](data)"
      ],
      "execution_count": null,
      "outputs": [
        {
          "output_type": "stream",
          "name": "stdout",
          "text": [
            "   height  weight\n",
            "0    72.1     198\n",
            "1    69.8     204\n",
            "2    63.2     164\n",
            "3    64.7     238\n",
            "Type a command: \n",
            "> mean\n"
          ]
        },
        {
          "output_type": "execute_result",
          "data": {
            "text/plain": [
              "height     67.45\n",
              "weight    201.00\n",
              "dtype: float64"
            ]
          },
          "metadata": {},
          "execution_count": 12
        }
      ]
    },
    {
      "cell_type": "markdown",
      "source": [
        "By adding the functions to a dictionary, you can select the function based on the user's input. You could have also used a series of **`if/else`** statements, but putting them in a dictionary like this is much easier to read and maintain.\n",
        "\n",
        "### **Reviewing your co-worker's code\n",
        "A docstring is considered best practice for maintainable, reusable functions, so as a sanity check you decide to run this `has_docstring()` function on all of their functions.\n",
        "\n",
        "* Call `has_docstring()` on  `load_and_plot_data()` function.\n",
        "* Check if the function `as_2D()` has a docstring.\n",
        "* Check if the function `log_product()` has a docstring."
      ],
      "metadata": {
        "id": "Nf0NjzIwOqR1"
      }
    },
    {
      "cell_type": "code",
      "metadata": {
        "colab": {
          "base_uri": "https://localhost:8080/"
        },
        "id": "eh9m1H-tlxdp",
        "outputId": "59de3273-2941-47f9-b93d-d7509a76f585"
      },
      "source": [
        "import pandas as pd\n",
        "import numpy as np\n",
        "\n",
        "def load_and_plot_data(filename):\n",
        "    \"\"\"Load a data frame and plot each column.\n",
        "    \n",
        "    Args:\n",
        "        filename (str): Path to a CSV file of data.\n",
        "    \n",
        "    Returns:\n",
        "        pandas.DataFrame\n",
        "    \"\"\"\n",
        "    df = pd.load_csv(filename, index_col=0)\n",
        "    df.hist()\n",
        "    return df\n",
        "\n",
        "def as_2D(arr):\n",
        "    \"\"\"Reshape an array to 2 dimensions\"\"\"\n",
        "    return np.array(arr).reshape(1, -1)\n",
        "\n",
        "def log_product(arr):\n",
        "    return np.exp(np.sum(np.log(arr)))\n",
        "\n",
        "def has_docstring(func):\n",
        "    \"\"\"Check to see if the function \n",
        "    `func` has a docstring.\n",
        "\n",
        "    Args:\n",
        "        func (callable): A function.\n",
        "\n",
        "    Returns:\n",
        "        bool\n",
        "    \"\"\"\n",
        "    return func.__doc__ is not None\n",
        "\n",
        "# Call has_docstring() on the load_and_plot_data() function\n",
        "ok = has_docstring(load_and_plot_data)\n",
        "\n",
        "if not ok:\n",
        "    print(\"load_and_plot_data() doesn't have a docstring!\\n\")\n",
        "else:\n",
        "    print(\"load_and_plot_data() looks ok\\n\")\n",
        "\n",
        "# Call has_docstring() on the as_2D() function\n",
        "ok = has_docstring(as_2D)\n",
        "\n",
        "if not ok:\n",
        "    print(\"as_2D() doesn't have a docstring!\\n\")\n",
        "else:\n",
        "    print(\"as_2D() looks ok\\n\") \n",
        "\n",
        "# Call has_docstring() on the log_product() function\n",
        "ok = has_docstring(log_product)\n",
        "\n",
        "if not ok:\n",
        "    print(\"log_product() doesn't have a docstring!\\n\")\n",
        "else:\n",
        "    print(\"log_product() looks ok\\n\")"
      ],
      "execution_count": null,
      "outputs": [
        {
          "output_type": "stream",
          "name": "stdout",
          "text": [
            "load_and_plot_data() looks ok\n",
            "\n",
            "as_2D() looks ok\n",
            "\n",
            "log_product() doesn't have a docstring!\n",
            "\n"
          ]
        }
      ]
    },
    {
      "cell_type": "markdown",
      "source": [
        "To pass a function as an argument to another function, you had to determine which one you were calling and which one you were referencing. \n",
        "\n",
        "### **Returning functions for a math game**\n",
        "\n",
        "You are building an educational math game where the player enters a math term, and your program returns a function that matches that term. For instance, if the user types \"add\", your program returns a function that adds two numbers. So far you've only implemented the \"add\" function. Now you want to include a \"subtract\" function.\n",
        "\n",
        "* Define the `subtract()` function. It should take two arguments and return the first argument minus the second argument."
      ],
      "metadata": {
        "id": "4G6vdizoQbre"
      }
    },
    {
      "cell_type": "code",
      "metadata": {
        "colab": {
          "base_uri": "https://localhost:8080/"
        },
        "id": "1BbBzx2tmkjN",
        "outputId": "563f8e0d-93af-4ef7-ebe1-b348e54b186f"
      },
      "source": [
        "def create_math_function(func_name):\n",
        "    if func_name == 'add':\n",
        "        def add(a, b):\n",
        "            return a + b\n",
        "        return add\n",
        "    elif func_name == 'subtract':\n",
        "        # Define the subtract() function\n",
        "        def subtract(a, b):\n",
        "            return a-b\n",
        "        return subtract\n",
        "    else:\n",
        "        print(\"I don't know that one\")\n",
        "    \n",
        "add = create_math_function('add')\n",
        "print('5 + 2 = {}'.format(add(5, 2)))\n",
        "\n",
        "subtract = create_math_function('subtract')\n",
        "print('5 - 2 = {}'.format(subtract(5, 2)))"
      ],
      "execution_count": null,
      "outputs": [
        {
          "output_type": "stream",
          "text": [
            "5 + 2 = 7\n",
            "5 - 2 = 3\n"
          ],
          "name": "stdout"
        }
      ]
    },
    {
      "cell_type": "markdown",
      "source": [
        "Notice how we assign the return value from `create_math_function()` to the `add` and `subtract` variables in the script. \n",
        "\n",
        "***Since `create_math_function()` returns a function, we can then call those variables as functions***."
      ],
      "metadata": {
        "id": "bTAmiT3aRWUh"
      }
    },
    {
      "cell_type": "markdown",
      "source": [
        "# **SCOPE**\n",
        "\n",
        "![image.png](data:image/png;base64,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)\n",
        "\n",
        "# **The `global` keyword**"
      ],
      "metadata": {
        "id": "Vvr4wD_vZ9R1"
      }
    },
    {
      "cell_type": "code",
      "source": [
        "x = 7\n",
        "\n",
        "def foo():\n",
        "    x = 42\n",
        "    print(x)\n",
        "\n",
        "foo()\n",
        "print(x)"
      ],
      "metadata": {
        "colab": {
          "base_uri": "https://localhost:8080/"
        },
        "id": "RvjDtuWbbNtO",
        "outputId": "325f37eb-99c4-43c4-93c3-bd5e161a8fb4"
      },
      "execution_count": null,
      "outputs": [
        {
          "output_type": "stream",
          "name": "stdout",
          "text": [
            "42\n",
            "7\n"
          ]
        }
      ]
    },
    {
      "cell_type": "markdown",
      "source": [
        "If we want to change the value of $x$ in the global scope via the function, we have to use the keyword **`global`**.  \n",
        "\n",
        "## ***$⇑⇑⇑⇑⇑$ You should avoid doing this $⇑⇑⇑⇑⇑$***"
      ],
      "metadata": {
        "id": "9z3ILD3HbsdB"
      }
    },
    {
      "cell_type": "code",
      "source": [
        "x = 7\n",
        "def foo():\n",
        "    global x\n",
        "    x = 42\n",
        "    print(x)\n",
        "\n",
        "foo()\n",
        "print(x)"
      ],
      "metadata": {
        "colab": {
          "base_uri": "https://localhost:8080/"
        },
        "id": "9Nwbbw7zb-Yx",
        "outputId": "43c7765f-a27e-439f-8ac0-e1059fbc8a70"
      },
      "execution_count": null,
      "outputs": [
        {
          "output_type": "stream",
          "name": "stdout",
          "text": [
            "42\n",
            "42\n"
          ]
        }
      ]
    },
    {
      "cell_type": "markdown",
      "source": [
        "# **The `nonlocal` keyword**"
      ],
      "metadata": {
        "id": "01Zq7p8hclXH"
      }
    },
    {
      "cell_type": "code",
      "source": [
        "def foo():\n",
        "    x = 10\n",
        "    def bar():\n",
        "        x = 200\n",
        "        print(x)\n",
        "    bar()\n",
        "    print(x)\n",
        "\n",
        "foo()"
      ],
      "metadata": {
        "colab": {
          "base_uri": "https://localhost:8080/"
        },
        "id": "723hERhPcsa5",
        "outputId": "a8cd73d2-aa78-4fdf-f56d-481f2b8c12cd"
      },
      "execution_count": null,
      "outputs": [
        {
          "output_type": "stream",
          "name": "stdout",
          "text": [
            "200\n",
            "10\n"
          ]
        }
      ]
    },
    {
      "cell_type": "markdown",
      "source": [
        "Update the variable $x$ that is now inside the parent function"
      ],
      "metadata": {
        "id": "dcrtAYahc51I"
      }
    },
    {
      "cell_type": "code",
      "source": [
        "def foo():\n",
        "    x = 10\n",
        "    def bar():\n",
        "        nonlocal x\n",
        "        x = 200\n",
        "        print(x)\n",
        "    bar()\n",
        "    print(x)\n",
        "    \n",
        "foo()"
      ],
      "metadata": {
        "colab": {
          "base_uri": "https://localhost:8080/"
        },
        "id": "SlzHgHUPdE1D",
        "outputId": "9c32ea07-78fc-4c9e-9c8c-6c8bbccbf90b"
      },
      "execution_count": null,
      "outputs": [
        {
          "output_type": "stream",
          "name": "stdout",
          "text": [
            "200\n",
            "200\n"
          ]
        }
      ]
    },
    {
      "cell_type": "markdown",
      "source": [
        "### **Understanding scope**\n",
        "\n",
        "What four values does this script print?"
      ],
      "metadata": {
        "id": "iBnkrDC1daJG"
      }
    },
    {
      "cell_type": "code",
      "source": [
        "x = 50\n",
        "\n",
        "def one():\n",
        "    x = 10\n",
        "\n",
        "def two():\n",
        "    global x\n",
        "    x = 30\n",
        "\n",
        "def three():\n",
        "    x = 100\n",
        "    print(x)\n",
        "\n",
        "for func in [one, two, three]:\n",
        "    func()\n",
        "    print(x)"
      ],
      "metadata": {
        "colab": {
          "base_uri": "https://localhost:8080/"
        },
        "id": "GB-KPxpydgUd",
        "outputId": "7f0a35aa-ffcf-4049-d3e5-feba991b8173"
      },
      "execution_count": null,
      "outputs": [
        {
          "output_type": "stream",
          "name": "stdout",
          "text": [
            "50\n",
            "30\n",
            "100\n",
            "30\n"
          ]
        }
      ]
    },
    {
      "cell_type": "markdown",
      "source": [
        "* `one()` doesn't change the global `x`, so the first `print()` statement prints `50`.\n",
        "\n",
        "* `two()` does change the global `x` so the second `print()` statement prints `30`.\n",
        "\n",
        "* The `print()` statement inside the function `three()` is referencing the `x` value that is local to `three()`, so it prints `100`.\n",
        "\n",
        "* But `three()` does not change the global `x` value so the last `print()` statement prints `30` again.\n",
        "\n",
        "### **Modifying variables outside local scope**\n",
        "\n",
        "Sometimes your functions will need to modify a variable that is outside of the local scope of that function. While it's generally NOT best practice to do so, it's still good to know how in case you need to do it. Update these functions so they can modify variables that would usually be outside of their scope.\n",
        "\n",
        "* Add a keyword that lets us update `call_count` from inside the function.\n",
        "\n",
        "* Add a keyword that lets us modify `file_contents` from inside `save_contents()`.\n",
        "\n",
        "* Add a keyword to done in `check_is_done()` so that `wait_until_done()` eventually stops looping."
      ],
      "metadata": {
        "id": "f8tSAxuUeBjO"
      }
    },
    {
      "cell_type": "code",
      "metadata": {
        "colab": {
          "base_uri": "https://localhost:8080/"
        },
        "id": "WNroGpDioz0z",
        "outputId": "36024599-7f38-4f2b-89f0-37c7c8f4b281"
      },
      "source": [
        "## SCOPE Example 1\n",
        "\n",
        "call_count = 0\n",
        "\n",
        "def my_function():\n",
        "    # Use a keyword that lets us update call_count \n",
        "    global call_count\n",
        "    call_count += 1\n",
        "    \n",
        "    print(\"You've called my_function() {} times!\".format(call_count))\n",
        "  \n",
        "for _ in range(20):\n",
        "    my_function()"
      ],
      "execution_count": null,
      "outputs": [
        {
          "output_type": "stream",
          "text": [
            "You've called my_function() 1 times!\n",
            "You've called my_function() 2 times!\n",
            "You've called my_function() 3 times!\n",
            "You've called my_function() 4 times!\n",
            "You've called my_function() 5 times!\n",
            "You've called my_function() 6 times!\n",
            "You've called my_function() 7 times!\n",
            "You've called my_function() 8 times!\n",
            "You've called my_function() 9 times!\n",
            "You've called my_function() 10 times!\n",
            "You've called my_function() 11 times!\n",
            "You've called my_function() 12 times!\n",
            "You've called my_function() 13 times!\n",
            "You've called my_function() 14 times!\n",
            "You've called my_function() 15 times!\n",
            "You've called my_function() 16 times!\n",
            "You've called my_function() 17 times!\n",
            "You've called my_function() 18 times!\n",
            "You've called my_function() 19 times!\n",
            "You've called my_function() 20 times!\n"
          ],
          "name": "stdout"
        }
      ]
    },
    {
      "cell_type": "code",
      "metadata": {
        "colab": {
          "base_uri": "https://localhost:8080/"
        },
        "id": "MxiqM6jM4YKo",
        "outputId": "a617450c-4353-4362-fba4-4b7617d63f98"
      },
      "source": [
        "# SCOPE Example 2\n",
        "\n",
        "def read_files():\n",
        "    file_contents = None\n",
        "  \n",
        "    def save_contents(filename):\n",
        "        # Add a keyword that lets us modify file_contents\n",
        "        nonlocal file_contents\n",
        "        if file_contents is None:\n",
        "            file_contents = []\n",
        "        with open(filename) as fin:\n",
        "            file_contents.append(fin.read())\n",
        "      \n",
        "    for filename in ['1984.txt', 'MobyDick.txt', 'CatsEye.txt']:\n",
        "        save_contents(filename)\n",
        "    \n",
        "    return file_contents\n",
        "\n",
        "print('\\n'.join(read_files()))"
      ],
      "execution_count": null,
      "outputs": [
        {
          "output_type": "stream",
          "name": "stdout",
          "text": [
            "It was a bright day in April, and the clocks were striking thirteen.\n",
            "Call me Ishmael.\n",
            "Time is not a line but a dimension, like the dimensions of space.\n"
          ]
        }
      ]
    },
    {
      "cell_type": "code",
      "metadata": {
        "colab": {
          "base_uri": "https://localhost:8080/"
        },
        "id": "-CqJ6FCO5eSn",
        "outputId": "9ccbfbc7-e911-4765-9e23-181a6bb79b5a"
      },
      "source": [
        "# SCOPE Example 3\n",
        "import random\n",
        "count = 0\n",
        "\n",
        "def wait_until_done():\n",
        "    def check_is_done():\n",
        "        \"\"\"Without 'global' keyword, wait_until_done() would loop forever \n",
        "           because the done = True in check_is_done() would only be changing \n",
        "           a variable that is local to check_is_done().\"\"\"\n",
        "        # Add a keyword so that wait_until_done() doesn't run forever\n",
        "        global done\n",
        "        if random.random() < 0.1:\n",
        "            done = True\n",
        "      \n",
        "    while not done:\n",
        "        check_is_done()\n",
        "        global count\n",
        "        count += 1\n",
        "        print(f'count = {count}')\n",
        "\n",
        "done = False\n",
        "wait_until_done()\n",
        "\n",
        "print('Work done? {}'.format(done))"
      ],
      "execution_count": null,
      "outputs": [
        {
          "output_type": "stream",
          "text": [
            "count = 1\n",
            "count = 2\n",
            "count = 3\n",
            "count = 4\n",
            "count = 5\n",
            "count = 6\n",
            "count = 7\n",
            "count = 8\n",
            "count = 9\n",
            "count = 10\n",
            "count = 11\n",
            "count = 12\n",
            "count = 13\n",
            "count = 14\n",
            "count = 15\n",
            "count = 16\n",
            "count = 17\n",
            "count = 18\n",
            "count = 19\n",
            "Work done? True\n"
          ],
          "name": "stdout"
        }
      ]
    },
    {
      "cell_type": "markdown",
      "source": [
        "By adding **`global done`** in **`check_is_done()`**, you ensure that the **`done`** being referenced is the one that was set to False before `wait_until_done()` was called. \n",
        "\n",
        "Without this keyword, `wait_until_done()` would loop forever because the `done = True` in `check_is_done()` would only be changing a variable that is local to `check_is_done()`.\n",
        "\n",
        "# **Closure**\n",
        "\n",
        "## **Attaching nonlocal variables to nested functions**"
      ],
      "metadata": {
        "id": "pStWChX6fyEy"
      }
    },
    {
      "cell_type": "code",
      "source": [
        "def foo():  \n",
        "    a = 5\n",
        "    def bar():\n",
        "        print(a)\n",
        "    return bar\n",
        "\n",
        "func = foo()\n",
        "func()"
      ],
      "metadata": {
        "colab": {
          "base_uri": "https://localhost:8080/"
        },
        "id": "-o24OuuXgygu",
        "outputId": "baafa66a-14f0-4782-a2f0-4fa4f4d28455"
      },
      "execution_count": null,
      "outputs": [
        {
          "output_type": "stream",
          "name": "stdout",
          "text": [
            "5\n"
          ]
        }
      ]
    },
    {
      "cell_type": "markdown",
      "source": [
        "You would think that `\"a\"` would not be observable outside of the scope of `foo()` เพราะว่า `func` ก็คือฟังก์ชัน `bar` ที่ `foo` return ค่ามาให้ ค่า `a` อยู่นอกฟังก์ชัน `bar` จึงไม่น่าจะทราบค่า `a` ได้ \n",
        "\n",
        "That's where ***closures*** come in. When `foo()` returned the new `bar()` function, Python helpfully attached any nonlocal variable that `bar()` was going to need to the function object. Those variables get stored in a tuple in the **`\"__closure__\"`** attribute of the function. The closure for \"`func`\" has one variable, and you can view the value of that variable by accessing the \"**`cell_contents`**\" of the item."
      ],
      "metadata": {
        "id": "95WcqLVYh3C-"
      }
    },
    {
      "cell_type": "code",
      "source": [
        "type(func.__closure__)"
      ],
      "metadata": {
        "colab": {
          "base_uri": "https://localhost:8080/"
        },
        "id": "lUDjtNx1hBCZ",
        "outputId": "4980da56-7101-4c9a-a499-946bf6f84442"
      },
      "execution_count": null,
      "outputs": [
        {
          "output_type": "execute_result",
          "data": {
            "text/plain": [
              "tuple"
            ]
          },
          "metadata": {},
          "execution_count": 27
        }
      ]
    },
    {
      "cell_type": "code",
      "source": [
        "len(func.__closure__)"
      ],
      "metadata": {
        "colab": {
          "base_uri": "https://localhost:8080/"
        },
        "id": "Uon3Do36hA8f",
        "outputId": "2d22e711-bc9d-4f1d-b1a0-9ca30cd5f549"
      },
      "execution_count": null,
      "outputs": [
        {
          "output_type": "execute_result",
          "data": {
            "text/plain": [
              "1"
            ]
          },
          "metadata": {},
          "execution_count": 28
        }
      ]
    },
    {
      "cell_type": "code",
      "source": [
        "func.__closure__[0].cell_contents"
      ],
      "metadata": {
        "colab": {
          "base_uri": "https://localhost:8080/"
        },
        "id": "550t52FuhLeH",
        "outputId": "cde5a0f7-a703-42c8-eed7-29b13e8cd5a4"
      },
      "execution_count": null,
      "outputs": [
        {
          "output_type": "execute_result",
          "data": {
            "text/plain": [
              "5"
            ]
          },
          "metadata": {},
          "execution_count": 30
        }
      ]
    },
    {
      "cell_type": "markdown",
      "source": [
        "# **Closures and deletion**"
      ],
      "metadata": {
        "id": "roydUvFZi218"
      }
    },
    {
      "cell_type": "code",
      "source": [
        "x = 25\n",
        "\n",
        "def foo(value):\n",
        "    def bar():\n",
        "        print(value)\n",
        "    return bar\n",
        "    \n",
        "my_func = foo(x)\n",
        "my_func()"
      ],
      "metadata": {
        "colab": {
          "base_uri": "https://localhost:8080/"
        },
        "id": "r-iek_g-jBW7",
        "outputId": "9cd0a4ae-ba7f-481c-ca9c-7b33593da059"
      },
      "execution_count": null,
      "outputs": [
        {
          "output_type": "stream",
          "name": "stdout",
          "text": [
            "25\n"
          ]
        }
      ]
    },
    {
      "cell_type": "code",
      "source": [
        "del x\n",
        "x"
      ],
      "metadata": {
        "colab": {
          "base_uri": "https://localhost:8080/",
          "height": 190
        },
        "id": "TSlVBTPcjW7A",
        "outputId": "05932be8-f8bd-4b37-dec7-a92f7d1d7b64"
      },
      "execution_count": null,
      "outputs": [
        {
          "output_type": "error",
          "ename": "NameError",
          "evalue": "ignored",
          "traceback": [
            "\u001b[0;31m---------------------------------------------------------------------------\u001b[0m",
            "\u001b[0;31mNameError\u001b[0m                                 Traceback (most recent call last)",
            "\u001b[0;32m<ipython-input-32-1beca76b84e9>\u001b[0m in \u001b[0;36m<module>\u001b[0;34m()\u001b[0m\n\u001b[1;32m      1\u001b[0m \u001b[0;32mdel\u001b[0m \u001b[0mx\u001b[0m\u001b[0;34m\u001b[0m\u001b[0;34m\u001b[0m\u001b[0m\n\u001b[0;32m----> 2\u001b[0;31m \u001b[0mx\u001b[0m\u001b[0;34m\u001b[0m\u001b[0;34m\u001b[0m\u001b[0m\n\u001b[0m",
            "\u001b[0;31mNameError\u001b[0m: name 'x' is not defined"
          ]
        }
      ]
    },
    {
      "cell_type": "code",
      "source": [
        "my_func()"
      ],
      "metadata": {
        "colab": {
          "base_uri": "https://localhost:8080/"
        },
        "id": "9eNNbXxDjaTb",
        "outputId": "7e5c9f9e-a4f3-4d6b-a908-1af740b29666"
      },
      "execution_count": null,
      "outputs": [
        {
          "output_type": "stream",
          "name": "stdout",
          "text": [
            "25\n"
          ]
        }
      ]
    },
    {
      "cell_type": "code",
      "source": [
        "my_func.__closure__[0].cell_contents"
      ],
      "metadata": {
        "colab": {
          "base_uri": "https://localhost:8080/"
        },
        "id": "yJHELiwxjkBr",
        "outputId": "dec68308-b383-4d74-a399-bfeec2ddba27"
      },
      "execution_count": null,
      "outputs": [
        {
          "output_type": "execute_result",
          "data": {
            "text/plain": [
              "25"
            ]
          },
          "metadata": {},
          "execution_count": 34
        }
      ]
    },
    {
      "cell_type": "code",
      "source": [
        "def parent(arg_1, arg_2):\n",
        "    value = 22\n",
        "    my_dict = {'chocolate': 'yummy'}\n",
        "\n",
        "    def child():\n",
        "        print(2 * value)\n",
        "        print(my_dict['chocolate'])\n",
        "        print(arg_1 + arg_2)\n",
        "    \n",
        "    return child\n",
        "\n",
        "new_function = parent(3, 4)\n",
        "\n",
        "for cell in new_function.__closure__:\n",
        "    print(cell.cell_contents)"
      ],
      "metadata": {
        "colab": {
          "base_uri": "https://localhost:8080/"
        },
        "id": "As7rQX8Vj7QS",
        "outputId": "73e20fce-5eda-4fa3-a8bc-c4fccc2151c6"
      },
      "execution_count": null,
      "outputs": [
        {
          "output_type": "stream",
          "name": "stdout",
          "text": [
            "3\n",
            "4\n",
            "{'chocolate': 'yummy'}\n",
            "22\n"
          ]
        }
      ]
    },
    {
      "cell_type": "markdown",
      "source": [
        "### **Checking for closure**\n",
        "\n",
        "Does the returned function have the necessary information when called? Show that all of the nonlocal variables are in the new function's ***closure***.\n",
        "\n",
        "* Use an attribute **`.__closure__`** of the **`my_func()`** function to show that it has a closure that is not `None`.\n",
        "* Use **`len()`** to show that there are two variables in the closure.\n",
        "* Get the values of the variables in the closure so you can use **`.cell_contents`** to show that they are equal to `[2, 17]`, the arguments passed to `return_a_func()`."
      ],
      "metadata": {
        "id": "oYOSswuJkvsR"
      }
    },
    {
      "cell_type": "code",
      "metadata": {
        "colab": {
          "base_uri": "https://localhost:8080/"
        },
        "id": "nSUlpAvd7Sg3",
        "outputId": "5e804bdf-4969-4095-b855-84581b1833b3"
      },
      "source": [
        "def return_a_func(arg1, arg2, arg3):\n",
        "    def new_func():\n",
        "        print('arg1 was {}'.format(arg1))\n",
        "        print('arg2 was {}'.format(arg2))\n",
        "    return new_func\n",
        "\n",
        "# if return_a_func() took a third argument (e.g., arg3) \n",
        "# that wasn't used by new_func(), \n",
        "# then it would NOT be captured in new_func()'s closure.\n",
        "\n",
        "my_func = return_a_func(2, 17, 999)\n",
        "my_func()\n",
        "\n",
        "print(f\"\\n\\nmy_func.__closure__ is not None is {my_func.__closure__ is not None}.\")\n",
        "print(f\"len(my_func.__closure__) = {len(my_func.__closure__)}.\")\n",
        "\n",
        "# Get the values of the variables in the closure\n",
        "closure_values = [my_func.__closure__[i].cell_contents for i in range(2)]\n",
        "print(f\"closure_values == [2, 17] is {closure_values == [2, 17]}.\")"
      ],
      "execution_count": null,
      "outputs": [
        {
          "output_type": "stream",
          "name": "stdout",
          "text": [
            "arg1 was 2\n",
            "arg2 was 17\n",
            "\n",
            "\n",
            "my_func.__closure__ is not None is True.\n",
            "len(my_func.__closure__) = 2.\n",
            "closure_values == [2, 17] is True.\n"
          ]
        }
      ]
    },
    {
      "cell_type": "markdown",
      "source": [
        "Values get added to a function's closure in the order they are defined in the enclosing function (in this case, `arg1` and then `arg2`), **<ins>but only if they are used in the nested function</ins>**. That is, if `return_a_func()` took a third argument (e.g., `arg3`) that wasn't used by `new_func()`, then it would not be captured in `new_func()`'s closure."
      ],
      "metadata": {
        "id": "5jniXJlnnJ00"
      }
    },
    {
      "cell_type": "markdown",
      "source": [
        "### **Closures keep your values safe**\n",
        "\n",
        "You have written the function `get_new_func()` that returns a nested function. The nested function `call_func()` calls whatever function was passed to `get_new_func()`. You've also written `my_special_function()` which simply prints a message that states that you are executing `my_special_function()`.\n",
        "\n",
        "Show your niece that no matter what you do to `my_special_function()` after passing it to `get_new_func()`, the new function still mimics the behavior of the original `my_special_function()` because it is in the new function's closure.\n",
        "\n",
        "* Show that you still get the original message even if you redefine `my_special_function()` to only print \"`hello`\".\n",
        "\n"
      ],
      "metadata": {
        "id": "cAn-rzTEnm4L"
      }
    },
    {
      "cell_type": "code",
      "source": [
        "# You still get the original message \n",
        "# even if you redefine my_special_function() to only print \"hello\".\n",
        "from inspect import getsource\n",
        "\n",
        "def my_special_function():\n",
        "    print('You are running my_special_function()')\n",
        "  \n",
        "def get_new_func(func):\n",
        "    def call_func():\n",
        "        func()\n",
        "    return call_func\n",
        "\n",
        "new_func = get_new_func(my_special_function)\n",
        "\n",
        "# Redefine my_special_function() to just print \"hello\"\n",
        "def my_special_function():\n",
        "    print(\"Hello\")\n",
        "\n",
        "new_func()\n",
        "print(\"\\n\",getsource(new_func.__closure__[0].cell_contents))"
      ],
      "metadata": {
        "colab": {
          "base_uri": "https://localhost:8080/"
        },
        "id": "JK4OOGnPoyKh",
        "outputId": "9e342af8-1684-488f-c0dc-32caf60d506e"
      },
      "execution_count": null,
      "outputs": [
        {
          "output_type": "stream",
          "name": "stdout",
          "text": [
            "You are running my_special_function()\n",
            "\n",
            " def my_special_function():\n",
            "    print('You are running my_special_function()')\n",
            "\n"
          ]
        }
      ]
    },
    {
      "cell_type": "markdown",
      "source": [
        "Notice that the code in the function kept in closure is not changed.\n",
        "\n",
        "* Show that even if you delete `my_special_function()`, you can still call `new_func()` without any problems.\n"
      ],
      "metadata": {
        "id": "j_6BfIT0pZlA"
      }
    },
    {
      "cell_type": "code",
      "source": [
        "from inspect import getsource\n",
        "\n",
        "def my_special_function():\n",
        "    print('You are running my_special_function()')\n",
        "  \n",
        "def get_new_func(func):\n",
        "    def call_func():\n",
        "        func()\n",
        "    return call_func\n",
        "\n",
        "new_func = get_new_func(my_special_function)\n",
        "\n",
        "# Even if you delete my_special_function(), \n",
        "# you can still call new_func() without any problems.\n",
        "\n",
        "del my_special_function\n",
        "\n",
        "new_func()\n",
        "print(\"\\n\",getsource(new_func.__closure__[0].cell_contents))"
      ],
      "metadata": {
        "colab": {
          "base_uri": "https://localhost:8080/"
        },
        "id": "i17KYMwtp1B3",
        "outputId": "9eb6361d-8f46-4f9a-ea07-d626df416f23"
      },
      "execution_count": null,
      "outputs": [
        {
          "output_type": "stream",
          "name": "stdout",
          "text": [
            "You are running my_special_function()\n",
            "\n",
            " def my_special_function():\n",
            "    print('You are running my_special_function()')\n",
            "\n"
          ]
        }
      ]
    },
    {
      "cell_type": "markdown",
      "source": [
        "* Show that you still get the original message even if you overwrite **`my_special_function()`** with the new function."
      ],
      "metadata": {
        "id": "_QxsSJSNqChG"
      }
    },
    {
      "cell_type": "code",
      "metadata": {
        "colab": {
          "base_uri": "https://localhost:8080/"
        },
        "id": "cnTktTZ-fktD",
        "outputId": "58fdb7e4-d90b-47ae-dffb-494ebb591b6a"
      },
      "source": [
        "from inspect import getsource\n",
        "\n",
        "def my_special_function():\n",
        "    print('You are running my_special_function()')\n",
        "  \n",
        "def get_new_func(func):\n",
        "    def call_func():\n",
        "        func()\n",
        "    return call_func\n",
        "\n",
        "new_func = get_new_func(my_special_function)\n",
        "\n",
        "# You still get the original message even if you overwrite my_special_function()\n",
        "# Overwrite `my_special_function` with the new function\n",
        "my_special_function = get_new_func(my_special_function)\n",
        "\n",
        "my_special_function()\n",
        "print(\"\\n\",getsource(my_special_function.__closure__[0].cell_contents))"
      ],
      "execution_count": null,
      "outputs": [
        {
          "output_type": "stream",
          "name": "stdout",
          "text": [
            "You are running my_special_function()\n",
            "\n",
            " def my_special_function():\n",
            "    print('You are running my_special_function()')\n",
            "\n"
          ]
        }
      ]
    },
    {
      "cell_type": "markdown",
      "source": [
        "You can \n",
        "\n",
        "* modify \n",
        "* delete\n",
        "* overwrite \n",
        "\n",
        "the values needed by the nested function, but the nested function can still access those values because they are stored safely in the function's ***closure***. \n",
        "\n",
        "However, you could run into ***memory issues*** if you wound up adding a very large array or object to the closure, and has resolved to keep her eye out for that sort of problem."
      ],
      "metadata": {
        "id": "KazPr4XEq5Uk"
      }
    },
    {
      "cell_type": "markdown",
      "source": [
        "# ***Decorators***"
      ],
      "metadata": {
        "id": "HKAVMpF-0vXz"
      }
    },
    {
      "cell_type": "code",
      "source": [
        "def multiply(a, b):\n",
        "    return a * b\n",
        "\n",
        "def double_args(func):\n",
        "    def wrapper(a, b):\n",
        "        # Call the passed in function, but double each argument\n",
        "        return func(a * 2, b * 2)\n",
        "    return wrapper\n",
        "\n",
        "new_multiply = double_args(multiply)\n",
        "print(new_multiply(1, 5))\n",
        "print(getsource(new_multiply.__closure__[0].cell_contents))"
      ],
      "metadata": {
        "colab": {
          "base_uri": "https://localhost:8080/"
        },
        "id": "ZIKgMySn1kBa",
        "outputId": "7f73071a-1b67-4617-bdd9-5a78f96b54d4"
      },
      "execution_count": null,
      "outputs": [
        {
          "output_type": "stream",
          "name": "stdout",
          "text": [
            "20\n",
            "def multiply(a, b):\n",
            "    return a * b\n",
            "\n"
          ]
        }
      ]
    },
    {
      "cell_type": "markdown",
      "source": [
        "1. `double_args` รับ `multiply`เข้ามาเป็นตัวแปร เก็บอยู่ในรูปฟังก์ชันใหม่ ชื่อ `new_multiply`\n",
        "2. `new_multiply`รับค่า `1` และ `5` เข้ามาเพื่อดำเนินการ\n",
        "3. `new_multiply` ก็คือ `double_args` ที่รับ `multiply` เข้ามา ตัวฟังก์ชันไม่ได้ทำอะไรนอกจาก `return wrapper`\n",
        "4. ฟังก์ชัน `wrapper` ถูกเรียกใช้ เพราะต้องเป็นค่าที่ return ออกมาจาก `new_multiply(1, 5)`\n",
        "5. `wrapper` เรียก `multiply` โดยทำการคูณ 2 กับผลลัพธ์\n",
        "ุุ6. ดังนั้นค่าที่ได้ออกมาใน จึงเป็นผลลัพธ์ของ `multiply(1 * 2, 5 * 2)` นั่นเอง"
      ],
      "metadata": {
        "id": "Wg2AffNn10MN"
      }
    },
    {
      "cell_type": "code",
      "source": [
        "from inspect import getsource\n",
        "\n",
        "def multiply(a, b):\n",
        "    return a * b\n",
        "\n",
        "def double_args(func):\n",
        "    def wrapper(a, b):\n",
        "        # Call the passed in function, but double each argument\n",
        "        return func(a * 2, b * 2)\n",
        "    return wrapper\n",
        "    \n",
        "multiply = double_args(multiply)\n",
        "print(multiply(1, 5))\n",
        "print(getsource(multiply.__closure__[0].cell_contents))"
      ],
      "metadata": {
        "colab": {
          "base_uri": "https://localhost:8080/"
        },
        "id": "aUIkX_ek4E8G",
        "outputId": "717ceae3-b30a-42fe-a928-adb4ec2839d9"
      },
      "execution_count": null,
      "outputs": [
        {
          "output_type": "stream",
          "name": "stdout",
          "text": [
            "20\n",
            "def multiply(a, b):\n",
            "    return a * b\n",
            "\n"
          ]
        }
      ]
    },
    {
      "cell_type": "markdown",
      "source": [
        "แม้จะ redefine function ใหม่ ก็ยังใช้ได้ เพราะคุณสมบัติ closure ในทางปฏิบัติ เราจะไม่เขียนฟังก์ชัน decorator มาครอบแบบนี้ แต่จะเขียนแบบด้านล่าง\n"
      ],
      "metadata": {
        "id": "ERsC6SZd4x1Q"
      }
    },
    {
      "cell_type": "code",
      "source": [
        "def double_args(func):\n",
        "    def wrapper(a, b):\n",
        "        # Call the passed in function, but double each argument\n",
        "        return func(a * 2, b * 2)\n",
        "    return wrapper\n",
        "\n",
        "@double_args\n",
        "def multiply(a, b):\n",
        "    return a * b\n",
        "\n",
        "print(multiply(1, 5))"
      ],
      "metadata": {
        "colab": {
          "base_uri": "https://localhost:8080/"
        },
        "id": "1ihNnexF5KnE",
        "outputId": "3a2d5d82-db87-4baa-9ce5-9620de983afe"
      },
      "execution_count": null,
      "outputs": [
        {
          "output_type": "stream",
          "name": "stdout",
          "text": [
            "20\n"
          ]
        }
      ]
    },
    {
      "cell_type": "markdown",
      "source": [
        "### **Using decorator syntax**\n",
        "\n",
        "You have written a decorator called `print_args` that prints out all of the arguments and their values any time a function that it is decorating gets called.\n",
        "\n",
        "* Decorate `my_function()` with the `print_args()` decorator by redefining the `my_function` variable.\n",
        "\n",
        "* Decorate `my_function()` with the `print_args()` decorator using decorator syntax."
      ],
      "metadata": {
        "id": "ORh9G6BK5jh6"
      }
    },
    {
      "cell_type": "code",
      "metadata": {
        "colab": {
          "base_uri": "https://localhost:8080/"
        },
        "id": "hFu2LVWihegs",
        "outputId": "e47d396d-9145-4ac0-d3db-634b8bcb6269"
      },
      "source": [
        "import inspect\n",
        "\n",
        "def print_args(func):\n",
        "    sig = inspect.signature(func)\n",
        "    def wrapper(*args, **kwargs):\n",
        "        bound = sig.bind(*args, **kwargs).arguments\n",
        "        str_args = ', '.join(['{}={}'.format(k, v) for k, v in bound.items()])\n",
        "        print('{} was called with {}'.format(func.__name__, str_args))\n",
        "        return func(*args, **kwargs)\n",
        "    return wrapper\n",
        "\n",
        "def my_function(a, b, c):\n",
        "    print(a + b + c)\n",
        "\n",
        "# Decorate my_function() with the print_args() decorator\n",
        "my_function = print_args(my_function)\n",
        "\n",
        "my_function(1, 2, 3)\n",
        "\n",
        "# Decorate my_function() with the print_args() decorator\n",
        "# When you use decorator syntax with the @ symbol, \n",
        "# you do not include () after the decorator name.\n",
        "\n",
        "@print_args\n",
        "def my_function(a, b, c):\n",
        "    print(a + b + c)\n",
        "\n",
        "my_function(4, 5, 6)"
      ],
      "execution_count": null,
      "outputs": [
        {
          "output_type": "stream",
          "name": "stdout",
          "text": [
            "my_function was called with a=1, b=2, c=3\n",
            "6\n",
            "my_function was called with a=4, b=5, c=6\n",
            "15\n"
          ]
        }
      ]
    },
    {
      "cell_type": "markdown",
      "source": [
        "Remember, even though decorators are functions themselves, when you use decorator syntax with the $@$ symbol you do not include the parentheses after the decorator name.\n",
        "\n",
        "### **Defining a decorator**\n",
        "\n",
        "A decorator prints a \"before\" message before the decorated function is called and prints an \"after\" message after the decorated function is called. \n",
        "\n",
        "* Call the function being decorated and pass it the positional arguments `*args`.\n",
        "* Return the new decorated function."
      ],
      "metadata": {
        "id": "mBRjyW3a688v"
      }
    },
    {
      "cell_type": "code",
      "metadata": {
        "colab": {
          "base_uri": "https://localhost:8080/"
        },
        "id": "XIamKnf9nWGX",
        "outputId": "268b8a47-b1e3-4f1a-fce4-0a7d5c7748ab"
      },
      "source": [
        "def print_before_and_after(func):\n",
        "    def wrapper(*args):\n",
        "        print('Before {}'.format(func.__name__))\n",
        "        # Call the function being decorated with *args\n",
        "        func(*args)\n",
        "        print('After {}'.format(func.__name__))\n",
        "    # Return the nested function\n",
        "    return wrapper\n",
        "\n",
        "@print_before_and_after\n",
        "def multiply(a, b):\n",
        "  print(a * b)\n",
        "\n",
        "multiply(5, 10)"
      ],
      "execution_count": null,
      "outputs": [
        {
          "output_type": "stream",
          "text": [
            "Before multiply\n",
            "50\n",
            "After multiply\n"
          ],
          "name": "stdout"
        }
      ]
    },
    {
      "cell_type": "markdown",
      "source": [
        " The decorator `print_before_and_after()` defines a nested function `wrapper()` that calls whatever function gets passed to `print_before_and_after()`. `wrapper()` adds a little something else to the function call by printing one message before the decorated function is called and another right afterwards. Since `print_before_and_after()` returns the new `wrapper()` function, we can use it as a decorator to decorate the `multiply()` function."
      ],
      "metadata": {
        "id": "kYJQAVKf7yfm"
      }
    },
    {
      "cell_type": "markdown",
      "source": [
        "# ***Real-world example Decorator***\n",
        "\n",
        "## **Timer**\n",
        "\n",
        "* All decorators have fairly similar-looking docstrings because ***they all take and return a single function***.\n",
        "\n",
        "* เริ่มโดยเขียน **`wrapper`** function และ **`return wrapper`** รอไว้เลย\n",
        "* ตัว **`wrapper`** ฟังก์ชัน ให้ใส่จำนวนตัวแปรเป็น  **`*args, **kwargs`** เพราะจะได้ใส่ตัวแปรไปกี่ตัวก็ได้"
      ],
      "metadata": {
        "id": "iG6Ulx6JoMEH"
      }
    },
    {
      "cell_type": "code",
      "source": [
        "import time\n",
        "\n",
        "def timer(func):\n",
        "    \"\"\"A decorator that prints how long a function took to run.\n",
        "\n",
        "    Args:\n",
        "        func (callable): The function being decorated.\n",
        "    \n",
        "    Returns:\n",
        "        callable: The decorated function.\n",
        "    \"\"\"\n",
        "\n",
        "    # Define the wrapper function to return.\n",
        "    def wrapper(*args, **kwargs):\n",
        "        # When wrapper() is called, get the current time.\n",
        "        t_start = time.time()\n",
        "        \n",
        "        # Call the decorated function and store the result.\n",
        "        result = func(*args, **kwargs)\n",
        "        \n",
        "        # Get the total time it took to run, and print it.\n",
        "        t_total = time.time() - t_start\n",
        "        print('{} took {:,.4f}s'.format(func.__name__, t_total))\n",
        "        return result\n",
        "    return wrapper\n",
        "\n",
        "@timer\n",
        "def sleep_n_seconds(n):\n",
        "    time.sleep(n)\n",
        "\n",
        "sleep_n_seconds(5)"
      ],
      "metadata": {
        "colab": {
          "base_uri": "https://localhost:8080/"
        },
        "id": "brPZRkBCohA1",
        "outputId": "dbefcae8-0136-4842-8188-8fb1a1527e77"
      },
      "execution_count": null,
      "outputs": [
        {
          "output_type": "stream",
          "name": "stdout",
          "text": [
            "sleep_n_seconds took 5.0051s\n"
          ]
        }
      ]
    },
    {
      "cell_type": "code",
      "source": [
        "sleep_n_seconds(10)"
      ],
      "metadata": {
        "colab": {
          "base_uri": "https://localhost:8080/"
        },
        "id": "5Bj6PeNerFLv",
        "outputId": "d77e377e-777c-487f-d93d-2da9d49f4edc"
      },
      "execution_count": null,
      "outputs": [
        {
          "output_type": "stream",
          "name": "stdout",
          "text": [
            "sleep_n_seconds took 10.0101s\n"
          ]
        }
      ]
    },
    {
      "cell_type": "markdown",
      "source": [
        "## ***Memoizing Decorator***  อันนี้ มีประโยชน์ แต่\n",
        "\n",
        "# **ข้างล่าง มันเขียนผิด !!!**"
      ],
      "metadata": {
        "id": "6NJGk4S_rVOo"
      }
    },
    {
      "cell_type": "code",
      "source": [
        "import time\n",
        "\n",
        "def memoize(func):\n",
        "    \"\"\"Store the results of the decorated function for fast lookup\n",
        "    \"\"\"\n",
        "    # Store results in a dict that maps arguments to results\n",
        "    cache = {}\n",
        "    # Define the wrapper function to return.\n",
        "    def wrapper(*args, **kwargs):\n",
        "        # If these arguments haven't been seen before,\n",
        "        if (args, kwargs) not in cache:\n",
        "            # Call func() and store the result.\n",
        "            cache[(args, kwargs)] = func(*args, **kwargs)\n",
        "        return cache[(args, kwargs)]\n",
        "    return wrapper\n",
        "\n",
        "@memoize\n",
        "def slow_function(a, b):\n",
        "    print('Sleeping...')\n",
        "    time.sleep(5)\n",
        "    return a + b\n",
        "slow_function(3, 4)"
      ],
      "metadata": {
        "colab": {
          "base_uri": "https://localhost:8080/",
          "height": 335
        },
        "id": "ZSMzyNGqC80N",
        "outputId": "e3d8c662-dc4e-4243-a26e-20dff59ac562"
      },
      "execution_count": null,
      "outputs": [
        {
          "output_type": "error",
          "ename": "TypeError",
          "evalue": "ignored",
          "traceback": [
            "\u001b[0;31m---------------------------------------------------------------------------\u001b[0m",
            "\u001b[0;31mTypeError\u001b[0m                                 Traceback (most recent call last)",
            "\u001b[0;32m<ipython-input-1-698255a4aa75>\u001b[0m in \u001b[0;36m<module>\u001b[0;34m()\u001b[0m\n\u001b[1;32m     18\u001b[0m     \u001b[0mtime\u001b[0m\u001b[0;34m.\u001b[0m\u001b[0msleep\u001b[0m\u001b[0;34m(\u001b[0m\u001b[0;36m5\u001b[0m\u001b[0;34m)\u001b[0m\u001b[0;34m\u001b[0m\u001b[0;34m\u001b[0m\u001b[0m\n\u001b[1;32m     19\u001b[0m     \u001b[0;32mreturn\u001b[0m \u001b[0ma\u001b[0m \u001b[0;34m+\u001b[0m \u001b[0mb\u001b[0m\u001b[0;34m\u001b[0m\u001b[0;34m\u001b[0m\u001b[0m\n\u001b[0;32m---> 20\u001b[0;31m \u001b[0mslow_function\u001b[0m\u001b[0;34m(\u001b[0m\u001b[0;36m3\u001b[0m\u001b[0;34m,\u001b[0m \u001b[0;36m4\u001b[0m\u001b[0;34m)\u001b[0m\u001b[0;34m\u001b[0m\u001b[0;34m\u001b[0m\u001b[0m\n\u001b[0m",
            "\u001b[0;32m<ipython-input-1-698255a4aa75>\u001b[0m in \u001b[0;36mwrapper\u001b[0;34m(*args, **kwargs)\u001b[0m\n\u001b[1;32m      7\u001b[0m     \u001b[0;32mdef\u001b[0m \u001b[0mwrapper\u001b[0m\u001b[0;34m(\u001b[0m\u001b[0;34m*\u001b[0m\u001b[0margs\u001b[0m\u001b[0;34m,\u001b[0m \u001b[0;34m**\u001b[0m\u001b[0mkwargs\u001b[0m\u001b[0;34m)\u001b[0m\u001b[0;34m:\u001b[0m\u001b[0;34m\u001b[0m\u001b[0;34m\u001b[0m\u001b[0m\n\u001b[1;32m      8\u001b[0m         \u001b[0;31m# If these arguments haven't been seen before,\u001b[0m\u001b[0;34m\u001b[0m\u001b[0;34m\u001b[0m\u001b[0;34m\u001b[0m\u001b[0m\n\u001b[0;32m----> 9\u001b[0;31m         \u001b[0;32mif\u001b[0m \u001b[0;34m(\u001b[0m\u001b[0margs\u001b[0m\u001b[0;34m,\u001b[0m \u001b[0mkwargs\u001b[0m\u001b[0;34m)\u001b[0m \u001b[0;32mnot\u001b[0m \u001b[0;32min\u001b[0m \u001b[0mcache\u001b[0m\u001b[0;34m:\u001b[0m\u001b[0;34m\u001b[0m\u001b[0;34m\u001b[0m\u001b[0m\n\u001b[0m\u001b[1;32m     10\u001b[0m             \u001b[0;31m# Call func() and store the result.\u001b[0m\u001b[0;34m\u001b[0m\u001b[0;34m\u001b[0m\u001b[0;34m\u001b[0m\u001b[0m\n\u001b[1;32m     11\u001b[0m             \u001b[0mcache\u001b[0m\u001b[0;34m[\u001b[0m\u001b[0;34m(\u001b[0m\u001b[0margs\u001b[0m\u001b[0;34m,\u001b[0m \u001b[0mkwargs\u001b[0m\u001b[0;34m)\u001b[0m\u001b[0;34m]\u001b[0m \u001b[0;34m=\u001b[0m \u001b[0mfunc\u001b[0m\u001b[0;34m(\u001b[0m\u001b[0;34m*\u001b[0m\u001b[0margs\u001b[0m\u001b[0;34m,\u001b[0m \u001b[0;34m**\u001b[0m\u001b[0mkwargs\u001b[0m\u001b[0;34m)\u001b[0m\u001b[0;34m\u001b[0m\u001b[0;34m\u001b[0m\u001b[0m\n",
            "\u001b[0;31mTypeError\u001b[0m: unhashable type: 'dict'"
          ]
        }
      ]
    },
    {
      "cell_type": "markdown",
      "source": [
        "### บนดาต้าแคมพ์มึงเขียนมั่ว ไม่เคยตรวจสอบ มันรันไม่ได้โว้ย "
      ],
      "metadata": {
        "id": "tcy-YT8JDVXr"
      }
    },
    {
      "cell_type": "code",
      "source": [
        "import time\n",
        "\n",
        "def memoize(func):\n",
        "    \"\"\"Store the results of the decorated function for fast lookup\n",
        "    \"\"\"\n",
        "    # Store results in a dict that maps arguments to results\n",
        "    cache = {}\n",
        "    def wrapper(*args, **kwargs):\n",
        "        key = (args , tuple((kwargs.items())))\n",
        "        #global cache                            # ต้องมี\n",
        "        print(f\"key in cache? {key in cache}\")  # ดูเอาเองว่ามีอยู่ใน cache รึยัง\n",
        "        if key not in cache:\n",
        "            cache[key] = func(*args, **kwargs)\n",
        "        return cache[key]\n",
        "    return wrapper\n",
        "\n",
        "@memoize\n",
        "def slow_function(a, b):\n",
        "    print('Sleeping...')\n",
        "    time.sleep(5)\n",
        "    return a + b\n",
        "\n",
        "slow_function(3,4)\n"
      ],
      "metadata": {
        "colab": {
          "base_uri": "https://localhost:8080/"
        },
        "id": "rX78RXbbrdGv",
        "outputId": "aafb02ad-e25d-44ca-8b44-15c73af38acd"
      },
      "execution_count": 1,
      "outputs": [
        {
          "output_type": "stream",
          "name": "stdout",
          "text": [
            "key in cache? False\n",
            "Sleeping...\n"
          ]
        },
        {
          "output_type": "execute_result",
          "data": {
            "text/plain": [
              "7"
            ]
          },
          "metadata": {},
          "execution_count": 1
        }
      ]
    },
    {
      "cell_type": "markdown",
      "source": [
        "### **รันใหม่อีกที มันต้องห้าม sleep แบบนี้สิวะ ถึงจะถูก**"
      ],
      "metadata": {
        "id": "nWetN5MPCUah"
      }
    },
    {
      "cell_type": "code",
      "source": [
        "slow_function(3,4)"
      ],
      "metadata": {
        "colab": {
          "base_uri": "https://localhost:8080/"
        },
        "id": "oQiYKIZEsuzu",
        "outputId": "c7bb0697-f967-40e4-d9e2-226d78fb5c0e"
      },
      "execution_count": 2,
      "outputs": [
        {
          "output_type": "stream",
          "name": "stdout",
          "text": [
            "key in cache? True\n"
          ]
        },
        {
          "output_type": "execute_result",
          "data": {
            "text/plain": [
              "7"
            ]
          },
          "metadata": {},
          "execution_count": 2
        }
      ]
    },
    {
      "cell_type": "markdown",
      "source": [
        "### **Print the return type**\n",
        "\n",
        "Something weird is happening with the data being returned from one of your functions, but you're not even sure which function is causing the trouble. You know that sometimes bugs can sneak into your code when you are expecting a function to return one thing, and it returns something different. For instance, if you expect a function to return a numpy array, but it returns a list, you can get unexpected behavior. To ensure this is not what is causing the trouble, you decide to write a decorator, **`print_return_type()`**, that will print out the type of the variable that gets returned from every call of any function it is decorating.\n",
        "\n",
        "* Create a nested function, **`wrapper()`**, that will become the new decorated function.\n",
        "* Call the function being decorated.\n",
        "* Return the new decorated function."
      ],
      "metadata": {
        "id": "Epj-HCKTX00z"
      }
    },
    {
      "cell_type": "code",
      "metadata": {
        "colab": {
          "base_uri": "https://localhost:8080/"
        },
        "id": "uhEPhldYouNx",
        "outputId": "39745790-1523-4167-c7b4-b639a59f682d"
      },
      "source": [
        "# พิมพ์ชนิดของค่าที่เป็นผลลัพธ์ของฟังก์ชัน\n",
        "\n",
        "def print_return_type(func):\n",
        "    # Define wrapper(), the decorated function\n",
        "    def wrapper(*args, **kwargs):\n",
        "        # Call the function being decorated\n",
        "        result = func(*args, **kwargs)\n",
        "        print('{}() returned type {}'.format(func.__name__, type(result)))\n",
        "        return result\n",
        "    # Return the decorated function\n",
        "    return wrapper\n",
        "  \n",
        "@print_return_type\n",
        "def foo(value):\n",
        "    return value\n",
        "  \n",
        "print(foo(42))\n",
        "print(foo([1, 2, 3]))\n",
        "print(foo({'a': 42}))"
      ],
      "execution_count": null,
      "outputs": [
        {
          "output_type": "stream",
          "text": [
            "foo() returned type <class 'int'>\n",
            "42\n",
            "foo() returned type <class 'list'>\n",
            "[1, 2, 3]\n",
            "foo() returned type <class 'dict'>\n",
            "{'a': 42}\n"
          ],
          "name": "stdout"
        }
      ]
    },
    {
      "cell_type": "markdown",
      "source": [
        "Your new decorator helps you examine the results of your functions at runtime. Now you can apply this decorator to every function in the package you are developing and run your scripts. Being able to examine the types of your return values will help you understand what is happening and will hopefully help you find the bug.\n",
        "\n",
        "### **Counter Decorator**\n",
        "\n",
        "You are curious about how many times each of the functions gets called. So you decide to write a decorator that adds a counter to each function that you decorate. \n",
        "\n",
        "* Call the function being decorated and return the result.\n",
        "* Return the new decorated function.\n",
        "* Decorate `foo()` with the `counter()` decorator."
      ],
      "metadata": {
        "id": "vrnbHUrAY4o6"
      }
    },
    {
      "cell_type": "code",
      "metadata": {
        "colab": {
          "base_uri": "https://localhost:8080/"
        },
        "id": "z1vvH1uKsAP2",
        "outputId": "75a65568-fd6d-449b-ff35-ca4070109ede"
      },
      "source": [
        "from inspect import getsource\n",
        "\n",
        "### wrapper is a function object.\n",
        "### Even before calling a decorated foo functon, the system initialize wrapper.count = 0 when the code line @counter is reached.\n",
        "### Note that a function object doesn't have count attribute,\n",
        "### but we can add the attribute anytime as we saw in OOP section.\n",
        "\n",
        "def counter(func):\n",
        "    def wrapper(*args, **kwargs):\n",
        "        wrapper.count += 1\n",
        "        print(f\"wrapper.count = {wrapper.count}\")\n",
        "        # Call the function being decorated and return the result\n",
        "        return func(*args, **kwargs)\n",
        "    wrapper.count = 0\n",
        "    # Return the new decorated function\n",
        "    return wrapper\n",
        "\n",
        "# Decorate foo() with the counter() decorator\n",
        "@counter\n",
        "def foo():\n",
        "    print('calling foo()')\n",
        "    print(f'foo.count = {foo.count}')\n",
        "  \n",
        "foo()\n",
        "foo()\n",
        "\n",
        "print('foo() was called {} times.'.format(foo.count))"
      ],
      "execution_count": null,
      "outputs": [
        {
          "output_type": "stream",
          "name": "stdout",
          "text": [
            "wrapper.count = 1\n",
            "calling foo()\n",
            "foo.count = 1\n",
            "wrapper.count = 2\n",
            "calling foo()\n",
            "foo.count = 2\n",
            "foo() was called 2 times.\n"
          ]
        }
      ]
    },
    {
      "cell_type": "markdown",
      "source": [
        "Now you can go decorate a bunch of functions with the **`counter()`** decorator, let your program run for a while, and then print out how many times each function was called.\n",
        "\n",
        "It seems a little magical that you can reference the **`wrapper()`** function from inside the definition of **`wrapper()`** as we do here on **`wrapper.count += 1`**. \n",
        "\n",
        "# **Decorators and metadata**"
      ],
      "metadata": {
        "id": "Sf8v4VaSfEOF"
      }
    },
    {
      "cell_type": "code",
      "source": [
        "import time\n",
        "\n",
        "def timer(func):\n",
        "    \"\"\"A decorator that prints how long a function took to run.\n",
        "\n",
        "    Args:\n",
        "        func (callable): The function being decorated.\n",
        "    \n",
        "    Returns:\n",
        "        callable: The decorated function.\n",
        "    \"\"\"\n",
        "\n",
        "    # Define the wrapper function to return.\n",
        "    def wrapper(*args, **kwargs):\n",
        "        # When wrapper() is called, get the current time.\n",
        "        t_start = time.time()\n",
        "        \n",
        "        # Call the decorated function and store the result.\n",
        "        result = func(*args, **kwargs)\n",
        "        \n",
        "        # Get the total time it took to run, and print it.\n",
        "        t_total = time.time() - t_start\n",
        "        print('{} took {:,.4f}s'.format(func.__name__, t_total))\n",
        "        return result\n",
        "    return wrapper\n",
        "\n",
        "def sleep_n_seconds(n=10):\n",
        "    \"\"\"Pause processing for n seconds.\n",
        "    Args:\n",
        "        n(int): The number of seconds to pause for.\n",
        "    \"\"\"\n",
        "    time.sleep(n)\n",
        "\n",
        "# Metadata\n",
        "print(f\"sleep_n_seconds.__doc__ =\\n {sleep_n_seconds.__doc__}\\n\")\n",
        "print(f\"sleep_n_seconds.__name__ =\\n {sleep_n_seconds.__name__}\\n\")\n",
        "print(f\"sleep_n_seconds.__defaults__ =\\n {sleep_n_seconds.__defaults__}\\n\")"
      ],
      "metadata": {
        "colab": {
          "base_uri": "https://localhost:8080/"
        },
        "id": "l7T2-aB_umbv",
        "outputId": "e5bc3e8c-3973-49b8-db06-24a25bf1b1e4"
      },
      "execution_count": 1,
      "outputs": [
        {
          "output_type": "stream",
          "name": "stdout",
          "text": [
            "sleep_n_seconds.__doc__ =\n",
            " Pause processing for n seconds.\n",
            "    Args:\n",
            "        n(int): The number of seconds to pause for.\n",
            "    \n",
            "\n",
            "sleep_n_seconds.__name__ =\n",
            " sleep_n_seconds\n",
            "\n",
            "sleep_n_seconds.__defaults__ =\n",
            " (10,)\n",
            "\n"
          ]
        }
      ]
    },
    {
      "cell_type": "markdown",
      "source": [
        "เมื่อฟังก์ชันถูก decorate พวก metadata ข้างบนจะหายไป วิธีแก้ไขคือต้องใช้ \n",
        "\n",
        "```\n",
        "from functools import wraps\n",
        "```\n",
        "\n"
      ],
      "metadata": {
        "id": "deZbYVULwVGD"
      }
    },
    {
      "cell_type": "code",
      "source": [
        "@timer\n",
        "def sleep_n_seconds(n=10):\n",
        "    \"\"\"Pause processing for n seconds.\n",
        "    Args:\n",
        "        n(int): The number of seconds to pause for.\n",
        "    \"\"\"\n",
        "    time.sleep(n)\n",
        "\n",
        "print(f\"sleep_n_seconds.__doc__ =\\n {sleep_n_seconds.__doc__}\\n\")\n",
        "print(f\"sleep_n_seconds.__name__ =\\n {sleep_n_seconds.__name__}\\n\")\n",
        "print(f\"sleep_n_seconds.__defaults__ =\\n {sleep_n_seconds.__defaults__}\\n\")"
      ],
      "metadata": {
        "colab": {
          "base_uri": "https://localhost:8080/"
        },
        "id": "L135PoCLwf2K",
        "outputId": "812034b6-7519-4fea-b2b2-67d23c474140"
      },
      "execution_count": 2,
      "outputs": [
        {
          "output_type": "stream",
          "name": "stdout",
          "text": [
            "sleep_n_seconds.__doc__ =\n",
            " None\n",
            "\n",
            "sleep_n_seconds.__name__ =\n",
            " wrapper\n",
            "\n",
            "sleep_n_seconds.__defaults__ =\n",
            " None\n",
            "\n"
          ]
        }
      ]
    },
    {
      "cell_type": "code",
      "source": [
        "import time\n",
        "from functools import wraps\n",
        "\n",
        "def timer(func):\n",
        "    \"\"\"A decorator that prints how long a function took to run.\n",
        "\n",
        "    Args:\n",
        "        func (callable): The function being decorated.\n",
        "    \n",
        "    Returns:\n",
        "        callable: The decorated function.\n",
        "    \"\"\"\n",
        "\n",
        "    \n",
        "    @wraps(func)\n",
        "    def wrapper(*args, **kwargs):\n",
        "        # When wrapper() is called, get the current time.\n",
        "        t_start = time.time()\n",
        "        \n",
        "        # Call the decorated function and store the result.\n",
        "        result = func(*args, **kwargs)\n",
        "        \n",
        "        # Get the total time it took to run, and print it.\n",
        "        t_total = time.time() - t_start\n",
        "        print('{} took {:,.4f}s'.format(func.__name__, t_total))\n",
        "        return result\n",
        "    return wrapper\n",
        "\n",
        "@timer\n",
        "def sleep_n_seconds(n=10):\n",
        "    \"\"\"Pause processing for n seconds.\n",
        "    Args:\n",
        "        n(int): The number of seconds to pause for.\n",
        "    \"\"\"\n",
        "    time.sleep(n)\n",
        "\n",
        "# Metadata\n",
        "print(f\"sleep_n_seconds.__doc__ =\\n {sleep_n_seconds.__doc__}\\n\")\n",
        "print(f\"sleep_n_seconds.__name__ =\\n {sleep_n_seconds.__name__}\\n\")\n",
        "print(f\"sleep_n_seconds.__defaults__ =\\n {sleep_n_seconds.__defaults__}\\n\")"
      ],
      "metadata": {
        "colab": {
          "base_uri": "https://localhost:8080/"
        },
        "id": "0ZyESsa7ImmV",
        "outputId": "54fa57b3-1966-473d-b5e6-f726dd7587fe"
      },
      "execution_count": 3,
      "outputs": [
        {
          "output_type": "stream",
          "name": "stdout",
          "text": [
            "sleep_n_seconds.__doc__ =\n",
            " Pause processing for n seconds.\n",
            "    Args:\n",
            "        n(int): The number of seconds to pause for.\n",
            "    \n",
            "\n",
            "sleep_n_seconds.__name__ =\n",
            " sleep_n_seconds\n",
            "\n",
            "sleep_n_seconds.__defaults__ =\n",
            " None\n",
            "\n"
          ]
        }
      ]
    },
    {
      "cell_type": "code",
      "source": [
        "sleep_n_seconds(3)"
      ],
      "metadata": {
        "colab": {
          "base_uri": "https://localhost:8080/"
        },
        "id": "b6MMV8rxKcJq",
        "outputId": "1a61701d-276c-43bb-b57c-741b033e00f4"
      },
      "execution_count": 4,
      "outputs": [
        {
          "output_type": "stream",
          "name": "stdout",
          "text": [
            "sleep_n_seconds took 3.0031s\n"
          ]
        }
      ]
    },
    {
      "cell_type": "markdown",
      "source": [
        "## **Access to the original function**\n",
        "\n",
        "จะเป็นการใช้ ฟังก์ชันที่ไม่ได้โดน decorated"
      ],
      "metadata": {
        "id": "eSp2fVTiKJ2D"
      }
    },
    {
      "cell_type": "code",
      "source": [
        "sleep_n_seconds.__wrapped__(3)"
      ],
      "metadata": {
        "id": "gkzVvvEZKnSq"
      },
      "execution_count": 6,
      "outputs": []
    },
    {
      "cell_type": "markdown",
      "source": [
        "### **Preserving docstrings when decorating functions**\n",
        "\n",
        "All of the docstrings have mysteriously disappeared from their decorated functions. Show how to preserve docstrings and other metadata when writing decorators.\n",
        "\n",
        "* Decorate `print_sum()` with the `add_hello()` decorator to replicate the issue that the docstring disappears."
      ],
      "metadata": {
        "id": "1suTQf_0K8ei"
      }
    },
    {
      "cell_type": "code",
      "source": [
        "def add_hello(func):\n",
        "    def wrapper(*args, **kwargs):\n",
        "        print('Hello')\n",
        "        return func(*args, **kwargs)\n",
        "    return wrapper\n",
        "\n",
        "# Decorate print_sum() with the add_hello() decorator\n",
        "@add_hello\n",
        "def print_sum(a, b):\n",
        "    \"\"\"Adds two numbers and prints the sum\"\"\"\n",
        "    print(a + b)\n",
        "  \n",
        "print_sum(10, 20)\n",
        "print_sum_docstring = print_sum.__doc__\n",
        "print(print_sum_docstring)"
      ],
      "metadata": {
        "colab": {
          "base_uri": "https://localhost:8080/"
        },
        "id": "eej6cSUxLZrh",
        "outputId": "547dbb45-d11e-40c1-f1ef-40c2e802260e"
      },
      "execution_count": 7,
      "outputs": [
        {
          "output_type": "stream",
          "name": "stdout",
          "text": [
            "Hello\n",
            "30\n",
            "None\n"
          ]
        }
      ]
    },
    {
      "cell_type": "markdown",
      "source": [
        "* To show that they are printing the `wrapper()` function's docstring, not the `print_sum()` docstring, add the following docstring to `wrapper()`:\n",
        "\n",
        "```\n",
        "\"\"\"Print 'hello' and then call the decorated function.\"\"\"\n",
        "```"
      ],
      "metadata": {
        "id": "RRDxMR9ELmLn"
      }
    },
    {
      "cell_type": "code",
      "metadata": {
        "colab": {
          "base_uri": "https://localhost:8080/"
        },
        "id": "U_Xh-Dwlt5LO",
        "outputId": "d77bef39-f0ef-44d8-d884-3353030fa11a"
      },
      "source": [
        "### Decorators and missing metadata\n",
        "def add_hello(func):\n",
        "    # Add a docstring to wrapper\n",
        "    def wrapper(*args, **kwargs):\n",
        "        \"\"\"Print 'hello' and then call the decorated function. นี่เป็น docstring ของ decorator ไม่ใช่ตัวต้นฉบับ\"\"\"\n",
        "        print('Hello')\n",
        "        return func(*args, **kwargs)\n",
        "    return wrapper\n",
        "\n",
        "@add_hello\n",
        "def print_sum(a, b):\n",
        "    \"\"\"Adds two numbers and prints the sum\"\"\"\n",
        "    print(a + b)\n",
        "  \n",
        "print_sum(10, 20)\n",
        "print(print_sum.__doc__)"
      ],
      "execution_count": 8,
      "outputs": [
        {
          "output_type": "stream",
          "name": "stdout",
          "text": [
            "Hello\n",
            "30\n",
            "Print 'hello' and then call the decorated function. นี่เป็น docstring ของ decorator ไม่ใช่ตัวต้นฉบับ\n"
          ]
        }
      ]
    },
    {
      "cell_type": "markdown",
      "source": [
        "* Import a function that will allow you to add the metadata from `print_sum()` to the decorated version of `print_sum()`."
      ],
      "metadata": {
        "id": "fmcPbxC4MIHp"
      }
    },
    {
      "cell_type": "code",
      "metadata": {
        "colab": {
          "base_uri": "https://localhost:8080/"
        },
        "id": "IMCsIvxV4_Hh",
        "outputId": "6df0fea9-3be3-44bf-9dcb-ea80ae0ba364"
      },
      "source": [
        "from functools import wraps\n",
        "\n",
        "def add_hello(func):\n",
        "    # Decorate wrapper() so that it keeps func()'s metadata\n",
        "    @wraps(func)\n",
        "    def wrapper(*args, **kwargs):\n",
        "        \"\"\"นี่เป็น docstring ของ decorator ไม่ใช่ตัวต้นฉบับ\"\"\"\n",
        "        print('Hello')\n",
        "        return func(*args, **kwargs)\n",
        "    return wrapper\n",
        "  \n",
        "@add_hello\n",
        "def print_sum(a, b):\n",
        "    \"\"\"Adds two numbers and prints the sum\"\"\"\n",
        "    print(a + b)\n",
        "  \n",
        "print_sum(10, 20)\n",
        "print(print_sum.__doc__)"
      ],
      "execution_count": null,
      "outputs": [
        {
          "output_type": "stream",
          "text": [
            "Hello\n",
            "30\n",
            "Adds two numbers and prints the sum\n"
          ],
          "name": "stdout"
        }
      ]
    },
    {
      "cell_type": "markdown",
      "source": [
        "After adding **`@wraps(func)`** to all of their decorators, they see that the docstrings are back where they expect them to be.\n",
        "\n",
        "### **Measuring decorator overhead**\n",
        "\n",
        "Your boss wrote a decorator called `check_everything()` that they think is amazing, and they are insisting you use it on your function. However, you've noticed that when you use it to decorate your functions, it makes them run much slower. You need to convince your boss that the decorator is adding too much processing time to your function. To do this, you are going to measure how long the decorated function takes to run and compare it to how long the undecorated function would have taken to run. This is the decorator in question:\n",
        "\n",
        "```\n",
        "def check_everything(func):\n",
        "    @wraps(func)\n",
        "    def wrapper(*args, **kwargs):\n",
        "        check_inputs(*args, **kwargs)\n",
        "        result = func(*args, **kwargs)\n",
        "        check_outputs(result)\n",
        "        return result\n",
        "    return wrapper\n",
        "```\n",
        "Instructions\n",
        "100 XP\n",
        "Call the original function instead of the decorated version by using an attribute of the function that the wraps() statement in your boss's decorator added to the decorated function."
      ],
      "metadata": {
        "id": "KQiBnc3rMqpH"
      }
    },
    {
      "cell_type": "code",
      "metadata": {
        "colab": {
          "base_uri": "https://localhost:8080/"
        },
        "id": "Tky44ocR5eIb",
        "outputId": "42d1d982-407d-4776-a688-f22b32c6bbf5"
      },
      "source": [
        "from functools import wraps\n",
        "import time\n",
        "\n",
        "# แค่เลียนแบบสิ่งที่น่าจะเกิดขึ้นในฟังก์ชันเหล่านี้ให้คล้ายกับสิ่งที่เกิดขึ้นในโจทย์\n",
        "\n",
        "def check_inputs(a, *args, **kwargs):\n",
        "    for value in a:\n",
        "        time.sleep(0.01)\n",
        "    print('Finished checking inputs')\n",
        "\n",
        "def check_outputs(a, *args, **kwargs):\n",
        "    for value in a:\n",
        "        time.sleep(0.01)\n",
        "    print('Finished checking outputs')\n",
        "\n",
        "def check_everything(func):\n",
        "    @wraps(func)\n",
        "    def wrapper(*args, **kwargs):\n",
        "        check_inputs(*args, **kwargs)\n",
        "        result = func(*args, **kwargs)\n",
        "        check_outputs(result)\n",
        "        return result\n",
        "    return wrapper\n",
        "\n",
        "\n",
        "@check_everything\n",
        "def duplicate(my_list):\n",
        "  \"\"\"Return a new list that repeats the input twice\"\"\"\n",
        "  return my_list + my_list\n",
        "\n",
        "t_start = time.time()\n",
        "duplicated_list = duplicate(list(range(50)))\n",
        "t_end = time.time()\n",
        "decorated_time = t_end - t_start\n",
        "\n",
        "t_start = time.time()\n",
        "# Call the original function instead of the decorated one\n",
        "duplicated_list = duplicate.__wrapped__(list(range(50)))\n",
        "t_end = time.time()\n",
        "undecorated_time = t_end - t_start\n",
        "\n",
        "print('Decorated time: {:.5f}s'.format(decorated_time))\n",
        "print('Undecorated time: {:.5f}s'.format(undecorated_time)) "
      ],
      "execution_count": 9,
      "outputs": [
        {
          "output_type": "stream",
          "name": "stdout",
          "text": [
            "Finished checking inputs\n",
            "Finished checking outputs\n",
            "Decorated time: 1.52421s\n",
            "Undecorated time: 0.00005s\n"
          ]
        }
      ]
    },
    {
      "cell_type": "markdown",
      "source": [
        "# ***Decorators that take arguments***\n",
        "\n",
        "### **Run_n_times()**\n",
        "\n",
        "Belowan is an example of a decorator that takes an argument: **`run_n_times()`**. The code for that decorator is repeated below to remind you how it works. Practice different ways of applying the decorator to the function **`print_sum()`**. Then I'll show you a funny prank you can play on your co-workers.\n",
        "\n",
        "```\n",
        "def run_n_times(n):\n",
        "    \"\"\"Define and return a decorator\"\"\"\n",
        "    def decorator(func):\n",
        "        def wrapper(*args, **kwargs):\n",
        "            for i in range(n):\n",
        "                func(*args, **kwargs)\n",
        "        return wrapper\n",
        "    return decorator\n",
        "```\n",
        "\n",
        "* Add the **`run_n_times()`** decorator to `print_sum()` using decorator syntax so that `print_sum()` runs 10 times.\n",
        "\n",
        "* Use `run_n_times()` to create a decorator `run_five_times()` that will run any function five times.\n",
        "\n",
        "* Here's the prank: use `run_n_times()` to modify the built-in `print()` function so that it always prints 20 times!"
      ],
      "metadata": {
        "id": "ZUnjGQu5ObdE"
      }
    },
    {
      "cell_type": "code",
      "metadata": {
        "colab": {
          "base_uri": "https://localhost:8080/"
        },
        "id": "wAlcSPBw6qW5",
        "outputId": "9a95bc4b-6e41-4db3-8dbc-0d42a096fb99"
      },
      "source": [
        "### Deccorators that take arguments\n",
        "\n",
        "def run_n_times(n):\n",
        "    \"\"\"Define and return a decorator\"\"\"\n",
        "    def decorator(func):\n",
        "        def wrapper(*args, **kwargs):\n",
        "            for i in range(n):\n",
        "              func(*args, **kwargs)\n",
        "        return wrapper\n",
        "    return decorator\n",
        "\n",
        "# Make print_sum() run 3 times with the run_n_times() decorator\n",
        "@run_n_times(3)\n",
        "def print_sum(a, b):\n",
        "  print(a + b)\n",
        "  \n",
        "print_sum(15, 20)\n",
        "\n",
        "# Modify the printn() function to always run 3 times\n",
        "# ขี้เกียจแก้ เลยเปลี่ยนเป็น printn\n",
        "printn = run_n_times(3)(print)\n",
        "\n",
        "printn('What is happening?!?!')"
      ],
      "execution_count": null,
      "outputs": [
        {
          "output_type": "stream",
          "text": [
            "35\n",
            "35\n",
            "35\n",
            "What is happening?!?!\n",
            "What is happening?!?!\n",
            "What is happening?!?!\n"
          ],
          "name": "stdout"
        }
      ]
    },
    {
      "cell_type": "markdown",
      "source": [
        "Notice how when you use decorator syntax for a decorator that takes arguments, you ***need to call the decorator by adding parentheses***, but you don't add parenthesis for decorators that don't take arguments.\n",
        "\n",
        "### **HTML Generator**\n",
        "\n",
        "You have written two decorators that will add bold or italics tags to any function that returns a string. You notice, however, that these two decorators look very similar. Instead of writing a bunch of other similar looking decorators, you want to create one decorator, **`html()`**, that can take any pair of opening and closing tags.\n",
        "\n",
        "```\n",
        "def bold(func):\n",
        "    @wraps(func)\n",
        "    def wrapper(*args, **kwargs):\n",
        "        msg = func(*args, **kwargs)\n",
        "        return '<b>{}</b>'.format(msg)\n",
        "    return wrapper\n",
        "\n",
        "def italics(func):\n",
        "    @wraps(func)\n",
        "    def wrapper(*args, **kwargs):\n",
        "        msg = func(*args, **kwargs)\n",
        "        return '<i>{}</i>'.format(msg)\n",
        "    return wrapper\n",
        "```\n",
        "1. Return the decorator and the decorated function from the correct places in the new `html()` decorator.\n",
        "\n",
        "2. Use the `html()` decorator to wrap the return value of `hello()` in the strings `<b>` and `</b>` (the HTML tags that mean \"bold\").\n",
        "\n",
        "3. Use `html()` to wrap the return value of `goodbye()` in the strings `<i>` and `</i>` (the HTML tags that mean \"italics\").\n",
        "\n",
        "4. Use `html()` to wrap `hello_goodbye()` in a **`DIV`**, which is done by adding the strings `<div>` and `</div>` tags around a string."
      ],
      "metadata": {
        "id": "jg5B_AAZdSbY"
      }
    },
    {
      "cell_type": "code",
      "metadata": {
        "colab": {
          "base_uri": "https://localhost:8080/"
        },
        "id": "U3N-Q3j4_P2p",
        "outputId": "2c13c74d-5aac-4b6f-f0df-25901960ded1"
      },
      "source": [
        "# แทนที่จะเขียน decorators ซ้ำๆกันแบบนี้\n",
        "from functools import wraps\n",
        "\n",
        "def bold(func):\n",
        "    @wraps(func)\n",
        "    def wrapper(*args, **kwargs):\n",
        "        msg = func(*args, **kwargs)\n",
        "        return '<b>{}</b>'.format(msg)\n",
        "    return wrapper\n",
        "def italics(func):\n",
        "    @wraps(func)\n",
        "    def wrapper(*args, **kwargs):\n",
        "        msg = func(*args, **kwargs)\n",
        "        return '<i>{}</i>'.format(msg)\n",
        "    return wrapper\n",
        "\n",
        "# เขียนเป็น decorators ที่มีตัวแปรแบบนี้ดีกว่า\n",
        "\n",
        "def html(open_tag, close_tag):\n",
        "    def decorator(func):\n",
        "        @wraps(func)\n",
        "        def wrapper(*args, **kwargs):\n",
        "            msg = func(*args, **kwargs)\n",
        "            return '{}{}{}'.format(open_tag, msg, close_tag)\n",
        "        # Return the decorated function\n",
        "        return wrapper\n",
        "    # Return the decorator\n",
        "    return decorator\n",
        "\n",
        "# Make hello() return bolded text\n",
        "@html(\"<b>\", \"</b>\")\n",
        "def hello(name):\n",
        "  return 'Hello {}!'.format(name)\n",
        "  \n",
        "print(hello('Alice'))\n",
        "\n",
        "# Make goodbye() return italicized text\n",
        "@html(\"<i>\", \"</i>\")\n",
        "def goodbye(name):\n",
        "  return 'Goodbye {}.'.format(name)\n",
        "  \n",
        "print(goodbye('Alice'))\n",
        "\n",
        "# Wrap the result of hello_goodbye() in <div> and </div>\n",
        "@html(\"<div>\", \"</div>\")\n",
        "def hello_goodbye(name):\n",
        "  return '\\n{}\\n{}\\n'.format(hello(name), goodbye(name))\n",
        "  \n",
        "print(hello_goodbye('Alice'))"
      ],
      "execution_count": null,
      "outputs": [
        {
          "output_type": "stream",
          "text": [
            "<b>Hello Alice!</b>\n",
            "<i>Goodbye Alice.</i>\n",
            "<div>\n",
            "<b>Hello Alice!</b>\n",
            "<i>Goodbye Alice.</i>\n",
            "</div>\n"
          ],
          "name": "stdout"
        }
      ]
    },
    {
      "cell_type": "markdown",
      "source": [
        "# ***Timeout Decorator***\n",
        "\n",
        "* The **`raise_timeout()`** function simply raises a **`TimeoutError`** when it is called. \n",
        "\n",
        "## ***The Signal Module***\n",
        "\n",
        "* The **`signal.signal()`** function tells Python, \"When you see the signal whose number is **`signalnum`**, call the handler function.\" In this case, we tell Python to call **`raise_timeout()`** whenever it sees the alarm signal. \n",
        "\n",
        "* The **`signal.alarm()`** function lets us set an alarm for some number of seconds in the future. Passing **`0`** to the **`signal.alarm()`** function cancels the alarm.\n",
        "\n",
        "\n",
        "            \n",
        "            try:\n",
        "                # Call the decorated func\n",
        "                return func(*args, **kwargs)\n",
        "            finally:\n",
        "                # Cancel alarm\n",
        "                signal.alarm(0)\n",
        "\n",
        "* The **`finally`** block ensures that the alarm either rings or gets canceled."
      ],
      "metadata": {
        "id": "OgHjPZplkJBj"
      }
    },
    {
      "cell_type": "code",
      "source": [
        "import signal, time\n",
        "from functools import wraps\n",
        "\n",
        "def raise_timeout(*args, **kwargs):\n",
        "    raise TimeoutError()\n",
        "\n",
        "# When an \"alarm\" signal goes off, call raise_timeout()\n",
        "signal.signal(signalnum=signal.SIGALRM, handler=raise_timeout)\n",
        "\n",
        "\n",
        "def timeout(n_seconds):\n",
        "    def decorator(func):\n",
        "        @wraps(func)\n",
        "        def wrapper(*args, **kwargs):\n",
        "            # Set an alarm for n seconds\n",
        "            signal.alarm(n_seconds)\n",
        "            try:\n",
        "                # Call the decorated func\n",
        "                return func(*args, **kwargs)\n",
        "            finally:\n",
        "                # Cancel alarm\n",
        "                signal.alarm(0)\n",
        "        return wrapper\n",
        "    return decorator\n",
        "\n",
        "@timeout(2)\n",
        "def foo():\n",
        "    time.sleep(10)\n",
        "    print('foo!')\n",
        "\n",
        "foo()"
      ],
      "metadata": {
        "colab": {
          "base_uri": "https://localhost:8080/",
          "height": 360
        },
        "id": "k9KKjNe3kTT0",
        "outputId": "c70d9714-39e6-40b8-b550-2eae75926fe9"
      },
      "execution_count": 4,
      "outputs": [
        {
          "output_type": "error",
          "ename": "TimeoutError",
          "evalue": "ignored",
          "traceback": [
            "\u001b[0;31m---------------------------------------------------------------------------\u001b[0m",
            "\u001b[0;31mTimeoutError\u001b[0m                              Traceback (most recent call last)",
            "\u001b[0;32m<ipython-input-4-c5aa4af669d4>\u001b[0m in \u001b[0;36m<module>\u001b[0;34m()\u001b[0m\n\u001b[1;32m     29\u001b[0m     \u001b[0mprint\u001b[0m\u001b[0;34m(\u001b[0m\u001b[0;34m'foo!'\u001b[0m\u001b[0;34m)\u001b[0m\u001b[0;34m\u001b[0m\u001b[0;34m\u001b[0m\u001b[0m\n\u001b[1;32m     30\u001b[0m \u001b[0;34m\u001b[0m\u001b[0m\n\u001b[0;32m---> 31\u001b[0;31m \u001b[0mfoo\u001b[0m\u001b[0;34m(\u001b[0m\u001b[0;34m)\u001b[0m\u001b[0;34m\u001b[0m\u001b[0;34m\u001b[0m\u001b[0m\n\u001b[0m",
            "\u001b[0;32m<ipython-input-4-c5aa4af669d4>\u001b[0m in \u001b[0;36mwrapper\u001b[0;34m(*args, **kwargs)\u001b[0m\n\u001b[1;32m     17\u001b[0m             \u001b[0;32mtry\u001b[0m\u001b[0;34m:\u001b[0m\u001b[0;34m\u001b[0m\u001b[0;34m\u001b[0m\u001b[0m\n\u001b[1;32m     18\u001b[0m                 \u001b[0;31m# Call the decorated func\u001b[0m\u001b[0;34m\u001b[0m\u001b[0;34m\u001b[0m\u001b[0;34m\u001b[0m\u001b[0m\n\u001b[0;32m---> 19\u001b[0;31m                 \u001b[0;32mreturn\u001b[0m \u001b[0mfunc\u001b[0m\u001b[0;34m(\u001b[0m\u001b[0;34m*\u001b[0m\u001b[0margs\u001b[0m\u001b[0;34m,\u001b[0m \u001b[0;34m**\u001b[0m\u001b[0mkwargs\u001b[0m\u001b[0;34m)\u001b[0m\u001b[0;34m\u001b[0m\u001b[0;34m\u001b[0m\u001b[0m\n\u001b[0m\u001b[1;32m     20\u001b[0m             \u001b[0;32mfinally\u001b[0m\u001b[0;34m:\u001b[0m\u001b[0;34m\u001b[0m\u001b[0;34m\u001b[0m\u001b[0m\n\u001b[1;32m     21\u001b[0m                 \u001b[0;31m# Cancel alarm\u001b[0m\u001b[0;34m\u001b[0m\u001b[0;34m\u001b[0m\u001b[0;34m\u001b[0m\u001b[0m\n",
            "\u001b[0;32m<ipython-input-4-c5aa4af669d4>\u001b[0m in \u001b[0;36mfoo\u001b[0;34m()\u001b[0m\n\u001b[1;32m     26\u001b[0m \u001b[0;34m@\u001b[0m\u001b[0mtimeout\u001b[0m\u001b[0;34m(\u001b[0m\u001b[0;36m2\u001b[0m\u001b[0;34m)\u001b[0m\u001b[0;34m\u001b[0m\u001b[0;34m\u001b[0m\u001b[0m\n\u001b[1;32m     27\u001b[0m \u001b[0;32mdef\u001b[0m \u001b[0mfoo\u001b[0m\u001b[0;34m(\u001b[0m\u001b[0;34m)\u001b[0m\u001b[0;34m:\u001b[0m\u001b[0;34m\u001b[0m\u001b[0;34m\u001b[0m\u001b[0m\n\u001b[0;32m---> 28\u001b[0;31m     \u001b[0mtime\u001b[0m\u001b[0;34m.\u001b[0m\u001b[0msleep\u001b[0m\u001b[0;34m(\u001b[0m\u001b[0;36m10\u001b[0m\u001b[0;34m)\u001b[0m\u001b[0;34m\u001b[0m\u001b[0;34m\u001b[0m\u001b[0m\n\u001b[0m\u001b[1;32m     29\u001b[0m     \u001b[0mprint\u001b[0m\u001b[0;34m(\u001b[0m\u001b[0;34m'foo!'\u001b[0m\u001b[0;34m)\u001b[0m\u001b[0;34m\u001b[0m\u001b[0;34m\u001b[0m\u001b[0m\n\u001b[1;32m     30\u001b[0m \u001b[0;34m\u001b[0m\u001b[0m\n",
            "\u001b[0;32m<ipython-input-4-c5aa4af669d4>\u001b[0m in \u001b[0;36mraise_timeout\u001b[0;34m(*args, **kwargs)\u001b[0m\n\u001b[1;32m      3\u001b[0m \u001b[0;34m\u001b[0m\u001b[0m\n\u001b[1;32m      4\u001b[0m \u001b[0;32mdef\u001b[0m \u001b[0mraise_timeout\u001b[0m\u001b[0;34m(\u001b[0m\u001b[0;34m*\u001b[0m\u001b[0margs\u001b[0m\u001b[0;34m,\u001b[0m \u001b[0;34m**\u001b[0m\u001b[0mkwargs\u001b[0m\u001b[0;34m)\u001b[0m\u001b[0;34m:\u001b[0m\u001b[0;34m\u001b[0m\u001b[0;34m\u001b[0m\u001b[0m\n\u001b[0;32m----> 5\u001b[0;31m     \u001b[0;32mraise\u001b[0m \u001b[0mTimeoutError\u001b[0m\u001b[0;34m(\u001b[0m\u001b[0;34m)\u001b[0m\u001b[0;34m\u001b[0m\u001b[0;34m\u001b[0m\u001b[0m\n\u001b[0m\u001b[1;32m      6\u001b[0m \u001b[0;34m\u001b[0m\u001b[0m\n\u001b[1;32m      7\u001b[0m \u001b[0;31m# When an \"alarm\" signal goes off, call raise_timeout()\u001b[0m\u001b[0;34m\u001b[0m\u001b[0;34m\u001b[0m\u001b[0;34m\u001b[0m\u001b[0m\n",
            "\u001b[0;31mTimeoutError\u001b[0m: "
          ]
        }
      ]
    },
    {
      "cell_type": "code",
      "source": [
        "@timeout(20)\n",
        "def bar():\n",
        "    time.sleep(2)\n",
        "    print('bar!')\n",
        "\n",
        "bar()"
      ],
      "metadata": {
        "colab": {
          "base_uri": "https://localhost:8080/"
        },
        "id": "Y8wSIsu6kwZ6",
        "outputId": "fb8e0410-8f0f-45a8-8da3-f87ca740e9f0"
      },
      "execution_count": 5,
      "outputs": [
        {
          "output_type": "stream",
          "name": "stdout",
          "text": [
            "bar!\n"
          ]
        }
      ]
    },
    {
      "cell_type": "markdown",
      "source": [
        "### **Tag your functions**\n",
        "\n",
        "Tagging something means that you have given that thing one or more strings that act as labels. For instance, we often tag emails or photos so that we can search for them later. You've decided to write a decorator that will let you tag your functions with an arbitrary list of tags. You could use these tags for many things:\n",
        "\n",
        "* Adding information about who has worked on the function, so a user can look up who to ask if they run into trouble using it.\n",
        "* Labeling functions as \"experimental\" so that users know that the inputs and outputs might change in the future.\n",
        "* Marking any functions that you plan to remove in a future version of the code.\n",
        "* Etc.\n",
        "\n",
        "1. Define a new decorator, named **`decorator()`**, to return.\n",
        "2. Ensure the decorated function keeps its metadata.\n",
        "3. Call the function being decorated and return the result.\n",
        "4. Return the new decorator."
      ],
      "metadata": {
        "id": "xIfIbty2otHb"
      }
    },
    {
      "cell_type": "code",
      "metadata": {
        "colab": {
          "base_uri": "https://localhost:8080/"
        },
        "id": "knIdP3ioA-6d",
        "outputId": "c4489736-c344-41f1-d7c5-b81c9c9822cc"
      },
      "source": [
        "from functools import wraps\n",
        "\n",
        "def tag(*tags):\n",
        "    # Define a new decorator, named \"decorator\", to return\n",
        "    def decorator(func):\n",
        "        # Ensure the decorated function keeps its metadata\n",
        "        @wraps(func)\n",
        "        def wrapper(*args, **kwargs):\n",
        "            # Call the function being decorated and return the result\n",
        "            return func(*args, **kwargs)\n",
        "        wrapper.tags = tags\n",
        "        return wrapper\n",
        "    # Return the new decorator\n",
        "    return decorator\n",
        "\n",
        "@tag('test', 'this is a tag')\n",
        "def foo():\n",
        "    pass\n",
        "\n",
        "print(foo.tags)"
      ],
      "execution_count": null,
      "outputs": [
        {
          "output_type": "stream",
          "text": [
            "('test', 'this is a tag')\n"
          ],
          "name": "stdout"
        }
      ]
    },
    {
      "cell_type": "markdown",
      "source": [
        "You could tag a bunch of image transforming functions, and then write code that searches for all of the functions that transform images and apply them, one after the other, on a given input image. What other neat uses can you come up with for this decorator?\n",
        "\n",
        "### **Check the return type**\n",
        "\n",
        "Python's flexibility around data types is usually cited as one of the benefits of the language. It can sometimes cause problems though if incorrect data types go unnoticed. You've decided that ***in order to ensure your code is doing exactly what you want it to do, you will explicitly check the return types in all of your functions and make sure they're returning what you expect.*** To do that, you are going to create a decorator that checks if the return type of the decorated function is correct.\n",
        "\n",
        "Note: **`assert`** is a keyword that you can use to test whether something is true. If you type **`assert`** condition and condition is **`True`**, this function doesn't do anything. If condition is **`False`**, this function raises an error. The type of error that it raises is called an **`AssertionError`**.\n",
        "\n",
        "1. Start by completing the `returns_dict()` decorator so that it raises an **`AssertionError`** if the return type of the decorated function is not a dictionary.\n",
        "\n",
        "2. Now complete the **`returns()`** decorator, which takes the expected return type as an argument.\n"
      ],
      "metadata": {
        "id": "ab8piSv7qE4p"
      }
    },
    {
      "cell_type": "code",
      "metadata": {
        "colab": {
          "base_uri": "https://localhost:8080/"
        },
        "id": "Jpwuh5AYECt3",
        "outputId": "1d5dbc16-c184-4b4c-967f-a27f22ced283"
      },
      "source": [
        "def returns_dict(func):\n",
        "    # Complete the returns_dict() decorator\n",
        "    def wrapper(*args, **kwargs):\n",
        "        result = func(*args, **kwargs)\n",
        "        assert(type(result) == dict)\n",
        "        return result\n",
        "    return wrapper  \n",
        "  \n",
        "@returns_dict\n",
        "def foo(value):\n",
        "    return value\n",
        "\n",
        "try:\n",
        "    print(foo([1,2,3]))\n",
        "except AssertionError:\n",
        "    print('foo() did not return a dict!')\n",
        "\n",
        "# เราเขียนเป็น Decorators ที่ระบุตัวแปรได้แบบนี้\n",
        "\n",
        "def returns(return_type):\n",
        "    # Complete the returns() decorator\n",
        "    def decorator(func):\n",
        "        def wrapper(*args, **kwargs):\n",
        "            result = func(*args, **kwargs)\n",
        "            assert(type(result) == return_type)\n",
        "            return result\n",
        "        return wrapper\n",
        "    return decorator\n",
        "  \n",
        "@returns(dict)\n",
        "def foo(value):\n",
        "    return value\n",
        "\n",
        "try:\n",
        "    print(foo([1,2,3]))\n",
        "except AssertionError:\n",
        "    print('foo() did not return a dict!')"
      ],
      "execution_count": null,
      "outputs": [
        {
          "output_type": "stream",
          "text": [
            "foo() did not return a dict!\n",
            "foo() did not return a dict!\n"
          ],
          "name": "stdout"
        }
      ]
    }
  ]
}