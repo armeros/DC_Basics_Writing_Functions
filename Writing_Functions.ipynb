{
  "nbformat": 4,
  "nbformat_minor": 0,
  "metadata": {
    "colab": {
      "name": "Writing_Functions",
      "provenance": []
    },
    "kernelspec": {
      "name": "python3",
      "display_name": "Python 3"
    },
    "language_info": {
      "name": "python"
    }
  },
  "cells": [
    {
      "cell_type": "code",
      "metadata": {
        "colab": {
          "base_uri": "https://localhost:8080/",
          "height": 136
        },
        "id": "wq74m7V1kFWz",
        "outputId": "e87544f3-a153-4744-c087-778f314d130d"
      },
      "source": [
        "### DRY \n",
        "import pandas as pd\n",
        "import numpy as np\n",
        "\n",
        "# เตรียมข้อมูลจากโจทย์\n",
        "a = np.array([[2.78587674, 2.05251262, 2.1705437 , 0.06556992],\n",
        "       [1.14455734, 2.6664982 , 0.26709777, 2.88473746],\n",
        "       [0.90740581, 0.42363394, 2.61345949, 0.03095006],\n",
        "       [2.20525908, 0.5235798 , 3.98434531, 0.33928911],\n",
        "       [2.87787588, 1.28792243, 3.07758935, 0.90199364],\n",
        "       [1.69242584, 2.64625735, 2.29509645, 3.50049814],\n",
        "       [3.92305679, 3.3860249 , 0.41054104, 1.45430527],\n",
        "       [2.73931895, 2.21302938, 2.7993363 , 2.15983974],\n",
        "       [1.92372761, 3.41780995, 2.64467147, 2.27241286],\n",
        "       [1.56847007, 1.53935125, 0.19638852, 0.90185344],\n",
        "       [1.37271206, 1.26715159, 3.16919721, 2.28858707],\n",
        "       [2.91619883, 1.4170587 , 2.07486636, 2.64380718],\n",
        "       [1.75428898, 0.68432732, 1.70347078, 1.19298157],\n",
        "       [0.23871159, 3.31645054, 3.15274869, 1.67450744],\n",
        "       [1.59217702, 1.35468338, 1.64627689, 1.8123557 ],\n",
        "       [2.95198162, 2.2094803 , 1.9241051 , 3.72940265],\n",
        "       [0.72996692, 2.31420587, 0.72651537, 2.34997499],\n",
        "       [0.70180702, 2.08613224, 1.2852756 , 3.79300949],\n",
        "       [2.1262055 , 0.01075226, 3.38213199, 2.22413902],\n",
        "       [2.12731035, 3.95338168, 0.747615  , 2.00224568],\n",
        "       [2.53760383, 3.6213663 , 1.66916424, 0.01412884],\n",
        "       [3.39772718, 0.83054344, 3.95613803, 1.92355618],\n",
        "       [2.8978213 , 1.16995765, 0.94639925, 3.70981999],\n",
        "       [2.44409404, 2.08004061, 3.66732933, 0.79346276],\n",
        "       [2.88977353, 3.60764549, 3.67358987, 0.20836454],\n",
        "       [1.29183566, 3.93452354, 0.36518537, 1.62711557],\n",
        "       [1.44715462, 1.03016826, 1.8546109 , 1.48958592],\n",
        "       [0.91305292, 2.25743617, 2.00886534, 3.42861223],\n",
        "       [1.17485619, 3.22787474, 1.2546758 , 0.10644446],\n",
        "       [2.5239045 , 1.57748022, 0.18935815, 3.68059692],\n",
        "       [0.36841976, 2.92429214, 0.96674255, 2.723612  ],\n",
        "       [1.73480469, 0.64427606, 0.38211857, 3.61690398],\n",
        "       [1.72345105, 2.40279427, 0.95299962, 2.43011628],\n",
        "       [1.97474039, 3.46345783, 3.23116435, 3.24781325],\n",
        "       [1.70332116, 3.93408644, 3.57991315, 1.34217549],\n",
        "       [1.24904489, 0.31746316, 0.17289157, 1.39826491],\n",
        "       [1.70540523, 1.7133891 , 1.20778735, 1.55949692],\n",
        "       [3.57355665, 0.81817144, 3.92232879, 3.01918833],\n",
        "       [3.77664007, 1.80254596, 2.15801929, 1.4771647 ],\n",
        "       [2.0073467 , 2.19105429, 2.50523745, 0.96887923],\n",
        "       [2.49581181, 0.37330684, 0.02218163, 3.75067343],\n",
        "       [0.46247358, 1.1874431 , 1.93963777, 3.63204433],\n",
        "       [1.26914193, 3.71033696, 3.95331414, 1.39518926],\n",
        "       [1.65930485, 2.27601493, 1.50074211, 2.53855228],\n",
        "       [3.46523663, 1.82964799, 0.38815263, 1.09536885],\n",
        "       [1.00182146, 3.01410396, 1.84763505, 0.82446051],\n",
        "       [1.93213706, 2.96744861, 3.85201786, 1.34535812],\n",
        "       [3.94223914, 0.19431613, 1.36732245, 1.30839957],\n",
        "       [2.07794048, 2.83478958, 3.19569093, 3.5291044 ],\n",
        "       [2.4515781 , 3.35697339, 3.19538532, 3.28921526],\n",
        "       [0.48251466, 0.66375154, 0.83299319, 2.83849291],\n",
        "       [3.3053632 , 3.12399175, 1.77347081, 3.8373809 ],\n",
        "       [2.41224051, 1.14614647, 2.8624051 , 1.69017341],\n",
        "       [2.18027203, 1.22587901, 1.64207914, 0.98013215],\n",
        "       [1.37105534, 2.66104586, 0.76402782, 0.46959375],\n",
        "       [1.21648316, 0.44556869, 3.86997723, 1.20421343],\n",
        "       [1.66808884, 2.6594898 , 2.60300147, 0.58105494],\n",
        "       [2.72520306, 3.55142717, 3.46183941, 0.36874439],\n",
        "       [3.50182737, 2.78524507, 0.10096943, 2.41172879],\n",
        "       [2.04168935, 1.76131151, 1.06762326, 1.4567498 ],\n",
        "       [2.67725513, 1.75285754, 2.0082844 , 2.25828137],\n",
        "       [2.34374621, 3.06038438, 0.26979454, 0.76534288],\n",
        "       [2.49961401, 2.262568  , 3.97213304, 2.70762344],\n",
        "       [2.6987562 , 0.33961665, 0.94584958, 0.86202179],\n",
        "       [3.36936975, 2.33068435, 1.49716873, 1.11209437],\n",
        "       [0.33277995, 3.25937481, 0.85604766, 2.96704169],\n",
        "       [3.05473137, 1.34826553, 0.42178346, 2.23895158],\n",
        "       [0.9746655 , 3.71030632, 0.92991914, 1.33934565],\n",
        "       [0.77689184, 3.002868  , 1.20244054, 2.17195513],\n",
        "       [2.28982783, 2.2962553 , 2.53776907, 2.77593881],\n",
        "       [0.38285007, 3.00657596, 1.12493913, 3.64852849],\n",
        "       [3.54130731, 0.31659584, 1.44910704, 2.32285285],\n",
        "       [2.50899589, 3.4375563 , 0.02377137, 0.93074552],\n",
        "       [2.89366543, 3.28601645, 1.4628765 , 2.98679052],\n",
        "       [0.06451683, 3.63948664, 2.13554393, 3.11107607],\n",
        "       [2.37772752, 0.51452479, 0.64806335, 0.80160526],\n",
        "       [2.22714077, 0.32712035, 2.38973243, 3.28229688],\n",
        "       [0.63583858, 0.55366229, 1.17260987, 1.85973942],\n",
        "       [0.61228206, 1.59751484, 2.52820198, 3.11906665],\n",
        "       [2.78211812, 1.69722744, 0.10478642, 0.94991288],\n",
        "       [1.27506571, 2.24887351, 3.55037384, 1.33032108],\n",
        "       [2.76788118, 0.4889742 , 0.06447452, 3.81478848],\n",
        "       [2.217533  , 0.80559801, 0.50783212, 2.63126029],\n",
        "       [1.5558023 , 3.24657739, 3.10864985, 3.09151132],\n",
        "       [3.70052996, 1.8719503 , 0.18358093, 2.75349737],\n",
        "       [3.36667999, 3.23175284, 2.84399477, 0.81721647],\n",
        "       [1.42959027, 0.02970551, 3.88418456, 1.88275499],\n",
        "       [0.17436586, 2.2063709 , 3.48673173, 3.23585549],\n",
        "       [1.21907229, 3.72772859, 2.84064661, 2.70014051],\n",
        "       [1.59274273, 2.32870184, 3.83403897, 0.02411154],\n",
        "       [2.81983532, 0.82438291, 1.71925335, 0.34963097],\n",
        "       [3.98143393, 2.87103025, 3.49151566, 1.38717888],\n",
        "       [1.42365946, 1.5159434 , 1.42383067, 3.77746216],\n",
        "       [3.05019126, 2.67353579, 3.71905461, 1.96476192],\n",
        "       [2.37270767, 0.11727889, 0.59511062, 1.08070507],\n",
        "       [2.76680719, 2.54360144, 3.76011606, 1.44169488],\n",
        "       [0.60450981, 0.12879174, 3.33086479, 0.84261051],\n",
        "       [1.59550517, 2.97912262, 3.38421935, 1.68480023],\n",
        "       [0.96342359, 1.89165201, 0.49569204, 0.87214176],\n",
        "       [1.37382406, 0.48701742, 2.38594759, 3.38301003]])\n",
        "\n",
        "df = pd.DataFrame(data = a, columns=[\"y1_gpa\", \"y2_gpa\", \"y3_gpa\", \"y4_gpa\"])\n",
        "\n",
        "# Instead of writing codes like these:\n",
        "# Standardize the GPAs for each year\n",
        "df['y1_z'] = (df[\"y1_gpa\"] - df[\"y1_gpa\"].mean()) / df[\"y1_gpa\"].std()\n",
        "df['y2_z'] = (df[\"y2_gpa\"] - df[\"y2_gpa\"].mean()) / df[\"y2_gpa\"].std()\n",
        "df['y3_z'] = (df[\"y3_gpa\"] - df[\"y3_gpa\"].mean()) / df[\"y3_gpa\"].std()\n",
        "df['y4_z'] = (df[\"y4_gpa\"] - df[\"y4_gpa\"].mean()) / df[\"y4_gpa\"].std()\n",
        "\n",
        "# We should wrap these into one function\n",
        "\n",
        "def standardize(column):\n",
        "  \"\"\"Standardize the values in a column.\n",
        "\n",
        "  Args:\n",
        "    column (pandas Series): The data to standardize.\n",
        "\n",
        "  Returns:\n",
        "    pandas Series: the values as z-scores\n",
        "  \"\"\"\n",
        "  # Finish the function so that it returns the z-scores\n",
        "  z_score = (df[column] - df[column].mean()) / df[column].std()\n",
        "  return z_score\n",
        "\n",
        "# Use the standardize() function to calculate the z-scores\n",
        "df['y1_z'] = standardize(\"y1_gpa\")\n",
        "df['y2_z'] = standardize(\"y2_gpa\")\n",
        "df['y3_z'] = standardize(\"y3_gpa\")\n",
        "df['y4_z'] = standardize(\"y4_gpa\")\n",
        "\n",
        "df.head(3)"
      ],
      "execution_count": 6,
      "outputs": [
        {
          "output_type": "execute_result",
          "data": {
            "text/html": [
              "<div>\n",
              "<style scoped>\n",
              "    .dataframe tbody tr th:only-of-type {\n",
              "        vertical-align: middle;\n",
              "    }\n",
              "\n",
              "    .dataframe tbody tr th {\n",
              "        vertical-align: top;\n",
              "    }\n",
              "\n",
              "    .dataframe thead th {\n",
              "        text-align: right;\n",
              "    }\n",
              "</style>\n",
              "<table border=\"1\" class=\"dataframe\">\n",
              "  <thead>\n",
              "    <tr style=\"text-align: right;\">\n",
              "      <th></th>\n",
              "      <th>y1_gpa</th>\n",
              "      <th>y2_gpa</th>\n",
              "      <th>y3_gpa</th>\n",
              "      <th>y4_gpa</th>\n",
              "      <th>y1_z</th>\n",
              "      <th>y2_z</th>\n",
              "      <th>y3_z</th>\n",
              "      <th>y4_z</th>\n",
              "    </tr>\n",
              "  </thead>\n",
              "  <tbody>\n",
              "    <tr>\n",
              "      <th>0</th>\n",
              "      <td>2.785877</td>\n",
              "      <td>2.052513</td>\n",
              "      <td>2.170544</td>\n",
              "      <td>0.065570</td>\n",
              "      <td>0.790863</td>\n",
              "      <td>0.028021</td>\n",
              "      <td>0.172322</td>\n",
              "      <td>-1.711179</td>\n",
              "    </tr>\n",
              "    <tr>\n",
              "      <th>1</th>\n",
              "      <td>1.144557</td>\n",
              "      <td>2.666498</td>\n",
              "      <td>0.267098</td>\n",
              "      <td>2.884737</td>\n",
              "      <td>-0.872971</td>\n",
              "      <td>0.564636</td>\n",
              "      <td>-1.347122</td>\n",
              "      <td>0.824431</td>\n",
              "    </tr>\n",
              "    <tr>\n",
              "      <th>2</th>\n",
              "      <td>0.907406</td>\n",
              "      <td>0.423634</td>\n",
              "      <td>2.613459</td>\n",
              "      <td>0.030950</td>\n",
              "      <td>-1.113376</td>\n",
              "      <td>-1.395595</td>\n",
              "      <td>0.525883</td>\n",
              "      <td>-1.742317</td>\n",
              "    </tr>\n",
              "  </tbody>\n",
              "</table>\n",
              "</div>"
            ],
            "text/plain": [
              "     y1_gpa    y2_gpa    y3_gpa  ...      y2_z      y3_z      y4_z\n",
              "0  2.785877  2.052513  2.170544  ...  0.028021  0.172322 -1.711179\n",
              "1  1.144557  2.666498  0.267098  ...  0.564636 -1.347122  0.824431\n",
              "2  0.907406  0.423634  2.613459  ... -1.395595  0.525883 -1.742317\n",
              "\n",
              "[3 rows x 8 columns]"
            ]
          },
          "metadata": {
            "tags": []
          },
          "execution_count": 6
        }
      ]
    },
    {
      "cell_type": "code",
      "metadata": {
        "id": "M9uPR1k_Senm"
      },
      "source": [
        "### DO ONE THING\n",
        "# Instead of writing functions thata do too many things\n",
        "\n",
        "def mean_and_median(values):\n",
        "    \"\"\"Get the mean and median of a list of `values`\n",
        "\n",
        "    Args:\n",
        "      values (iterable of float): A list of numbers\n",
        "\n",
        "    Returns:\n",
        "      tuple (float, float): The mean and median\n",
        "    \"\"\"\n",
        "    mean = sum(values) / len(values)\n",
        "    midpoint = int(len(values) / 2)\n",
        "    if len(values) % 2 == 0:\n",
        "      median = (values[midpoint - 1] + values[midpoint]) / 2\n",
        "    else:\n",
        "      median = values[midpoint]\n",
        "    return mean, median\n",
        "\n",
        "# Write functions that do one thing\n",
        "def mean(values):\n",
        "    \"\"\"Get the mean of a list of values\n",
        "\n",
        "    Args:\n",
        "      values (iterable of float): A list of numbers\n",
        "\n",
        "    Returns:\n",
        "      float\n",
        "    \"\"\"\n",
        "    # Write the mean() function\n",
        "    mean = sum(values) / len(values)\n",
        "    return mean\n",
        "\n",
        "def median(values):\n",
        "    \"\"\"Get the median of a list of values\n",
        "\n",
        "    Args:\n",
        "      values (iterable of float): A list of numbers\n",
        "\n",
        "    Returns:\n",
        "      float\n",
        "    \"\"\"\n",
        "  # Write the median() function\n",
        "    midpoint = int(len(values) / 2)\n",
        "    if len(values) % 2 == 0:\n",
        "        median = (values[midpoint - 1] + values[midpoint]) / 2\n",
        "    else:\n",
        "        median = values[midpoint]\n",
        "    return median"
      ],
      "execution_count": 12,
      "outputs": []
    },
    {
      "cell_type": "code",
      "metadata": {
        "colab": {
          "base_uri": "https://localhost:8080/"
        },
        "id": "yBIGrs95Rk9R",
        "outputId": "af645d7b-b762-4d71-c751-bbc837548512"
      },
      "source": [
        "def store_lower(_dict, _string):\n",
        "    \"\"\"Add a mapping between `_string` and a lowercased version of `_string` to `_dict`\n",
        "\n",
        "    Args:\n",
        "      _dict (dict): The dictionary to update.\n",
        "      _string (str): The string to add.\n",
        "    \"\"\"\n",
        "    orig_string = _string\n",
        "    _string = _string.lower()\n",
        "    _dict[orig_string] = _string\n",
        "\n",
        "d = {}\n",
        "s = 'Hello'\n",
        "\n",
        "store_lower(d, s)\n",
        "print(f'd = {d}:: Dictionaries are mutable.')\n",
        "print(f's = {s}:: Strings are immutable.')"
      ],
      "execution_count": 18,
      "outputs": [
        {
          "output_type": "stream",
          "text": [
            "d = {'Hello': 'hello'}:: Dictionaries are mutable.\n",
            "s = Hello:: Strings are immutable.\n"
          ],
          "name": "stdout"
        }
      ]
    },
    {
      "cell_type": "code",
      "metadata": {
        "id": "AGFwb2B8fePj"
      },
      "source": [
        "# DON'T use a mutable variable as a default argument value.  For example\n",
        "import pandas as pd\n",
        "\n",
        "def bad_func(values, df=pd.DataFrame()):\n",
        "    return None\n",
        "\n",
        "# Use an immutable variable for the default argument \n",
        "def better_add_column(values, df=None):\n",
        "    \"\"\"Add a column of `values` to a DataFrame `df`.\n",
        "    The column will be named \"col_<n>\" where \"n\" is\n",
        "    the numerical index of the column.\n",
        "\n",
        "    Args:\n",
        "      values (iterable): The values of the new column\n",
        "      df (DataFrame, optional): The DataFrame to update.\n",
        "        If no DataFrame is passed, one is created by default.\n",
        "\n",
        "    Returns:\n",
        "      DataFrame\n",
        "    \"\"\"\n",
        "    # Update the function to create a default DataFrame\n",
        "    if df is None:\n",
        "        df = pandas.DataFrame()\n",
        "    df['col_{}'.format(len(df.columns))] = values\n",
        "    return df\n"
      ],
      "execution_count": 19,
      "outputs": []
    },
    {
      "cell_type": "code",
      "metadata": {
        "colab": {
          "base_uri": "https://localhost:8080/"
        },
        "id": "g2wB2olmEenu",
        "outputId": "dc4fd4f1-b655-479c-b2cf-de1ee155c2c3"
      },
      "source": [
        "### Using Context Manager\n",
        "\n",
        "# Open \"alice.txt\" and assign the file to \"file\"\n",
        "with open('alice.txt') as file:\n",
        "  text = file.read()\n",
        "\n",
        "n = 0\n",
        "for word in text.split():\n",
        "  if word.lower() in ['cat', 'cats']:\n",
        "    n += 1\n",
        "\n",
        "print('Lewis Carroll uses the word \"cat\" {} times'.format(n))"
      ],
      "execution_count": 20,
      "outputs": [
        {
          "output_type": "stream",
          "text": [
            "Lewis Carroll uses the word \"cat\" 24 times\n"
          ],
          "name": "stdout"
        }
      ]
    },
    {
      "cell_type": "code",
      "metadata": {
        "id": "-0wh8NcJIj5N"
      },
      "source": [
        "# Don't run this.  These functions are nowhere to be found\n",
        "\n",
        "image = get_image_from_instagram()\n",
        "\n",
        "# Time how long process_with_numpy(image) takes to run\n",
        "with timer():\n",
        "    print('Numpy version')\n",
        "    process_with_numpy(image)\n",
        "\n",
        "# Time how long process_with_pytorch(image) takes to run\n",
        "with timer():\n",
        "    print('Pytorch version')\n",
        "    process_with_pytorch(image)"
      ],
      "execution_count": null,
      "outputs": []
    },
    {
      "cell_type": "code",
      "metadata": {
        "colab": {
          "base_uri": "https://localhost:8080/"
        },
        "id": "xjdTeZx1J7AB",
        "outputId": "10b31b88-c35c-48f6-fbdf-3061b260593d"
      },
      "source": [
        "# Writing a context manager\n",
        "import contextlib, time\n",
        "\n",
        "# 3 elements of a context manager are \n",
        "  # 1 a function definition \n",
        "  # 2 a yield statement \n",
        "  # 3 the @contextlib.contextmanager decorator.\n",
        "\n",
        "# Add a decorator that will make timer() a context manager\n",
        "@contextlib.contextmanager\n",
        "def timer():\n",
        "    \"\"\"Time the execution of a context block.\n",
        "\n",
        "    Yields:\n",
        "      None\n",
        "    \"\"\"\n",
        "    start = time.time()\n",
        "    # Send control back to the context block\n",
        "    yield None\n",
        "    end = time.time()\n",
        "    print('Elapsed: {:.2f}s'.format(end - start))\n",
        "\n",
        "with timer():\n",
        "    print('This should take approximately 0.25 seconds')\n",
        "    time.sleep(0.25)"
      ],
      "execution_count": 4,
      "outputs": [
        {
          "output_type": "stream",
          "text": [
            "This should take approximately 0.25 seconds\n",
            "Elapsed: 0.25s\n"
          ],
          "name": "stdout"
        }
      ]
    },
    {
      "cell_type": "code",
      "metadata": {
        "colab": {
          "base_uri": "https://localhost:8080/"
        },
        "id": "-QkisWNANhkd",
        "outputId": "d88727da-c500-4976-aa4c-417b2e9fa13d"
      },
      "source": [
        "# Writing a context manager\n",
        "import contextlib, time\n",
        "\n",
        "# 3 elements of a context manager are \n",
        "  # 1 a function definition \n",
        "  # 2 a yield statement \n",
        "  # 3 the @contextlib.contextmanager decorator.\n",
        "\n",
        "@contextlib.contextmanager\n",
        "def open_read_only(filename):\n",
        "    \"\"\"Open a file in read-only mode.\n",
        "\n",
        "    Args:\n",
        "      filename (str): The location of the file to read\n",
        "\n",
        "    Yields:\n",
        "      file object\n",
        "    \"\"\"\n",
        "    read_only_file = open(filename, mode='r')\n",
        "    # Yield read_only_file so it can be assigned to my_file\n",
        "    yield read_only_file\n",
        "    # Close read_only_file\n",
        "    read_only_file.close()\n",
        "\n",
        "with open_read_only('my_file.txt') as my_file:\n",
        "    print(my_file.read())"
      ],
      "execution_count": 5,
      "outputs": [
        {
          "output_type": "stream",
          "text": [
            "Congratulations! You wrote a context manager that acts like \"open()\" but operates in read-only mode!\n"
          ],
          "name": "stdout"
        }
      ]
    },
    {
      "cell_type": "code",
      "metadata": {
        "id": "OnrfpecxefJz"
      },
      "source": [
        "# Nested Context Manager\n",
        "# Don't run this.  It's just an example.\n",
        "\n",
        "# Use the \"stock('NVDA')\" context manager\n",
        "# and assign the result to the variable \"nvda\"\n",
        "with stock(\"NVDA\") as nvda:\n",
        "    # Open \"NVDA.txt\" for writing as f_out\n",
        "    with open(\"NVDA.txt\", \"w\") as f_out:\n",
        "        for _ in range(10):\n",
        "            value = nvda.price()\n",
        "            print('Logging ${:.2f} for NVDA'.format(value))\n",
        "            f_out.write('{:.2f}\\n'.format(value))"
      ],
      "execution_count": null,
      "outputs": []
    },
    {
      "cell_type": "code",
      "metadata": {
        "id": "bJ34DqqNe3VS"
      },
      "source": [
        "import contextlib\n",
        "\n",
        "@contextlib.contextmanager\n",
        "def in_dir(directory):\n",
        "  \"\"\"Change current working directory to `directory`,\n",
        "  allow the user to run some code, and change back.\n",
        "\n",
        "  Args:\n",
        "    directory (str): The path to a directory to work in.\n",
        "  \"\"\"\n",
        "  current_dir = os.getcwd()\n",
        "  os.chdir(directory)\n",
        "\n",
        "  # Add code that lets you handle errors\n",
        "  try:\n",
        "    yield\n",
        "  # Ensure the directory is reset,\n",
        "  # whether there was an error or not\n",
        "  finally:\n",
        "    os.chdir(current_dir)"
      ],
      "execution_count": null,
      "outputs": []
    },
    {
      "cell_type": "code",
      "metadata": {
        "colab": {
          "base_uri": "https://localhost:8080/"
        },
        "id": "OezfvHj6fqDY",
        "outputId": "269c78de-da9e-4232-c550-2eb95a386d4e"
      },
      "source": [
        "### Decorators: \n",
        "\n",
        "import numpy as np\n",
        "import pandas as pd \n",
        "from random import choice\n",
        "\n",
        "# เตรียมข้อมูลให้เหมือนโจทย์\n",
        "d = np.array([[ 72.1, 198. ], [ 69.8, 204. ], [ 63.2, 164. ], [ 64.7, 238. ]])\n",
        "data = pd.DataFrame(data=d, columns=[\"height\", \"weight\"])\n",
        "mean = lambda df: df.mean()\n",
        "std = lambda df: df.std()\n",
        "minimum = lambda df: df.min()\n",
        "maximum = lambda df: df.max()\n",
        "def get_user_input():\n",
        "    return choice([\"mean\", \"std\", \"minimum\", \"maximum\"])\n",
        "  \n",
        "# Add the missing function references to the function map\n",
        "function_map = {'mean': mean, 'std': std, 'minimum': minimum,'maximum': maximum}\n",
        "print(data, \"\\n\")\n",
        "\n",
        "func_name = get_user_input()\n",
        "\n",
        "# Call the chosen function and pass \"data\" as an argument\n",
        "function_map[func_name](data)"
      ],
      "execution_count": 20,
      "outputs": [
        {
          "output_type": "stream",
          "text": [
            "   height  weight\n",
            "0    72.1   198.0\n",
            "1    69.8   204.0\n",
            "2    63.2   164.0\n",
            "3    64.7   238.0 \n",
            "\n"
          ],
          "name": "stdout"
        },
        {
          "output_type": "execute_result",
          "data": {
            "text/plain": [
              "height     4.194043\n",
              "weight    30.309514\n",
              "dtype: float64"
            ]
          },
          "metadata": {
            "tags": []
          },
          "execution_count": 20
        }
      ]
    },
    {
      "cell_type": "code",
      "metadata": {
        "colab": {
          "base_uri": "https://localhost:8080/"
        },
        "id": "eh9m1H-tlxdp",
        "outputId": "e91da4fb-0596-48f5-b241-5f9763b9388c"
      },
      "source": [
        "def load_and_plot_data():\n",
        "    \"\"\"Some shitty docstring\"\"\"\n",
        "    return None\n",
        "\n",
        "def as_2D():\n",
        "    \"\"\"Some shitty docstring\"\"\"\n",
        "    return None\n",
        "\n",
        "log_product = lambda x: x**2\n",
        "\n",
        "def has_docstring(func):\n",
        "    \"\"\"Check to see if the function \n",
        "    `func` has a docstring.\n",
        "\n",
        "    Args:\n",
        "      func (callable): A function.\n",
        "\n",
        "    Returns:\n",
        "      bool\n",
        "    \"\"\"\n",
        "    return func.__doc__ is not None\n",
        "\n",
        "# Call has_docstring() on the load_and_plot_data() function\n",
        "ok = has_docstring(load_and_plot_data)\n",
        "\n",
        "if not ok:\n",
        "    print(\"load_and_plot_data() doesn't have a docstring!\")\n",
        "else:\n",
        "    print(\"load_and_plot_data() looks ok\")\n",
        "\n",
        "# Call has_docstring() on the as_2D() function\n",
        "ok = has_docstring(as_2D)\n",
        "\n",
        "if not ok:\n",
        "    print(\"as_2D() doesn't have a docstring!\")\n",
        "else:\n",
        "    print(\"as_2D() looks ok\") \n",
        "\n",
        "# Call has_docstring() on the log_product() function\n",
        "ok = has_docstring(log_product)\n",
        "\n",
        "if not ok:\n",
        "    print(\"log_product() doesn't have a docstring!\")\n",
        "else:\n",
        "    print(\"log_product() looks ok\")"
      ],
      "execution_count": 22,
      "outputs": [
        {
          "output_type": "stream",
          "text": [
            "load_and_plot_data() looks ok\n",
            "as_2D() looks ok\n",
            "log_product() doesn't have a docstring!\n"
          ],
          "name": "stdout"
        }
      ]
    },
    {
      "cell_type": "code",
      "metadata": {
        "colab": {
          "base_uri": "https://localhost:8080/"
        },
        "id": "1BbBzx2tmkjN",
        "outputId": "563f8e0d-93af-4ef7-ebe1-b348e54b186f"
      },
      "source": [
        "def create_math_function(func_name):\n",
        "    if func_name == 'add':\n",
        "        def add(a, b):\n",
        "            return a + b\n",
        "        return add\n",
        "    elif func_name == 'subtract':\n",
        "        # Define the subtract() function\n",
        "        def subtract(a, b):\n",
        "            return a-b\n",
        "        return subtract\n",
        "    else:\n",
        "        print(\"I don't know that one\")\n",
        "    \n",
        "add = create_math_function('add')\n",
        "print('5 + 2 = {}'.format(add(5, 2)))\n",
        "\n",
        "subtract = create_math_function('subtract')\n",
        "print('5 - 2 = {}'.format(subtract(5, 2)))"
      ],
      "execution_count": 24,
      "outputs": [
        {
          "output_type": "stream",
          "text": [
            "5 + 2 = 7\n",
            "5 - 2 = 3\n"
          ],
          "name": "stdout"
        }
      ]
    },
    {
      "cell_type": "code",
      "metadata": {
        "colab": {
          "base_uri": "https://localhost:8080/"
        },
        "id": "WNroGpDioz0z",
        "outputId": "36024599-7f38-4f2b-89f0-37c7c8f4b281"
      },
      "source": [
        "## SCOPE Example 1\n",
        "\n",
        "call_count = 0\n",
        "\n",
        "def my_function():\n",
        "    # Use a keyword that lets us update call_count \n",
        "    global call_count\n",
        "    call_count += 1\n",
        "    \n",
        "    print(\"You've called my_function() {} times!\".format(call_count))\n",
        "  \n",
        "for _ in range(20):\n",
        "    my_function()"
      ],
      "execution_count": 25,
      "outputs": [
        {
          "output_type": "stream",
          "text": [
            "You've called my_function() 1 times!\n",
            "You've called my_function() 2 times!\n",
            "You've called my_function() 3 times!\n",
            "You've called my_function() 4 times!\n",
            "You've called my_function() 5 times!\n",
            "You've called my_function() 6 times!\n",
            "You've called my_function() 7 times!\n",
            "You've called my_function() 8 times!\n",
            "You've called my_function() 9 times!\n",
            "You've called my_function() 10 times!\n",
            "You've called my_function() 11 times!\n",
            "You've called my_function() 12 times!\n",
            "You've called my_function() 13 times!\n",
            "You've called my_function() 14 times!\n",
            "You've called my_function() 15 times!\n",
            "You've called my_function() 16 times!\n",
            "You've called my_function() 17 times!\n",
            "You've called my_function() 18 times!\n",
            "You've called my_function() 19 times!\n",
            "You've called my_function() 20 times!\n"
          ],
          "name": "stdout"
        }
      ]
    },
    {
      "cell_type": "code",
      "metadata": {
        "colab": {
          "base_uri": "https://localhost:8080/"
        },
        "id": "MxiqM6jM4YKo",
        "outputId": "215ade7c-5aa4-439a-c509-fdc4c42ebce8"
      },
      "source": [
        "# SCOPE Example 2\n",
        "\n",
        "def read_files():\n",
        "    file_contents = None\n",
        "  \n",
        "    def save_contents(filename):\n",
        "        # Add a keyword that lets us modify file_contents\n",
        "        nonlocal file_contents\n",
        "        if file_contents is None:\n",
        "            file_contents = []\n",
        "        with open(filename) as fin:\n",
        "            file_contents.append(fin.read())\n",
        "      \n",
        "    for filename in ['1984.txt', 'MobyDick.txt', 'CatsEye.txt']:\n",
        "        save_contents(filename)\n",
        "    \n",
        "    return file_contents\n",
        "\n",
        "print('\\n'.join(read_files()))"
      ],
      "execution_count": 28,
      "outputs": [
        {
          "output_type": "stream",
          "text": [
            "It was a bright day in April, and the clocks were striking thirteen.\n",
            "Call me Ishmael.\n",
            "Time is not a line but a dimension, like the dimensions of space.\n"
          ],
          "name": "stdout"
        }
      ]
    },
    {
      "cell_type": "code",
      "metadata": {
        "colab": {
          "base_uri": "https://localhost:8080/"
        },
        "id": "-CqJ6FCO5eSn",
        "outputId": "9ccbfbc7-e911-4765-9e23-181a6bb79b5a"
      },
      "source": [
        "# SCOPE Example 3\n",
        "import random\n",
        "count = 0\n",
        "\n",
        "def wait_until_done():\n",
        "    def check_is_done():\n",
        "        \"\"\"Without 'global' keyword, wait_until_done() would loop forever \n",
        "           because the done = True in check_is_done() would only be changing \n",
        "           a variable that is local to check_is_done().\"\"\"\n",
        "        # Add a keyword so that wait_until_done() doesn't run forever\n",
        "        global done\n",
        "        if random.random() < 0.1:\n",
        "            done = True\n",
        "      \n",
        "    while not done:\n",
        "        check_is_done()\n",
        "        global count\n",
        "        count += 1\n",
        "        print(f'count = {count}')\n",
        "\n",
        "done = False\n",
        "wait_until_done()\n",
        "\n",
        "print('Work done? {}'.format(done))"
      ],
      "execution_count": 37,
      "outputs": [
        {
          "output_type": "stream",
          "text": [
            "count = 1\n",
            "count = 2\n",
            "count = 3\n",
            "count = 4\n",
            "count = 5\n",
            "count = 6\n",
            "count = 7\n",
            "count = 8\n",
            "count = 9\n",
            "count = 10\n",
            "count = 11\n",
            "count = 12\n",
            "count = 13\n",
            "count = 14\n",
            "count = 15\n",
            "count = 16\n",
            "count = 17\n",
            "count = 18\n",
            "count = 19\n",
            "Work done? True\n"
          ],
          "name": "stdout"
        }
      ]
    },
    {
      "cell_type": "code",
      "metadata": {
        "colab": {
          "base_uri": "https://localhost:8080/"
        },
        "id": "nSUlpAvd7Sg3",
        "outputId": "b37573c1-4e85-4bfa-9a50-8648291277c4"
      },
      "source": [
        "### CLOSURE\n",
        "\n",
        "def return_a_func(arg1, arg2, arg3):\n",
        "    def new_func():\n",
        "        print('arg1 was {}'.format(arg1))\n",
        "        print('arg2 was {}'.format(arg2))\n",
        "    return new_func\n",
        "\n",
        "# if return_a_func() took a third argument (e.g., arg3) \n",
        "# that wasn't used by new_func(), \n",
        "# then it would NOT be captured in new_func()'s closure.\n",
        "\n",
        "my_func = return_a_func(2, 17, 999)\n",
        "\n",
        "print(my_func.__closure__ is not None)\n",
        "print(len(my_func.__closure__) == 2)\n",
        "\n",
        "# Get the values of the variables in the closure\n",
        "closure_values = [my_func.__closure__[i].cell_contents for i in range(2)]\n",
        "print(closure_values == [2, 17])"
      ],
      "execution_count": 4,
      "outputs": [
        {
          "output_type": "stream",
          "text": [
            "True\n",
            "True\n",
            "True\n"
          ],
          "name": "stdout"
        }
      ]
    },
    {
      "cell_type": "code",
      "metadata": {
        "colab": {
          "base_uri": "https://localhost:8080/"
        },
        "id": "cnTktTZ-fktD",
        "outputId": "7b66c733-7590-47a2-8edb-506638cc0ba2"
      },
      "source": [
        "# You still get the original message \n",
        "# even if you redefine my_special_function() to only print \"hello\".\n",
        "\n",
        "def my_special_function():\n",
        "    print('You are running my_special_function()')\n",
        "  \n",
        "def get_new_func(func):\n",
        "    def call_func():\n",
        "        func()\n",
        "    return call_func\n",
        "\n",
        "new_func = get_new_func(my_special_function)\n",
        "\n",
        "# Redefine my_special_function() to just print \"hello\"\n",
        "def my_special_function():\n",
        "    print(\"Hello\")\n",
        "\n",
        "new_func()\n",
        "\n",
        "# Even if you delete my_special_function(), \n",
        "# you can still call new_func() without any problems.\n",
        "\n",
        "del my_special_function\n",
        "\n",
        "new_func()\n",
        "\n",
        "# You still get the original message even if you overwrite my_special_function()\n",
        "\n",
        "my_special_function = lambda x: x**2\n",
        "new_func()"
      ],
      "execution_count": 7,
      "outputs": [
        {
          "output_type": "stream",
          "text": [
            "You are running my_special_function()\n",
            "You are running my_special_function()\n",
            "You are running my_special_function()\n"
          ],
          "name": "stdout"
        }
      ]
    },
    {
      "cell_type": "code",
      "metadata": {
        "colab": {
          "base_uri": "https://localhost:8080/"
        },
        "id": "hFu2LVWihegs",
        "outputId": "095c9637-a052-4923-d28f-cb2d936e8ec1"
      },
      "source": [
        "### DECORTORS ### สำคัญมาก และลืมบ่อย !!!\n",
        "def print_args(func):\n",
        "    def wrapper(a, b, c):\n",
        "        print(f'{func.__name__} was called with a={a}, b={b}, c={c}')\n",
        "    return wrapper\n",
        "\n",
        "def my_function(a, b, c):\n",
        "    print(a + b + c)\n",
        "\n",
        "# Decorate my_function() with the print_args() decorator\n",
        "my_function = print_args(my_function)\n",
        "\n",
        "my_function(1, 2, 3)\n",
        "\n",
        "# Decorate my_function() with the print_args() decorator\n",
        "# When you use decorator syntax with the @ symbol, \n",
        "# you do not include () after the decorator name.\n",
        "\n",
        "@print_args\n",
        "def my_function(a, b, c):\n",
        "    print(a + b + c)\n",
        "\n",
        "my_function(4, 5, 6)"
      ],
      "execution_count": 18,
      "outputs": [
        {
          "output_type": "stream",
          "text": [
            "my_function was called with a=1, b=2, c=3\n",
            "my_function was called with a=4, b=5, c=6\n"
          ],
          "name": "stdout"
        }
      ]
    },
    {
      "cell_type": "code",
      "metadata": {
        "colab": {
          "base_uri": "https://localhost:8080/"
        },
        "id": "XIamKnf9nWGX",
        "outputId": "268b8a47-b1e3-4f1a-fce4-0a7d5c7748ab"
      },
      "source": [
        "def print_before_and_after(func):\n",
        "    def wrapper(*args):\n",
        "        print('Before {}'.format(func.__name__))\n",
        "        # Call the function being decorated with *args\n",
        "        func(*args)\n",
        "        print('After {}'.format(func.__name__))\n",
        "    # Return the nested function\n",
        "    return wrapper\n",
        "\n",
        "@print_before_and_after\n",
        "def multiply(a, b):\n",
        "  print(a * b)\n",
        "\n",
        "multiply(5, 10)"
      ],
      "execution_count": 15,
      "outputs": [
        {
          "output_type": "stream",
          "text": [
            "Before multiply\n",
            "50\n",
            "After multiply\n"
          ],
          "name": "stdout"
        }
      ]
    },
    {
      "cell_type": "code",
      "metadata": {
        "colab": {
          "base_uri": "https://localhost:8080/"
        },
        "id": "uhEPhldYouNx",
        "outputId": "39745790-1523-4167-c7b4-b639a59f682d"
      },
      "source": [
        "# พิมพ์ชนิดของค่าที่เป็นผลลัพธ์ของฟังก์ชัน\n",
        "\n",
        "def print_return_type(func):\n",
        "    # Define wrapper(), the decorated function\n",
        "    def wrapper(*args, **kwargs):\n",
        "        # Call the function being decorated\n",
        "        result = func(*args, **kwargs)\n",
        "        print('{}() returned type {}'.format(func.__name__, type(result)))\n",
        "        return result\n",
        "    # Return the decorated function\n",
        "    return wrapper\n",
        "  \n",
        "@print_return_type\n",
        "def foo(value):\n",
        "    return value\n",
        "  \n",
        "print(foo(42))\n",
        "print(foo([1, 2, 3]))\n",
        "print(foo({'a': 42}))"
      ],
      "execution_count": 16,
      "outputs": [
        {
          "output_type": "stream",
          "text": [
            "foo() returned type <class 'int'>\n",
            "42\n",
            "foo() returned type <class 'list'>\n",
            "[1, 2, 3]\n",
            "foo() returned type <class 'dict'>\n",
            "{'a': 42}\n"
          ],
          "name": "stdout"
        }
      ]
    },
    {
      "cell_type": "code",
      "metadata": {
        "colab": {
          "base_uri": "https://localhost:8080/"
        },
        "id": "z1vvH1uKsAP2",
        "outputId": "bd95d8d3-82e5-4d57-e6cb-a156dc05cde6"
      },
      "source": [
        "# พิมพ์จำนวนครั้งที่ัฟังก์ชันนั้นๆถูกใช้งาน\n",
        "\n",
        "### wrapper is a function object.\n",
        "### Even before calling a decorated foo functon, the system initialize wrapper.count = 0 when the code line @counter is reached.\n",
        "### Note that a function object doesn't have count attribute,\n",
        "### but we can add the attribute anytime as we saw in OOP section.\n",
        "\n",
        "def counter(func):\n",
        "    def wrapper(*args, **kwargs):\n",
        "        wrapper.count += 1\n",
        "        # Call the function being decorated and return the result\n",
        "        return func(*args, **kwargs)\n",
        "    wrapper.count = 0\n",
        "    # Return the new decorated function\n",
        "    return wrapper\n",
        "\n",
        "# Decorate foo() with the counter() decorator\n",
        "@counter\n",
        "def foo():\n",
        "    print('calling foo()')\n",
        "  \n",
        "foo()\n",
        "foo()\n",
        "\n",
        "print('foo() was called {} times.'.format(foo.count))"
      ],
      "execution_count": 20,
      "outputs": [
        {
          "output_type": "stream",
          "text": [
            "calling foo()\n",
            "calling foo()\n",
            "foo() was called 2 times.\n"
          ],
          "name": "stdout"
        }
      ]
    },
    {
      "cell_type": "code",
      "metadata": {
        "colab": {
          "base_uri": "https://localhost:8080/"
        },
        "id": "U_Xh-Dwlt5LO",
        "outputId": "7f843f5c-d327-4d58-c621-22a4fc144dce"
      },
      "source": [
        "### Decorators and missing metadata\n",
        "def add_hello(func):\n",
        "    # Add a docstring to wrapper\n",
        "    def wrapper(*args, **kwargs):\n",
        "        \"\"\"นี่เป็น docstring ของ decorator ไม่ใช่ตัวต้นฉบับ\"\"\"\n",
        "        print('Hello')\n",
        "        return func(*args, **kwargs)\n",
        "    return wrapper\n",
        "\n",
        "@add_hello\n",
        "def print_sum(a, b):\n",
        "    \"\"\"Adds two numbers and prints the sum\"\"\"\n",
        "    print(a + b)\n",
        "  \n",
        "print_sum(10, 20)\n",
        "print(print_sum.__doc__)"
      ],
      "execution_count": 23,
      "outputs": [
        {
          "output_type": "stream",
          "text": [
            "Hello\n",
            "30\n",
            "นี่เป็น docstring ของ decorator ไม่ใช่ตัวต้นฉบับ\n"
          ],
          "name": "stdout"
        }
      ]
    },
    {
      "cell_type": "code",
      "metadata": {
        "colab": {
          "base_uri": "https://localhost:8080/"
        },
        "id": "IMCsIvxV4_Hh",
        "outputId": "6df0fea9-3be3-44bf-9dcb-ea80ae0ba364"
      },
      "source": [
        "from functools import wraps\n",
        "\n",
        "def add_hello(func):\n",
        "    # Decorate wrapper() so that it keeps func()'s metadata\n",
        "    @wraps(func)\n",
        "    def wrapper(*args, **kwargs):\n",
        "        \"\"\"นี่เป็น docstring ของ decorator ไม่ใช่ตัวต้นฉบับ\"\"\"\n",
        "        print('Hello')\n",
        "        return func(*args, **kwargs)\n",
        "    return wrapper\n",
        "  \n",
        "@add_hello\n",
        "def print_sum(a, b):\n",
        "    \"\"\"Adds two numbers and prints the sum\"\"\"\n",
        "    print(a + b)\n",
        "  \n",
        "print_sum(10, 20)\n",
        "print(print_sum.__doc__)"
      ],
      "execution_count": 24,
      "outputs": [
        {
          "output_type": "stream",
          "text": [
            "Hello\n",
            "30\n",
            "Adds two numbers and prints the sum\n"
          ],
          "name": "stdout"
        }
      ]
    },
    {
      "cell_type": "code",
      "metadata": {
        "colab": {
          "base_uri": "https://localhost:8080/"
        },
        "id": "Tky44ocR5eIb",
        "outputId": "f0e2af88-c81a-4df5-87eb-40c9bd2e3b45"
      },
      "source": [
        "from functools import wraps\n",
        "import time\n",
        "\n",
        "# แค่เลียนแบบสิ่งที่น่าจะเกิดขึ้นในฟังก์ชันเหล่านี้ให้คล้ายกับสิ่งที่เกิดขึ้นในโจทย์\n",
        "\n",
        "def check_inputs(*args, **kwargs):\n",
        "    time.sleep(2)\n",
        "    return None\n",
        "\n",
        "def check_outputs(*args, **kwargs):\n",
        "    time.sleep(2)\n",
        "    return None\n",
        "\n",
        "def check_everything(func):\n",
        "    @wraps(func)\n",
        "    def wrapper(*args, **kwargs):\n",
        "        check_inputs(*args, **kwargs)\n",
        "        result = func(*args, **kwargs)\n",
        "        check_outputs(result)\n",
        "        return result\n",
        "    return wrapper\n",
        "\n",
        "\n",
        "@check_everything\n",
        "def duplicate(my_list):\n",
        "  \"\"\"Return a new list that repeats the input twice\"\"\"\n",
        "  return my_list + my_list\n",
        "\n",
        "t_start = time.time()\n",
        "duplicated_list = duplicate(list(range(50)))\n",
        "t_end = time.time()\n",
        "decorated_time = t_end - t_start\n",
        "\n",
        "t_start = time.time()\n",
        "# Call the original function instead of the decorated one\n",
        "duplicated_list = duplicate.__wrapped__(list(range(50)))\n",
        "t_end = time.time()\n",
        "undecorated_time = t_end - t_start\n",
        "\n",
        "print('Decorated time: {:.5f}s'.format(decorated_time))\n",
        "print('Undecorated time: {:.5f}s'.format(undecorated_time)) "
      ],
      "execution_count": 28,
      "outputs": [
        {
          "output_type": "stream",
          "text": [
            "Decorated time: 4.00441s\n",
            "Undecorated time: 0.00006s\n"
          ],
          "name": "stdout"
        }
      ]
    },
    {
      "cell_type": "code",
      "metadata": {
        "colab": {
          "base_uri": "https://localhost:8080/"
        },
        "id": "wAlcSPBw6qW5",
        "outputId": "9a95bc4b-6e41-4db3-8dbc-0d42a096fb99"
      },
      "source": [
        "### Deccorators that take arguments\n",
        "\n",
        "def run_n_times(n):\n",
        "    \"\"\"Define and return a decorator\"\"\"\n",
        "    def decorator(func):\n",
        "        def wrapper(*args, **kwargs):\n",
        "            for i in range(n):\n",
        "              func(*args, **kwargs)\n",
        "        return wrapper\n",
        "    return decorator\n",
        "\n",
        "# Make print_sum() run 3 times with the run_n_times() decorator\n",
        "@run_n_times(3)\n",
        "def print_sum(a, b):\n",
        "  print(a + b)\n",
        "  \n",
        "print_sum(15, 20)\n",
        "\n",
        "# Modify the printn() function to always run 3 times\n",
        "# ขี้เกียจแก้ เลยเปลี่ยนเป็น printn\n",
        "printn = run_n_times(3)(print)\n",
        "\n",
        "printn('What is happening?!?!')"
      ],
      "execution_count": 29,
      "outputs": [
        {
          "output_type": "stream",
          "text": [
            "35\n",
            "35\n",
            "35\n",
            "What is happening?!?!\n",
            "What is happening?!?!\n",
            "What is happening?!?!\n"
          ],
          "name": "stdout"
        }
      ]
    },
    {
      "cell_type": "code",
      "metadata": {
        "colab": {
          "base_uri": "https://localhost:8080/"
        },
        "id": "U3N-Q3j4_P2p",
        "outputId": "2c13c74d-5aac-4b6f-f0df-25901960ded1"
      },
      "source": [
        "# แทนที่จะเขียน decorators ซ้ำๆกันแบบนี้\n",
        "from functools import wraps\n",
        "\n",
        "def bold(func):\n",
        "    @wraps(func)\n",
        "    def wrapper(*args, **kwargs):\n",
        "        msg = func(*args, **kwargs)\n",
        "        return '<b>{}</b>'.format(msg)\n",
        "    return wrapper\n",
        "def italics(func):\n",
        "    @wraps(func)\n",
        "    def wrapper(*args, **kwargs):\n",
        "        msg = func(*args, **kwargs)\n",
        "        return '<i>{}</i>'.format(msg)\n",
        "    return wrapper\n",
        "\n",
        "# เขียนเป็น decorators ที่มีตัวแปรแบบนี้ดีกว่า\n",
        "\n",
        "def html(open_tag, close_tag):\n",
        "    def decorator(func):\n",
        "        @wraps(func)\n",
        "        def wrapper(*args, **kwargs):\n",
        "            msg = func(*args, **kwargs)\n",
        "            return '{}{}{}'.format(open_tag, msg, close_tag)\n",
        "        # Return the decorated function\n",
        "        return wrapper\n",
        "    # Return the decorator\n",
        "    return decorator\n",
        "\n",
        "# Make hello() return bolded text\n",
        "@html(\"<b>\", \"</b>\")\n",
        "def hello(name):\n",
        "  return 'Hello {}!'.format(name)\n",
        "  \n",
        "print(hello('Alice'))\n",
        "\n",
        "# Make goodbye() return italicized text\n",
        "@html(\"<i>\", \"</i>\")\n",
        "def goodbye(name):\n",
        "  return 'Goodbye {}.'.format(name)\n",
        "  \n",
        "print(goodbye('Alice'))\n",
        "\n",
        "# Wrap the result of hello_goodbye() in <div> and </div>\n",
        "@html(\"<div>\", \"</div>\")\n",
        "def hello_goodbye(name):\n",
        "  return '\\n{}\\n{}\\n'.format(hello(name), goodbye(name))\n",
        "  \n",
        "print(hello_goodbye('Alice'))"
      ],
      "execution_count": 32,
      "outputs": [
        {
          "output_type": "stream",
          "text": [
            "<b>Hello Alice!</b>\n",
            "<i>Goodbye Alice.</i>\n",
            "<div>\n",
            "<b>Hello Alice!</b>\n",
            "<i>Goodbye Alice.</i>\n",
            "</div>\n"
          ],
          "name": "stdout"
        }
      ]
    },
    {
      "cell_type": "code",
      "metadata": {
        "colab": {
          "base_uri": "https://localhost:8080/"
        },
        "id": "knIdP3ioA-6d",
        "outputId": "c4489736-c344-41f1-d7c5-b81c9c9822cc"
      },
      "source": [
        "from functools import wraps\n",
        "\n",
        "def tag(*tags):\n",
        "    # Define a new decorator, named \"decorator\", to return\n",
        "    def decorator(func):\n",
        "        # Ensure the decorated function keeps its metadata\n",
        "        @wraps(func)\n",
        "        def wrapper(*args, **kwargs):\n",
        "            # Call the function being decorated and return the result\n",
        "            return func(*args, **kwargs)\n",
        "        wrapper.tags = tags\n",
        "        return wrapper\n",
        "    # Return the new decorator\n",
        "    return decorator\n",
        "\n",
        "@tag('test', 'this is a tag')\n",
        "def foo():\n",
        "    pass\n",
        "\n",
        "print(foo.tags)"
      ],
      "execution_count": 34,
      "outputs": [
        {
          "output_type": "stream",
          "text": [
            "('test', 'this is a tag')\n"
          ],
          "name": "stdout"
        }
      ]
    },
    {
      "cell_type": "code",
      "metadata": {
        "colab": {
          "base_uri": "https://localhost:8080/"
        },
        "id": "Jpwuh5AYECt3",
        "outputId": "1d5dbc16-c184-4b4c-967f-a27f22ced283"
      },
      "source": [
        "def returns_dict(func):\n",
        "    # Complete the returns_dict() decorator\n",
        "    def wrapper(*args, **kwargs):\n",
        "        result = func(*args, **kwargs)\n",
        "        assert(type(result) == dict)\n",
        "        return result\n",
        "    return wrapper  \n",
        "  \n",
        "@returns_dict\n",
        "def foo(value):\n",
        "    return value\n",
        "\n",
        "try:\n",
        "    print(foo([1,2,3]))\n",
        "except AssertionError:\n",
        "    print('foo() did not return a dict!')\n",
        "\n",
        "# เราเขียนเป็น Decorators ที่ระบุตัวแปรได้แบบนี้\n",
        "\n",
        "def returns(return_type):\n",
        "    # Complete the returns() decorator\n",
        "    def decorator(func):\n",
        "        def wrapper(*args, **kwargs):\n",
        "            result = func(*args, **kwargs)\n",
        "            assert(type(result) == return_type)\n",
        "            return result\n",
        "        return wrapper\n",
        "    return decorator\n",
        "  \n",
        "@returns(dict)\n",
        "def foo(value):\n",
        "    return value\n",
        "\n",
        "try:\n",
        "    print(foo([1,2,3]))\n",
        "except AssertionError:\n",
        "    print('foo() did not return a dict!')"
      ],
      "execution_count": 37,
      "outputs": [
        {
          "output_type": "stream",
          "text": [
            "foo() did not return a dict!\n",
            "foo() did not return a dict!\n"
          ],
          "name": "stdout"
        }
      ]
    }
  ]
}