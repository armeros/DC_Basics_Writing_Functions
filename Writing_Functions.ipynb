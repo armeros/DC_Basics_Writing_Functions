{
  "nbformat": 4,
  "nbformat_minor": 0,
  "metadata": {
    "colab": {
      "provenance": []
    },
    "kernelspec": {
      "name": "python3",
      "display_name": "Python 3"
    },
    "language_info": {
      "name": "python"
    }
  },
  "cells": [
    {
      "cell_type": "markdown",
      "source": [
        "# **Docstring**"
      ],
      "metadata": {
        "id": "Z7Go5pjm1qOQ"
      }
    },
    {
      "cell_type": "markdown",
      "source": [
        "### **Crafting a docstring**\n",
        "\n",
        "The first function you write is `count_letter()`. It takes a string and a single letter and returns the number of times the letter appears in the string. You want the users of your open-source package to be able to understand how this function works easily, so you will need to give it a ***docstring***. Build up a ***Google Style docstring*** for this function by following these steps.\n",
        "\n",
        "* Copy the following string and add it as the docstring for the function:\n",
        "  \n",
        "  ```\n",
        "  Count the number of times `letter` appears in `content`.\n",
        "  ```"
      ],
      "metadata": {
        "id": "rAfTM6KxkyWD"
      }
    },
    {
      "cell_type": "code",
      "source": [
        "# Add a docstring to count_letter()\n",
        "def count_letter(content, letter):\n",
        "    \"\"\"Count the number of times `letter` appears in `content`.\"\"\"\n",
        "    if (not isinstance(letter, str)) or len(letter) != 1:\n",
        "      raise ValueError('`letter` must be a single character string.')\n",
        "    return len([char for char in content if char == letter])"
      ],
      "metadata": {
        "id": "VgyMcec7lbXw"
      },
      "execution_count": null,
      "outputs": []
    },
    {
      "cell_type": "markdown",
      "source": [
        "* Now add the arguments section, using the Google style for docstrings. Use `str` to indicate a string."
      ],
      "metadata": {
        "id": "kjq2_XyplnFP"
      }
    },
    {
      "cell_type": "code",
      "source": [
        "def count_letter(content, letter):\n",
        "    \"\"\"Count the number of times `letter` appears in `content`.\n",
        "\n",
        "    # Add a Google style arguments section\n",
        "    Args:\n",
        "        content (str): The string to search.\n",
        "        letter (str): The letter to search for.\n",
        "    \"\"\"\n",
        "    if (not isinstance(letter, str)) or len(letter) != 1:\n",
        "        raise ValueError('`letter` must be a single character string.')\n",
        "    return len([char for char in content if char == letter])"
      ],
      "metadata": {
        "id": "XqL-dr0wn_5K"
      },
      "execution_count": null,
      "outputs": []
    },
    {
      "cell_type": "markdown",
      "source": [
        "* Add a returns section that informs the user the return value is an `int`."
      ],
      "metadata": {
        "id": "Rqer2OqVoHia"
      }
    },
    {
      "cell_type": "code",
      "source": [
        "def count_letter(content, letter):\n",
        "    \"\"\"Count the number of times `letter` appears in `content`.\n",
        "\n",
        "    Args:\n",
        "        content (str): The string to search.\n",
        "        letter (str): The letter to search for.\n",
        "\n",
        "    # Add a returns section\n",
        "    Returns:\n",
        "        int\n",
        "    \"\"\"\n",
        "    if (not isinstance(letter, str)) or len(letter) != 1:\n",
        "        raise ValueError('\"letter\" must be a single character string.')\n",
        "    return len([char for char in content if char == letter])"
      ],
      "metadata": {
        "id": "UuETRTBEoPLx"
      },
      "execution_count": null,
      "outputs": []
    },
    {
      "cell_type": "markdown",
      "source": [
        "* Finally, add some information about the `ValueError` that gets raised when the arguments aren't correct."
      ],
      "metadata": {
        "id": "cMg-MjTHoaSh"
      }
    },
    {
      "cell_type": "code",
      "source": [
        "def count_letter(content, letter):\n",
        "    \"\"\"Count the number of times `letter` appears in `content`.\n",
        "\n",
        "    Args:\n",
        "        content (str): The string to search.\n",
        "        letter (str): The letter to search for.\n",
        "\n",
        "    Returns:\n",
        "        int\n",
        "\n",
        "    # Add a section detailing what errors might be raised\n",
        "    Raises:\n",
        "        ValueError: If `letter` is not a one-character string.\n",
        "    \"\"\"\n",
        "    if (not isinstance(letter, str)) or len(letter) != 1:\n",
        "        raise ValueError('`letter` must be a single character string.')\n",
        "    return len([char for char in content if char == letter])"
      ],
      "metadata": {
        "id": "ADAKGUqzoi8J"
      },
      "execution_count": null,
      "outputs": []
    },
    {
      "cell_type": "markdown",
      "source": [
        "While ***docstring*** does require a bit more typing, the information presented here will make it very easy for others to use this code in the future. Remember that even though computers execute it, code is actually written for humans to read (otherwise you'd just be writing the 1s and 0s that the computer operates on).\n",
        "\n",
        "### **Retrieving docstrings**\n",
        "\n",
        "You've been asked to complete the `build_tooltip()` function that retrieves a docstring from an arbitrary function.\n",
        "\n",
        "You will be reusing the `count_letter()` function that you developed in the last exercise to show that we can properly extract its docstring.\n",
        "\n",
        "1. Begin by getting the docstring for the function `count_letter()`. Use an attribute of the `count_letter()` function."
      ],
      "metadata": {
        "id": "VhmprvIro1a5"
      }
    },
    {
      "cell_type": "code",
      "source": [
        "def count_letter(content, letter):\n",
        "    \"\"\"Count the number of times `letter` appears in `content`.\n",
        "\n",
        "    Args:\n",
        "        content (str): The string to search.\n",
        "        letter (str): The letter to search for.\n",
        "\n",
        "    Returns:\n",
        "        int\n",
        "\n",
        "    # Add a section detailing what errors might be raised\n",
        "    Raises:\n",
        "        ValueError: If `letter` is not a one-character string.\n",
        "    \"\"\"\n",
        "    if (not isinstance(letter, str)) or len(letter) != 1:\n",
        "        raise ValueError('`letter` must be a single character string.')\n",
        "    return len([char for char in content if char == letter])\n",
        "\n",
        "# Get the docstring with an attribute of count_letter()\n",
        "docstring = count_letter.__doc__\n",
        "\n",
        "border = '#' * 28\n",
        "print('{}\\n{}\\n{}'.format(border, docstring, border))"
      ],
      "metadata": {
        "colab": {
          "base_uri": "https://localhost:8080/"
        },
        "id": "7dWNPjtNph2n",
        "outputId": "1ebb2718-8d65-4870-feb1-d9d0ba08692d"
      },
      "execution_count": null,
      "outputs": [
        {
          "output_type": "stream",
          "name": "stdout",
          "text": [
            "############################\n",
            "Count the number of times `letter` appears in `content`.\n",
            "\n",
            "    Args:\n",
            "        content (str): The string to search.\n",
            "        letter (str): The letter to search for.\n",
            "\n",
            "    Returns:\n",
            "        int\n",
            "\n",
            "    # Add a section detailing what errors might be raised\n",
            "    Raises:\n",
            "        ValueError: If `letter` is not a one-character string.\n",
            "    \n",
            "############################\n"
          ]
        }
      ]
    },
    {
      "cell_type": "markdown",
      "source": [
        "2. Now use a function from the `inspect` module to get a better-formatted version of `count_letter()`'s docstring."
      ],
      "metadata": {
        "id": "iSt0FeMqqFf2"
      }
    },
    {
      "cell_type": "code",
      "source": [
        "def count_letter(content, letter):\n",
        "    \"\"\"Count the number of times `letter` appears in `content`.\n",
        "\n",
        "    Args:\n",
        "        content (str): The string to search.\n",
        "        letter (str): The letter to search for.\n",
        "\n",
        "    Returns:\n",
        "        int\n",
        "\n",
        "    # Add a section detailing what errors might be raised\n",
        "    Raises:\n",
        "        ValueError: If `letter` is not a one-character string.\n",
        "    \"\"\"\n",
        "    if (not isinstance(letter, str)) or len(letter) != 1:\n",
        "        raise ValueError('`letter` must be a single character string.')\n",
        "    return len([char for char in content if char == letter])\n",
        "\n",
        "import inspect\n",
        "\n",
        "# Get the docstring with a function from the inspect module\n",
        "docstring = inspect.getdoc(count_letter)\n",
        "\n",
        "border = '#' * 28\n",
        "print('{}\\n{}\\n{}'.format(border, docstring, border))"
      ],
      "metadata": {
        "colab": {
          "base_uri": "https://localhost:8080/"
        },
        "id": "R6xL8otVqAYe",
        "outputId": "3b0129ea-3922-4f0c-cc1c-e3d67137a3a7"
      },
      "execution_count": null,
      "outputs": [
        {
          "output_type": "stream",
          "name": "stdout",
          "text": [
            "############################\n",
            "Count the number of times `letter` appears in `content`.\n",
            "\n",
            "Args:\n",
            "    content (str): The string to search.\n",
            "    letter (str): The letter to search for.\n",
            "\n",
            "Returns:\n",
            "    int\n",
            "\n",
            "# Add a section detailing what errors might be raised\n",
            "Raises:\n",
            "    ValueError: If `letter` is not a one-character string.\n",
            "############################\n"
          ]
        }
      ]
    },
    {
      "cell_type": "markdown",
      "source": [
        "3. Now create a `build_tooltip()` function that can extract the docstring from ***any*** function that we pass to it."
      ],
      "metadata": {
        "id": "U-AwgZmaqWyu"
      }
    },
    {
      "cell_type": "code",
      "source": [
        "def count_letter(content, letter):\n",
        "    \"\"\"Count the number of times `letter` appears in `content`.\n",
        "\n",
        "    Args:\n",
        "        content (str): The string to search.\n",
        "        letter (str): The letter to search for.\n",
        "\n",
        "    Returns:\n",
        "        int\n",
        "\n",
        "    # Add a section detailing what errors might be raised\n",
        "    Raises:\n",
        "        ValueError: If `letter` is not a one-character string.\n",
        "    \"\"\"\n",
        "    if (not isinstance(letter, str)) or len(letter) != 1:\n",
        "        raise ValueError('`letter` must be a single character string.')\n",
        "    return len([char for char in content if char == letter])\n",
        "\n",
        "def build_tooltip(function):\n",
        "    \"\"\"Create a tooltip for any function that shows the\n",
        "    function's docstring.\n",
        "\n",
        "    Args:\n",
        "        function (callable): The function we want a tooltip for.\n",
        "\n",
        "    Returns:\n",
        "        str\n",
        "    \"\"\"\n",
        "    import inspect\n",
        "    # Use 'inspect' to get the docstring\n",
        "    docstring = inspect.getdoc(function)\n",
        "    border = '#' * 28\n",
        "    return '{}\\n{}\\n{}'.format(border, docstring, border)\n",
        "\n",
        "print(build_tooltip(count_letter))\n",
        "print(build_tooltip(range))\n",
        "print(build_tooltip(print))"
      ],
      "metadata": {
        "colab": {
          "base_uri": "https://localhost:8080/"
        },
        "id": "tcpq_q-GqvCB",
        "outputId": "6af7ecee-39a8-4d11-dc5f-3a1ab9458f84"
      },
      "execution_count": null,
      "outputs": [
        {
          "output_type": "stream",
          "name": "stdout",
          "text": [
            "############################\n",
            "Count the number of times `letter` appears in `content`.\n",
            "\n",
            "Args:\n",
            "    content (str): The string to search.\n",
            "    letter (str): The letter to search for.\n",
            "\n",
            "Returns:\n",
            "    int\n",
            "\n",
            "# Add a section detailing what errors might be raised\n",
            "Raises:\n",
            "    ValueError: If `letter` is not a one-character string.\n",
            "############################\n",
            "############################\n",
            "range(stop) -> range object\n",
            "range(start, stop[, step]) -> range object\n",
            "\n",
            "Return an object that produces a sequence of integers from start (inclusive)\n",
            "to stop (exclusive) by step.  range(i, j) produces i, i+1, i+2, ..., j-1.\n",
            "start defaults to 0, and stop is omitted!  range(4) produces 0, 1, 2, 3.\n",
            "These are exactly the valid indices for a list of 4 elements.\n",
            "When step is given, it specifies the increment (or decrement).\n",
            "############################\n",
            "############################\n",
            "print(value, ..., sep=' ', end='\\n', file=sys.stdout, flush=False)\n",
            "\n",
            "Prints the values to a stream, or to sys.stdout by default.\n",
            "Optional keyword arguments:\n",
            "file:  a file-like object (stream); defaults to the current sys.stdout.\n",
            "sep:   string inserted between values, default a space.\n",
            "end:   string appended after the last value, default a newline.\n",
            "flush: whether to forcibly flush the stream.\n",
            "############################\n"
          ]
        }
      ]
    },
    {
      "cell_type": "markdown",
      "source": [
        "Notice how the `count_letter.__doc__` version of the docstring had strange whitespace at the beginning of all but the first line. That's because the docstring is indented to line up visually when reading the code. But when we want to print the docstring, removing those leading spaces with `inspect.getdoc()` will look much better.\n",
        "\n",
        "# ***DRY: Don't Repeat Yourself***\n",
        "### **Extract a function**\n",
        "\n",
        "While you were developing a model to predict the likelihood of a student graduating from college, you wrote this bit of code to get the z-scores of students' yearly GPAs. Now you're ready to turn it into a production-quality system, so you need to do something about the repetition. Writing a function to calculate the z-scores would improve this code.\n",
        "\n",
        "```\n",
        "# Standardize the GPAs for each year\n",
        "df['y1_z'] = (df.y1_gpa - df.y1_gpa.mean()) / df.y1_gpa.std()\n",
        "df['y2_z'] = (df.y2_gpa - df.y2_gpa.mean()) / df.y2_gpa.std()\n",
        "df['y3_z'] = (df.y3_gpa - df.y3_gpa.mean()) / df.y3_gpa.std()\n",
        "df['y4_z'] = (df.y4_gpa - df.y4_gpa.mean()) / df.y4_gpa.std()\n",
        "```\n",
        "\n",
        "*Note: `df` is a pandas DataFrame where each row is a student with 4 columns of yearly student GPAs: `y1_gpa`, `y2_gpa`, `y3_gpa`, `y4_gpa`*\n",
        "\n",
        "* Finish the function so that it returns the z-scores of a column.\n",
        "* Use the function to calculate the z-scores for each year (`df['y1_z']`, `df['y2_z']`, etc.) from the raw GPA scores (`df.y1_gpa`, `df.y2_gpa`, etc.)."
      ],
      "metadata": {
        "id": "V5X-X1nmraB0"
      }
    },
    {
      "cell_type": "code",
      "metadata": {
        "colab": {
          "base_uri": "https://localhost:8080/",
          "height": 144
        },
        "id": "wq74m7V1kFWz",
        "outputId": "bfbe8c8d-83cc-48af-e1c6-941e90582efd"
      },
      "source": [
        "import pandas as pd\n",
        "import numpy as np\n",
        "\n",
        "df = pd.read_csv('gpa.csv').drop(columns='Unnamed: 0')\n",
        "\n",
        "def standardize(column):\n",
        "    \"\"\"Standardize the values in a column.\n",
        "\n",
        "    Args:\n",
        "        column (pandas Series): The data to standardize.\n",
        "\n",
        "    Returns:\n",
        "        pandas Series: the values as z-scores\n",
        "    \"\"\"\n",
        "    # Finish the function so that it returns the z-scores\n",
        "    z_score = (df[column] - df[column].mean()) / df[column].std()\n",
        "    return z_score\n",
        "\n",
        "# Use the standardize() function to calculate the z-scores\n",
        "df['y1_z'] = standardize(\"y1_gpa\")\n",
        "df['y2_z'] = standardize(\"y2_gpa\")\n",
        "df['y3_z'] = standardize(\"y3_gpa\")\n",
        "df['y4_z'] = standardize(\"y4_gpa\")\n",
        "\n",
        "df.head(3)"
      ],
      "execution_count": null,
      "outputs": [
        {
          "output_type": "execute_result",
          "data": {
            "text/html": [
              "\n",
              "  <div id=\"df-987e210a-8d9d-43a5-a955-a31389b72a25\">\n",
              "    <div class=\"colab-df-container\">\n",
              "      <div>\n",
              "<style scoped>\n",
              "    .dataframe tbody tr th:only-of-type {\n",
              "        vertical-align: middle;\n",
              "    }\n",
              "\n",
              "    .dataframe tbody tr th {\n",
              "        vertical-align: top;\n",
              "    }\n",
              "\n",
              "    .dataframe thead th {\n",
              "        text-align: right;\n",
              "    }\n",
              "</style>\n",
              "<table border=\"1\" class=\"dataframe\">\n",
              "  <thead>\n",
              "    <tr style=\"text-align: right;\">\n",
              "      <th></th>\n",
              "      <th>y1_gpa</th>\n",
              "      <th>y2_gpa</th>\n",
              "      <th>y3_gpa</th>\n",
              "      <th>y4_gpa</th>\n",
              "      <th>y1_z</th>\n",
              "      <th>y2_z</th>\n",
              "      <th>y3_z</th>\n",
              "      <th>y4_z</th>\n",
              "    </tr>\n",
              "  </thead>\n",
              "  <tbody>\n",
              "    <tr>\n",
              "      <th>0</th>\n",
              "      <td>2.785877</td>\n",
              "      <td>2.052513</td>\n",
              "      <td>2.170544</td>\n",
              "      <td>0.065570</td>\n",
              "      <td>0.790863</td>\n",
              "      <td>0.028021</td>\n",
              "      <td>0.172322</td>\n",
              "      <td>-1.711179</td>\n",
              "    </tr>\n",
              "    <tr>\n",
              "      <th>1</th>\n",
              "      <td>1.144557</td>\n",
              "      <td>2.666498</td>\n",
              "      <td>0.267098</td>\n",
              "      <td>2.884737</td>\n",
              "      <td>-0.872971</td>\n",
              "      <td>0.564636</td>\n",
              "      <td>-1.347122</td>\n",
              "      <td>0.824431</td>\n",
              "    </tr>\n",
              "    <tr>\n",
              "      <th>2</th>\n",
              "      <td>0.907406</td>\n",
              "      <td>0.423634</td>\n",
              "      <td>2.613459</td>\n",
              "      <td>0.030950</td>\n",
              "      <td>-1.113376</td>\n",
              "      <td>-1.395595</td>\n",
              "      <td>0.525883</td>\n",
              "      <td>-1.742317</td>\n",
              "    </tr>\n",
              "  </tbody>\n",
              "</table>\n",
              "</div>\n",
              "      <button class=\"colab-df-convert\" onclick=\"convertToInteractive('df-987e210a-8d9d-43a5-a955-a31389b72a25')\"\n",
              "              title=\"Convert this dataframe to an interactive table.\"\n",
              "              style=\"display:none;\">\n",
              "        \n",
              "  <svg xmlns=\"http://www.w3.org/2000/svg\" height=\"24px\"viewBox=\"0 0 24 24\"\n",
              "       width=\"24px\">\n",
              "    <path d=\"M0 0h24v24H0V0z\" fill=\"none\"/>\n",
              "    <path d=\"M18.56 5.44l.94 2.06.94-2.06 2.06-.94-2.06-.94-.94-2.06-.94 2.06-2.06.94zm-11 1L8.5 8.5l.94-2.06 2.06-.94-2.06-.94L8.5 2.5l-.94 2.06-2.06.94zm10 10l.94 2.06.94-2.06 2.06-.94-2.06-.94-.94-2.06-.94 2.06-2.06.94z\"/><path d=\"M17.41 7.96l-1.37-1.37c-.4-.4-.92-.59-1.43-.59-.52 0-1.04.2-1.43.59L10.3 9.45l-7.72 7.72c-.78.78-.78 2.05 0 2.83L4 21.41c.39.39.9.59 1.41.59.51 0 1.02-.2 1.41-.59l7.78-7.78 2.81-2.81c.8-.78.8-2.07 0-2.86zM5.41 20L4 18.59l7.72-7.72 1.47 1.35L5.41 20z\"/>\n",
              "  </svg>\n",
              "      </button>\n",
              "      \n",
              "  <style>\n",
              "    .colab-df-container {\n",
              "      display:flex;\n",
              "      flex-wrap:wrap;\n",
              "      gap: 12px;\n",
              "    }\n",
              "\n",
              "    .colab-df-convert {\n",
              "      background-color: #E8F0FE;\n",
              "      border: none;\n",
              "      border-radius: 50%;\n",
              "      cursor: pointer;\n",
              "      display: none;\n",
              "      fill: #1967D2;\n",
              "      height: 32px;\n",
              "      padding: 0 0 0 0;\n",
              "      width: 32px;\n",
              "    }\n",
              "\n",
              "    .colab-df-convert:hover {\n",
              "      background-color: #E2EBFA;\n",
              "      box-shadow: 0px 1px 2px rgba(60, 64, 67, 0.3), 0px 1px 3px 1px rgba(60, 64, 67, 0.15);\n",
              "      fill: #174EA6;\n",
              "    }\n",
              "\n",
              "    [theme=dark] .colab-df-convert {\n",
              "      background-color: #3B4455;\n",
              "      fill: #D2E3FC;\n",
              "    }\n",
              "\n",
              "    [theme=dark] .colab-df-convert:hover {\n",
              "      background-color: #434B5C;\n",
              "      box-shadow: 0px 1px 3px 1px rgba(0, 0, 0, 0.15);\n",
              "      filter: drop-shadow(0px 1px 2px rgba(0, 0, 0, 0.3));\n",
              "      fill: #FFFFFF;\n",
              "    }\n",
              "  </style>\n",
              "\n",
              "      <script>\n",
              "        const buttonEl =\n",
              "          document.querySelector('#df-987e210a-8d9d-43a5-a955-a31389b72a25 button.colab-df-convert');\n",
              "        buttonEl.style.display =\n",
              "          google.colab.kernel.accessAllowed ? 'block' : 'none';\n",
              "\n",
              "        async function convertToInteractive(key) {\n",
              "          const element = document.querySelector('#df-987e210a-8d9d-43a5-a955-a31389b72a25');\n",
              "          const dataTable =\n",
              "            await google.colab.kernel.invokeFunction('convertToInteractive',\n",
              "                                                     [key], {});\n",
              "          if (!dataTable) return;\n",
              "\n",
              "          const docLinkHtml = 'Like what you see? Visit the ' +\n",
              "            '<a target=\"_blank\" href=https://colab.research.google.com/notebooks/data_table.ipynb>data table notebook</a>'\n",
              "            + ' to learn more about interactive tables.';\n",
              "          element.innerHTML = '';\n",
              "          dataTable['output_type'] = 'display_data';\n",
              "          await google.colab.output.renderOutput(dataTable, element);\n",
              "          const docLink = document.createElement('div');\n",
              "          docLink.innerHTML = docLinkHtml;\n",
              "          element.appendChild(docLink);\n",
              "        }\n",
              "      </script>\n",
              "    </div>\n",
              "  </div>\n",
              "  "
            ],
            "text/plain": [
              "     y1_gpa    y2_gpa    y3_gpa  ...      y2_z      y3_z      y4_z\n",
              "0  2.785877  2.052513  2.170544  ...  0.028021  0.172322 -1.711179\n",
              "1  1.144557  2.666498  0.267098  ...  0.564636 -1.347122  0.824431\n",
              "2  0.907406  0.423634  2.613459  ... -1.395595  0.525883 -1.742317\n",
              "\n",
              "[3 rows x 8 columns]"
            ]
          },
          "metadata": {},
          "execution_count": 3
        }
      ]
    },
    {
      "cell_type": "markdown",
      "source": [
        "`standardize()` will probably be useful in other places in your code, and now it is easy to use, test, and update if you need to. It's also easier to tell what the code is doing because of the docstring and the name of the function.\n",
        "\n",
        "# ***Do One Thing***\n",
        "\n",
        "### **Split up a function**\n",
        "Another engineer on your team has written this function to calculate the mean and median of a sorted list. You want to show them how to split it into two simpler functions: `mean()` and `median()`\n",
        "\n",
        "```\n",
        "def mean_and_median(values):\n",
        "    \"\"\"Get the mean and median of a sorted list of `values`\n",
        "\n",
        "    Args:\n",
        "        values (iterable of float): A list of numbers\n",
        "\n",
        "    Returns:\n",
        "        tuple (float, float): The mean and median\n",
        "    \"\"\"\n",
        "    mean = sum(values) / len(values)\n",
        "    midpoint = int(len(values) / 2)\n",
        "    \n",
        "    if len(values) % 2 == 0:\n",
        "        median = (values[midpoint - 1] + values[midpoint]) / 2\n",
        "    else:\n",
        "        median = values[midpoint]\n",
        "\n",
        "    return mean, median\n",
        "```\n",
        "\n",
        "* Write the `mean()` function.\n",
        "\n",
        "* Write the `median()` function."
      ],
      "metadata": {
        "id": "QNXRB-qqvX39"
      }
    },
    {
      "cell_type": "code",
      "metadata": {
        "id": "M9uPR1k_Senm"
      },
      "source": [
        "# Write functions that do one thing\n",
        "def mean(values):\n",
        "    \"\"\"Get the mean of a list of values\n",
        "\n",
        "    Args:\n",
        "      values (iterable of float): A list of numbers\n",
        "\n",
        "    Returns:\n",
        "      float\n",
        "    \"\"\"\n",
        "    # Write the mean() function\n",
        "    mean = sum(values) / len(values)\n",
        "    return mean\n",
        "\n",
        "def median(values):\n",
        "    \"\"\"Get the median of a list of values\n",
        "\n",
        "    Args:\n",
        "      values (iterable of float): A list of numbers\n",
        "\n",
        "    Returns:\n",
        "      float\n",
        "    \"\"\"\n",
        "  # Write the median() function\n",
        "    midpoint = int(len(values) / 2)\n",
        "    if len(values) % 2 == 0:\n",
        "        median = (values[midpoint - 1] + values[midpoint]) / 2\n",
        "    else:\n",
        "        median = values[midpoint]\n",
        "    return median"
      ],
      "execution_count": null,
      "outputs": []
    },
    {
      "cell_type": "markdown",
      "source": [
        "Each function does one thing and does it well. Using, testing, and maintaining these will be a breeze (although you'll probably just use `numpy.mean()` and `numpy.median()` for this in real life).\n",
        "\n",
        "## **List is mutable**"
      ],
      "metadata": {
        "id": "sT_sPv7Ow1Ka"
      }
    },
    {
      "cell_type": "code",
      "source": [
        "def foo(x):\n",
        "    x[0] = 99\n",
        "\n",
        "my_list = [1, 2, 3]\n",
        "foo(my_list)\n",
        "print(my_list)"
      ],
      "metadata": {
        "colab": {
          "base_uri": "https://localhost:8080/"
        },
        "id": "SQfD9dn-J60E",
        "outputId": "5f2c42af-a101-41c7-c814-62a871e3c073"
      },
      "execution_count": null,
      "outputs": [
        {
          "output_type": "stream",
          "name": "stdout",
          "text": [
            "[99, 2, 3]\n"
          ]
        }
      ]
    },
    {
      "cell_type": "markdown",
      "source": [
        "## **Integer is immutable**\n",
        "\n",
        "\n"
      ],
      "metadata": {
        "id": "b_WszKytKKiT"
      }
    },
    {
      "cell_type": "code",
      "source": [
        "def bar(x):\n",
        "    x = x + 90\n",
        "\n",
        "my_var = 3\n",
        "bar(my_var)\n",
        "print(my_var)"
      ],
      "metadata": {
        "colab": {
          "base_uri": "https://localhost:8080/"
        },
        "id": "n6wmOBQkKSoL",
        "outputId": "334a9b21-198c-4a95-d726-130f6be4b5dd"
      },
      "execution_count": null,
      "outputs": [
        {
          "output_type": "stream",
          "name": "stdout",
          "text": [
            "3\n"
          ]
        }
      ]
    },
    {
      "cell_type": "markdown",
      "source": [
        "# **Mutable default arguments are dangerous!**"
      ],
      "metadata": {
        "id": "okRQ7F3TLMW7"
      }
    },
    {
      "cell_type": "code",
      "source": [
        "def foo(var=[]):\n",
        "    var.append(1)\n",
        "    return var\n",
        "print(foo())\n",
        "\n",
        "# The default value has already been modified.\n",
        "print(foo())"
      ],
      "metadata": {
        "colab": {
          "base_uri": "https://localhost:8080/"
        },
        "id": "BzbAgz11LOFR",
        "outputId": "3ad8f142-8cfd-4218-871b-c671296461e1"
      },
      "execution_count": null,
      "outputs": [
        {
          "output_type": "stream",
          "name": "stdout",
          "text": [
            "[1]\n",
            "[1, 1]\n"
          ]
        }
      ]
    },
    {
      "cell_type": "markdown",
      "source": [
        "## **Use `None` to specify the notion of nothing in default value.**"
      ],
      "metadata": {
        "id": "d_a80Q944DYZ"
      }
    },
    {
      "cell_type": "code",
      "source": [
        "def foo(var=None):\n",
        "    if var is None:\n",
        "        var = []\n",
        "    var.append(1)\n",
        "    return var\n",
        "print(foo())\n",
        "print(foo())"
      ],
      "metadata": {
        "colab": {
          "base_uri": "https://localhost:8080/"
        },
        "id": "1sHKyj9sLvTh",
        "outputId": "c4d288c1-da31-46ad-d3a9-fd39c309b02b"
      },
      "execution_count": null,
      "outputs": [
        {
          "output_type": "stream",
          "name": "stdout",
          "text": [
            "[1]\n",
            "[1]\n"
          ]
        }
      ]
    },
    {
      "cell_type": "markdown",
      "source": [
        "### **Mutable or immutable?**\n",
        "\n",
        "The following function adds a mapping between a string and the lowercase version of that string to a dictionary. What do you expect the values of `d` and `s` to be after the function is called?\n",
        "\n"
      ],
      "metadata": {
        "id": "Tlyx38viMEu_"
      }
    },
    {
      "cell_type": "code",
      "metadata": {
        "colab": {
          "base_uri": "https://localhost:8080/"
        },
        "id": "yBIGrs95Rk9R",
        "outputId": "5737e825-bb9a-481b-dd4a-7e1738a5f9e7"
      },
      "source": [
        "def store_lower(_dict, _string):\n",
        "    \"\"\"Add a mapping between `_string` and a lowercased version of `_string` to `_dict`\n",
        "\n",
        "    Args:\n",
        "        _dict (dict): The dictionary to update.\n",
        "        _string (str): The string to add.\n",
        "    \"\"\"\n",
        "    orig_string = _string\n",
        "    _string = _string.lower()\n",
        "    _dict[orig_string] = _string\n",
        "\n",
        "d = {}\n",
        "s = 'Hello'\n",
        "\n",
        "store_lower(d, s)\n",
        "print(f'd = {d}:: Dictionaries are mutable.')\n",
        "print(f's = {s}:: Strings are immutable.')"
      ],
      "execution_count": null,
      "outputs": [
        {
          "output_type": "stream",
          "name": "stdout",
          "text": [
            "d = {'Hello': 'hello'}:: Dictionaries are mutable.\n",
            "s = Hello:: Strings are immutable.\n"
          ]
        }
      ]
    },
    {
      "cell_type": "markdown",
      "source": [
        "Dictionaries are mutable objects in Python, so the function can directly change it in the `_dict[_orig_string] = _string` statement. Strings, on the other hand, are immutable. When the function creates the lowercase version, it has to assign it to the `_string` variable. This disconnects what happens to `_string` from the external `s` variable.\n",
        "\n",
        "### **Best practice for default arguments**\n",
        "\n",
        "One of your co-workers (who obviously didn't take this course) has written this function for adding a column to a pandas DataFrame. Unfortunately, ***they used a mutable variable as a default argument value!*** Please show them a better way to do this so that they don't get unexpected behavior.\n",
        "\n",
        "```\n",
        "def add_column(values, df=pandas.DataFrame()):\n",
        "    \"\"\"Add a column of `values` to a DataFrame `df`.\n",
        "    The column will be named \"col_<n>\" where \"n\" is\n",
        "    the numerical index of the column.\n",
        "\n",
        "    Args:\n",
        "        values (iterable): The values of the new column\n",
        "        df (DataFrame, optional): The DataFrame to update.\n",
        "          If no DataFrame is passed, one is created by default.\n",
        "\n",
        "    Returns:\n",
        "        DataFrame\n",
        "    \"\"\"\n",
        "    df['col_{}'.format(len(df.columns))] = values\n",
        "    return df\n",
        "```\n",
        "\n",
        "\n",
        "Change the default value of df to an immutable value to follow best practices.\n",
        "Update the code of the function so that a new DataFrame is created if the caller didn't pass one."
      ],
      "metadata": {
        "id": "OkHPNekUM_L-"
      }
    },
    {
      "cell_type": "code",
      "metadata": {
        "id": "AGFwb2B8fePj"
      },
      "source": [
        "# DON'T use a mutable variable as a default argument value.\n",
        "import pandas as pd\n",
        "\n",
        "# Use an immutable variable for the default argument\n",
        "def better_add_column(values, df=None):\n",
        "    \"\"\"Add a column of `values` to a DataFrame `df`.\n",
        "    The column will be named \"col_<n>\" where \"n\" is\n",
        "    the numerical index of the column.\n",
        "\n",
        "    Args:\n",
        "      values (iterable): The values of the new column\n",
        "      df (DataFrame, optional): The DataFrame to update.\n",
        "        If no DataFrame is passed, one is created by default.\n",
        "\n",
        "    Returns:\n",
        "      DataFrame\n",
        "    \"\"\"\n",
        "    # Update the function to create a default DataFrame\n",
        "    if df is None:\n",
        "        df = pandas.DataFrame()\n",
        "    df['col_{}'.format(len(df.columns))] = values\n",
        "    return df"
      ],
      "execution_count": null,
      "outputs": []
    },
    {
      "cell_type": "markdown",
      "source": [
        "When you need to set a mutable variable as a default argument, always use **`None`** and then set the value in the body of the function. This prevents unexpected behavior like adding multiple columns if you call the function more than once.\n",
        "\n",
        "# ***Using a context manager***\n",
        "\n"
      ],
      "metadata": {
        "id": "NYvmb61hN4Fd"
      }
    },
    {
      "cell_type": "code",
      "source": [
        "with <context-manager>(<args>) as <variable-name>:\n",
        "    # Run your code here\n",
        "    # This code is running \"inside the context\"\n",
        "\n",
        "# This code runs after the context is removed"
      ],
      "metadata": {
        "id": "1w-LUExiDSeK"
      },
      "execution_count": null,
      "outputs": []
    },
    {
      "cell_type": "code",
      "source": [
        "with open('my_file.txt') as my_file:\n",
        "    text = my_file.read()\n",
        "    length = len(text)\n",
        "\n",
        "print('The file is {} characters long'.format(length))"
      ],
      "metadata": {
        "id": "TWR-TRH-Dp83"
      },
      "execution_count": null,
      "outputs": []
    },
    {
      "cell_type": "markdown",
      "source": [
        "\n",
        "### **The number of cats**\n",
        "\n",
        "Count the number of times the word \"cat\" appears in \"Alice's Adventures in Wonderland\" by Lewis Carroll. You have already downloaded a text file, `alice.txt`, with the entire contents of this great book.\n",
        "\n",
        "* Use the `open()` context manager to open `alice.txt` and assign the file to the `file`| variable."
      ],
      "metadata": {
        "id": "JwttFaGBO59c"
      }
    },
    {
      "cell_type": "code",
      "metadata": {
        "colab": {
          "base_uri": "https://localhost:8080/"
        },
        "id": "g2wB2olmEenu",
        "outputId": "992ab5e0-7686-48d4-f94e-da83450824d2"
      },
      "source": [
        "# Open \"alice.txt\" and assign the file to \"file\"\n",
        "with open('alice.txt') as file:\n",
        "    text = file.read()\n",
        "\n",
        "n = 0\n",
        "for word in text.split():\n",
        "    if word.lower() in ['cat', 'cats']:\n",
        "        n += 1\n",
        "\n",
        "print('Lewis Carroll uses the word \"cat\" {} times.'.format(n))"
      ],
      "execution_count": null,
      "outputs": [
        {
          "output_type": "stream",
          "name": "stdout",
          "text": [
            "Lewis Carroll uses the word \"cat\" 24 times.\n"
          ]
        }
      ]
    },
    {
      "cell_type": "markdown",
      "source": [
        "By opening the file using the\n",
        "```\n",
        "with open()\n",
        "```\n",
        "statement, you were able to read in the text of the file. More importantly, when you were done reading the text, the context manager closed the file for you.\n",
        "\n",
        "### **The speed of cats**\n",
        "\n",
        "You're working on a new web service that processes Instagram feeds to identify which pictures contain cats. The code that processes the data is slower than you would like it to be, so you are working on tuning it up to run faster. Given an `image`, you have two functions that can process it:\n",
        "\n",
        "* `process_with_numpy(image)`\n",
        "* `process_with_pytorch(image)`\n",
        "\n",
        "Your colleague wrote a context manager, `timer()`, that will print out how long the code inside the context block takes to run. She is suggesting you use it to see which of the two options is faster. Time each function to determine which one to use in your web service.\n",
        "\n",
        "* Use the `timer()` context manager to time how long `process_with_numpy(image)` takes to run.\n",
        "* Use the `timer()` context manager to time how long `process_with_pytorch(image)` takes to run."
      ],
      "metadata": {
        "id": "YglLM6PFQYiB"
      }
    },
    {
      "cell_type": "code",
      "metadata": {
        "id": "-0wh8NcJIj5N",
        "colab": {
          "base_uri": "https://localhost:8080/"
        },
        "outputId": "cdf879e8-0012-4608-ae38-1700c46c2dd1"
      },
      "source": [
        "# Don't worry about the code before ########### line for now.\n",
        "# หามาได้จากการค้นชื่อ functions ใน Datacamp terminal และ from inspect import getsource\n",
        "\n",
        "import numpy as np\n",
        "import time, contextlib\n",
        "\n",
        "def get_image_from_instagram():\n",
        "    return np.random.rand(84, 84)\n",
        "\n",
        "def process_with_numpy(p):\n",
        "    _process_pic(0.1521)\n",
        "\n",
        "def process_with_pytorch(p):\n",
        "    _process_pic(0.0328)\n",
        "\n",
        "def _process_pic(n_sec):\n",
        "    print('Processing', end='', flush=True)\n",
        "    for i in range(10):\n",
        "        print('.', end='' if i < 9 else 'done!\\n', flush=True)\n",
        "        time.sleep(n_sec)\n",
        "\n",
        "@contextlib.contextmanager # This will be explained below.  Don't worry now.\n",
        "def timer():\n",
        "    \"\"\"Time how long code in the context block takes to run.\"\"\"\n",
        "    t0 = time.time()\n",
        "    try:\n",
        "        yield\n",
        "    except:\n",
        "        raise\n",
        "    finally:\n",
        "        t1 = time.time()\n",
        "        print('Elapsed: {:.2f} seconds'.format(t1 - t0))\n",
        "\n",
        "###############################################################\n",
        "\n",
        "image = get_image_from_instagram()\n",
        "\n",
        "# Time how long process_with_numpy(image) takes to run\n",
        "with timer():\n",
        "    print('Numpy version')\n",
        "    process_with_numpy(image)\n",
        "\n",
        "# Time how long process_with_pytorch(image) takes to run\n",
        "with timer():\n",
        "    print('Pytorch version')\n",
        "    process_with_pytorch(image)"
      ],
      "execution_count": null,
      "outputs": [
        {
          "output_type": "stream",
          "name": "stdout",
          "text": [
            "Numpy version\n",
            "Processing..........done!\n",
            "Elapsed: 1.54 seconds\n",
            "Pytorch version\n",
            "Processing..........done!\n",
            "Elapsed: 0.34 seconds\n"
          ]
        }
      ]
    },
    {
      "cell_type": "markdown",
      "source": [
        "Now that you know the **`pytorch`** version is faster, you can use it in your web service to ensure your users get the rapid response time they expect.\n",
        "\n",
        "You may have noticed there was no as `<variable name>` at the end of the with statement in `timer()` context manager. That is because `timer()` is a context manager that **<ins>does NOT return a value</ins>**, so the as `<variable name>` at the end of the with statement isn't necessary. Below, you'll learn how to write your own context managers like `timer()`.\n",
        "\n",
        "# **How to create** ***a context manager***\n",
        "\n",
        "You may want to create a context manager if your code follows this pattern\n",
        "\n",
        "![image.png](data:image/png;base64,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)\n",
        "\n",
        "```\n",
        "@contextlib.contextmanager\n",
        "def my_context():\n",
        "    # Add any set up code you need (optional)\n",
        "    yield\n",
        "    # Add any teardown code you need (optional)\n",
        "```\n",
        "0. import `contextlib`\n",
        "1. Define a function.\n",
        "2. (optional) Add any set up code your context needs.\n",
        "3. ***Use the \"yield\" keyword.***\n",
        "4. (optional) Add any teardown code your context needs.\n",
        "5. Add the decorator immediately above the **def** keyword.\n",
        "\n",
        "  ```\n",
        "  @contextlib.contextmanager\n",
        "  ```\n"
      ],
      "metadata": {
        "id": "sej0U8jiTSbr"
      }
    },
    {
      "cell_type": "code",
      "source": [
        "import contextlib\n",
        "\n",
        "@contextlib.contextmanager\n",
        "def my_context():\n",
        "    print('hello')\n",
        "    yield 42\n",
        "    print('goodbye')\n",
        "\n",
        "with my_context() as foo:\n",
        "    print('foo is {}'.format(foo))"
      ],
      "metadata": {
        "colab": {
          "base_uri": "https://localhost:8080/"
        },
        "id": "OgXJH_AVI_86",
        "outputId": "46b993cc-58a2-4bb8-cddd-8ff1fe7786f7"
      },
      "execution_count": null,
      "outputs": [
        {
          "output_type": "stream",
          "name": "stdout",
          "text": [
            "hello\n",
            "foo is 42\n",
            "goodbye\n"
          ]
        }
      ]
    },
    {
      "cell_type": "markdown",
      "source": [
        "# **Yielding a value or** ***None***"
      ],
      "metadata": {
        "id": "zZ_LOVc7J6Vg"
      }
    },
    {
      "cell_type": "code",
      "source": [
        "import contextlib, os\n",
        "\n",
        "@contextlib.contextmanager\n",
        "def in_dir(path):\n",
        "    # save current working directory\n",
        "    old_dir = os.getcwd()\n",
        "\n",
        "    # switch to new working directory\n",
        "    os.chdir(path)\n",
        "\n",
        "    yield\n",
        "\n",
        "    # change back to previous working directory\n",
        "    os.chdir(old_dir)\n",
        "\n",
        "with in_dir('/content/sample_data'): # google colab default file directory\n",
        "    project_files = os.listdir()\n",
        "\n",
        "for i in project_files:\n",
        "    print(i)"
      ],
      "metadata": {
        "colab": {
          "base_uri": "https://localhost:8080/"
        },
        "id": "g-B0ujgRKFgH",
        "outputId": "3ee3d219-a097-465d-8266-3f227ef0b904"
      },
      "execution_count": null,
      "outputs": [
        {
          "output_type": "stream",
          "name": "stdout",
          "text": [
            "anscombe.json\n",
            "README.md\n",
            "mnist_train_small.csv\n",
            "california_housing_train.csv\n",
            "mnist_test.csv\n",
            "california_housing_test.csv\n"
          ]
        }
      ]
    },
    {
      "cell_type": "markdown",
      "source": [
        "`in_dir()` is a context manager that changes the current working directory to a specific path and then changes it back after the context block is done. It does not need to return anything with its **\"`yield`\"** statement.\n",
        "\n",
        "### **The timer() context manager**\n",
        "\n",
        "Write a context manager to time how long their functions take to run.\n",
        "\n",
        "* Add a decorator from the `contextlib` module to the `timer()` function that will make it act like a context manager.\n",
        "* Send control from the `timer()` function to the context block."
      ],
      "metadata": {
        "id": "CzkjZfteQPg8"
      }
    },
    {
      "cell_type": "code",
      "metadata": {
        "colab": {
          "base_uri": "https://localhost:8080/"
        },
        "id": "xjdTeZx1J7AB",
        "outputId": "569b139a-edef-499e-932b-512cb814a5ed"
      },
      "source": [
        "# Writing a context manager\n",
        "import contextlib, time\n",
        "\n",
        "# 3 elements of a context manager are\n",
        "  # 1 a function definition\n",
        "  # 2 a yield statement\n",
        "  # 3 the @contextlib.contextmanager decorator.\n",
        "\n",
        "# Add a decorator that will make timer() a context manager\n",
        "@contextlib.contextmanager\n",
        "def timer():\n",
        "    \"\"\"Time the execution of a context block.\n",
        "\n",
        "    Yields:\n",
        "      None\n",
        "    \"\"\"\n",
        "    start = time.time()\n",
        "\n",
        "    # Send control back to the context block\n",
        "    yield\n",
        "\n",
        "    end = time.time()\n",
        "    print('Elapsed: {:.2f}s'.format(end - start))\n",
        "\n",
        "with timer():\n",
        "    print('This should take approximately 0.25 seconds')\n",
        "    time.sleep(0.25)"
      ],
      "execution_count": null,
      "outputs": [
        {
          "output_type": "stream",
          "name": "stdout",
          "text": [
            "This should take approximately 0.25 seconds\n",
            "Elapsed: 0.25s\n"
          ]
        }
      ]
    },
    {
      "cell_type": "markdown",
      "source": [
        "Notice that the three elements of a context manager are all here:\n",
        "\n",
        "1. a function definition\n",
        "2. a yield statement\n",
        "3. the `@contextlib.contextmanager` decorator.\n",
        "\n",
        "It's also worth noticing that `timer()` is a context manager that does not return an explicit value, so `yield` is written by itself without specifying anything to return.\n",
        "\n",
        "### **A read-only `open()` context manager**\n",
        "You have a bunch of data files for your next deep learning project that took you months to collect and clean. It would be terrible if you accidentally overwrote one of those files when trying to read it in for training, so you decide to create a read-only version of the `open()` context manager to use in your project.\n",
        "\n",
        "The regular `open()` context manager:\n",
        "\n",
        "  * takes a filename and a mode (`'r'` for read, `'w'` for write, or `'a'` for append)\n",
        "  * opens the file for reading, writing, or appending\n",
        "  * yields control back to the context, along with a reference to the file\n",
        "  * waits for the context to finish\n",
        "  * and then closes the file before exiting\n",
        "\n",
        "Your context manager will do the same thing, except it will ***only take the filename as an argument and it will only open the file for reading***.\n",
        "\n",
        "\n",
        "* Yield control from `open_read_only()` to the context block, ensuring that the `read_only_file` object gets assigned to `my_file`.\n",
        "* Use `read_only_file`'s `.close()` method to ensure that you don't leave open files lying around."
      ],
      "metadata": {
        "id": "CiPcsUY5RwP6"
      }
    },
    {
      "cell_type": "code",
      "metadata": {
        "colab": {
          "base_uri": "https://localhost:8080/"
        },
        "id": "-QkisWNANhkd",
        "outputId": "316660d4-f732-4556-b7d6-e6c15030a8c4"
      },
      "source": [
        "# Writing a context manager\n",
        "import contextlib, time\n",
        "\n",
        "# 3 elements of a context manager are\n",
        "  # 1 a function definition\n",
        "  # 2 a yield statement\n",
        "  # 3 the @contextlib.contextmanager decorator.\n",
        "\n",
        "@contextlib.contextmanager\n",
        "def open_read_only(filename):\n",
        "    \"\"\"Open a file in read-only mode.\n",
        "\n",
        "    Args:\n",
        "      filename (str): The location of the file to read\n",
        "\n",
        "    Yields:\n",
        "      file object\n",
        "    \"\"\"\n",
        "    read_only_file = open(filename, mode='r')\n",
        "\n",
        "    # Yield read_only_file so it can be assigned to my_file\n",
        "\n",
        "    yield read_only_file\n",
        "\n",
        "    # Close read_only_file\n",
        "    read_only_file.close()\n",
        "\n",
        "with open_read_only('my_file.txt') as my_file:\n",
        "    print(my_file.read())"
      ],
      "execution_count": null,
      "outputs": [
        {
          "output_type": "stream",
          "name": "stdout",
          "text": [
            "Congratulations! You wrote a context manager that acts like \"open()\" but operates in read-only mode!\n"
          ]
        }
      ]
    },
    {
      "cell_type": "markdown",
      "source": [
        "With **`open_read_only()`** your files are safe from being accidentally overwritten. This function is an example of a context manager that does return a value, so we write **`yield read_only_file`** instead of just **`yield`**. Then the **`read_only_file`** object gets assigned to **`my_file`** in the **`with`** statement so that whoever is using your context can call its **`.read()`** method in the context block."
      ],
      "metadata": {
        "id": "pjE0D98KToB-"
      }
    },
    {
      "cell_type": "markdown",
      "source": [
        "# **Nested contexts**\n",
        "\n"
      ],
      "metadata": {
        "id": "oTPG4OPixUr3"
      }
    },
    {
      "cell_type": "code",
      "source": [
        "def copy(src, dst):\n",
        "    \"\"\"Copy the contents of one file to another.\n",
        "    Args:\n",
        "        src (str): File name of the file to be copied.\n",
        "        dst (str): Where to write the new file.\n",
        "    \"\"\"\n",
        "    # Open the source file and read in the contents\n",
        "    with open(src) as f_src:\n",
        "        contents = f_src.read()\n",
        "\n",
        "    # Open the destination file and write out the contents\n",
        "    with open(dst, 'w') as f_dst:\n",
        "        f_dst.write(contents)"
      ],
      "metadata": {
        "id": "uP9pj9IrxaoY"
      },
      "execution_count": null,
      "outputs": []
    },
    {
      "cell_type": "markdown",
      "source": [
        "Sometimes, the file is too large. So we should write a nested context to gradually write the file line by line."
      ],
      "metadata": {
        "id": "6V1OQTCwxnGG"
      }
    },
    {
      "cell_type": "code",
      "source": [
        "def copy(src, dst):\n",
        "    \"\"\"Copy the contents of one file to another.\n",
        "    Args:\n",
        "        src (str): File name of the file to be copied.\n",
        "        dst (str): Where to write the new file.\n",
        "    \"\"\"\n",
        "    # Open both files\n",
        "    with open(src) as f_src:\n",
        "        with open(dst, 'w') as f_dst:\n",
        "            # Read and write each line, one line at a time\n",
        "            for line in f_src:\n",
        "                f_dst.write(line)"
      ],
      "metadata": {
        "id": "kSc9oTzhxxbs"
      },
      "execution_count": null,
      "outputs": []
    },
    {
      "cell_type": "markdown",
      "source": [
        "### **Scraping the NASDAQ**\n",
        "\n",
        "You are going to collect and analyze some data on how their stock is doing. The context manager stock(`'NVDA'`) will connect to the NASDAQ and return an object that you can use to get the latest price by calling its **`.price()`** method.\n",
        "\n",
        "You want to connect to `stock('NVDA')` and record 10 timesteps of price data by writing it to the file `NVDA.txt`.\n",
        "\n",
        "You will notice the use of an underscore when iterating over the for loop. If this is confusing to you, don't worry. It could easily be replaced with **`i`**, if we planned to do something with it, like use it as an index. Since we won't be using it, we can use a dummy operator, **`_`**, which doesn't use any additional memory.\n",
        "\n",
        "* Use the **`stock('NVDA')`** context manager and assign the result to **`nvda`**.\n",
        "* Open a file for writing with `open('NVDA.txt', 'w')` and assign the file object to `f_out` so you can record the price over time."
      ],
      "metadata": {
        "id": "ecLkOLHp0XTa"
      }
    },
    {
      "cell_type": "code",
      "source": [
        "import contextlib\n",
        "import numpy as np\n",
        "\n",
        "class MockStock:\n",
        "    def __init__(self, loc, scale):\n",
        "        self.loc = loc\n",
        "        self.scale = scale\n",
        "        self.recent = list(np.random.laplace(loc, scale, 2))\n",
        "\n",
        "    def price(self):\n",
        "        sign = np.sign(self.recent[1] - self.recent[0])\n",
        "        # 70% chance of going same direction\n",
        "        sign = 1 if sign == 0 else (sign if np.random.rand() > 0.3 else -1 * sign)\n",
        "        new = self.recent[1] + sign * np.random.rand() / 10.0\n",
        "        self.recent = [self.recent[1], new]\n",
        "        return new\n",
        "\n",
        "@contextlib.contextmanager\n",
        "def stock(symbol):\n",
        "    base = 140.00\n",
        "    scale = 1.0\n",
        "    mock = MockStock(base, scale)\n",
        "    print('Opening stock ticker for {}'.format(symbol))\n",
        "    yield mock\n",
        "    print('Closing stock ticker')\n",
        "\n",
        "\n",
        "################################################################################\n",
        "\n",
        "# Use the \"stock('NVDA')\" context manager\n",
        "# and assign the result to the variable \"nvda\"\n",
        "with stock('NVDA') as nvda:\n",
        "    # Open \"NVDA.txt\" for writing as f_out\n",
        "    with open('NVDA.txt', 'w') as f_out:\n",
        "        for _ in range(10):\n",
        "            value = nvda.price()\n",
        "            print('Logging ${:.2f} for NVDA'.format(value))\n",
        "            f_out.write('{:.2f}\\n'.format(value))"
      ],
      "metadata": {
        "colab": {
          "base_uri": "https://localhost:8080/"
        },
        "id": "si32W3Ez1r84",
        "outputId": "364e0f5d-7965-4384-fa0b-ac0c90e0e9e4"
      },
      "execution_count": null,
      "outputs": [
        {
          "output_type": "stream",
          "name": "stdout",
          "text": [
            "Opening stock ticker for NVDA\n",
            "Logging $140.92 for NVDA\n",
            "Logging $140.93 for NVDA\n",
            "Logging $141.02 for NVDA\n",
            "Logging $141.08 for NVDA\n",
            "Logging $141.13 for NVDA\n",
            "Logging $141.18 for NVDA\n",
            "Logging $141.09 for NVDA\n",
            "Logging $141.05 for NVDA\n",
            "Logging $141.00 for NVDA\n",
            "Logging $140.93 for NVDA\n",
            "Closing stock ticker\n"
          ]
        }
      ]
    },
    {
      "cell_type": "markdown",
      "source": [
        "Now you can monitor the **NVIDIA** stock price and decide when is the exact right time to buy. Nesting context managers like this allows you to connect to the stock market (the **CONNECT/DISCONNECT** pattern) and write to a file (the **OPEN/CLOSE** pattern) at the same time.\n",
        "\n",
        "# **Handling Errors**\n",
        "### **Changing the working directory**\n",
        "\n",
        "You are using an open-source library t, but it writes out checkpoint training models to the current working directory. You find that behavior frustrating because you don't want to have to launch the script from the directory where the models will be saved.\n",
        "\n",
        "You decide that one way to fix this is to write a context manager that\n",
        "* changes the current working directory\n",
        "* lets you build your models\n",
        "* and then resets the working directory to its original location.\n",
        "\n",
        "You'll want to be sure that ***any errors that occur*** during model training don't prevent you from resetting the working directory to its original location.\n",
        "\n",
        "* Add a statement that lets you handle any errors that might occur inside the context.\n",
        "* Add a statement that ensures **`os.chdir(current_dir)`** will be called, whether there was an error or not."
      ],
      "metadata": {
        "id": "S_E0o5LS3kik"
      }
    },
    {
      "cell_type": "code",
      "metadata": {
        "id": "bJ34DqqNe3VS"
      },
      "source": [
        "import contextlib\n",
        "\n",
        "@contextlib.contextmanager\n",
        "def in_dir(directory):\n",
        "    \"\"\"Change current working directory to `directory`,\n",
        "    allow the user to run some code, and change back.\n",
        "\n",
        "    Args:\n",
        "        directory (str): The path to a directory to work in.\n",
        "    \"\"\"\n",
        "    current_dir = os.getcwd()\n",
        "    os.chdir(directory)\n",
        "\n",
        "    # Add code that lets you handle errors\n",
        "    try:\n",
        "        yield\n",
        "    # Ensure the directory is reset,\n",
        "    # whether there was an error or not\n",
        "    finally:\n",
        "        os.chdir(current_dir)"
      ],
      "execution_count": null,
      "outputs": []
    },
    {
      "cell_type": "markdown",
      "source": [
        "Now, even if someone writes buggy code when using your context manager, you will be sure to change the current working directory back to what it was when they called **`in_dir()`**. This is important to do because your users might be relying on their working directory being what it was when they started the script. **`in_dir()`** is a great example of the **CHANGE/RESET** pattern that indicates you should use a context manager.\n",
        "\n",
        "# **Functions as arguments**\n",
        "\n",
        "* Functions ก็คือ object อย่างนึง จะเอาไปใส่เป็นตัวแปรในฟังก์ชันอื่นๆก็ได้ ยกตัวอย่างเช่นฟังก์ชันด้านล่างนี้\n"
      ],
      "metadata": {
        "id": "BW06Do4T6rte"
      }
    },
    {
      "cell_type": "code",
      "source": [
        "def has_docstring(func):\n",
        "    \"\"\"Check to see if the function\n",
        "    `func` has a docstring.\n",
        "    Args:\n",
        "    func (callable): A function.\n",
        "    Returns:\n",
        "    bool\n",
        "    \"\"\"\n",
        "    return func.__doc__ is not None\n",
        "\n",
        "def no():\n",
        "    return 42\n",
        "def yes():\n",
        "    \"\"\"Return the value 42\n",
        "    \"\"\"\n",
        "    return 42\n",
        "\n",
        "#  Passing functions as argument\n",
        "\n",
        "print(has_docstring(no))\n",
        "print(has_docstring(yes))"
      ],
      "metadata": {
        "colab": {
          "base_uri": "https://localhost:8080/"
        },
        "id": "gn-C3jQmKkNR",
        "outputId": "b87aa4f4-ec95-4e54-afbe-877ad39e8fc8"
      },
      "execution_count": null,
      "outputs": [
        {
          "output_type": "stream",
          "name": "stdout",
          "text": [
            "False\n",
            "True\n"
          ]
        }
      ]
    },
    {
      "cell_type": "markdown",
      "source": [
        "## **Functions as variables**\n",
        "\n",
        "When you assign a function to a variable, you <u>DO NOT</u> include the parenthesis after the function name."
      ],
      "metadata": {
        "id": "FAwiFw-mBSF5"
      }
    },
    {
      "cell_type": "code",
      "source": [
        "def myfunc():\n",
        "    print('Hello')\n",
        "\n",
        "x = myfunc # No parenthesis\n",
        "x()"
      ],
      "metadata": {
        "colab": {
          "base_uri": "https://localhost:8080/"
        },
        "id": "cbhKukAoBWvH",
        "outputId": "763c6eda-4f72-4ed1-bde2-4572bfdb236e"
      },
      "execution_count": 2,
      "outputs": [
        {
          "output_type": "stream",
          "name": "stdout",
          "text": [
            "Hello\n"
          ]
        }
      ]
    },
    {
      "cell_type": "code",
      "source": [
        "x = myfunc()\n",
        "x"
      ],
      "metadata": {
        "colab": {
          "base_uri": "https://localhost:8080/"
        },
        "id": "CAIJAztvEkM6",
        "outputId": "97df3ce5-376e-4173-ef02-6f341e02a258"
      },
      "execution_count": 9,
      "outputs": [
        {
          "output_type": "stream",
          "name": "stdout",
          "text": [
            "Hello\n"
          ]
        }
      ]
    },
    {
      "cell_type": "markdown",
      "source": [
        "## **List of functions**\n",
        "\n"
      ],
      "metadata": {
        "id": "zxw-7hafBxFE"
      }
    },
    {
      "cell_type": "code",
      "source": [
        "funclist = [myfunc, open, print]\n",
        "funclist[2]('Hey')"
      ],
      "metadata": {
        "colab": {
          "base_uri": "https://localhost:8080/"
        },
        "id": "LlO79GWUB1Cg",
        "outputId": "ce4966b0-71c5-4505-9ee6-67de5e3b2e3c"
      },
      "execution_count": 3,
      "outputs": [
        {
          "output_type": "stream",
          "name": "stdout",
          "text": [
            "Hey\n"
          ]
        }
      ]
    },
    {
      "cell_type": "markdown",
      "source": [
        "## **Dictionary of functions**"
      ],
      "metadata": {
        "id": "xeNtTCGECBiq"
      }
    },
    {
      "cell_type": "code",
      "source": [
        "funcdict = {'func1': myfunc, 'func2': open, 'func3': print}\n",
        "funcdict['func3']('Hey')"
      ],
      "metadata": {
        "colab": {
          "base_uri": "https://localhost:8080/"
        },
        "id": "48dhQjIaCFPl",
        "outputId": "ab5f2c2d-5b59-46ef-dc1f-8d7669f5fdaa"
      },
      "execution_count": 4,
      "outputs": [
        {
          "output_type": "stream",
          "name": "stdout",
          "text": [
            "Hey\n"
          ]
        }
      ]
    },
    {
      "cell_type": "markdown",
      "source": [
        "# **Defining a function inside another function**\n",
        "\n",
        "* Nested functions a.k.a. inner functions/ helper functions/ child functions"
      ],
      "metadata": {
        "id": "teCJEBxfLABg"
      }
    },
    {
      "cell_type": "code",
      "source": [
        "def foo():\n",
        "    x = [3, 6, 9]\n",
        "\n",
        "    def bar(y):\n",
        "        print(y, \"\\n\")\n",
        "\n",
        "    for value in x:\n",
        "        bar(value); bar(x)\n",
        "\n",
        "\n",
        "foo()"
      ],
      "metadata": {
        "colab": {
          "base_uri": "https://localhost:8080/"
        },
        "id": "-G0sOaa4LRk_",
        "outputId": "8026cbe3-ce97-4ebe-f395-9ffa26672ebc"
      },
      "execution_count": 5,
      "outputs": [
        {
          "output_type": "stream",
          "name": "stdout",
          "text": [
            "3 \n",
            "\n",
            "[3, 6, 9] \n",
            "\n",
            "6 \n",
            "\n",
            "[3, 6, 9] \n",
            "\n",
            "9 \n",
            "\n",
            "[3, 6, 9] \n",
            "\n"
          ]
        }
      ]
    },
    {
      "cell_type": "code",
      "source": [
        "def foo(x, y):\n",
        "    if (4 < x < 10) and (4 < y < 10):\n",
        "        print(x * y)\n",
        "foo(5, 6)"
      ],
      "metadata": {
        "colab": {
          "base_uri": "https://localhost:8080/"
        },
        "id": "xxtm11cQDtZD",
        "outputId": "fa85e4ca-27a7-4fdd-ffb3-2f38118c9733"
      },
      "execution_count": 7,
      "outputs": [
        {
          "output_type": "stream",
          "name": "stdout",
          "text": [
            "30\n"
          ]
        }
      ]
    },
    {
      "cell_type": "code",
      "source": [
        "def foo(x, y):\n",
        "    def in_range(v):\n",
        "        return 4 < v < 10\n",
        "\n",
        "    if in_range(x) and in_range(y):\n",
        "        print(x * y)\n",
        "\n",
        "foo(5, 6)"
      ],
      "metadata": {
        "colab": {
          "base_uri": "https://localhost:8080/"
        },
        "id": "VN_on5-ID_0F",
        "outputId": "e3513b6f-0df6-4791-92e8-42bd613e3bc9"
      },
      "execution_count": 8,
      "outputs": [
        {
          "output_type": "stream",
          "name": "stdout",
          "text": [
            "30\n"
          ]
        }
      ]
    },
    {
      "cell_type": "markdown",
      "source": [
        "# **Functions as a returned values**\n",
        "\n"
      ],
      "metadata": {
        "id": "SAxpRnoJMAAN"
      }
    },
    {
      "cell_type": "code",
      "source": [
        "def get_function():\n",
        "    def print_me(s):\n",
        "        print(s)\n",
        "    return print_me\n",
        "\n",
        "new_func = get_function\n",
        "new_func()('Hello')"
      ],
      "metadata": {
        "colab": {
          "base_uri": "https://localhost:8080/"
        },
        "id": "EZDafn75MGsm",
        "outputId": "e5f48856-b814-4fde-c33f-0fe02550d03d"
      },
      "execution_count": 12,
      "outputs": [
        {
          "output_type": "stream",
          "name": "stdout",
          "text": [
            "Hello\n"
          ]
        }
      ]
    },
    {
      "cell_type": "code",
      "source": [
        "new_func = get_function()\n",
        "new_func('Hey')"
      ],
      "metadata": {
        "colab": {
          "base_uri": "https://localhost:8080/"
        },
        "id": "cOlUzv7IFH9x",
        "outputId": "adaaf402-de95-4a82-d711-5be0d73b2bea"
      },
      "execution_count": 14,
      "outputs": [
        {
          "output_type": "stream",
          "name": "stdout",
          "text": [
            "Hey\n"
          ]
        }
      ]
    },
    {
      "cell_type": "markdown",
      "source": [
        "### **Building a command line data app**\n",
        "\n",
        "You are building a command line tool that lets a user interactively explore a data set. We've defined four functions: `mean()`, `std()`, `minimum()`, and `maximum()` that users can call to analyze their data. Help finish this section of the code so that your users can call any of these functions by typing the function name at the input prompt.\n",
        "\n",
        "Note: The function `get_user_input()` in this exercise is a mock version of asking the user to enter a command. It randomly returns one of the four function names. In real life, you would ask for input and wait until the user entered a value.\n",
        "\n",
        "* Add the functions `std()`, `minimum()`, and `maximum()` to the `function_map` dictionary, like we did with `mean()`.\n",
        "* The name of the function the user wants to call is stored in `func_name`. Use the dictionary of functions, `function_map`, to call the chosen function and pass `data` as an argument."
      ],
      "metadata": {
        "id": "JuKElzIlMTbD"
      }
    },
    {
      "cell_type": "code",
      "metadata": {
        "colab": {
          "base_uri": "https://localhost:8080/"
        },
        "id": "OezfvHj6fqDY",
        "outputId": "65d48c51-68c7-4142-b7ab-985d72e74d32"
      },
      "source": [
        "### Decorators:\n",
        "\n",
        "import numpy as np\n",
        "import pandas as pd\n",
        "from random import choice\n",
        "\n",
        "# เตรียมข้อมูลให้เหมือนโจทย์\n",
        "d = np.array([[ 72.1, 198. ], [ 69.8, 204. ], [ 63.2, 164. ], [ 64.7, 238. ]])\n",
        "data = pd.DataFrame(data=d, columns=[\"height\", \"weight\"])\n",
        "mean = lambda df: df.mean()\n",
        "std = lambda df: df.std()\n",
        "minimum = lambda df: df.min()\n",
        "maximum = lambda df: df.max()\n",
        "\n",
        "def get_user_input(prompt='Type a command: '):\n",
        "    command = choice(['mean', 'std', 'minimum', 'maximum'])\n",
        "    print(prompt)\n",
        "    print('> {}'.format(command))\n",
        "    return command\n",
        "\n",
        "def load_data():\n",
        "    df = pd.DataFrame()\n",
        "    df['height'] = [72.1, 69.8, 63.2, 64.7]\n",
        "    df['weight'] = [198, 204, 164, 238]\n",
        "    return df\n",
        "\n",
        "\n",
        "# Add the missing function references to the function map\n",
        "function_map = {'mean': mean, 'std': std, 'minimum': minimum,'maximum': maximum}\n",
        "\n",
        "data = load_data()\n",
        "print(data)\n",
        "\n",
        "func_name = get_user_input()\n",
        "\n",
        "# Call the chosen function and pass \"data\" as an argument\n",
        "function_map[func_name](data)"
      ],
      "execution_count": null,
      "outputs": [
        {
          "output_type": "stream",
          "name": "stdout",
          "text": [
            "   height  weight\n",
            "0    72.1     198\n",
            "1    69.8     204\n",
            "2    63.2     164\n",
            "3    64.7     238\n",
            "Type a command: \n",
            "> mean\n"
          ]
        },
        {
          "output_type": "execute_result",
          "data": {
            "text/plain": [
              "height     67.45\n",
              "weight    201.00\n",
              "dtype: float64"
            ]
          },
          "metadata": {},
          "execution_count": 12
        }
      ]
    },
    {
      "cell_type": "markdown",
      "source": [
        "By adding the functions to a dictionary, you can select the function based on the user's input. You could have also used a series of **`if/else`** statements, but putting them in a dictionary like this is much easier to read and maintain.\n",
        "\n",
        "### **Reviewing your co-worker's code**\n",
        "A docstring is considered best practice for maintainable, reusable functions, so as a sanity check you decide to run this `has_docstring()` function on all of their functions.\n",
        "\n",
        "* Call `has_docstring()` on  `load_and_plot_data()` function.\n",
        "* Check if the function `as_2D()` has a docstring.\n",
        "* Check if the function `log_product()` has a docstring."
      ],
      "metadata": {
        "id": "Nf0NjzIwOqR1"
      }
    },
    {
      "cell_type": "code",
      "metadata": {
        "colab": {
          "base_uri": "https://localhost:8080/"
        },
        "id": "eh9m1H-tlxdp",
        "outputId": "59de3273-2941-47f9-b93d-d7509a76f585"
      },
      "source": [
        "import pandas as pd\n",
        "import numpy as np\n",
        "\n",
        "def load_and_plot_data(filename):\n",
        "    \"\"\"Load a data frame and plot each column.\n",
        "\n",
        "    Args:\n",
        "        filename (str): Path to a CSV file of data.\n",
        "\n",
        "    Returns:\n",
        "        pandas.DataFrame\n",
        "    \"\"\"\n",
        "    df = pd.load_csv(filename, index_col=0)\n",
        "    df.hist()\n",
        "    return df\n",
        "\n",
        "def as_2D(arr):\n",
        "    \"\"\"Reshape an array to 2 dimensions\"\"\"\n",
        "    return np.array(arr).reshape(1, -1)\n",
        "\n",
        "def log_product(arr):\n",
        "    return np.exp(np.sum(np.log(arr)))\n",
        "\n",
        "def has_docstring(func):\n",
        "    \"\"\"Check to see if the function\n",
        "    `func` has a docstring.\n",
        "\n",
        "    Args:\n",
        "        func (callable): A function.\n",
        "\n",
        "    Returns:\n",
        "        bool\n",
        "    \"\"\"\n",
        "    return func.__doc__ is not None\n",
        "\n",
        "# Call has_docstring() on the load_and_plot_data() function\n",
        "ok = has_docstring(load_and_plot_data)\n",
        "\n",
        "if not ok:\n",
        "    print(\"load_and_plot_data() doesn't have a docstring!\\n\")\n",
        "else:\n",
        "    print(\"load_and_plot_data() looks ok\\n\")\n",
        "\n",
        "# Call has_docstring() on the as_2D() function\n",
        "ok = has_docstring(as_2D)\n",
        "\n",
        "if not ok:\n",
        "    print(\"as_2D() doesn't have a docstring!\\n\")\n",
        "else:\n",
        "    print(\"as_2D() looks ok\\n\")\n",
        "\n",
        "# Call has_docstring() on the log_product() function\n",
        "ok = has_docstring(log_product)\n",
        "\n",
        "if not ok:\n",
        "    print(\"log_product() doesn't have a docstring!\\n\")\n",
        "else:\n",
        "    print(\"log_product() looks ok\\n\")"
      ],
      "execution_count": null,
      "outputs": [
        {
          "output_type": "stream",
          "name": "stdout",
          "text": [
            "load_and_plot_data() looks ok\n",
            "\n",
            "as_2D() looks ok\n",
            "\n",
            "log_product() doesn't have a docstring!\n",
            "\n"
          ]
        }
      ]
    },
    {
      "cell_type": "markdown",
      "source": [
        "To pass a function as an argument to another function, you had to determine which one you were calling and which one you were referencing.\n",
        "\n",
        "### **Returning functions for a math game**\n",
        "\n",
        "You are building an educational math game where the player enters a math term, and your program returns a function that matches that term. For instance, if the user types \"add\", your program returns a function that adds two numbers. So far you've only implemented the \"add\" function. Now you want to include a \"subtract\" function.\n",
        "\n",
        "* Define the `subtract()` function. It should take two arguments and return the first argument minus the second argument."
      ],
      "metadata": {
        "id": "4G6vdizoQbre"
      }
    },
    {
      "cell_type": "code",
      "metadata": {
        "colab": {
          "base_uri": "https://localhost:8080/"
        },
        "id": "1BbBzx2tmkjN",
        "outputId": "563f8e0d-93af-4ef7-ebe1-b348e54b186f"
      },
      "source": [
        "def create_math_function(func_name):\n",
        "    if func_name == 'add':\n",
        "        def add(a, b):\n",
        "            return a + b\n",
        "        return add\n",
        "    elif func_name == 'subtract':\n",
        "        # Define the subtract() function\n",
        "        def subtract(a, b):\n",
        "            return a-b\n",
        "        return subtract\n",
        "    else:\n",
        "        print(\"I don't know that one\")\n",
        "\n",
        "add = create_math_function('add')\n",
        "print('5 + 2 = {}'.format(add(5, 2)))\n",
        "\n",
        "subtract = create_math_function('subtract')\n",
        "print('5 - 2 = {}'.format(subtract(5, 2)))"
      ],
      "execution_count": null,
      "outputs": [
        {
          "output_type": "stream",
          "text": [
            "5 + 2 = 7\n",
            "5 - 2 = 3\n"
          ],
          "name": "stdout"
        }
      ]
    },
    {
      "cell_type": "markdown",
      "source": [
        "Notice how we assign the return value from `create_math_function()` to the `add` and `subtract` variables in the script.\n",
        "\n",
        "***Since `create_math_function()` returns a function, we can then call those variables as functions***."
      ],
      "metadata": {
        "id": "bTAmiT3aRWUh"
      }
    },
    {
      "cell_type": "markdown",
      "source": [
        "# **Scope**"
      ],
      "metadata": {
        "id": "YXx4HZkbUVu0"
      }
    },
    {
      "cell_type": "code",
      "source": [
        "x = 7\n",
        "y = 200\n",
        "\n",
        "print(x)\n",
        "print(y)"
      ],
      "metadata": {
        "colab": {
          "base_uri": "https://localhost:8080/"
        },
        "id": "bsAc-ZAFUYVg",
        "outputId": "fffda532-004a-4108-e115-6b9df7bb65d9"
      },
      "execution_count": 16,
      "outputs": [
        {
          "output_type": "stream",
          "name": "stdout",
          "text": [
            "7\n",
            "200\n"
          ]
        }
      ]
    },
    {
      "cell_type": "code",
      "source": [
        "def foo():\n",
        "    x = 42\n",
        "    print(x)\n",
        "    print(y)\n",
        "\n",
        "foo()"
      ],
      "metadata": {
        "colab": {
          "base_uri": "https://localhost:8080/"
        },
        "id": "8l9UtFA-UhFo",
        "outputId": "7bed3096-987e-47c4-c1f1-a2ea56b0f216"
      },
      "execution_count": 17,
      "outputs": [
        {
          "output_type": "stream",
          "name": "stdout",
          "text": [
            "42\n",
            "200\n"
          ]
        }
      ]
    },
    {
      "cell_type": "markdown",
      "source": [
        "Functions look for \"local\" $x=42$ first, not the $x=7$ in \"global\" scope.  There is no local $y$ so a function looks for global $y$."
      ],
      "metadata": {
        "id": "Rlr4qeCZUukH"
      }
    },
    {
      "cell_type": "code",
      "source": [
        "# global x does not change its value\n",
        "print(x)"
      ],
      "metadata": {
        "colab": {
          "base_uri": "https://localhost:8080/"
        },
        "id": "Q9ea_N-YVUF4",
        "outputId": "999904ca-bf2b-42f9-c00b-b8cabf450151"
      },
      "execution_count": 18,
      "outputs": [
        {
          "output_type": "stream",
          "name": "stdout",
          "text": [
            "7\n"
          ]
        }
      ]
    },
    {
      "cell_type": "markdown",
      "source": [
        "## **Order of scope**\n",
        "\n",
        "![image.png](data:image/png;base64,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)\n",
        "\n",
        "# **The `global` keyword**"
      ],
      "metadata": {
        "id": "Vvr4wD_vZ9R1"
      }
    },
    {
      "cell_type": "code",
      "source": [
        "x = 7\n",
        "\n",
        "def foo():\n",
        "    x = 42\n",
        "    print(x)\n",
        "\n",
        "foo()\n",
        "print(x)"
      ],
      "metadata": {
        "colab": {
          "base_uri": "https://localhost:8080/"
        },
        "id": "RvjDtuWbbNtO",
        "outputId": "325f37eb-99c4-43c4-93c3-bd5e161a8fb4"
      },
      "execution_count": null,
      "outputs": [
        {
          "output_type": "stream",
          "name": "stdout",
          "text": [
            "42\n",
            "7\n"
          ]
        }
      ]
    },
    {
      "cell_type": "markdown",
      "source": [
        "If we want to change the value of $x$ in the global scope via the function, we have to use the keyword **`global`**.  \n",
        "\n",
        "## ***$⇑⇑⇑⇑⇑$ You should avoid doing this $⇑⇑⇑⇑⇑$***"
      ],
      "metadata": {
        "id": "9z3ILD3HbsdB"
      }
    },
    {
      "cell_type": "code",
      "source": [
        "x = 7\n",
        "def foo():\n",
        "    global x\n",
        "    x = 42\n",
        "    print(x)\n",
        "\n",
        "foo()\n",
        "print(x)"
      ],
      "metadata": {
        "colab": {
          "base_uri": "https://localhost:8080/"
        },
        "id": "9Nwbbw7zb-Yx",
        "outputId": "43c7765f-a27e-439f-8ac0-e1059fbc8a70"
      },
      "execution_count": null,
      "outputs": [
        {
          "output_type": "stream",
          "name": "stdout",
          "text": [
            "42\n",
            "42\n"
          ]
        }
      ]
    },
    {
      "cell_type": "markdown",
      "source": [
        "# **The `nonlocal` keyword**"
      ],
      "metadata": {
        "id": "01Zq7p8hclXH"
      }
    },
    {
      "cell_type": "code",
      "source": [
        "def foo():\n",
        "    x = 10\n",
        "    def bar():\n",
        "        x = 200\n",
        "        print(x)\n",
        "    bar()\n",
        "    print(x)\n",
        "\n",
        "foo()"
      ],
      "metadata": {
        "colab": {
          "base_uri": "https://localhost:8080/"
        },
        "id": "723hERhPcsa5",
        "outputId": "a8cd73d2-aa78-4fdf-f56d-481f2b8c12cd"
      },
      "execution_count": null,
      "outputs": [
        {
          "output_type": "stream",
          "name": "stdout",
          "text": [
            "200\n",
            "10\n"
          ]
        }
      ]
    },
    {
      "cell_type": "markdown",
      "source": [
        "Update the variable $x$ that is now inside the parent function"
      ],
      "metadata": {
        "id": "dcrtAYahc51I"
      }
    },
    {
      "cell_type": "code",
      "source": [
        "def foo():\n",
        "    x = 10\n",
        "    def bar():\n",
        "        nonlocal x\n",
        "        x = 200\n",
        "        print(x)\n",
        "    bar()\n",
        "    print(x)\n",
        "\n",
        "foo()"
      ],
      "metadata": {
        "colab": {
          "base_uri": "https://localhost:8080/"
        },
        "id": "SlzHgHUPdE1D",
        "outputId": "9c32ea07-78fc-4c9e-9c8c-6c8bbccbf90b"
      },
      "execution_count": null,
      "outputs": [
        {
          "output_type": "stream",
          "name": "stdout",
          "text": [
            "200\n",
            "200\n"
          ]
        }
      ]
    },
    {
      "cell_type": "markdown",
      "source": [
        "### **Understanding scope**\n",
        "\n",
        "What four values does this script print?"
      ],
      "metadata": {
        "id": "iBnkrDC1daJG"
      }
    },
    {
      "cell_type": "code",
      "source": [
        "x = 50\n",
        "\n",
        "def one():\n",
        "    x = 10\n",
        "\n",
        "def two():\n",
        "    global x\n",
        "    x = 30\n",
        "\n",
        "def three():\n",
        "    x = 100\n",
        "    print(x)\n",
        "\n",
        "for func in [one, two, three]:\n",
        "    func()\n",
        "    print(x)"
      ],
      "metadata": {
        "colab": {
          "base_uri": "https://localhost:8080/"
        },
        "id": "GB-KPxpydgUd",
        "outputId": "7f0a35aa-ffcf-4049-d3e5-feba991b8173"
      },
      "execution_count": null,
      "outputs": [
        {
          "output_type": "stream",
          "name": "stdout",
          "text": [
            "50\n",
            "30\n",
            "100\n",
            "30\n"
          ]
        }
      ]
    },
    {
      "cell_type": "markdown",
      "source": [
        "* `one()` doesn't change the global `x`, so the first `print()` statement prints `50`.\n",
        "\n",
        "* `two()` does change the global `x` so the second `print()` statement prints `30`.\n",
        "\n",
        "* The `print()` statement inside the function `three()` is referencing the `x` value that is local to `three()`, so it prints `100`.\n",
        "\n",
        "* But `three()` does not change the global `x` value so the last `print()` statement prints `30` again.\n",
        "\n",
        "### **Modifying variables outside local scope**\n",
        "\n",
        "Sometimes your functions will need to modify a variable that is outside of the local scope of that function. While it's generally NOT best practice to do so, it's still good to know how in case you need to do it. Update these functions so they can modify variables that would usually be outside of their scope.\n",
        "\n",
        "* Add a keyword that lets us update `call_count` from inside the function.\n",
        "\n",
        "* Add a keyword that lets us modify `file_contents` from inside `save_contents()`.\n",
        "\n",
        "* Add a keyword to done in `check_is_done()` so that `wait_until_done()` eventually stops looping."
      ],
      "metadata": {
        "id": "f8tSAxuUeBjO"
      }
    },
    {
      "cell_type": "code",
      "metadata": {
        "colab": {
          "base_uri": "https://localhost:8080/"
        },
        "id": "WNroGpDioz0z",
        "outputId": "36024599-7f38-4f2b-89f0-37c7c8f4b281"
      },
      "source": [
        "## SCOPE Example 1\n",
        "\n",
        "call_count = 0\n",
        "\n",
        "def my_function():\n",
        "    # Use a keyword that lets us update call_count\n",
        "    global call_count\n",
        "    call_count += 1\n",
        "\n",
        "    print(\"You've called my_function() {} times!\".format(call_count))\n",
        "\n",
        "for _ in range(20):\n",
        "    my_function()"
      ],
      "execution_count": null,
      "outputs": [
        {
          "output_type": "stream",
          "text": [
            "You've called my_function() 1 times!\n",
            "You've called my_function() 2 times!\n",
            "You've called my_function() 3 times!\n",
            "You've called my_function() 4 times!\n",
            "You've called my_function() 5 times!\n",
            "You've called my_function() 6 times!\n",
            "You've called my_function() 7 times!\n",
            "You've called my_function() 8 times!\n",
            "You've called my_function() 9 times!\n",
            "You've called my_function() 10 times!\n",
            "You've called my_function() 11 times!\n",
            "You've called my_function() 12 times!\n",
            "You've called my_function() 13 times!\n",
            "You've called my_function() 14 times!\n",
            "You've called my_function() 15 times!\n",
            "You've called my_function() 16 times!\n",
            "You've called my_function() 17 times!\n",
            "You've called my_function() 18 times!\n",
            "You've called my_function() 19 times!\n",
            "You've called my_function() 20 times!\n"
          ],
          "name": "stdout"
        }
      ]
    },
    {
      "cell_type": "code",
      "metadata": {
        "colab": {
          "base_uri": "https://localhost:8080/"
        },
        "id": "MxiqM6jM4YKo",
        "outputId": "a617450c-4353-4362-fba4-4b7617d63f98"
      },
      "source": [
        "# SCOPE Example 2\n",
        "\n",
        "def read_files():\n",
        "    file_contents = None\n",
        "\n",
        "    def save_contents(filename):\n",
        "        # Add a keyword that lets us modify file_contents\n",
        "        nonlocal file_contents\n",
        "        if file_contents is None:\n",
        "            file_contents = []\n",
        "        with open(filename) as fin:\n",
        "            file_contents.append(fin.read())\n",
        "\n",
        "    for filename in ['1984.txt', 'MobyDick.txt', 'CatsEye.txt']:\n",
        "        save_contents(filename)\n",
        "\n",
        "    return file_contents\n",
        "\n",
        "print('\\n'.join(read_files()))"
      ],
      "execution_count": null,
      "outputs": [
        {
          "output_type": "stream",
          "name": "stdout",
          "text": [
            "It was a bright day in April, and the clocks were striking thirteen.\n",
            "Call me Ishmael.\n",
            "Time is not a line but a dimension, like the dimensions of space.\n"
          ]
        }
      ]
    },
    {
      "cell_type": "code",
      "metadata": {
        "colab": {
          "base_uri": "https://localhost:8080/"
        },
        "id": "-CqJ6FCO5eSn",
        "outputId": "9ccbfbc7-e911-4765-9e23-181a6bb79b5a"
      },
      "source": [
        "# SCOPE Example 3\n",
        "import random\n",
        "count = 0\n",
        "\n",
        "def wait_until_done():\n",
        "    def check_is_done():\n",
        "        \"\"\"Without 'global' keyword, wait_until_done() would loop forever\n",
        "           because the done = True in check_is_done() would only be changing\n",
        "           a variable that is local to check_is_done().\"\"\"\n",
        "        # Add a keyword so that wait_until_done() doesn't run forever\n",
        "        global done\n",
        "        if random.random() < 0.1:\n",
        "            done = True\n",
        "\n",
        "    while not done:\n",
        "        check_is_done()\n",
        "        global count\n",
        "        count += 1\n",
        "        print(f'count = {count}')\n",
        "\n",
        "done = False\n",
        "wait_until_done()\n",
        "\n",
        "print('Work done? {}'.format(done))"
      ],
      "execution_count": null,
      "outputs": [
        {
          "output_type": "stream",
          "text": [
            "count = 1\n",
            "count = 2\n",
            "count = 3\n",
            "count = 4\n",
            "count = 5\n",
            "count = 6\n",
            "count = 7\n",
            "count = 8\n",
            "count = 9\n",
            "count = 10\n",
            "count = 11\n",
            "count = 12\n",
            "count = 13\n",
            "count = 14\n",
            "count = 15\n",
            "count = 16\n",
            "count = 17\n",
            "count = 18\n",
            "count = 19\n",
            "Work done? True\n"
          ],
          "name": "stdout"
        }
      ]
    },
    {
      "cell_type": "markdown",
      "source": [
        "By adding **`global done`** in **`check_is_done()`**, you ensure that the **`done`** being referenced is the one that was set to False before `wait_until_done()` was called.\n",
        "\n",
        "Without this keyword, `wait_until_done()` would loop forever because the `done = True` in `check_is_done()` would only be changing a variable that is local to `check_is_done()`.\n",
        "\n",
        "# **Closure**\n",
        "\n",
        "## **Attaching nonlocal variables to nested functions**"
      ],
      "metadata": {
        "id": "pStWChX6fyEy"
      }
    },
    {
      "cell_type": "code",
      "source": [
        "def foo():\n",
        "    a = 5\n",
        "    def bar():\n",
        "        print(a)\n",
        "    return bar\n",
        "\n",
        "func = foo()\n",
        "func()"
      ],
      "metadata": {
        "colab": {
          "base_uri": "https://localhost:8080/"
        },
        "id": "-o24OuuXgygu",
        "outputId": "c774628b-7568-4362-e834-b47a929ed1f3"
      },
      "execution_count": 19,
      "outputs": [
        {
          "output_type": "stream",
          "name": "stdout",
          "text": [
            "5\n"
          ]
        }
      ]
    },
    {
      "cell_type": "markdown",
      "source": [
        "You would think that `\"a\"` would not be observable outside of the scope of `foo()` เพราะว่า `func` ก็คือฟังก์ชัน `bar` ที่ `foo` return ค่ามาให้ ค่า `a` อยู่นอกฟังก์ชัน `bar` จึงไม่น่าจะทราบค่า `a` ได้\n",
        "\n",
        "That's where ***closures*** come in. When `foo()` returned the new `bar()` function, Python helpfully attached any nonlocal variable that `bar()` was going to need to the function object. Those variables get stored in a tuple in the **`\"__closure__\"`** attribute of the function. The closure for \"`func`\" has one variable, and you can view the value of that variable by accessing the \"**`cell_contents`**\" of the item."
      ],
      "metadata": {
        "id": "95WcqLVYh3C-"
      }
    },
    {
      "cell_type": "code",
      "source": [
        "type(func.__closure__)"
      ],
      "metadata": {
        "colab": {
          "base_uri": "https://localhost:8080/"
        },
        "id": "lUDjtNx1hBCZ",
        "outputId": "4980da56-7101-4c9a-a499-946bf6f84442"
      },
      "execution_count": null,
      "outputs": [
        {
          "output_type": "execute_result",
          "data": {
            "text/plain": [
              "tuple"
            ]
          },
          "metadata": {},
          "execution_count": 27
        }
      ]
    },
    {
      "cell_type": "code",
      "source": [
        "len(func.__closure__)"
      ],
      "metadata": {
        "colab": {
          "base_uri": "https://localhost:8080/"
        },
        "id": "Uon3Do36hA8f",
        "outputId": "2d22e711-bc9d-4f1d-b1a0-9ca30cd5f549"
      },
      "execution_count": null,
      "outputs": [
        {
          "output_type": "execute_result",
          "data": {
            "text/plain": [
              "1"
            ]
          },
          "metadata": {},
          "execution_count": 28
        }
      ]
    },
    {
      "cell_type": "code",
      "source": [
        "func.__closure__[0].cell_contents"
      ],
      "metadata": {
        "colab": {
          "base_uri": "https://localhost:8080/"
        },
        "id": "550t52FuhLeH",
        "outputId": "5a725844-41b1-453d-8b30-23cc8725a812"
      },
      "execution_count": 23,
      "outputs": [
        {
          "output_type": "execute_result",
          "data": {
            "text/plain": [
              "5"
            ]
          },
          "metadata": {},
          "execution_count": 23
        }
      ]
    },
    {
      "cell_type": "markdown",
      "source": [
        "# **Closures and deletion**"
      ],
      "metadata": {
        "id": "roydUvFZi218"
      }
    },
    {
      "cell_type": "code",
      "source": [
        "x = 25\n",
        "\n",
        "def foo(value):\n",
        "    def bar():\n",
        "        print(value)\n",
        "    return bar\n",
        "\n",
        "my_func = foo(x)\n",
        "my_func()"
      ],
      "metadata": {
        "colab": {
          "base_uri": "https://localhost:8080/"
        },
        "id": "r-iek_g-jBW7",
        "outputId": "3d43fc64-4171-4af0-d19b-cb284c9f1926"
      },
      "execution_count": 35,
      "outputs": [
        {
          "output_type": "stream",
          "name": "stdout",
          "text": [
            "25\n"
          ]
        }
      ]
    },
    {
      "cell_type": "code",
      "source": [
        "del x\n",
        "x"
      ],
      "metadata": {
        "colab": {
          "base_uri": "https://localhost:8080/",
          "height": 165
        },
        "id": "TSlVBTPcjW7A",
        "outputId": "b08598d0-4d67-4a06-b2c4-9507a31c71ad"
      },
      "execution_count": 32,
      "outputs": [
        {
          "output_type": "error",
          "ename": "NameError",
          "evalue": "name 'x' is not defined",
          "traceback": [
            "\u001b[0;31m---------------------------------------------------------------------------\u001b[0m",
            "\u001b[0;31mNameError\u001b[0m                                 Traceback (most recent call last)",
            "\u001b[0;32m<ipython-input-32-1beca76b84e9>\u001b[0m in \u001b[0;36m<cell line: 2>\u001b[0;34m()\u001b[0m\n\u001b[1;32m      1\u001b[0m \u001b[0;32mdel\u001b[0m \u001b[0mx\u001b[0m\u001b[0;34m\u001b[0m\u001b[0;34m\u001b[0m\u001b[0m\n\u001b[0;32m----> 2\u001b[0;31m \u001b[0mx\u001b[0m\u001b[0;34m\u001b[0m\u001b[0;34m\u001b[0m\u001b[0m\n\u001b[0m",
            "\u001b[0;31mNameError\u001b[0m: name 'x' is not defined"
          ]
        }
      ]
    },
    {
      "cell_type": "code",
      "source": [
        "my_func()"
      ],
      "metadata": {
        "colab": {
          "base_uri": "https://localhost:8080/"
        },
        "id": "9eNNbXxDjaTb",
        "outputId": "3063bc6f-ea10-4317-d964-e1c383c03da4"
      },
      "execution_count": 36,
      "outputs": [
        {
          "output_type": "stream",
          "name": "stdout",
          "text": [
            "25\n"
          ]
        }
      ]
    },
    {
      "cell_type": "code",
      "source": [
        "my_func.__closure__[0].cell_contents"
      ],
      "metadata": {
        "colab": {
          "base_uri": "https://localhost:8080/"
        },
        "id": "yJHELiwxjkBr",
        "outputId": "6bba80e8-4f37-4eb3-95d9-113a284c5b72"
      },
      "execution_count": 37,
      "outputs": [
        {
          "output_type": "execute_result",
          "data": {
            "text/plain": [
              "25"
            ]
          },
          "metadata": {},
          "execution_count": 37
        }
      ]
    },
    {
      "cell_type": "code",
      "source": [
        "def parent(arg_1, arg_2):\n",
        "    value = 22\n",
        "    my_dict = {'chocolate': 'yummy'}\n",
        "\n",
        "    def child():\n",
        "        print(2 * value)\n",
        "        print(my_dict['chocolate'])\n",
        "        print(arg_1 + arg_2)\n",
        "\n",
        "    return child\n",
        "\n",
        "new_function = parent(3, 4)\n",
        "\n",
        "for cell in new_function.__closure__:\n",
        "    print(cell.cell_contents)"
      ],
      "metadata": {
        "colab": {
          "base_uri": "https://localhost:8080/"
        },
        "id": "As7rQX8Vj7QS",
        "outputId": "b7cfedf7-c833-4603-b898-e50099169909"
      },
      "execution_count": 40,
      "outputs": [
        {
          "output_type": "stream",
          "name": "stdout",
          "text": [
            "3\n",
            "4\n",
            "{'chocolate': 'yummy'}\n",
            "22\n"
          ]
        }
      ]
    },
    {
      "cell_type": "markdown",
      "source": [
        "### **Checking for closure**\n",
        "\n",
        "Does the returned function have the necessary information when called? Show that all of the nonlocal variables are in the new function's ***closure***.\n",
        "\n",
        "* Use an attribute **`.__closure__`** of the **`my_func()`** function to show that it has a closure that is not `None`.\n",
        "* Use **`len()`** to show that there are two variables in the closure.\n",
        "* Get the values of the variables in the closure so you can use **`.cell_contents`** to show that they are equal to `[2, 17]`, the arguments passed to `return_a_func()`."
      ],
      "metadata": {
        "id": "oYOSswuJkvsR"
      }
    },
    {
      "cell_type": "code",
      "metadata": {
        "colab": {
          "base_uri": "https://localhost:8080/"
        },
        "id": "nSUlpAvd7Sg3",
        "outputId": "5e804bdf-4969-4095-b855-84581b1833b3"
      },
      "source": [
        "def return_a_func(arg1, arg2, arg3):\n",
        "    def new_func():\n",
        "        print('arg1 was {}'.format(arg1))\n",
        "        print('arg2 was {}'.format(arg2))\n",
        "    return new_func\n",
        "\n",
        "# if return_a_func() took a third argument (e.g., arg3)\n",
        "# that wasn't used by new_func(),\n",
        "# then it would NOT be captured in new_func()'s closure.\n",
        "\n",
        "my_func = return_a_func(2, 17, 999)\n",
        "my_func()\n",
        "\n",
        "print(f\"\\n\\nmy_func.__closure__ is not None is {my_func.__closure__ is not None}.\")\n",
        "print(f\"len(my_func.__closure__) = {len(my_func.__closure__)}.\")\n",
        "\n",
        "# Get the values of the variables in the closure\n",
        "closure_values = [my_func.__closure__[i].cell_contents for i in range(2)]\n",
        "print(f\"closure_values == [2, 17] is {closure_values == [2, 17]}.\")"
      ],
      "execution_count": null,
      "outputs": [
        {
          "output_type": "stream",
          "name": "stdout",
          "text": [
            "arg1 was 2\n",
            "arg2 was 17\n",
            "\n",
            "\n",
            "my_func.__closure__ is not None is True.\n",
            "len(my_func.__closure__) = 2.\n",
            "closure_values == [2, 17] is True.\n"
          ]
        }
      ]
    },
    {
      "cell_type": "markdown",
      "source": [
        "Values get added to a function's closure in the order they are defined in the enclosing function (in this case, `arg1` and then `arg2`), **<ins>but only if they are used in the nested function</ins>**. That is, if `return_a_func()` took a third argument (e.g., `arg3`) that wasn't used by `new_func()`, then it would not be captured in `new_func()`'s closure."
      ],
      "metadata": {
        "id": "5jniXJlnnJ00"
      }
    },
    {
      "cell_type": "markdown",
      "source": [
        "### **Closures keep your values safe**\n",
        "\n",
        "You have written the function `get_new_func()` that returns a nested function. The nested function `call_func()` calls whatever function was passed to `get_new_func()`. You've also written `my_special_function()` which simply prints a message that states that you are executing `my_special_function()`.\n",
        "\n",
        "Show your niece that no matter what you do to `my_special_function()` after passing it to `get_new_func()`, the new function still mimics the behavior of the original `my_special_function()` because it is in the new function's closure.\n",
        "\n",
        "* Show that you still get the original message even if you redefine `my_special_function()` to only print \"`hello`\".\n",
        "\n"
      ],
      "metadata": {
        "id": "cAn-rzTEnm4L"
      }
    },
    {
      "cell_type": "code",
      "source": [
        "# You still get the original message\n",
        "# even if you redefine my_special_function() to only print \"hello\".\n",
        "from inspect import getsource\n",
        "\n",
        "def my_special_function():\n",
        "    print('You are running my_special_function()')\n",
        "\n",
        "def get_new_func(func):\n",
        "    def call_func():\n",
        "        func()\n",
        "    return call_func\n",
        "\n",
        "new_func = get_new_func(my_special_function)\n",
        "\n",
        "# Redefine my_special_function() to just print \"hello\"\n",
        "def my_special_function():\n",
        "    print(\"Hello\")\n",
        "\n",
        "new_func()\n",
        "print(\"\\n\",getsource(new_func.__closure__[0].cell_contents))"
      ],
      "metadata": {
        "colab": {
          "base_uri": "https://localhost:8080/"
        },
        "id": "JK4OOGnPoyKh",
        "outputId": "9e342af8-1684-488f-c0dc-32caf60d506e"
      },
      "execution_count": null,
      "outputs": [
        {
          "output_type": "stream",
          "name": "stdout",
          "text": [
            "You are running my_special_function()\n",
            "\n",
            " def my_special_function():\n",
            "    print('You are running my_special_function()')\n",
            "\n"
          ]
        }
      ]
    },
    {
      "cell_type": "markdown",
      "source": [
        "Notice that the code in the function kept in closure is not changed.\n",
        "\n",
        "* Show that even if you delete `my_special_function()`, you can still call `new_func()` without any problems.\n"
      ],
      "metadata": {
        "id": "j_6BfIT0pZlA"
      }
    },
    {
      "cell_type": "code",
      "source": [
        "from inspect import getsource\n",
        "\n",
        "def my_special_function():\n",
        "    print('You are running my_special_function()')\n",
        "\n",
        "def get_new_func(func):\n",
        "    def call_func():\n",
        "        func()\n",
        "    return call_func\n",
        "\n",
        "new_func = get_new_func(my_special_function)\n",
        "\n",
        "# Even if you delete my_special_function(),\n",
        "# you can still call new_func() without any problems.\n",
        "\n",
        "del my_special_function\n",
        "\n",
        "new_func()\n",
        "print(\"\\n\",getsource(new_func.__closure__[0].cell_contents))"
      ],
      "metadata": {
        "colab": {
          "base_uri": "https://localhost:8080/"
        },
        "id": "i17KYMwtp1B3",
        "outputId": "9eb6361d-8f46-4f9a-ea07-d626df416f23"
      },
      "execution_count": null,
      "outputs": [
        {
          "output_type": "stream",
          "name": "stdout",
          "text": [
            "You are running my_special_function()\n",
            "\n",
            " def my_special_function():\n",
            "    print('You are running my_special_function()')\n",
            "\n"
          ]
        }
      ]
    },
    {
      "cell_type": "markdown",
      "source": [
        "* Show that you still get the original message even if you overwrite **`my_special_function()`** with the new function."
      ],
      "metadata": {
        "id": "_QxsSJSNqChG"
      }
    },
    {
      "cell_type": "code",
      "metadata": {
        "colab": {
          "base_uri": "https://localhost:8080/"
        },
        "id": "cnTktTZ-fktD",
        "outputId": "58fdb7e4-d90b-47ae-dffb-494ebb591b6a"
      },
      "source": [
        "from inspect import getsource\n",
        "\n",
        "def my_special_function():\n",
        "    print('You are running my_special_function()')\n",
        "\n",
        "def get_new_func(func):\n",
        "    def call_func():\n",
        "        func()\n",
        "    return call_func\n",
        "\n",
        "new_func = get_new_func(my_special_function)\n",
        "\n",
        "# You still get the original message even if you overwrite my_special_function()\n",
        "# Overwrite `my_special_function` with the new function\n",
        "my_special_function = get_new_func(my_special_function)\n",
        "\n",
        "my_special_function()\n",
        "print(\"\\n\",getsource(my_special_function.__closure__[0].cell_contents))"
      ],
      "execution_count": null,
      "outputs": [
        {
          "output_type": "stream",
          "name": "stdout",
          "text": [
            "You are running my_special_function()\n",
            "\n",
            " def my_special_function():\n",
            "    print('You are running my_special_function()')\n",
            "\n"
          ]
        }
      ]
    },
    {
      "cell_type": "markdown",
      "source": [
        "You can\n",
        "\n",
        "* modify\n",
        "* delete\n",
        "* overwrite\n",
        "\n",
        "the values needed by the nested function, but the nested function can still access those values because they are stored safely in the function's ***closure***.\n",
        "\n",
        "However, you could run into ***memory issues*** if you wound up adding a very large array or object to the closure, and has resolved to keep her eye out for that sort of problem."
      ],
      "metadata": {
        "id": "KazPr4XEq5Uk"
      }
    },
    {
      "cell_type": "markdown",
      "source": [
        "# ***Decorators***\n",
        "\n",
        "![image.png](data:image/png;base64,iVBORw0KGgoAAAANSUhEUgAAAikAAAFCCAYAAAA0SE0aAAAgAElEQVR4nOzdd3gUVRfA4d/dTSOhF0GKSlWKoFKUqgFCl66A0sRK76IoRUVURJSOKJ9KIAjSpEoTkCpIb9JC7y0hhJCye78/kMBmN8km2c1swnl55nmYuzN3zlKyZ+/cOVdprTVCCCGEEB7GZHQAQgghhBCOSJIihBBCCI8kSYoQQgghPJIkKUIIIYTwSJKkCCGEEMIjSZIihBBCCI8kSYoQQgghPJIkKUIIIYTwSC5NUrTW7Nmzh+vXr7uyWyGEEEI8hFyapGzevJn69evz8ssvc+rUKVd2LYQQQoiHjHJVWfzLly9To0YNjh49CkDWrFnZtGkTTz/9NEopV1xCCCGEEA8Rl4ykhIaG0qhRo/gEBeDWrVs0bdqUFStWuOISQgghhHjIpHkkJSoqijZt2rB48WKHr5tMJkJCQnjllVcwmWSerhBCCCGck6asITw8nM6dOyeaoABYrVa6devGN998g9VqTcvlhBBCCPEQSXWSYrFY+Prrr5k7d26yx16/fp3333+fIUOGEBMTk9pLCiGEEOIhkqrbPRaLhS+//JLPPvuM6Ohop8/z8fGhdevWTJ06lYCAgJReVgghhBAPkVQlKSEhIXTp0iVFCcqDgoKCmDlzJvny5UvV+UIIIYTI/FJ8u2fRokX07ds31QkKwOrVq2nUqBF79+5NdR9CCCGEyNxSNJKydetW6tevz82bN11y8VKlSvH777/z1FNPuaQ/IYQQQmQeTo+khIaG8tZbb7ksQQE4cuQIQUFBLFu2DBfVlBNCCCFEJuHUSMr58+epVasWx48fd0sQefLkYcGCBVSvXl1qqQghhBACcGIk5c6dO7z33nuEhoa6LYhr165Rv359Jk6cSFxcnNuuI4QQQoiMI8kkJSoqirZt27J48WK3346JioqiT58+fPHFF2malCuEEEKIzCHJJGXYsGEsXbo0vWLBarUybNgwunXr5tK5L0IIIYTIeBzOSYmLi2PSpEn07t3biJgAqFy5MsuXLydPnjyGxSCEEEII4zgcSZk5cyaDBg1K71hsbN++nfr163PkyBFD4xBCCCGEMWxGUrTWbNu2jcDAQKKiooyMK15AQAAbN26kQoUKKKWMDkcIIYQQ6cRmJOXMmTO0a9fOYxIUgMjISJo1a8aqVauMDkUIIYQQ6cgmSXnsscf45JNPyJo1q1HxOHT69GkaNmzIb7/9htVqNTocIYQQQqQDuzkpHTp0ICQkhFy5chkRT6KsVivvvPMOo0ePluq0QgghxEMg0Yqzp06domrVqly4cCG9Y0rWhx9+yCeffIK3t7fRoQghhBDCTRKtk/L444+zevVqnnnmmfSMxymjR4/m3XffJTIy0uhQhBBCCOEmya7dExMTQ2BgIFu2bPG42ywNGjRg5syZ5M6d2+hQhBBCCOFiya7d4+Pjw7x583j11VfTI54U+eOPP2jRogX79+83OhQhhBBCuJhTqyDf06NHD6ZMmYLFYnFnTClWrFgxFi9eTJkyZYwORQghhBAukuxIyoNGjRrFN998g5eXl7viSZXQ0FAaNGjA77//7nG3pIQQQgiROikaSbln7ty5dO7c2eMmrgYEBLBw4UJq166NyZSi/EsIIYQQHiZVSYrVamXp0qW89957nD9/3h1xpZqfnx9Dhw6lX79++Pr6GhrL/v37mTRpkqExCCGE8Ezy+ZC8VCUp92zZsoUWLVpw6dIlV8aUZkopBg8ezJAhQ9yaqERHRxMWFha/X6BAAbddSwghROYWFBREcHBw/H7+/PkNjMYzpClJAdixYwfdu3fn77//dlVMLqGU4vXXX2fcuHEur57brVs3AE6ePMny5ctd2rcQQggB0LVrVwDKli1L9+7dDY7GGGlOUgDOnTtHUFAQ//77r8dNXK1WrRpLlixJU6Jyb6RIRkqEEEIYpXbt2oSEhODr60vOnDmNDidduCRJAbhy5Qr9+vUjJCTE4xYBrFSpErNmzaJEiRIpOu9e5uqq+4ZlKMt7qptL+hJCCJGx9NKuGQ157LHHaNKkCWXKlMn0IywuS1IAYmNjad++PQsWLCA2NtZV3bpEzpw52bRpE6VLl0Yplehx169fZ/HixXTu3DnF1/DBlxzkiN8/pzxrro4QQgjPsYqVdNYd4vevcDlV/Vy6dIlcuXJlyvXsXJqkwN0nfyZMmMDgwYM97hHlQoUKMWnSJJo2berw9e7duzN79myuXbuWon7HqYkAPM4TNKRRmuMUQgjx8JnC3VH7g/pA/O+d1bJlSwIDA+nRo4c7QjOMy5OUe3799Vfefvttbt265Y7uU81kMjF16lTeeOMNTCYTN27c4Pfff+eNN95wuo985APgnEpd1iuEEEIk509W00G/RgwxhBPu9HmXL18mZ86cmWJkxW1JCsDq1at57bXXuHLlirsukSo5cuRg6NChhIaG8uuvvzo9cjJOTQDgPTL3PUAhhBCe4zSnWMYSDuqDTo+wZJaRFbcmKQDnz5+natWqnD592p2XcZtc5KIRTfhJTTc6FCGEEIJC+hFuEEYczs39DAsLI0eOHMkf6IHcXju+YMGCLF++nLJly7r7Ui43Vo3ngDosCYoQQgiPcU5dZoYK4T2ce1r06aefpmfPnm6Oyj3cPpJyT1xcHLVr12bjxo1ur6WSLVs2lFLcvHkzxefmJCdNeJn/SWIihBAiAyio8xFGGHHEJXvskiVLaNy4cTpE5Rrptgqfl5cXs2fPpnXr1kk+ApxW+fLlY8SIEaxYsYLnn38+Rdd6j24cUkclQRFCCJFhnFdXmKFmOTVfskmTJowfPz4donKNdBtJeVDv3r2ZMGGCy4u+5cqViz59+jB06FCsVitfffUVH330kdMjN0/yFAtYQglV3KVxCSGEEOklr87BTZK/k5AR5qqk20jKg0aOHMnnn3/u0sX/smXLxltvvUX//v2Ji4vjyy+/ZNiwYcDd0RWTKfm3eph/aUQ95ut5WPGs8v5CCCGEM3apfXynxiV7XLly5Th+/Hg6RJR6hoyk3DNjxgzeeecdoqKi0tSPv78/bdq0Yfz48QQEBDB79mw6depETEwMVapUYcyYMYwcOZLly5c7NXrjjz+z+I36qgEmY/I4IYQQIs2a6kb8QdIL4V69epXs2bN7ZF0VQz+B27VrR3BwMIUKFUp1Hz4+PrRs2ZLPP/+cgIAA5s6dS7du3YiOjqZixYqMGTOGatWqMWvWLBo0aOBUn7e5TWua85X+gmiiUx2bEEIIYaRFahldk5mrkjdvXtq2bZtOEaWMoSMp92zbto1mzZpx8eLFFJ1nNpupV68ekydP5vHHH2fDhg28/PLL3Lx5kxIlSvDdd9/RsGFDlFJorXn++efZvn270/2bMPEhH/Oh+ggffFL6toQQQgiPkUdnJ4KIRF+vUaMGa9euxcvLKx2jSppH3MuoUqUKK1asoHr16ik6T2uNv78/+fLl4++//6Zz586Eh4dTvHhxvvrqKxo0aMD58+e5evUqx44d49ixYwAUK1aMgICAZPu3YmUkn9FNv0uYdr4ksRBCCOFpdqsDFKVYoq9v3LjR40ZUPCJJAShfvjzz5s2jQoUKTj82bLVamTdvHoGBgTRp0oTQ0FAeeeQRBg4cSNOmTbl69Spdu3bl0qVLbNu2jcjISJ588klWr17NuHHj8PPzS/YaGs10fuZVWhKhE89AhRBCCE9WhCIcVsfJTW68cDxaMm/ePGrWrElcXPI1V9KDxyQpAPnz52f9+vV06dIFs9ns9Hnbtm3j6tWr5M+fn48//piOHTsSGRnJwIEDiYmJoUSJEixbtozixYszffp0ihQpQunSpVM0F2Ydf9KURpzWGbO8vxBCCAFwUV1jhvo10dc9aUTFo5IUuLv43/fff8+bb76Z4vtiOXPmpHnz5lgsFvr3709wcDBt2rQhLCyMnTt3MmnSJCpVqsSRI0cYOHAgoaGhFC9enNy5czvV/yY28jRPcVKfRMsjykK43GD9AT5a2W3ZtB95dU5K65LU1S/RR/fmd/07V/VVYp1cv0SkXjTR3Ejwy4pr61yJ9NWSVqxR6z1+RMXjkhS4OyF20qRJfPbZZ2TJksXp8w4fPkyzZs0YNGgQwcHB5MqVi3LlyhEXF8eUKVOoUaMGhw8fZtCgQfz999+UK1eOadOmsWTJEqfXFooiitrUZIlenNq3J4RIoWiiuUk4xznGX6xnEuN4heaU4yle021Yq9cYHWKm9gs/kV/nttkuc8nosEQa1aQWM9SsRF/fuHEjGzduTMeI7HlkkgJ3E5UPPviAadOmpShR2bVrF5MmTSI6Opq8efNSoEABChQoQM2aNTl//jxDhgxh6dKlFCpUiCFDhlCrVi1eeOEFVq1aRfny5Z2aD3OWs7SmOT/r/8m3CSEMdJ1r/M4CGlGfqfp7p9YuEULc15LW/Kn+SnREJTAwkIgI4+ZjemySck+7du1YsGABjz76qNPn3HuqukSJEuTJkwez2cylS5cYMWIES5cupUiRInz22We0bNkSi8XC2LFjuXXrFgsWLKBKlSrOXQPNAPoxWo+SREUIN/pGfcs36lu+YBTv8yHNackjPGJzjAULPenKOP2dQVEKkXHVoCbBKiTR18uUKRP/dGx68/gkBaB+/frs2LGD/Pnzp+i8v/76i61bt3Lt2jW++OILgoODyZIlC71796Zt27YopXjzzTd5//33GTRoEPnz52fKlCnkyZPHqf5vEs7HfMiHepDcFxfCTXrSh570ob8ayAg1kjlqHofUMV6no823P41mOEM4q8867MeKlYv6IuP0WOrqQArr/OTQ/pTQT/CG7shmvdmp4o13uMNmvZleugcVdFny6Bxk1b48oQvTTDdmvB7HBX3B4bnRRLNdb6OrfpfSuiS5dFby6VxU0RUZpodyVB9NcjQoLMGvKKLQaI5xjHf12xTXj5ND+/ON/jr+HAsWIohgnV5LD92N8roMeXR2smk/HteFaKCDGKu/45q+hgWLzfViiI6/TkLh3LSLJyGN5ja3ma/n0UI3paguQoD2obAuQJAO5Ef9Q5LzW2KIsbuGFSuxxLJRb6CZbkIBnZfCugBnkIca0qIVryQ6onL27FlKlixpQFSAzkDq1q2rgRRtWbJk0U2aNNE5c+bUefLk0Z9//rmOiIjQWmt98+ZN/fbbb2ullK5UqZK+c+eOvnXrln766adTdA1ffHUX3tZhKlLHKC2bbLKlchvAILv/X4kdG62s+hNG2B1fmSr6toq1OfaMuqjfo7t+hEeS/L8cSG29nV2JXnMWv+mKVNZeeCXZz/t8aHfuOjbpFwnUCpXoednJrtvymj6sQh1eP+Hx3emlR/GNzkMem/Ze9Ik/503e0UV4LMnrAjor2XRv+ukIdSf+3PFqUop+FiaMdwo/6FI8meQ5hSikh/OZjlBRdudPUz/bHb+XQ7ozXbQ33vFtCqUPqiOG//vNDFstXkz072r8+PHp/rmfIZKU6OhoXaJEiRQnKA9uJpNJ9+vXT9+6dUtbLBY9e/ZsvW7dOm21WvX69ev19evXtdZaX7hwQefOnVsXKFBAV69eXfv4+Dh9jUDq6IvqmuH/yGSTLaNuKUlSYpTWt1S0LkBBm+PNmPUedTD+mNsqVjeleYp+Xmxjp811opVV/8ZCbcLk1PkJk5R1bEo2sXlwq0EtHa5u273fhMeVoKTNh/W9recDSUpucqfovffnfR2trDpGpT5JuaMs+jsmpOjcgXyg7yiLzft1lKTUo6FdmyQprt2ykjXRv6dFixal6+e/59S+TcK8efPSfD/MarVy/fp1AH755Rd69uxJmTJlGDhwIK1atcJkMnHu3DkGDRqEl5cXgwcPpnPnzkyaNImPPvoIi8WSzBXu1lJprVswjomUU+XSFK8QInk++PAxw+jBu/FtVqzsZQ+lKQ3Al3okS1hkc15JStGcluQiF8c5zhx+JeKBpe0H8wFL+QPF3Yn0f7OV9rSxuy3xNOUJoj55ycttbrOdbaxmlV2cQxhscxvHjJkg6lOVasQSy0IWsJ+98a9vYgND9GBGq2+TfP/HOArAC1QliPr44sthDpMX21vWWchCZZ6nLOUoQAH88COSSA5wgCX8bnObaxzf0lm/wZPqqSSvnZR/+IehDLZp88abtrxOGcpwhtPMJJhw7lfyHs1XPKufpbV6Ncm+V7Icf/xpRBMq8AxxxLGVLXjjeYvjZVR71UHq6kBCsV8huWnTpvHzPtNFuqZEqUQiGZ0XXk5/s7m31alTx2Y/S5YsOigoSA8YMECXLVtW+/v762HDhumoqCgdFxenBw2y/2aX3PYYj+td7Dc8G5ZNtoy2pXQkJUZpfYQTdueMUWN1jNL6OKftXvPHXx9VJ236mMRUu+O2siP+9bd5z+6bezNa6Fsq2i6eE5zVM9Ss+P1VrLPruwOdbEYNTqizOgc57I47yFGbvhO+rlC6Fa/oO1gS/fNpQzt9hBOJvj6LuXb9TmSKzTET1GS7Y06r84n22Yf+NseaMevfWGBzzGa2a68Eo0BB1Nc3H7jt42gkRaH0OCbqaA/495rZt8Q+42rVqpVun/8eP3H2iy++SPS1YBXCcD5L9NEpR9assa2nEBUVxapVqxg9ejSnT5+mR48e9O7dGz8/P8aNG8e4ceOAu6stO/so9GlO0YA6/KpnyZM/QrhZLuyLMd6b6Pk3W+1e+44JPM7jNm0taRU/anLPJMbH/34rm21ee5ryBKsQhwuPFlKFeJX71TqnMdXumC68hemB5xYKUYjhjLA77m+22LU9qCjFmKSmYlKJ/ygPViEUUAXYqrfyk57GCP0Jg/UgBup+DND92Mhfduec4mSS103OX6yz2a9IJWqrOjZtlVQlWtLKpu0oh5NcAA+gNnV5S72Dc4uniLRIbPXk48ePc/To0XSJwaNv94SEhDB48GC7dm+82a32U5JSoOBRXZAedCWaO2m6XtOmTfnoo4/Ili0b06dPp1+/fgB4eXnRtGlTWrVqRZ8+fbh0KfkiRpe4xFt0RmnFK+pVmx9IQgjXSVhUTKEI4O4Coqc5ZXf8O3ThHd0l2X7XP/BBm7CfqlTHF1+n4nOUKJWngl1bK1rTl542bcklC89RiWxkTfR1K1Z26V10pj2H+depeIFkE4XkJLxNUJRi+ONvd1wVnmcO98uzX+ZKsk9YdeGtFH0xFak3Vk3gpD7BcpbZtJ87d45SpUqly20fj/7knDlzpsP2FrS6m6D8p4PqyC/MoAAFUn2tQoUKMWzYMLJnz87ChQvp2fP+D4ugoCCGDx9OmzZtGDJkiNN9xhBDFzryhf7c4SN8Qoi0W4p99ef83C1XEMXtVPd7gfPxv7+doJ/sZLcbeUlMGDfs2hx9YDsaEUp43YTykQ8zia9ztkQvpg61UpSgAKR12Y9IIm32ffFz+EUtIEGCFUM0VpKe/1eaMmmKTaTM72ppoq9NnDjR7df32CTl1q1bLFu2zOFrCcv4mjDRUrViEcsphPOLBj6obNmyFC1alFOnTtG1a1du3ryJUopq1arxySefULZsWUJDQxk1ahRFihThsccec6o6bSyxfMowvtCfSzVMIVzslr7F53xm02bCRHmeAew/BAGyko3sTvzy4/4q6Qn7CSPM6Q/y3OS1j5tbdm1XuWLX5ij+B3njnWSyNJHxNomOP/58xheEcpZoZSVGae644ZZ0VrLZ7N8hyuGt7wcnK8PdZCappAvAXzlfgVy4xiq11mF7SEiI29f28dgkpWLFig7bBzAo0XOeUc+wTK2iBrVSfL2oqCji4uK4cOFC/B96lSpV+OKLL6hcuTIXLlygQ4cO3Lhxg++//56VK1cSFBSEyZT8H6FG8xUjeVe/xXV9PcWxCSHsWbHyGZ8QnqCIWE1qUYxiADzBE3bnBTOLqyo8yW0Bi7mi7vdblKI2fWxgPVHaudvL1alu17aLnXZts7Cv+Jnwuim1ix02+y1oxQA1kMKqUHxys4H1yfbjKBFKaqS/JLaFv45xzG50BWAzm2z285Mf3weSQ+EZilOc4pSwa9+8eTPr1yf/7yctPDJJmTlzJkeOHLFrb0M7Rqovkzy3NKWZpxZSkUpOD8cCbNiwgT/++IPnn3+evn370rFjR8aNG0fNmjW5ceMGjRo1YsuWLURERDBr1ixy5szJjBkzePHFF50aUdFogvmFNrzi9A83IcR9Gv6rNhrDeX2e5vplvmW0zTFZyUYIc+K/jVdRL9h9M29Pm/jKrvq/XxYsRBPNMX2MTroDdXnJZqSkaoJE418O0ZKmhOvw+BECjSaGGE7qE4ToGfHHvsW7dj+LpjKFO9yJv/4xjjGC4TbHmDHzAtVS94f1n4SJQRhhRBONRmPFyjnO0YVOyfbjaMTmFKcSHU16kUCb/V3sYLFeFD+abMHCer2O31lgc9xTlCZbglEYYbzCFOGQcjxRtm7dum69tkfOPgoJcbyGwGvqdafOz0UuVqo/GaD7EswvTt9m6devH1arlUGD7o7WKKW4evUqvXv3Zu/e+zUMfvvtN/Lnz8/w4cOZPXs2H330ET///DOxscmXxl/PnzSgDj/rYIqqYk7FJcTD7H09AIA4YrlJBKc5xW522c31UCi+ZBR51f3bKwUpyFeM5n36xycTkURSm1pU0zV4lEdRKK5zjeMc4wD7HX7j76Q68z/9A3cemJz/J6upRhVe0FXJQU6iucNhDrOFTfRlQPxxL6gXqKODWM3K+LYFzOO8Pk95KmAhjrX8aXNbRqH4gI94QtmPBKVEcUrwL4fi91fwB610c0rxJNHc4S/WO1VOPje58cLLZvmPLnSirg6Kvy32sRpKdrID8Ip6lal6Svwol0bzDl2Yp3+jKEW5yEWWs9QmyVEo3uIdpycki/T3Ht2YwiS79okTJ9K9u+MngdIs3R52dtKtW7ccPpcdQECKn/G+reL0m7ydoloqXl5eumfPnnrdunV69uzZunLlynbHFClSRM+ZM0drrXVcXJy+ffu2fuutt7TZbHb6OrnJo49xKr6yo2yyyea4Toozmz8BOphZDvuMVlb9Gu2TLQv/4OaDj1310xWs0X74OXV+woqzf6udSVbxTLjVo4GOVDF27yXhcb3om+Sf51A+SfJ9K5TuQCe79vfoZtPPAXVE5yJXkjGfUudszpnGLw6r4TrazJj1J3xuF7+jOin/qmOG/zt9WLd1aoM2Y/85V61aNR0XF+eWnMDjbvc8++yzDtv/VjsctifFCzMT1BQ+5XP8/3skMTlxcXFMnDiROnXq0K5dO7Zv327zeuHChRk6dChNmzbl+vXrfPHFF2zYsIFx48YxZMgQvL2dq3p4nWvUphZr9OoUvy8hxF0FKMBbvMtqtZY2qq3DYxSKMWosn/I5jyWoj5JQXvLSkc4sZ5Xd0yiBqjbzWcSLBKa4uumzPMtatZGmNEvyNnQuctGdXnyvfnRJBdV3VVfa0zHRyahv8BbjlP0344RKUIKhfJqiWzEdVEemE+LwcesHFaUoYxhLfzUgyeOE8apRw+Gcz82bN7Nu3ToHZ6SdR93umTlzpsMCMW1oRymeTFWfZky8rz4gn36EHnQllphkz7FaHc92z5MnDwMHDqRz585YLBYmT57M8OHDKV26NGPHjuXChbsrnyqlnHp+/DSnaEIDftYzeVVqqQiBDz5kdfBEiw8++OJHPh6hCEUoTwVqU5dqqppTH+a5yc0g9SF96MdCvYCFLGAve7jBNbKRnXI8TVOa01K1SvKDuK4Koi5B7Nf7CWEG6/iTc5zjDlHkJR/P8Cx1qUdzWtidW4EKzFULOawP8yM/sJbVXOQCXnhTlGI05mU60JH8KvHV3hP+2fg6KCb3oHzkY5r6mc76TUbzJbvYiS9+VKYK7/Mhz6hnHPbrk+CWi0LRXfWgrg5iDF+zkb+4xCWbJ3YcJV+tVGta0ZrVejW/8D92spOrXCYnuShNGdrRnpaqZaJ/h95428Wm5OekoVapP/HR9n/XdevWdUvdFKXd0WsqNW7c2OFjxwvVEhrROM39L9aL6Mo7dsWfnJEjRw769+9Pr1698Pb2ZsKECXzyySfcvn0bk8lEoUKFCAoK4rnnnuP69etMnz6d0NDQRBOeB2UjG+/zIQPVIElUhBBCeLReurvDuSkTJkxw+dwUj0pSHD0lk4UshKvUF2RK6KK+yNM8ZbOwVXK8vb0ZMGAA77//PlmzZmXOnDm88847REbenWBnMpno378/gwcPJnv2uxPHduzYQc+ePdm+fbtTiYpC0Y2ejFKjZaEsIYQQHmszm6ijX8SSoPBejRo12LBhg0uv5TFf27/66iuH7f+o3S69TgFVgE1soxKVnT4nNjaWFStWcPLkSX7//Xf69+8fn6AAZM+enaZNm+Lv78/48eMZMGAARYsW5dtvv6Vw4cJOXUOj+Z5JvKffSVECJYQQQqSnalSnJi/atZ84ccLla/p4TJLy448/2rW15TWb8veuUkqVYh2beJ6qTtdS2blzJy+++CIdOnTg4sWLwN2Rn3ujPwEBAVgsFvbv38+3335Lu3btqFChAhMnTsRsTrqC4j1xxBHMzzTS9bjK1dS9OSGEEMLNVqo1dm3nzp3j1Cn79bLSwiOSlJ07d3L1qv2HclvVzm3X9FHe/MYCm9VKk3Pz5k2iou6vwVO7dm0CAwMJCwtj1KhR3L59mw8//JDKlSuzefNmxo0bx7Jly5y63fOg7WyjtW7Obu3aUSQhhBDCVd6lq13bDz/84NJreMSclBkzZtChQwe79hjl/tC0hr70YgoTHa4tkZjs2bMzffp0SpUqRYMGDTh9+jTBwcG8/vrrLFu2jPbt2xMREYHWOsVJyj0FeJQl/EF5VT5V5wshhBDusoG/qKPtb/u4Mq3wiJGUX3/91a6tPwPT5dpKwUj1JUP5NEUTViMjI9mwYQNFihShV69e5MmTh7FjxxIeHs5zzz1HwYIFsVgsqU5QAC5ygSbUZ6Je6BgAACAASURBVJYOSVECJYQQQrhbUYo5XNNn8uTJLruGR4ykOHqq54A67Jb5KEmZq+fwJp2JIir5gwE/Pz9++uknWrduzYIFC/D396dOnTqcP3+ewMBATp9Ovty0M7zxYQazaK5apGg9IiGEEMKd6uu6rMV2foorn/LxiJGUhJ7hWfI6WN7c3Vqq1gQzixIJVvBMzJ07d+jVqxeTJk2iSZMmNGrUiPDwcH755ReuXLFfdj21YomhA+0YqUc4nUAJIYQQ7vamesut/Rs+klKyZEmOHTtm09aO1/lFzUjkDPc7oo/QiHqcxvlZyo0aNaJEiRLs2rWLrVu3OrXYYEopFP0YyAg1MtEy10IIIUR6clSBduXKlQQFBaW5b48qi3/Pq4mswZFeSqlSLGMF/XVfVvJHosuRP8hRpVxX02jG8DVn9Rm+ZZzNaq9CCCGEEd7hPaYyxS19e+TtnsY0MToESvEkIWo2L6Sglkp60GhmM4u2vEKUvpP8CS5wnOOs1WvT5VpCCCEylrbqNbf1bWiSsmvXLq5du2ZkCEnKRjaWq1W8xbt4edig01+sox6BHNPHkj84DU5zmk66PQPoQyyuv4UlhBAi85k2bZpL+jE0Sdm/fz83btywaTuojhgUjWP++DNOTaAN7Txu8b+/2cqLVOO4Pu6W/sMI43Xdhm1sZR97WawXueU6QgghMq4a1CSQOjZts2fPdknfnvWp66HMmJmmfuFzvsSfAKPDsXGFKwTxEn/o5S7t9za36a17sp1t8W2TGM9tXLfYoxBCCJEUSVKcZELRXw1kDGPx8rBVis9ylha8zEw906lJvsmJI47eugezmGFTRG4ve/iXQ2nuXwghhHCGRyUpFXiGPAbUR0mJLupNfmM++XjE6FBsWLDQm+6M0aOxpLE67bf6G+ZgXwU4jDDmaNcM4QkhhMg8uqg33dKvoXVSElaaNbo+Skqc1Cd5gUpcx/Mm/nagE1PUDykq8w93nxz6Xk+hF90SPSYLWTjLJbKpbGkNUwghRCaSsF5K9erV2bhxY5r69KiRlIzkCfUEf7KeCjxjdCh2ZjGTt/QbXMV+Zemk/KGX8wlDkzwmiii+5qu0hCeEEEI4RZKUNCijyrKZ7VSjhkfVUokjjlnMpLGuzxWcK8+/W+/mFVpwzYnEZj5zuczltIYphBBCJEmSlDTyVl7MZi7t6ehRiQrAbnbRWjdnj96T5HEH9QFe41ViiHGq31OcZKve4ooQhRBCiER5VJKSUeajJJRf5Wea+pmBfOBRtVQ0mi1spimN2K/3OzwmQkfQiuYc46jT/UYTzQ9876owhRBCZAJrlWtWPn6Q53yiZgIfqSF8wSiykMXoUGxc4DwNqMtc/ZvNI8VX9BVepSXHSXnV2tWsZJvelvyBQgghRCp5Vq33DC4LWeir+vOUfop2vOpRhc8uc4m36Iy39qapagZoetODNaxOVX8WLHzOp/zGfI+7zSWEyDi88JKfISJRkqS4QQPViNl6Pr3oxglCjQ4n3m1u05HXGKY/4zQnmcucNPW3nKVk1b4uik4I8TDqRg+ykwOAZ9WztKCVwREJTyJJihsoFPVVfRboxTSmHuc4Z3RI8aKI4ke+JxT3rPcjhBApMYkJ93f+q9rVno5MVdM8bmFXkf5kTooblVFlWKnW0oCGRocSLyvZOMZRm7kpQgjhSWYwHX/tzTA9hGF6iNHhCAN5VMXZGGVYKG51m9s0001Yz1qjQ3EPpTCZzEZHIYTIAKyWuFSdd0AdoSQlXRyNcKVNbCRQ14zfd0XFWRlLSwf++LNYLaOf7s3P/I84Uvef1FM9Ur4yjYNX4ZM1u9GhCCE83P5fxhMTEQ7A1QO7OLFivlPnldWl+JCP6a36kpvc7gxReBAZSUlHFqz00T2YyhSXrFbsKbz8A2j8y0oKVKxmdChCiAzo8LxfWP/Bm2iLxanjo1QcZmT01tO4YyRF5qSkIzMmxqoJfM6XZCWr0eG4TNztSI7M/8XoMIQQGdSTrTrxztE4Kvf7lMr9Pk32+Czai966RzpEJowmIykGCdEhvElHLDj3zcHTKZOZ9lvP4Z83v9GhCCEygVmBJbh5KumnENvxeoatVJ4ZyUhKJvKaeo25LKAAjxodiktoq4WdEz/HwJxXCJGJtFt7jEp9P8E3R65Ej5nFTPronukYlUhvkqQYqLF6mfVsii9klNGd/nMpkRc9pyaMECJjq9hzKJ13XUeZEv+omsQEOun26RiVSE+SpBisqCrKejZRicpGh5JmkRfOcHG76xeYEkI83N45ZqH6sHGJvj6LmTJHJZOSJMUDlFVlWc8mqlHd6FDSxBoXy/7pE5I/UAghUqhcp54EfjM90dcnM1FGVDIhSVI8hLfyZh6/8yZvZ+jFti7t2sLZjalbtFAIIZJSqkWHJEdU9rGX61xLx4iEu0mS4kHyqDxMVlMZxqcZN1HRmp2TRjpd70AIIVKiXKee1B4T7PC1/eyjgM6bzhEJd5IkxQP1VwP5mjH44md0KKly48g+rh89YHQYQohMqmTz9kmOqMxnXjpGI9xJkhQP5IsvvVQf5vM7AQQYHU6K3bl+lVNrFhsdhhAiE0tqRKWtbs1RjqRzRMIdJEnxYHVUEDP4lcd4zOhQUuzgjMnx63MIIYQ75H6qPL45Ha/jM1HLJP7MQJIUD2ZC0Vg1YTmrKZLBEpXIS+c49OuPRochhMjE8jxVns47HU+UncT4dI5GuIMkKRlASVWSP1hNI5pgzkALVx9ZMJ07YdeNDkMIkckVrd/CYftCnFthWXguSVIyiJKqJLPUHCrwjNGhOC089DDXDu0xOgwhRCZXb/J8cjxR0q59vpYJtBmdJCkZyBY2sZN/jA7DaZaYaA7Nmmp0GEKIh0C5jvYVZ38lhCMcNiAa4SqSpGQgkTrK6BBS7PiSXwk/eczoMIQQmVy5zr2MDkG4gSQpGcRfej2taGp0GKmyc9JItFWKuwkh3KtoPfu5KeX0UwZEIlxFkpQM4ChH6UTGXZPi3KbVRJw9ZXQYQohMrmjDVkaHIFxMkhQPd4YzvKk7cY6zRoeSarcvn+fc5jVGhyGEyORKNnvd4QRakXFJkuLBwgjjVd2KrWwxOpQ00RYL+35OvIS1EEK4k6yOnHFJkuKhooiir+7FLnYYHYpL3Diyn9A/5HFAIYR7tf3Tvhy+FasBkQhXkCTFA8URRzf9HjMJzlT/uXZ/PwpLTLTRYQghhMggJEnxQN/qb5jHHKPDcLmbJ45IcTchhBBOkyTFw0zRk/iYD7nDHaNDcbnom2GELpdbPkII90psdWSR8UiS4kGW6iUMZwgabXQobvPvnGlEXbtsdBhCiExMmeSjLbOQv0kPsUfvoR2vcJ3MvSBfdNg19v0iq5MKIYRIniQpHmC/3k8bWmXKWzyOhC6dQ9TVS0aHIYQQwsNJkmKwSH2bNrQklONGh5JuIs6c4Mq+zPFotRBCCPeRJMVgWln5im8YxIfUpi7ZyW50SG5njYtl//QJRochhBDCw0mSYrCsZKWJepnP1EiWqRWc5gI/MYPyVDA6NLc689cfXD242+gwhBBCeDBJUjyICRP+yp/X1ev8o3ZzmFCmM5O3eZdc5DI6PNfSmp0TP8caF2t0JEIIITyUJCkerKgqSlv1GhPUZJ6itNHhuNylfzYSfvKY0WEIIYTwUF5GByCSp/779aAan07Caonj8q4tXNq9jVtnTqB1xiqhH3X1MmfW/0GuEpkvARNCCJF2kqRkULmfLMejlWuiO3THaonj+qG97A+eSOjSOcTduW10eE7R2sren8bydJc+KKWSP0EIIcRDRW73ZHDKZMLs7UO+8pUI/PonOmy7QOPpK3mu51CKvNgAv1x5jQ4xSZHnT3F47s9GhyGEEMIDyUhKJuOTNTuFawRRuEYQ2mrBEhvLuU1r2PfTd5zbtNro8Bza97/vKN74Vbz9A4wORQghhAeRJCUTUyYzXr5mHq/dmMdrNyby0jku7tjMxe0buLL3H64e3I0lOsroMIk4e7e4W8HnaxkdihBCCA8iScpDJCB/IYo3eoXiDVtjtViIvnmDowtmcHDmFMJPHjEsrtjICI4tCpEkRQghhA2Zk/IwUgqTlxdZcuej/Jt9eXXlAV5Zvo8an02iZPMO5Cz2JMpsTteQji0O4db50+l6TSGEEJ5NkhSBycuL3E+Wo+zrXQkc/TOvLN9L6yW7KNO+G94B6VOmP/ZWBLunfp0u1xJCCJExyO0eYUOZTCiTD7mffJqan06k6uDRXNm/gwt//8WVPdu4tHur21YwPr1mMbfefZ+sjxZxS/+pobXmzLrlHJ73C1f2buf2lQtYou+vVl17TDAlm7c3MELPERMRzk8Vctq0VR08mvJv9TcoopRb+34Xjsz9KX7/5ZA/KfhCoM0x/4z7lB3fDQPA5OVNve8X8nhgo3SNU4iHhSQpIklefll4tFINHq1UA22xYLXEcWH7Rvb9PI7TaxYD2mXXunXhLJd2bCFrE89JUo4unMG697ugLXFGhyLc7PbVyxz7fWb8fqFqdSn4/Et2x1Xs8TFH5k8n4vRxrHGxrO7Vjo5/n5en04RwA7ndI5ymzGbMPr4Url6Hhj/8Tqd/LlP/+wWUf7Mfj1auiVeWtP2Q1lYL+4MneEzl3JiIcA4ET3xoE5TosOt8X0zZbPt+Hmt0WG5htVhY278D1tgYALyyBFDjs0ngoMigMpko8XLb+P24yJscWzwr3WIV4mEiIyki1fxy5+WJoOY8UbcZVkscMRE3OboohIMzJxN27F9SM8py8Z+NXNj6FwWr2n+DTW/R4TcICz1s05bnqfLU/m4m2Qo9cbeQno+PQdEJV7p2YCdnN66K3y9QqQY5nyiR6PFP1GnK7slfoq0WAE4sn8dTr3RBmeR7nxCuJEmKSDulMHl545crD0936km5Dt0JP3mUC9s3cHnX31zZt50bRw86t+Kx1uz+/ivyP1cVs6+v+2NPgjU2hthbETZtZV7vSu5S5QyKyLP5ZMvBu6Guu/2Xnk6tXQb6fuxFatVzOIpyT95yz5Gz+FPcOHoAgAv/bOD25QsEFCjk9liFeJhIkiJcTplM5Cz2JDmLPclTr9ydzxF58RyH5kzj0K8/cOfa5STPv7LvH24cP0TeMs+kU8SOaa3jvynf4501m0HRgDUujn9n/8iBkO+5feUCOR4vwXPdP+Kxlxo6dX7MzTAOzfkfJ1cv4ta5k0SHXccnRy5yFnuSwtXrUqJJW7IWeszN7+I+bbVycvUijsyfzrXD+7hz7TJZ8uQnz1NPU6pVJ56o2zRV/V4/coDtYz7m4vZN+ObMTdH6zXnmvQ/wzZ4z0XPObV5js/+og7koDzJ5eVH+rf6sH9QFgLjbkewPnsjzA0emKmYhhGNKa23YV5+Ei8rFqIz5LSw9vKRrsJlN8ftNZ//Fo5VrGhhR6lhiorl2aA/ntq7jyp5tXN67nciE9VGUolLv4VTsNdSQGMNCDzO77lNOHXvv6Z4/+3fk6IJgm9cSjipEnD1JSK2iNm0vjfofT7Z+w6bt+2K2/y8CChSm3uT5bBzanSv7ttu8pkwmSrXsSLUh3+GTLYfj93PiKLsmfs7xpbNtnkxKyC9XXjrtuMKdsGv88pzzaz7de5/OPt2jrVb+/e1/7Jn6NeEnEi8imLN4aZ7t+iGlWnawe23b6I/YNck2IXjnaCxbRg5k309jSXirMXepctSbPI8cRUvZ9RUbeYvpzxcg7nYkAL45c9Nh63nMPkmP5MXciiC4Sn7i7tyt2uyXJz8dNp/G5C23AI12bFEIa/q8Hr/fhnYEqxADI3o4bGIjgfr+51L16tXZuHFjmvqUG6giXZl9fHmkQhWeffd9gsbPpt2awzT7bRPFGrdBmf8b2NOa/b+MxxrrxO2hh0DMzTDWDepil6DA3Q/8IwuCOblyocNzw0L/Zd7Lz3Fk/i9JJijpad9PY9nw8XtJJigAYccPsW7QGxycNdWpfjcO78X+n8fhaC7U9SP7WdqpgcNJ0Gf+WhGfoAA8Ftg42QQFwCdrNnIUu5/M3rl2ifATR52KVQjhHLndIwyjzGbMZjMFKlajQMVqRIff4OKOzVz4ez2X927j8PzplG7zptFhplLi8xlSKvb2LcKO/0uRFxuS44kSXDu4mwv/bIyfQ6EtFkJXLqBUq04258XdiWLDkO7E3b5l0+6bIzcFqwYSUKAw2hJHxNkTXNq51WXxJuXsxtVsHTnA5gkus48vj9d5mayPFiHi3ClOrVkcP39JWyxsGtaD3KXKUaBitST7PjhzMjmKlqJwjSCiw65zfOkcm9t1EedOcnHnFrsRyDN//WGzX7h6XaffT/bHinPt4K74/bCTR8lVqqzT5wshkiZJivAYvjly3V0MMbARVkuczUTG9JSjaEne3H+L8JNHmdvkWZvXXvpqGsUbt4nfNyUyuTfhrcy0KtuxB1U//BqT2Ux0+A0Wv16Ha4d2x79+dd8Ou3Mu7drKha1rbdpyFi9N01/X45czd/yTKFarhairl9ny+QAA/HLk5s39t4i+eYMZ1Wxr1rzwwSjKtu+WqvegrRYOz/3J9hFzpWjw4xIKVQ1Emc1oi4VT65ax4u1m3BsRscbFcnRhcLJJijJ50eDHxeR8oiRaWwl4tAh7po56IADNjaMH7JKUK3ttR6jylLH9O0+Kf/5HbfYjL5x1+lwhRPLkdo/wPP89LWTUvX2lTHj5B2D2y2L3msnHFy//gPjNZE4kz3dhkuKdNRulmr+OycsLlMI7W3ZyFn/S5pio61fszjv061QenHJm9vGl6odfkyVPvrtrMyl198/a7EVA/oLUHRcSH7uXfwBefv52fZp8fGzev1cKCphZY2O5emCXTVvhmvUpXKNu/FpRymzmsRcb8mgV20Ti0q6/k+3/2W4fkLNoKVAKZTLzlINRuOjwMLu2m2dO2uxnS8Hk4YSTcaNv3nD6XCFE8iRJEcIdTC5MUrIEkOOJ+xM+TSYz3gkK51ljou3Ou/jPJpt9L/8A8iczGuFO2moh8qLtSEO+cs/ZHWcym+0e8444e9LuuIRKtbS93ZU1v/3jwPeKtT0o9tZNm31v/6zJXusec4JE2hJt//cghEg9SVKESCfamrpKuspsxjvggQ9OpZxapfrO9as2+yaT2dBHqLXW8U/C3OMwIVAKryy2ozgJ59U4kq3w4zb7JoeTX+1vIXoF2MYQGxVpd0xiLAmSHinuJ4RrSZIihBtoi8Wu7U7YtVT2phxUMk1+pMYvZ27bmKxW4iKd/wB2NaUUXr5+Nm1xd27bH+ggmUmYtDhi8vK2u54zshWyTW5unT/j1HkAMTfDbfZ9kqjFIoRIOUlShHABu7kpWnPnhm1ScnrtsnSMCPI987zNfmxUJJf3bEtbp2mYy6xMZvzzF7Rpu3pwt91xVouFG8cO2bRlLei+InN5y9recnpwQnJybl++YLMf4OAWkxAi9SRJEcIFfHLksms7tXpx/O8jzp1m9+Qv0zMkSrd922bfEn2HrV8NIva2/WhK7K0INg7tbtv43wTmB8VE2I4cpITJy9uuivCZ9X9wcecWm7YL2/7iwt/rbdoeSZBwuVLhmvVs9s9vWZvIkfZunj5us5+jaEmXxCSEuEseQRbCBfI9XdGubfPnfblx7ABmvywcXzoHS0z6FlMrWKUmBSrV4OI/9ys+Xju4i5AXi/FE3aZkL1IMbYkj/NQxzm5cjTU2hhqfTow/VpnN+ObMTdTVS/Fth2b/iNUSh0+2HCig4AuB5HUw+dURZTZTskUHji/77YEaL3EsaV+HUs07kP3x4oSfOMKRBcE29U1MXt6UbPpaGv80Evd4YCPMvn7xxe5OrllMzdhYTN7eSZ4XG3mLsNB/4/d9c+YmZ7EnkzgjY4qNvMWR+dMp1bID3gHGzWkSDydJUoRwgSfqNsMrIBtxkfcXJIy5GcaeH0bH7xet35ITK+anW0xeWQKoPnw885tVtqm0eufaZf6d/aPd8X65bEvhm318yVWyrE2SEnnhDDvHfxa/X23It04nKQCPvdSISr0/4Z/v7i95YLkTxaFfE68qW3ngSB594UWnr5FSvjlykad0BS7vvvuY851rl7lx/BB5niqf5HknVi4kLur+nJqSLTo6Vak2I7HExrCqxyuc3bCSAzMn03zuZnwMnHwtHj5yu0cIF/D2D6DexN/wf+RRu9dM3j48/UYfXvhglIMz3StvmWdotWQnT9RrnsjTLokz+/hSrlNPfLLb38pKLWUy8VyPwbwweHSy80yyFS5K9eHjeebtASjl3h9VharWttk/n+B2U0JWSxx7p30Tv2/2y8LTnXu5JTYj/fPdcM5uXIW2WrlxZD9LOtSV0v8iXUmSIoSLFKlZj+a/baJUq85kyZsfL/+sFHmpEc1+20jVwaOdemzYHfI8+TRBE+bQbu1RKvYaRt5yFfHNlReUCd+cecj/XDWe7f4RTX+1/2AuGtSMNisPUu6N3mQrXNQlBfaUyUz5N/vy6soDBI6eTqHqQWTJWwBl9iJL3gIUqlGP2mNm8OqK/ZTt0D35Dl3gsdpNePCJqXMbViZZ8fjaoT1cP7wvfr/Ac9VSVAQuI9g5cSR7po6yeVLtyp5tzG9emSsOKhwL4Q6yCnIGkVlWQRbCE1nj4ljULpBLO+7O3/EOyMYrf+yzezz5nn/GfsKOscPj92t8MpGyHVK3XIAnOjzvFzZ89C4WB0UCAbIVKUrNzyZTpGY9l1ZXdhVZBdkYsgqyEEK4gcnLizrfzYhfiTs2MoJNwxO/fXNs8a/xvzf7+FGimfsm9qa3y3u2sWFIt0QTFICIMydY8U4zDs+bno6RiYeRJClCCMHdom7Fm9xfPPLUmkVc3LHZ7rg9P44h/L+nepTZi8Bvptut4ZNRXdyxmeVdGmNxVGQvAUtMNJtH9GHfz+OwOiheKIQryNM9Qgjxn5e+mkbNBx7D9nKwyGTZ196ldPzihcrQpQZcKTbyFn/268CdG1eTP/g/MTfD2DKiL2GhR6gxfCzKZMy8K5F5SZIihBD/Mfv4JvsYcUpWfs4oIs6eYkXXFkScCU3xudpq5eDMyWiLhYq9hhCQoKqwEGkht3uEEOIht2FoV64d2JX6DrSVQ7OmsKb3a8Q6sRikEM6SJEUIIR5SMTfDWNO3PWfWLXdJfxe2rWdpx/pcO7THJf0JIUmKEEI8pHZPHcXxRbNc2uelnZtZ1eNVu8UXhUgNSVKEEOIhY42LZc+0b9nzwzdobXV5/+EnjjC/xfOc2bAKA0txiUxAkhQhhHjIHF/6G9u+/gBrbIzbrhF54Qyrurfmwra/3HYNkflJkiKEEA+RMxtXs2VEX6wx7ktQ7om9dZMl7euy98cxbk2IROYlSYoQQjwkLu3ayururYm6djndrqktcfw96gO2fDEQbXX9rSWRuUmSIoQQD4Gbp0PZOKQbMRHh6X5ta1ws+38ex5rerxEdfiPdry8yLklShBAik7t95QKL29fl6sE01EJxgdBlc5jfrArRYdcNjUNkHJKkCCFEJhYXdZsNQ7pz69xJo0NBa83N08dY0qk+YaGHjQ5HZACSpAghRCZ2fNkcTv+5GDzoUeCr+/5hfvMqXE1LlVvxUJAkRQghMrFSLTtRecBITMmsSZTeYm/dZGXXVpxeu8zoUIQHkyRFCCEyMaUUFd7sR4Opv2Py8jY6HBsRZ0+wslsr/p37s9GhCA8lSYoQQmRyymymSK361JuygCz5Chgdjg1L9B22fNaXfT+Pw2qJMzoc4WEkSRFCiIfE44GNaLXwH7IWetzoUGzERISxZUQ/to4ciLZYjA5HeBBJUoQQ4mGhFAGPFqL+9wvJ+3Qlo6Oxoa0W9k+fwKbhvbhz/arR4QgPIUmKEEI8ZPKWeYaXQ9ZS8IVAo0OxoS1xHJg5idW92xFz66bR4QgPIEmKEEI8hHwCslL72xmUbN4BlDI6HBvnNq1mSfsgrh3aY3QowmCSpAghxEMqIH9BXho1jWe7fuhxicqVvdtY2bUVt86dNjoUYSBJUoQQ4iFm8vKmUt9PqNx/BN4B2YwOx8bN08eZ+/JznF63XBYnfEhJkiKEEA85k9mL57p+SI1PJ2Ly9jE6HBvRYddY1f0VQpfPNToUYQBJUoQQQoBSlGrentpjggkoUNjoaGzERUWypnc7dk35Ckt0tNHhiHQkSYoQQoi7lKJ441epO342PllzGB2NDW218s+YIWz6tLfc+nmISJKSQS1qU8voEIQQmVSBitVoPm8LectVNDoUG9a4WA7N+p4/+7YnOux6oset6fN6OkYl3EmSFCGEEHZylSxNo/8tJVepskaHYuf4ktksahdITES40aEIN5MkRQghhENZ8uan5cLtlGjWHmX2MjqceFpbuX54L0s71uPG0YNGhyPcSJKUDGxV91eMDkEIkcl5+WXhpa9+5LkeH3tcLZXLe7ax8JUaXNq1Nb5tYetqBkYkXE2SlAxindpo1xYdfsOASIQQDxuzjy8Vew2l2sff4pUlwOhwbMTcvMGqbq9wcvViAIfr/gSrkPQOS7iIJCkZ2MXtG7i8+2+jwxBCPASUUpTr1IOG/1vqcbVUIi+dZXWvtvzxTnNungk1OhzhQpKkZGCW2BgpcCSESDfKZKbg8y/ScNoSsuQt4NZrBQQEkC1bNpSTt5gsd25zavXvaIvFrXGJ9CVJSgYSombbte35YbQBkQghHmaFq9el5cJt+OdzT6IyYMAA1q9fz5YtWwgODqZQoUKYTKn7uFqrNrg4OpGeJEnJQHKT22H7qT+XpHMkQoiHmlJkLViExtNXke/pSi7rNn/+/CxdupQvv/ySihUrUrRoUVq0aMGKFSto3LgxZrM5xX3mI5/L4hPpT5KUDKQ6NalMFbv2fdO+NSAaIcTDLveT5Wg8YzWPvhDokv5GjhxJw4YNiYyMZMaMGVStWpWmTZvi5+fHzJkzKVeuE/gORQAAH8NJREFUXIr6K88z5NGSpGRkkqRkIL740lK1tms/t+VPtn4x0ICIhBAPO99sOag7NoRijduk6RHlGjVq8OqrrxITE8OECRPo0aMHe/fuZc2aNQwdOhQfHx/69euHj4/zk3b3spv2tOWglloqGZUkKRlMfxwnIzI3RQhhFP98Baj9zXQqvDsIpVL3sdKwYUMCAgI4evQokyZNIjz8fjXZyMhIAEqVKoWfn1+K+l3DKprRmCP6SKriEsaSJCUDakAjh+2zg0pz+/KFdI5GCCHA7OND5T7DebbHx3hl8U/x+efOnQNg3bp18b8H8PLyom7dunh5eREREUFcXBx+fn6UL1/e6YTlFCepSVWW6EVYkKd/MhJJUjKgPqqvw/aw4/8SfkK+LQghjGH28aVS72HUHDEFs0/KRjx2795NREQEpUuXJn/+/ABkyZKFt99+m7fffhuz2cyKFSuIioqibt26LF26NP42kDNucJ0OvMZ8PS/F70sYR5KUDKg2dflCfeXwtUXtXuL02qXpHJEQQtylTCZKNW9P7THTyVboCafP27x5M19//TU1a9bkhx9+oHfv3gQHBzNmzBhMJhMLFixg1qxZ1KxZkxEjRlC4cGFq1qyJv7/zozaRRNKR1/hGf80dolPz9kQ6U1prbdjFE0yyilGGhZIh+WjHk9TMPr68PGsd+Z99IZ0jEkKI+67s3c7Szg2JDrvm1PHZs2enS5cujBkzBq11fG2UxYsX07NnT3LlysWMGTMoW7Ys4eHhPPvss5w4cSLFcfngQ3d68SWjnC4WJ5K3iY0E6prx+9WrV2fjRvslXVJCkpQM7F8OEaRrc4mLDl9vOG0JjwU2TueohBDivrDQw6x7vwuXdm0BJz9uqlWrRq1atciaNStHjx5l3rx55MmTh8mTJ1O/fn3Onz9P06ZN2bVrFwAlS5akbdu2zJw5kxMnTuDMx5pC0Z5OjFHfkYMcaXqP4i5JUoSd2roWG3FcUfHuiMpa8j9bNZ2jEkKI++7cuMbSTvW5un+H0+copVBKobVGKcVPP/1E+/btMZlM1K9fn1WrVqG1Jl++fIwYMYIuXbqwbds2Xn75Za5fv+7UNUyYqEwVVrEWP5WyOTTCnjuSFJmTksH9qf5K9GkfS0w0C1tVkzkqQghD+f2/vTsP6KrK/z/+vKwKCiquoymauNS3KZcyt9Qpo2zUNHU0l6HM1PpJOYZjZPM1K5vSStNfWZrmuJBLLmA6GuMuIuOSTZZKIGpSLriBoMCH+/3DL35DQD4f+GzA69E/cu8957yvf8i7c895n5pB9PtqDy2eCsPw9LKqjWma5OXlYZomLVq0oFevXmRmZhIWFsbmzZsxTZO6desSERHBsGHD8PLyIjY2lpycHO666y6ryujnkcde4ulBV45xtKyvKQ6gJKUCWGms5gE6FHt/89inWNq5sRMjEhEpyMPbm65vfkzrIc8Dtq0DycnJIS8vj0uXLrF9+3YAfH19GTVqFGPHjsXPz49p06Yxbdo0pk+fTkxMDO3atbO6//3so4f5EHFmnE1xieMpSakAfPFllxHPYzxe5H1L9nUyfjnF8kdacmTF506OTkTkBq8qVenyxhw6vjYDrypVrW537tw5duzYQUBAAIMGDeL+++/ntddeIzw8nGrVqrFo0SLefvttDMNg9+7dWCwW1q9fz4ABA/Dysm7m5hxneZpBfG2uRwsP3IfWpFQg17nOI2Z39hJ/2+ea9RpIzzkrnBSViEhBpiWX1ISdbHz2CSzXs6xqU7duXRYuXMjDDz9MZmYm/v7++Pj48PXXXzNo0CAyMzOBG8XfevXqxdy5c6lWrRpjx45l2bJlVi2mBfDDj3eZwfPGGAwbZ3wqO61JkdvyxZedxp5i16jkS96wkk+bGRxZ8blmVkTE6QxPLxp27MFj89ZRtXY9q9qcPXuWsWPHsmDBAk6dOsWPP/7I9OnTGTJkyM0EBW78z2+9evXw9fWlWrVqLF68mIiICKpWtW7mJpNMXmMSn5lzySW3VO8n9qOZlAroOtc4y1nuNJtY9Xy13zXm4VnLqN+us4MjExH5DdMkPfUkMU//gfRTyVY18fT0JCAgANM0yczMJDs7u8C9wYMH8+abb9KkSRO+//57Ll++TIcOHZgzZw6TJk0iJyfHqnG88WYML/KuMR0vrPtkVNk5YiZFf/MVkC9VuIPG/Mc4wvvme3zBgts+n5F6knUDuwBw76hXqNm8NQBVa9dTnRURsaukr1eQm5kBwC/7dnN05e3/fbqVxWLh4sWLRd4LDQ0lMjKSJk2asH//fsLCwvD09GTy5Mm0bNmSZs2akZqaSnp6eonj5JDDx8wmx8xhsvE36lLXpjjFPjSTUgmsYgVPm3+yuZ2nj6/VU7EiIta4eiYV02L/zyjdunVjxowZtGvXjh9//JG+ffvy008/AVCzZk0aNGhAREQE9evXZ+jQoVbXUjEw6E4PolhFLaOm3eOuSDSTIqUygEEMMAYxynwWgEUstKqdJfs6GaknHRmaiEiZ/f73v+fNN9+kXbt2nDx5kvDw8JsJCtw4qPCFF15gxIgReHh48OWXXzJmzBiSk0v+xGRispUt9OFxPjI/po3RRgtqnUgLZyuRecYC5hkL+MlIoSOdXB2OiEiRvPCyKRHIysqiRYsWpKWlMXz4cLZs2XLzXvXq1Rk7diwjR47EMAyWLFlC27Zt2bx5M40bW18/KoG9PEUfvje/t+ldpGyUpFRCjWnCdmM32YbJO8a7/Jln+DPPlLgrSETE3p5i4M1/gz415pNtmFww0olgEn74W9VHYmIinTt35qWXXiIuLu7mduPAwEDGjBnDuHHjqFKlCu+//z5jxoxh6tSpNGzYkE8//ZTq1atbHetpTtOVjqw2V2HBUqr3Fdvoc08lN4GJN4s/XucavxZzWKGIiCM0pFGh3TNVqMJU4y1amq14gee5zvUS+0lKSiI5OflmguLp6cmf/vQnXn31VQIDbxwguGnTJq5evcrWrVvJyMjgrrvuIjAw0KqFtPkyucpIniHTzGKYMdyGN5XSUJIiN/lShSYEuzoMERE88GCYMYIAM4BJRJDETyW2yU9QvL29GTRoEJGRkdSsWZOEhAQCAwNZvHgxX3zxBa1btyYoKIi0tDQsFgu1a9emefPm7N+/36otylfJYCR/5oz5Ky8a46iCDid0FH3uERERt2QAfY0nWWassGkLsMVioUOHDjRp0oT4+HhCQ0MZN24cycnJRERE0KdPHwzDYMGCBWRkZPDcc88RExPDyy+/bHUZfROT/2Yyr5h/wXV7ZCs+zaSIiIhba0Mb4tnPUAYTTxxmCafr5OXlER4eTmJiIitWrODSpUt88803nDhxghEjRhAUFMTWrVvZtWsXQ4cOZcKECdSuXZumTZvi5eVFbq51W6SzyeYzPiGLTD5gFoEE2uN15TdUJ0VERMqFc5xjkPkUu9lp1fOGYRQ6s8fDwwPDMMjLy2PIkCHMnDmTOnXqsHLlSsLCwsjMzCyy3e144sm93MdWdlLVsP7gxIpGZ/eIiEilVYc6/JNYhjHCqlL1RSUaeXl5mKbJo48+ypQpU6hTpw6bNm1i9OjRNxOUbt268dZbb9GgQQOr4rJg4QD7CeUREkm0+b2keEpSRESk3PA1fJhjzOUFxpW6qFrdunX54IMPCAkJ4ciRIwwdOvRmqf22bdsydepUIiMj+eSTT/Dz87O6373s4Q9mV74zD5UqLilMSYqIiJQrflRlOh/wBm9TFeuTiHxt2rQhODiYU6dO0a9fP9LS0gC45557eOutt+jatStpaWnMnTuXRo0acffddxdanlAUE5MznKEffYgxo0tcOyMlU5IiIiLljmHABOMVlvOVzacUX7lyhZycHM6ePcvZs2cBCA4OJjIykkcffZQrV67Qv39/EhISWLZsGStWrODuu++2uv9TnGQET/OZ+akSlTJyqyRlN2VbYCMiIpWHN948ZjzGOr7md/zO6nZJSUkcOnSIO+64g6FDh9KrVy/eeecdBg4cSG5uLpGRkezevZucnBwWLFhAQEAA0dHRhIaG4unpadUYV7lKJBP5yJxFDiXXXqkINpub7N6nW+3uGcJQFhlLXBSNiIiURyYmJ8yThPIHjlPyoYEAISEhzJ8/nwceeACLxULVqlXJycnh5ZdfZt68eVgsN8re+/j4MHz4cN5//32ys7N55pln2LBhg9W7fzzx5Fme40PjI3zwKfU7lgc+ZsHf6drdIyIilZ6BQbDRhK9YRzvaW9UmMTGRsLAwoqKiOHToEBs2bGDcuHEsWLDgZoICEBAQwL333kuVKlWoVasWK1eu5Pnnn8fX19eqcSxY+Jx5vGiO5QxnSvV+lZmKuYmISIXwX8Z/sd78J8N5mlg2l/j88ePHGT16NH5+fmRnZ5OdnV0gQalRowYTJkxg5MiReHh4sH79eurXr8/MmTOpVasWf//7362aUckjj0UsINlMIoqV1DXqlOk9KxOXzqR07tzZlcOLiEgFE2QEsZB/MJA/WbVFOScnh8uXL5OVlVUgQfHz82PUqFGMHj0aDw8PFi1axODBgwkPD2fjxo0YhmF1Cf18O9nOE4Ry0DxQKRbUhoaGlrkPl65JWbx4MSNGjLj5czWqc9D4TofciYhImVwjiynm35jJB+SRZ1NbX19fRo4cyeuvv06dOnWIjo5m5MiRXLx4EcMwCAoK4r777qNnz56cP3+e+fPnc+nSJavXqTSkIWtYz33GfaV5Nbf0jDmCpSwucM0e6YVbfe7JIL3SrIIWERHHqUJVphpv42dWYyYzyCDD6rahoaFMnDiR2rVrs3XrVsaPH3+z2JtpmnTs2JFZs2bRpEkTAB5//HEiIyNJSEggL6/khOg0p+lBF/5hLqOX8QSeWLdjyJ2lkuqQfrVwVkREKiQffJhs/I2FLCaAAKvbnT59Gn9/fw4ePMioUaM4ceJEgfsDBw4kODiYL774ggkTJtC+fXvmz59/M2mxxlWuMoKhLDUXl/xwJeZ2Scp6YlwdgoiIVBAeGPQ1nmQ5X9GcEKva7N+/n549exIeHk5KSsrN697e3nh6emKxWDAMgzNnzjB79myGDRtG3bp1+eijj6hWrZrVsV0lg1E8y7vmO2SSZfO7uYtznOUMvzqkb5cmKU8++WShzHOiOcFF0YiISEX1sPEIXxnrrF7z+O233xIfH3/z53vuuYdOnTphsVhYvnw5Fy9eZMiQITRq1IgtW7awevVqkpOTycmxbcmCicmbTCHCHG+XNRyucJSj/MDhAtcWLlxol75dmqRUr14db29vV4YgIiKVRGtas4t4uvIQHjb8+qtevTrjx49n9uzZNG3alL1797J27VqCg4OZN28eHh4eREZGMnnyZK5fv25zXNlkM5/PeJYwLnDB5va2yiST8eZL7Df3OWyMhg0b2qUft/vcA5pNERERx6hn1GOlsZoH6Wh1m8zMTFJSUmjVqhVhYWFkZ2fz17/+ldTUVLp160bHjh25cOEC6enppY7LxCSKJfQ3+5Bulr4fayww5zOPubzPDJt3PhVlhPm0HaIqmst39/Tu3ZsPP/ywwDVV5RMREUepRRDfsJWRhPEVK0vcVWqxWJg6dSp33HEHr776Kg0aNCArK4uaNWuSlZXF1atX7RJXHnnEsZvH6cnnfEFLWtml33y55LLY/AcTmUAuucQTx3HzOHcad5ap35/5ucDPderUoX79+mXqM59L66TcDOKWM3yqU539xncEq16KiIg4SBZZvGa+yhxmWfV8vXr1eOONNxg1ahQA165dIyoqivDwcDIzM+0aW0MasYo1tDOsK/NvjX+ZsQxmIJe5BNw4TmAW/58xxthS9znSDGMxiwpc69KlCzt37ixTrPncMkkBOGwcJYQWLohGREQqk3fNd3iHt8ik5ETDx8eHAQMG0KlTJw4fPszKlSs5f/68Q+JqSCM+4TNCjcesqp57O/HmHgbQj7O3fKloTgj7jG/xw69U/Yaaj7CVfxW4VuGSlOnTpzNx4sQC14JpyjHDutMsRURESiuHHL421zOEgViwlPi8YRh4eHgUKKPvKIEE8hZ/53ljdKkTlUQzkT70Iomfirw/n4WMMMJs7nc/+3jY7FYouTtx4gSNGzcuVay3couFsw0aNCh0LYXjLohEREQqG2+8edLox1rWU5/Cv49uZZqmUxIUgMtcZiJ/4UNzBtlk29z+Z37mGYYXm6AALORzrtpQkTdf5v/+dyt7JSjgJklKnz59inypv5qvuCAaERGpjB41QollKw2xz/ZZe8kii9eI5HlzJFk2FH27wAXCzGEksPe2zx3iEEfMozbHFWYOK3TNXvVR8rlFkhIQEICPj0+h6/HsIR3HbsUSERGBGwtJWxgt2Ugs7XnA1eEUYCGXKJYyznyBX62o7nqVq0wyI9jJjhKfzSCdRSywKZ6tbOEUpwpdb9SokU39lMQt1qQAJCcnc+edhbdBaQGtiIg423nzPKN5jhjWuTqUAgwMOtOVKFZSz6hb5DPZZDPOfIFFLLS6DkoVqvADiTQyrEsyHjUfZhtbClxr27YtO3bswN/f36o+rOEWMykAzZo1K/L63WZLJ0ciIiKVXW2jNp8ZnzOYp22qTutoJia72EE/enPQPIiJWej+x+YclrHEpkJt17jGbGZZ1WYnOwolKAB+fn52TVDAjZIUuLHLpygTtTZFREScLIggPjM+Zwpv4un62qcF7COBATzJIfPbAtfnmp/wN17jOraX59/AequKqT5jDi/y+pIlS2wesyRulaQ8+OCDVK9evdD1vcRrbYqIiDhdFarwijGR/+YNalDT1eEUcIqTPEEoG80NWLCwwfyaKUzmGtdK1V8SScSbe277zHa2cpKTha5379690IHB9uA2a1LytWjRgsTExELXvzeO0AJ9+hEREeczMYk2oxnJCK5wxdXhFFCLIN7gLaYwmTTSytRXJzqzzdhV7P2e5h/YztZC12NjY3n44YfLNHZR3C5JgaIr0AJkG24XqoiIVCIxZjSTiCCRY64O5aZaBJHNdTJKUeukKJvYQg+jR6HrO9jOI2b3Qte7du3Kjh0l7yIqDbf63JPvvffeK/K66qaIiIgr9Tb68JWxzm3OlgsgEA88uIp9DjkEmMUHRR66+Kz55yKfX7x4sd3GvpVbJikdO3bU2hQREXFLrWhFHP+mGz1cuvOnKlXxx5/znCu0y6cs9rOPJLNghdrtbOMkJwo9261bN4esRcnnlklKly5diiyVH8duHjDbuCAiERGR/1PbqM2Xxko60tkl4xsY3EFjzlhR2M1WZzlDDNE3f97Hv+lr/rHIZ19//XW7j/9bbpmkABw9WnSJ3iSS2Eu8k6MREREpKIggNrOF4fwZb7ydNq4PPjQnhGMctakWirVMTObw0c0FwhvNr8ks4nPSQw895JDFsr/lOWXKlCkOHaEM/P39+eabbwpdv8pV+hsDXBCRiIjI//E0POhpPEo66fy7hDNy7OVOmpNMkl0/8dwqg3TqUZ8OxoP0pPAiWoBt27ZRo0YNh8UAbjyTAsWvTVnBl8xmlgsiEhERKcgPP2bwIdN4D3/sW3H1tzzxpDFNSCYJC44/hfkz5hZb9b1bt24EBzt+8bBbbkH+rZ9++omQkJAi741nAu8aM5wckYiISGE55LDejGEYg4vcHVNWdahLOldKXazNXtq1a8f27dvtXgK/KG49kwLQvHlzOnToUOQ9nZIsIiLuwhtv+hn9WU009Sm8+aMsgqiNBYvLExSAXr16OSVBgXIwkwIQFRXF008/XeS95oTwg+E+RXVERKRyyyOPo+ZR+tKLFFLK3F/g/9ZCuchFO0RXds5MG9x+JgVgyJAhhIeHF3nvJxLpZnYm3c3KFIuISOXkgQetjdZEs7HMW5RrUINAAt0iQalTpw7/+c9/nDpmuZhJyTd9+nQmTpxY5L1DxmFac5eTIxIRESlempnGOF5gFStsblud6vjgSxrnHRCZ7ZKTk2natKlTxywXMyn5itvtA3CveTcJTtr+JSIiYo0gI4iPjU8ZxgibqtNWpSoBBHKhjAcG2ktISIjTExQoZ0lKly5d2LdvX7H3nzBDSSbZiRGJiIjcXg1q8InxGVN5G088S3zeGx9qUJNfSHVoLRRb+Pj4OHUtSr5ylaQAtGjRgl27dhU5o3KZy7Qy79SMioiIuBVffPmL8QpvMo0AAop9zsCgNkGc55xDqsmW1uHDh1m3bp3Txy13SQpA586dadiwYbH3b8yoJDkxIhERkdvzwou/GBF8xoJiE5UWtCCNNIfUWSmr2bNnc+2ac7dAl8skBeDHH3/kgQceKPLejRmV5k4rUSwiImINDwz6G0+xhC9pTsFCpb/jd5zkJNlkuyi62zt06BBHjhxx6pjlNkkB2LRpE82aNSv2fi/NqIiIiBt6zHic1cY62tEegDu5k4tcJIssF0dWvAsXLrBihe27lMqiXG1BLk6HDh1ISEgo9v6DdGS98c/bfgcUERFxtjQzjYlMYA1fkUGGq8MpUa1atTh69Ci1a9d2ynjleiYlX0kzKvHsoZNZ9KchERERV/HEk4Mc4CpXXR2KVS5cuMDHH3/stPEqRJJSo0YNkpKSil2jAnCMozxkdmIda5wYmYiISNHOmecYQD++5z9us9XYGsuXL+fcuXNOGatCJCn5rJlRGWj2Z6I5wYlRiYiIFGSa8BdeZhc7XR2KzZKSkjh48KBTxqpQSUr+jEpxdVTyzeQD5jCLf1P8OhYRERFHyCST8YxjOcvIw+LqcGx2/fp15syZ45TibhVi4WxRjhw5QuvWrW/7TCCBBNOUfxvOyQhFREQ+MmcSyV/ddquxNby8vNizZw/t27d36DgVaiblt1q1asXu3bt58skni33mMpc5xLd0NTsSzVonRiciIpVNLrksMr9gEhHlOkEByM3N5cMPPyQ3N9eh41TYmZTfmjFjBhERESU+dx9tWGp8SQgtnBCViIhUJpvMfzKMIVzmkqtDsYtGjRqxdetWmjdv7rAxKuxMym+98sorjBs3jvvvv/+2z33LQe42W9LFfJAYnH9GgYiIVEwJZgLPEVZhEhSA06dPs3nzZoeOUSlmUvJdunSJ48eP07ZtW6uev482LDaiaElLB0cmIiIV1Y/mEfrxBMkkuzoUu2vatCnHjh3Dy8vLIf1XipmUfDVq1KBNmzbExcXRt2/fEp//loPcY7ais9lBMysiImKzVFIZRViFTFAAjh8/ztKlSx3Wf6WaSbnVgQMHGDx4MImJiVY934YbMzB7jf2ODEtERCqANNIYZD7FTra7OhSH6tSpE5s2baJatWp277tSzaTcqm3bthw7doy4uDj69OlT4vMHOcBBDuBjGviYBuuJZj3RTohURETKk0wymWROZBc7XB2Kwx0+fJjvv//eIX1X6pmUWx04cIAhQ4Zw7Ngxm9rlz7B0oSvvGzMdEZqIiJQT2WTz/8yx/IMvyCPP1eE4xYsvvsicOXPs3q+SlCLEx8czbdo0YmJiytTPGqPgLEsd6vIAHcrUp4iIuLdvzG8YRRippLo6FKfx9/fn6NGjNGzY0K79Kkm5jf37b6w9sVdFvQACaE6IXfoSERH3lEEGv5BKOumuDsWpXnrpJWbOtO/XBCUpNshft1LWGRYREZGKJiQkhO3bt9OgQQO79akkpRTyZ1h27tzJ+PHjXRyNiIiI63l5ebF8+XL69+9vtz6VpNhR7969C/x89uxZEhJ00rKIiBT2xz/+8eafr127RkpKCidOnCAnJ8eFUZVN9+7diY2NxdPT0y79KUlxoMuXL1tdg0VERCqX3653zM7O5ty5cxw/fpzo6GiWLFnCL7/84sLoSsfDw4PY2Fh69Ohhl/6UpIiIiLiZvLw84uPjWbNmDXv27CE5OZlff/2V8vAru3fv3qxatQofH58y96UkRURExI1lZGRw5swZvvvuO1avXs26detIT3ffnUP16tVjy5Yt3HXXXWXuS0mKiIhIOZKRkcG//vUvoqOjOXjwICkpKVy8eNHVYRXwzjvvMGnSpDL3oyRFRESkHMrLy+PSpUukpqYSFxdHVFQUu3btIjc319WhUb9+fZKTk6latWqZ+lGSIiIiUkH8/PPPREdHs2HDBhITEzlx4gTXr193SSyzZs0iPDy8TH0oSREREalgcnJyOHfuHKdOnWL9+vVERUWRlJTk1BjatWtHbGwsNWrUKHUfSlJEREQqONM0OXDgAGvWrGHnzp2kpKRw+vRpLBaLw8b09/cnJiamTNuRlaSIiIhUIllZWZw5c4ajR4+yevVqVqxYwaVLlxwy1rBhw1i8eHGp2ytJERERqcSuXbvGtm3bWLt2Lfv27SMlJYULFy7YpSaLt7c3P/zwA82bNy9VeyUpIiIigmmaXL58mdTUVBISEoiKimLbtm1kZ2eXqd9nn32W+fPnYxiGzW2VpIiIiEiRUlNTiYmJYePGjRw7doyUlBSysrJs6iM4OJht27bRpEkTm8dXkiIiIiK3ZbFYOHv2LKmpqWzZsoWlS5dy6NAhq9p6enoyf/58wsLCbB5XSYqIiIjY7NixY6xevZpNmzaRkpLCqVOnit0t1L59e+Li4vD29rZpDCUpIiIiUmrXrl3jzJkzJCUlsXbtWlatWlXoBGfDMFizZg19+/a1qW8lKSIiImI32dnZ7N69mzVr1rB3716OHz/O+fPn6d69Oxs2bKBKlSpW96UkRUREROzONE2uXLlCamoq+/btIzY2lldffZVWrVpZ3YeSFBEREXFLHq4OQERERKQoSlJERETELSlJEREREbekJEVERETckpIUERERcUtKUkRERMQtKUkRERERt6QkRURERNySkhQRERFxS/8D54PE+AucAyUAAAAASUVORK5CYII=)\n",
        "\n",
        "A decorator is a wrapper that you can wrap around a function and changes that function's behavior.\n",
        "\n",
        "## **Modify the inputs**\n",
        "\n",
        "![image.png](data:image/png;base64,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)\n",
        "\n",
        "## **Modify the outputs**\n",
        "\n",
        "![image.png](data:image/png;base64,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)\n",
        "\n",
        "## **Change the function's behavior**\n",
        "\n",
        "![image.png](data:image/png;base64,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)"
      ],
      "metadata": {
        "id": "HKAVMpF-0vXz"
      }
    },
    {
      "cell_type": "markdown",
      "source": [
        "Decorators are just functions that <u>**take a function as an agument**</u> and return a modified version of that function."
      ],
      "metadata": {
        "id": "-CunsfFQbY5w"
      }
    },
    {
      "cell_type": "code",
      "source": [
        "def multiply(a, b):\n",
        "    return a * b\n",
        "\n",
        "def double_args(func):\n",
        "    def wrapper(a, b):\n",
        "        # Call the passed in function, but double each argument\n",
        "        return func(a * 2, b * 2)\n",
        "    return wrapper\n",
        "\n",
        "new_multiply = double_args(multiply)\n",
        "print(new_multiply(1, 5))\n",
        "print(getsource(new_multiply.__closure__[0].cell_contents))"
      ],
      "metadata": {
        "colab": {
          "base_uri": "https://localhost:8080/"
        },
        "id": "ZIKgMySn1kBa",
        "outputId": "7f73071a-1b67-4617-bdd9-5a78f96b54d4"
      },
      "execution_count": null,
      "outputs": [
        {
          "output_type": "stream",
          "name": "stdout",
          "text": [
            "20\n",
            "def multiply(a, b):\n",
            "    return a * b\n",
            "\n"
          ]
        }
      ]
    },
    {
      "cell_type": "markdown",
      "source": [
        "1. `double_args` รับ `multiply`เข้ามาเป็นตัวแปร เก็บอยู่ในรูปฟังก์ชันใหม่ ชื่อ `new_multiply`\n",
        "2. `new_multiply`รับค่า `1` และ `5` เข้ามาเพื่อดำเนินการ\n",
        "3. `new_multiply` ก็คือ `double_args` ที่รับ `multiply` เข้ามา ตัวฟังก์ชันไม่ได้ทำอะไรนอกจาก `return wrapper`\n",
        "4. ฟังก์ชัน `wrapper` ถูกเรียกใช้ เพราะต้องเป็นค่าที่ return ออกมาจาก `new_multiply(1, 5)`\n",
        "5. `wrapper` เรียก `multiply` โดยทำการคูณ 2 กับผลลัพธ์\n",
        "ุุ6. ดังนั้นค่าที่ได้ออกมาใน จึงเป็นผลลัพธ์ของ `multiply(1 * 2, 5 * 2)` นั่นเอง"
      ],
      "metadata": {
        "id": "Wg2AffNn10MN"
      }
    },
    {
      "cell_type": "code",
      "source": [
        "from inspect import getsource\n",
        "\n",
        "def multiply(a, b):\n",
        "    return a * b\n",
        "\n",
        "def double_args(func):\n",
        "    def wrapper(a, b):\n",
        "        # Call the passed in function, but double each argument\n",
        "        return func(a * 2, b * 2)\n",
        "    return wrapper\n",
        "\n",
        "multiply = double_args(multiply)\n",
        "print(multiply(1, 5))\n",
        "print(getsource(multiply.__closure__[0].cell_contents))"
      ],
      "metadata": {
        "colab": {
          "base_uri": "https://localhost:8080/"
        },
        "id": "aUIkX_ek4E8G",
        "outputId": "717ceae3-b30a-42fe-a928-adb4ec2839d9"
      },
      "execution_count": null,
      "outputs": [
        {
          "output_type": "stream",
          "name": "stdout",
          "text": [
            "20\n",
            "def multiply(a, b):\n",
            "    return a * b\n",
            "\n"
          ]
        }
      ]
    },
    {
      "cell_type": "markdown",
      "source": [
        "แม้จะ redefine function ใหม่ ก็ยังใช้ได้ เพราะคุณสมบัติ closure ในทางปฏิบัติ เราจะไม่เขียนฟังก์ชัน decorator มาครอบแบบนี้ แต่จะเขียนแบบด้านล่าง\n"
      ],
      "metadata": {
        "id": "ERsC6SZd4x1Q"
      }
    },
    {
      "cell_type": "code",
      "source": [
        "def double_args(func):\n",
        "    def wrapper(a, b):\n",
        "        # Call the passed in function, but double each argument\n",
        "        return func(a * 2, b * 2)\n",
        "    return wrapper\n",
        "\n",
        "@double_args\n",
        "def multiply(a, b):\n",
        "    return a * b\n",
        "\n",
        "print(multiply(1, 5))"
      ],
      "metadata": {
        "colab": {
          "base_uri": "https://localhost:8080/"
        },
        "id": "1ihNnexF5KnE",
        "outputId": "3a2d5d82-db87-4baa-9ce5-9620de983afe"
      },
      "execution_count": null,
      "outputs": [
        {
          "output_type": "stream",
          "name": "stdout",
          "text": [
            "20\n"
          ]
        }
      ]
    },
    {
      "cell_type": "markdown",
      "source": [
        "### **Using decorator syntax**\n",
        "\n",
        "You have written a decorator called `print_args` that prints out all of the arguments and their values any time a function that it is decorating gets called.\n",
        "\n",
        "* Decorate `my_function()` with the `print_args()` decorator by redefining the `my_function` variable.\n",
        "\n",
        "* Decorate `my_function()` with the `print_args()` decorator using decorator syntax."
      ],
      "metadata": {
        "id": "ORh9G6BK5jh6"
      }
    },
    {
      "cell_type": "code",
      "metadata": {
        "colab": {
          "base_uri": "https://localhost:8080/"
        },
        "id": "hFu2LVWihegs",
        "outputId": "e47d396d-9145-4ac0-d3db-634b8bcb6269"
      },
      "source": [
        "import inspect\n",
        "\n",
        "def print_args(func):\n",
        "    sig = inspect.signature(func)\n",
        "    def wrapper(*args, **kwargs):\n",
        "        bound = sig.bind(*args, **kwargs).arguments\n",
        "        str_args = ', '.join(['{}={}'.format(k, v) for k, v in bound.items()])\n",
        "        print('{} was called with {}'.format(func.__name__, str_args))\n",
        "        return func(*args, **kwargs)\n",
        "    return wrapper\n",
        "\n",
        "def my_function(a, b, c):\n",
        "    print(a + b + c)\n",
        "\n",
        "# Decorate my_function() with the print_args() decorator\n",
        "my_function = print_args(my_function)\n",
        "\n",
        "my_function(1, 2, 3)\n",
        "\n",
        "# Decorate my_function() with the print_args() decorator\n",
        "# When you use decorator syntax with the @ symbol,\n",
        "# you do not include () after the decorator name.\n",
        "\n",
        "@print_args\n",
        "def my_function(a, b, c):\n",
        "    print(a + b + c)\n",
        "\n",
        "my_function(4, 5, 6)"
      ],
      "execution_count": null,
      "outputs": [
        {
          "output_type": "stream",
          "name": "stdout",
          "text": [
            "my_function was called with a=1, b=2, c=3\n",
            "6\n",
            "my_function was called with a=4, b=5, c=6\n",
            "15\n"
          ]
        }
      ]
    },
    {
      "cell_type": "markdown",
      "source": [
        "Note that `@print_args` before the definition of `my_function` is exactly equivalent to\n",
        "```\n",
        "my_function = print_args(my_function)\n",
        "```\n",
        "Remember, even though decorators are functions themselves, when you use decorator syntax with the $@$ symbol you do not include the parentheses after the decorator name.\n",
        "\n",
        "### **Defining a decorator**\n",
        "\n",
        "A decorator prints a \"before\" message before the decorated function is called and prints an \"after\" message after the decorated function is called.\n",
        "\n",
        "* Call the function being decorated and pass it the positional arguments `*args`.\n",
        "* Return the new decorated function."
      ],
      "metadata": {
        "id": "mBRjyW3a688v"
      }
    },
    {
      "cell_type": "code",
      "metadata": {
        "colab": {
          "base_uri": "https://localhost:8080/"
        },
        "id": "XIamKnf9nWGX",
        "outputId": "268b8a47-b1e3-4f1a-fce4-0a7d5c7748ab"
      },
      "source": [
        "def print_before_and_after(func):\n",
        "    def wrapper(*args):\n",
        "        print('Before {}'.format(func.__name__))\n",
        "        # Call the function being decorated with *args\n",
        "        func(*args)\n",
        "        print('After {}'.format(func.__name__))\n",
        "    # Return the nested function\n",
        "    return wrapper\n",
        "\n",
        "@print_before_and_after\n",
        "def multiply(a, b):\n",
        "  print(a * b)\n",
        "\n",
        "multiply(5, 10)"
      ],
      "execution_count": null,
      "outputs": [
        {
          "output_type": "stream",
          "text": [
            "Before multiply\n",
            "50\n",
            "After multiply\n"
          ],
          "name": "stdout"
        }
      ]
    },
    {
      "cell_type": "markdown",
      "source": [
        " The decorator `print_before_and_after()` defines a nested function `wrapper()` that calls whatever function gets passed to `print_before_and_after()`. `wrapper()` adds a little something else to the function call by printing one message before the decorated function is called and another right afterwards. Since `print_before_and_after()` returns the new `wrapper()` function, we can use it as a decorator to decorate the `multiply()` function."
      ],
      "metadata": {
        "id": "kYJQAVKf7yfm"
      }
    },
    {
      "cell_type": "markdown",
      "source": [
        "# ***Real-world example Decorator***\n",
        "\n",
        "## **Timer**\n",
        "\n",
        "* All decorators have fairly similar-looking docstrings because ***they all take and return a single function***.\n",
        "\n",
        "* เริ่มโดยเขียน **`wrapper`** function และ **`return wrapper`** รอไว้เลย\n",
        "* ตัว **`wrapper`** ฟังก์ชัน ให้ใส่จำนวนตัวแปรเป็น  **`*args, **kwargs`** เพราะจะได้ใส่ตัวแปรไปกี่ตัวก็ได้"
      ],
      "metadata": {
        "id": "iG6Ulx6JoMEH"
      }
    },
    {
      "cell_type": "code",
      "source": [
        "import time\n",
        "\n",
        "def timer(func):\n",
        "    \"\"\"A decorator that prints how long a function took to run.\n",
        "\n",
        "    Args:\n",
        "        func (callable): The function being decorated.\n",
        "\n",
        "    Returns:\n",
        "        callable: The decorated function.\n",
        "    \"\"\"\n",
        "\n",
        "    # Define the wrapper function to return.\n",
        "    def wrapper(*args, **kwargs):\n",
        "        # When wrapper() is called, get the current time.\n",
        "        t_start = time.time()\n",
        "\n",
        "        # Call the decorated function and store the result.\n",
        "        result = func(*args, **kwargs)\n",
        "\n",
        "        # Get the total time it took to run, and print it.\n",
        "        t_total = time.time() - t_start\n",
        "        print('{} took {:,.4f}s'.format(func.__name__, t_total))\n",
        "        return result\n",
        "    return wrapper\n",
        "\n",
        "@timer\n",
        "def sleep_n_seconds(n):\n",
        "    time.sleep(n)\n",
        "\n",
        "sleep_n_seconds(5)"
      ],
      "metadata": {
        "colab": {
          "base_uri": "https://localhost:8080/"
        },
        "id": "brPZRkBCohA1",
        "outputId": "dbefcae8-0136-4842-8188-8fb1a1527e77"
      },
      "execution_count": null,
      "outputs": [
        {
          "output_type": "stream",
          "name": "stdout",
          "text": [
            "sleep_n_seconds took 5.0051s\n"
          ]
        }
      ]
    },
    {
      "cell_type": "code",
      "source": [
        "sleep_n_seconds(10)"
      ],
      "metadata": {
        "colab": {
          "base_uri": "https://localhost:8080/"
        },
        "id": "5Bj6PeNerFLv",
        "outputId": "d77e377e-777c-487f-d93d-2da9d49f4edc"
      },
      "execution_count": null,
      "outputs": [
        {
          "output_type": "stream",
          "name": "stdout",
          "text": [
            "sleep_n_seconds took 10.0101s\n"
          ]
        }
      ]
    },
    {
      "cell_type": "markdown",
      "source": [
        "## ***Memoizing Decorator***  อันนี้ มีประโยชน์ แต่\n",
        "\n",
        "# **ข้างล่าง มันเขียนผิด !!!**"
      ],
      "metadata": {
        "id": "6NJGk4S_rVOo"
      }
    },
    {
      "cell_type": "code",
      "source": [
        "import time\n",
        "\n",
        "def memoize(func):\n",
        "    \"\"\"Store the results of the decorated function for fast lookup\n",
        "    \"\"\"\n",
        "    # Store results in a dict that maps arguments to results\n",
        "    cache = {}\n",
        "    # Define the wrapper function to return.\n",
        "    def wrapper(*args, **kwargs):\n",
        "        # If these arguments haven't been seen before,\n",
        "        if (args, kwargs) not in cache:\n",
        "            # Define a hashable key for 'kwargs'.\n",
        "            kwargs_key = tuple(sorted(kwargs.items()))\n",
        "            # Call func() and store the result.\n",
        "            cache[(args, kwargs_key)] = func(*args, **kwargs)\n",
        "        return cache[(args, kwargs_key)]\n",
        "    return wrapper\n",
        "\n",
        "@memoize\n",
        "def slow_function(a, b):\n",
        "    print('Sleeping...')\n",
        "    time.sleep(5)\n",
        "    return a + b\n",
        "slow_function(3, 4)"
      ],
      "metadata": {
        "colab": {
          "base_uri": "https://localhost:8080/",
          "height": 311
        },
        "id": "ZSMzyNGqC80N",
        "outputId": "9a83f236-333e-45aa-a58d-b1bd564b85c4"
      },
      "execution_count": 6,
      "outputs": [
        {
          "output_type": "error",
          "ename": "TypeError",
          "evalue": "unhashable type: 'dict'",
          "traceback": [
            "\u001b[0;31m---------------------------------------------------------------------------\u001b[0m",
            "\u001b[0;31mTypeError\u001b[0m                                 Traceback (most recent call last)",
            "\u001b[0;32m<ipython-input-6-d30dd595e820>\u001b[0m in \u001b[0;36m<cell line: 24>\u001b[0;34m()\u001b[0m\n\u001b[1;32m     22\u001b[0m     \u001b[0mtime\u001b[0m\u001b[0;34m.\u001b[0m\u001b[0msleep\u001b[0m\u001b[0;34m(\u001b[0m\u001b[0;36m5\u001b[0m\u001b[0;34m)\u001b[0m\u001b[0;34m\u001b[0m\u001b[0;34m\u001b[0m\u001b[0m\n\u001b[1;32m     23\u001b[0m     \u001b[0;32mreturn\u001b[0m \u001b[0ma\u001b[0m \u001b[0;34m+\u001b[0m \u001b[0mb\u001b[0m\u001b[0;34m\u001b[0m\u001b[0;34m\u001b[0m\u001b[0m\n\u001b[0;32m---> 24\u001b[0;31m \u001b[0mslow_function\u001b[0m\u001b[0;34m(\u001b[0m\u001b[0;36m3\u001b[0m\u001b[0;34m,\u001b[0m \u001b[0;36m4\u001b[0m\u001b[0;34m)\u001b[0m\u001b[0;34m\u001b[0m\u001b[0;34m\u001b[0m\u001b[0m\n\u001b[0m",
            "\u001b[0;32m<ipython-input-6-d30dd595e820>\u001b[0m in \u001b[0;36mwrapper\u001b[0;34m(*args, **kwargs)\u001b[0m\n\u001b[1;32m      9\u001b[0m     \u001b[0;32mdef\u001b[0m \u001b[0mwrapper\u001b[0m\u001b[0;34m(\u001b[0m\u001b[0;34m*\u001b[0m\u001b[0margs\u001b[0m\u001b[0;34m,\u001b[0m \u001b[0;34m**\u001b[0m\u001b[0mkwargs\u001b[0m\u001b[0;34m)\u001b[0m\u001b[0;34m:\u001b[0m\u001b[0;34m\u001b[0m\u001b[0;34m\u001b[0m\u001b[0m\n\u001b[1;32m     10\u001b[0m         \u001b[0;31m# If these arguments haven't been seen before,\u001b[0m\u001b[0;34m\u001b[0m\u001b[0;34m\u001b[0m\u001b[0m\n\u001b[0;32m---> 11\u001b[0;31m         \u001b[0;32mif\u001b[0m \u001b[0;34m(\u001b[0m\u001b[0margs\u001b[0m\u001b[0;34m,\u001b[0m \u001b[0mkwargs\u001b[0m\u001b[0;34m)\u001b[0m \u001b[0;32mnot\u001b[0m \u001b[0;32min\u001b[0m \u001b[0mcache\u001b[0m\u001b[0;34m:\u001b[0m\u001b[0;34m\u001b[0m\u001b[0;34m\u001b[0m\u001b[0m\n\u001b[0m\u001b[1;32m     12\u001b[0m             \u001b[0;31m# Define a hashable key for 'kwargs'.\u001b[0m\u001b[0;34m\u001b[0m\u001b[0;34m\u001b[0m\u001b[0m\n\u001b[1;32m     13\u001b[0m             \u001b[0mkwargs_key\u001b[0m \u001b[0;34m=\u001b[0m \u001b[0mtuple\u001b[0m\u001b[0;34m(\u001b[0m\u001b[0msorted\u001b[0m\u001b[0;34m(\u001b[0m\u001b[0mkwargs\u001b[0m\u001b[0;34m.\u001b[0m\u001b[0mitems\u001b[0m\u001b[0;34m(\u001b[0m\u001b[0;34m)\u001b[0m\u001b[0;34m)\u001b[0m\u001b[0;34m)\u001b[0m\u001b[0;34m\u001b[0m\u001b[0;34m\u001b[0m\u001b[0m\n",
            "\u001b[0;31mTypeError\u001b[0m: unhashable type: 'dict'"
          ]
        }
      ]
    },
    {
      "cell_type": "markdown",
      "source": [
        "### บนดาต้าแคมพ์มึงเขียนมั่ว ไม่เคยตรวจสอบ มันรันไม่ได้โว้ย (เวอร์ชั่นปัจจุบันแก้ไขแล้ว)"
      ],
      "metadata": {
        "id": "tcy-YT8JDVXr"
      }
    },
    {
      "cell_type": "code",
      "source": [
        "import time\n",
        "\n",
        "def memoize(func):\n",
        "    \"\"\"Store the results of the decorated function for fast lookup\n",
        "    \"\"\"\n",
        "    # Store results in a dict that maps arguments to results\n",
        "    cache = {}\n",
        "    def wrapper(*args, **kwargs):\n",
        "        key = (args , tuple((kwargs.items())))\n",
        "        print(f\"key in cache? {key in cache}\")  # ดูเอาเองว่ามีอยู่ใน cache รึยัง\n",
        "        if key not in cache:\n",
        "            cache[key] = func(*args, **kwargs)\n",
        "        return cache[key]\n",
        "    return wrapper\n",
        "\n",
        "@memoize\n",
        "def slow_function(a, b):\n",
        "    print('Sleeping...')\n",
        "    time.sleep(5)\n",
        "    return a + b\n",
        "\n",
        "slow_function(3,4)\n"
      ],
      "metadata": {
        "colab": {
          "base_uri": "https://localhost:8080/"
        },
        "id": "rX78RXbbrdGv",
        "outputId": "448b4ddb-0c3c-41a5-db05-19bebdb5bc11"
      },
      "execution_count": 2,
      "outputs": [
        {
          "output_type": "stream",
          "name": "stdout",
          "text": [
            "key in cache? False\n",
            "Sleeping...\n"
          ]
        },
        {
          "output_type": "execute_result",
          "data": {
            "text/plain": [
              "7"
            ]
          },
          "metadata": {},
          "execution_count": 2
        }
      ]
    },
    {
      "cell_type": "markdown",
      "source": [
        "### **รันใหม่อีกที มันต้องห้าม sleep แบบนี้สิวะ ถึงจะถูก**"
      ],
      "metadata": {
        "id": "nWetN5MPCUah"
      }
    },
    {
      "cell_type": "code",
      "source": [
        "slow_function(3,4)"
      ],
      "metadata": {
        "colab": {
          "base_uri": "https://localhost:8080/"
        },
        "id": "oQiYKIZEsuzu",
        "outputId": "21b45ed5-7d20-4546-92c4-8b335403714e"
      },
      "execution_count": 3,
      "outputs": [
        {
          "output_type": "stream",
          "name": "stdout",
          "text": [
            "key in cache? True\n"
          ]
        },
        {
          "output_type": "execute_result",
          "data": {
            "text/plain": [
              "7"
            ]
          },
          "metadata": {},
          "execution_count": 3
        }
      ]
    },
    {
      "cell_type": "markdown",
      "source": [
        "### **Print the return type**\n",
        "\n",
        "Something weird is happening with the data being returned from one of your functions, but you're not even sure which function is causing the trouble. You know that sometimes bugs can sneak into your code when you are expecting a function to return one thing, and it returns something different. For instance, if you expect a function to return a numpy array, but it returns a list, you can get unexpected behavior. To ensure this is not what is causing the trouble, you decide to write a decorator, **`print_return_type()`**, that will print out the type of the variable that gets returned from every call of any function it is decorating.\n",
        "\n",
        "* Create a nested function, **`wrapper()`**, that will become the new decorated function.\n",
        "* Call the function being decorated.\n",
        "* Return the new decorated function."
      ],
      "metadata": {
        "id": "Epj-HCKTX00z"
      }
    },
    {
      "cell_type": "code",
      "metadata": {
        "colab": {
          "base_uri": "https://localhost:8080/"
        },
        "id": "uhEPhldYouNx",
        "outputId": "39745790-1523-4167-c7b4-b639a59f682d"
      },
      "source": [
        "# พิมพ์ชนิดของค่าที่เป็นผลลัพธ์ของฟังก์ชัน\n",
        "\n",
        "def print_return_type(func):\n",
        "    # Define wrapper(), the decorated function\n",
        "    def wrapper(*args, **kwargs):\n",
        "        # Call the function being decorated\n",
        "        result = func(*args, **kwargs)\n",
        "        print('{}() returned type {}'.format(func.__name__, type(result)))\n",
        "        return result\n",
        "    # Return the decorated function\n",
        "    return wrapper\n",
        "\n",
        "@print_return_type\n",
        "def foo(value):\n",
        "    return value\n",
        "\n",
        "print(foo(42))\n",
        "print(foo([1, 2, 3]))\n",
        "print(foo({'a': 42}))"
      ],
      "execution_count": null,
      "outputs": [
        {
          "output_type": "stream",
          "text": [
            "foo() returned type <class 'int'>\n",
            "42\n",
            "foo() returned type <class 'list'>\n",
            "[1, 2, 3]\n",
            "foo() returned type <class 'dict'>\n",
            "{'a': 42}\n"
          ],
          "name": "stdout"
        }
      ]
    },
    {
      "cell_type": "markdown",
      "source": [
        "Your new decorator helps you examine the results of your functions at runtime. Now you can apply this decorator to every function in the package you are developing and run your scripts. Being able to examine the types of your return values will help you understand what is happening and will hopefully help you find the bug.\n",
        "\n",
        "### **Counter Decorator**\n",
        "\n",
        "You are curious about how many times each of the functions gets called. So you decide to write a decorator that adds a counter to each function that you decorate.\n",
        "\n",
        "* Call the function being decorated and return the result.\n",
        "* Return the new decorated function.\n",
        "* Decorate `foo()` with the `counter()` decorator."
      ],
      "metadata": {
        "id": "vrnbHUrAY4o6"
      }
    },
    {
      "cell_type": "code",
      "metadata": {
        "colab": {
          "base_uri": "https://localhost:8080/"
        },
        "id": "z1vvH1uKsAP2",
        "outputId": "75a65568-fd6d-449b-ff35-ca4070109ede"
      },
      "source": [
        "from inspect import getsource\n",
        "\n",
        "### wrapper is a function object.\n",
        "### Even before calling a decorated foo functon, the system initialize wrapper.count = 0 when the code line @counter is reached.\n",
        "### Note that a function object doesn't have count attribute,\n",
        "### but we can add the attribute anytime as we saw in OOP section.\n",
        "\n",
        "def counter(func):\n",
        "    def wrapper(*args, **kwargs):\n",
        "        wrapper.count += 1\n",
        "        print(f\"wrapper.count = {wrapper.count}\")\n",
        "        # Call the function being decorated and return the result\n",
        "        return func(*args, **kwargs)\n",
        "    wrapper.count = 0\n",
        "    # Return the new decorated function\n",
        "    return wrapper\n",
        "\n",
        "# Decorate foo() with the counter() decorator\n",
        "@counter\n",
        "def foo():\n",
        "    print('calling foo()')\n",
        "    print(f'foo.count = {foo.count}')\n",
        "\n",
        "foo()\n",
        "foo()\n",
        "\n",
        "print('foo() was called {} times.'.format(foo.count))"
      ],
      "execution_count": null,
      "outputs": [
        {
          "output_type": "stream",
          "name": "stdout",
          "text": [
            "wrapper.count = 1\n",
            "calling foo()\n",
            "foo.count = 1\n",
            "wrapper.count = 2\n",
            "calling foo()\n",
            "foo.count = 2\n",
            "foo() was called 2 times.\n"
          ]
        }
      ]
    },
    {
      "cell_type": "markdown",
      "source": [
        "Now you can go decorate a bunch of functions with the **`counter()`** decorator, let your program run for a while, and then print out how many times each function was called.\n",
        "\n",
        "It seems a little magical that you can reference the **`wrapper()`** function from inside the definition of **`wrapper()`** as we do here on **`wrapper.count += 1`**.\n",
        "\n",
        "# **Decorators and metadata**"
      ],
      "metadata": {
        "id": "Sf8v4VaSfEOF"
      }
    },
    {
      "cell_type": "code",
      "source": [
        "import time\n",
        "\n",
        "def timer(func):\n",
        "    \"\"\"A decorator that prints how long a function took to run.\n",
        "\n",
        "    Args:\n",
        "        func (callable): The function being decorated.\n",
        "\n",
        "    Returns:\n",
        "        callable: The decorated function.\n",
        "    \"\"\"\n",
        "\n",
        "    # Define the wrapper function to return.\n",
        "    def wrapper(*args, **kwargs):\n",
        "        # When wrapper() is called, get the current time.\n",
        "        t_start = time.time()\n",
        "\n",
        "        # Call the decorated function and store the result.\n",
        "        result = func(*args, **kwargs)\n",
        "\n",
        "        # Get the total time it took to run, and print it.\n",
        "        t_total = time.time() - t_start\n",
        "        print('{} took {:,.4f}s'.format(func.__name__, t_total))\n",
        "        return result\n",
        "    return wrapper\n",
        "\n",
        "def sleep_n_seconds(n=10):\n",
        "    \"\"\"Pause processing for n seconds.\n",
        "    Args:\n",
        "        n(int): The number of seconds to pause for.\n",
        "    \"\"\"\n",
        "    time.sleep(n)\n",
        "\n",
        "# sleep_n_seconds = timer(sleep_n_seconds)\n",
        "\n",
        "# Metadata\n",
        "print(f\"sleep_n_seconds.__doc__ =\\n {sleep_n_seconds.__doc__}\\n\")\n",
        "print(f\"sleep_n_seconds.__name__ =\\n {sleep_n_seconds.__name__}\\n\")\n",
        "print(f\"sleep_n_seconds.__defaults__ =\\n {sleep_n_seconds.__defaults__}\\n\")"
      ],
      "metadata": {
        "colab": {
          "base_uri": "https://localhost:8080/"
        },
        "id": "l7T2-aB_umbv",
        "outputId": "7aba0a9e-cfaa-4ed8-ada4-facc75e49265"
      },
      "execution_count": 4,
      "outputs": [
        {
          "output_type": "stream",
          "name": "stdout",
          "text": [
            "sleep_n_seconds.__doc__ =\n",
            " None\n",
            "\n",
            "sleep_n_seconds.__name__ =\n",
            " wrapper\n",
            "\n",
            "sleep_n_seconds.__defaults__ =\n",
            " None\n",
            "\n"
          ]
        }
      ]
    },
    {
      "cell_type": "markdown",
      "source": [
        "เมื่อฟังก์ชันถูก decorate พวก metadata ข้างบนจะหายไป วิธีแก้ไขคือต้องใช้\n",
        "\n",
        "```\n",
        "from functools import wraps\n",
        "```\n",
        "\n"
      ],
      "metadata": {
        "id": "deZbYVULwVGD"
      }
    },
    {
      "cell_type": "code",
      "source": [
        "@timer\n",
        "def sleep_n_seconds(n=10):\n",
        "    \"\"\"Pause processing for n seconds.\n",
        "    Args:\n",
        "        n(int): The number of seconds to pause for.\n",
        "    \"\"\"\n",
        "    time.sleep(n)\n",
        "\n",
        "print(f\"sleep_n_seconds.__doc__ =\\n {sleep_n_seconds.__doc__}\\n\")\n",
        "print(f\"sleep_n_seconds.__name__ =\\n {sleep_n_seconds.__name__}\\n\")\n",
        "print(f\"sleep_n_seconds.__defaults__ =\\n {sleep_n_seconds.__defaults__}\\n\")"
      ],
      "metadata": {
        "colab": {
          "base_uri": "https://localhost:8080/"
        },
        "id": "L135PoCLwf2K",
        "outputId": "a6e77de2-2536-44fa-a51d-2a31c9b3872c"
      },
      "execution_count": 2,
      "outputs": [
        {
          "output_type": "stream",
          "name": "stdout",
          "text": [
            "sleep_n_seconds.__doc__ =\n",
            " None\n",
            "\n",
            "sleep_n_seconds.__name__ =\n",
            " wrapper\n",
            "\n",
            "sleep_n_seconds.__defaults__ =\n",
            " None\n",
            "\n"
          ]
        }
      ]
    },
    {
      "cell_type": "code",
      "source": [
        "from functools import wraps"
      ],
      "metadata": {
        "id": "fndrMN6ioCdO"
      },
      "execution_count": null,
      "outputs": []
    },
    {
      "cell_type": "markdown",
      "source": [
        "The **`wraps()`** function from the **`functools`** module is a <u>*decorator*</u> that you use when defining a decorator.\n",
        "\n",
        "Use it to \"decorate\" a `wrapper()` function and it modifies the `wrapper()`'s meta data to look like the function you are decorating.\n",
        "\n",
        "    - **`wraps()` takes the function you are decorating as an argument, i.e., `wraps(func)`.**"
      ],
      "metadata": {
        "id": "awsuoboHoIi-"
      }
    },
    {
      "cell_type": "code",
      "source": [
        "import time\n",
        "from functools import wraps\n",
        "\n",
        "def timer(func):\n",
        "    \"\"\"A decorator that prints how long a function took to run.\n",
        "\n",
        "    Args:\n",
        "        func (callable): The function being decorated.\n",
        "\n",
        "    Returns:\n",
        "        callable: The decorated function.\n",
        "    \"\"\"\n",
        "\n",
        "\n",
        "    @wraps(func)\n",
        "    def wrapper(*args, **kwargs):\n",
        "        # When wrapper() is called, get the current time.\n",
        "        t_start = time.time()\n",
        "\n",
        "        # Call the decorated function and store the result.\n",
        "        result = func(*args, **kwargs)\n",
        "\n",
        "        # Get the total time it took to run, and print it.\n",
        "        t_total = time.time() - t_start\n",
        "        print('{} took {:,.4f}s'.format(func.__name__, t_total))\n",
        "        return result\n",
        "    return wrapper\n",
        "\n",
        "@timer\n",
        "def sleep_n_seconds(n=10):\n",
        "    \"\"\"Pause processing for n seconds.\n",
        "    Args:\n",
        "        n(int): The number of seconds to pause for.\n",
        "    \"\"\"\n",
        "    time.sleep(n)\n",
        "\n",
        "# Metadata\n",
        "print(f\"sleep_n_seconds.__doc__ =\\n {sleep_n_seconds.__doc__}\\n\")\n",
        "print(f\"sleep_n_seconds.__name__ =\\n {sleep_n_seconds.__name__}\\n\")\n",
        "print(f\"sleep_n_seconds.__defaults__ =\\n {sleep_n_seconds.__defaults__}\\n\")"
      ],
      "metadata": {
        "colab": {
          "base_uri": "https://localhost:8080/"
        },
        "id": "0ZyESsa7ImmV",
        "outputId": "701b1776-d6c4-425e-d6e0-d08136de9e86"
      },
      "execution_count": 5,
      "outputs": [
        {
          "output_type": "stream",
          "name": "stdout",
          "text": [
            "sleep_n_seconds.__doc__ =\n",
            " Pause processing for n seconds.\n",
            "    Args:\n",
            "        n(int): The number of seconds to pause for.\n",
            "    \n",
            "\n",
            "sleep_n_seconds.__name__ =\n",
            " sleep_n_seconds\n",
            "\n",
            "sleep_n_seconds.__defaults__ =\n",
            " None\n",
            "\n"
          ]
        }
      ]
    },
    {
      "cell_type": "code",
      "source": [
        "sleep_n_seconds(3)"
      ],
      "metadata": {
        "colab": {
          "base_uri": "https://localhost:8080/"
        },
        "id": "b6MMV8rxKcJq",
        "outputId": "1a61701d-276c-43bb-b57c-741b033e00f4"
      },
      "execution_count": null,
      "outputs": [
        {
          "output_type": "stream",
          "name": "stdout",
          "text": [
            "sleep_n_seconds took 3.0031s\n"
          ]
        }
      ]
    },
    {
      "cell_type": "markdown",
      "source": [
        "## **Access to the original function**\n",
        "\n",
        "จะเป็นการใช้ ฟังก์ชันที่ไม่ได้โดน decorated"
      ],
      "metadata": {
        "id": "eSp2fVTiKJ2D"
      }
    },
    {
      "cell_type": "code",
      "source": [
        "sleep_n_seconds.__wrapped__(3)"
      ],
      "metadata": {
        "id": "gkzVvvEZKnSq"
      },
      "execution_count": null,
      "outputs": []
    },
    {
      "cell_type": "markdown",
      "source": [
        "### **Preserving docstrings when decorating functions**\n",
        "\n",
        "All of the docstrings have mysteriously disappeared from their decorated functions. Show how to preserve docstrings and other metadata when writing decorators.\n",
        "\n",
        "* Decorate `print_sum()` with the `add_hello()` decorator to replicate the issue that the docstring disappears."
      ],
      "metadata": {
        "id": "1suTQf_0K8ei"
      }
    },
    {
      "cell_type": "code",
      "source": [
        "def add_hello(func):\n",
        "    def wrapper(*args, **kwargs):\n",
        "        print('Hello')\n",
        "        return func(*args, **kwargs)\n",
        "    return wrapper\n",
        "\n",
        "# Decorate print_sum() with the add_hello() decorator\n",
        "@add_hello\n",
        "def print_sum(a, b):\n",
        "    \"\"\"Adds two numbers and prints the sum\"\"\"\n",
        "    print(a + b)\n",
        "\n",
        "print_sum(10, 20)\n",
        "print_sum_docstring = print_sum.__doc__\n",
        "print(print_sum_docstring)"
      ],
      "metadata": {
        "colab": {
          "base_uri": "https://localhost:8080/"
        },
        "id": "eej6cSUxLZrh",
        "outputId": "547dbb45-d11e-40c1-f1ef-40c2e802260e"
      },
      "execution_count": null,
      "outputs": [
        {
          "output_type": "stream",
          "name": "stdout",
          "text": [
            "Hello\n",
            "30\n",
            "None\n"
          ]
        }
      ]
    },
    {
      "cell_type": "markdown",
      "source": [
        "* To show that they are printing the `wrapper()` function's docstring, not the `print_sum()` docstring, add the following docstring to `wrapper()`:\n",
        "\n",
        "```\n",
        "\"\"\"Print 'hello' and then call the decorated function.\"\"\"\n",
        "```"
      ],
      "metadata": {
        "id": "RRDxMR9ELmLn"
      }
    },
    {
      "cell_type": "code",
      "metadata": {
        "colab": {
          "base_uri": "https://localhost:8080/"
        },
        "id": "U_Xh-Dwlt5LO",
        "outputId": "d77bef39-f0ef-44d8-d884-3353030fa11a"
      },
      "source": [
        "### Decorators and missing metadata\n",
        "def add_hello(func):\n",
        "    # Add a docstring to wrapper\n",
        "    def wrapper(*args, **kwargs):\n",
        "        \"\"\"Print 'hello' and then call the decorated function. นี่เป็น docstring ของ decorator ไม่ใช่ตัวต้นฉบับ\"\"\"\n",
        "        print('Hello')\n",
        "        return func(*args, **kwargs)\n",
        "    return wrapper\n",
        "\n",
        "@add_hello\n",
        "def print_sum(a, b):\n",
        "    \"\"\"Adds two numbers and prints the sum\"\"\"\n",
        "    print(a + b)\n",
        "\n",
        "print_sum(10, 20)\n",
        "print(print_sum.__doc__)"
      ],
      "execution_count": null,
      "outputs": [
        {
          "output_type": "stream",
          "name": "stdout",
          "text": [
            "Hello\n",
            "30\n",
            "Print 'hello' and then call the decorated function. นี่เป็น docstring ของ decorator ไม่ใช่ตัวต้นฉบับ\n"
          ]
        }
      ]
    },
    {
      "cell_type": "markdown",
      "source": [
        "* Import a function that will allow you to add the metadata from `print_sum()` to the decorated version of `print_sum()`."
      ],
      "metadata": {
        "id": "fmcPbxC4MIHp"
      }
    },
    {
      "cell_type": "code",
      "metadata": {
        "colab": {
          "base_uri": "https://localhost:8080/"
        },
        "id": "IMCsIvxV4_Hh",
        "outputId": "6df0fea9-3be3-44bf-9dcb-ea80ae0ba364"
      },
      "source": [
        "from functools import wraps\n",
        "\n",
        "def add_hello(func):\n",
        "    # Decorate wrapper() so that it keeps func()'s metadata\n",
        "    @wraps(func)\n",
        "    def wrapper(*args, **kwargs):\n",
        "        \"\"\"นี่เป็น docstring ของ decorator ไม่ใช่ตัวต้นฉบับ\"\"\"\n",
        "        print('Hello')\n",
        "        return func(*args, **kwargs)\n",
        "    return wrapper\n",
        "\n",
        "@add_hello\n",
        "def print_sum(a, b):\n",
        "    \"\"\"Adds two numbers and prints the sum\"\"\"\n",
        "    print(a + b)\n",
        "\n",
        "print_sum(10, 20)\n",
        "print(print_sum.__doc__)"
      ],
      "execution_count": null,
      "outputs": [
        {
          "output_type": "stream",
          "text": [
            "Hello\n",
            "30\n",
            "Adds two numbers and prints the sum\n"
          ],
          "name": "stdout"
        }
      ]
    },
    {
      "cell_type": "markdown",
      "source": [
        "Your friend was concerned that they couldn't print the docstrings of their functions. They now realize that the strange behavior they were seeing was caused by the fact that they were accidentally printing the `wrapper()` docstring instead of the docstring of the original function. After adding **`@wraps(func)`** to all of their decorators, they see that the docstrings are back where they expect them to be.\n",
        "\n",
        "### **Measuring decorator overhead**\n",
        "\n",
        "Your boss wrote a decorator called `check_everything()` that they think is amazing, and they are insisting you use it on your function. However, you've noticed that when you use it to decorate your functions, it makes them run much slower. You need to convince your boss that the decorator is adding too much processing time to your function. To do this, you are going to measure how long the decorated function takes to run and compare it to how long the undecorated function would have taken to run. This is the decorator in question:\n",
        "\n",
        "```\n",
        "def check_everything(func):\n",
        "    @wraps(func)\n",
        "    def wrapper(*args, **kwargs):\n",
        "        check_inputs(*args, **kwargs)\n",
        "        result = func(*args, **kwargs)\n",
        "        check_outputs(result)\n",
        "        return result\n",
        "    return wrapper\n",
        "```\n",
        "### **Instructions**\n",
        "\n",
        "Call the original function instead of the decorated version by using an attribute of the function that the wraps() statement in your boss's decorator added to the decorated function."
      ],
      "metadata": {
        "id": "KQiBnc3rMqpH"
      }
    },
    {
      "cell_type": "code",
      "metadata": {
        "colab": {
          "base_uri": "https://localhost:8080/"
        },
        "id": "Tky44ocR5eIb",
        "outputId": "42d1d982-407d-4776-a688-f22b32c6bbf5"
      },
      "source": [
        "from functools import wraps\n",
        "import time\n",
        "\n",
        "# แค่เลียนแบบสิ่งที่น่าจะเกิดขึ้นในฟังก์ชันเหล่านี้ให้คล้ายกับสิ่งที่เกิดขึ้นในโจทย์\n",
        "\n",
        "def check_inputs(a, *args, **kwargs):\n",
        "    for value in a:\n",
        "        time.sleep(0.01)\n",
        "    print('Finished checking inputs')\n",
        "\n",
        "def check_outputs(a, *args, **kwargs):\n",
        "    for value in a:\n",
        "        time.sleep(0.01)\n",
        "    print('Finished checking outputs')\n",
        "\n",
        "def check_everything(func):\n",
        "    @wraps(func)\n",
        "    def wrapper(*args, **kwargs):\n",
        "        check_inputs(*args, **kwargs)\n",
        "        result = func(*args, **kwargs)\n",
        "        check_outputs(result)\n",
        "        return result\n",
        "    return wrapper\n",
        "\n",
        "\n",
        "@check_everything\n",
        "def duplicate(my_list):\n",
        "  \"\"\"Return a new list that repeats the input twice\"\"\"\n",
        "  return my_list + my_list\n",
        "\n",
        "t_start = time.time()\n",
        "duplicated_list = duplicate(list(range(50)))\n",
        "t_end = time.time()\n",
        "decorated_time = t_end - t_start\n",
        "\n",
        "t_start = time.time()\n",
        "# Call the original function instead of the decorated one\n",
        "duplicated_list = duplicate.__wrapped__(list(range(50)))\n",
        "t_end = time.time()\n",
        "undecorated_time = t_end - t_start\n",
        "\n",
        "print('Decorated time: {:.5f}s'.format(decorated_time))\n",
        "print('Undecorated time: {:.5f}s'.format(undecorated_time))"
      ],
      "execution_count": null,
      "outputs": [
        {
          "output_type": "stream",
          "name": "stdout",
          "text": [
            "Finished checking inputs\n",
            "Finished checking outputs\n",
            "Decorated time: 1.52421s\n",
            "Undecorated time: 0.00005s\n"
          ]
        }
      ]
    },
    {
      "cell_type": "markdown",
      "source": [
        "Your function ran approximately 10,000 times faster without your boss's decorator. At least they were smart enough to add **`@wraps(func)`** to the nested **`wrapper()`** function so that you were able to access the original function.\n",
        "\n",
        "# ***Decorators that take arguments***\n",
        "\n"
      ],
      "metadata": {
        "id": "NabXr75vwxGY"
      }
    },
    {
      "cell_type": "code",
      "source": [
        "def run_n_times(func):\n",
        "    def wrapper(*args, **kwargs):\n",
        "        for i in range(3): # <===== Must change manually\n",
        "            func(*args, **kwargs)\n",
        "    return wrapper\n",
        "\n",
        "@run_n_times\n",
        "def print_sum(a, b):\n",
        "    print(a + b)\n",
        "\n",
        "print_sum(15, 20)"
      ],
      "metadata": {
        "colab": {
          "base_uri": "https://localhost:8080/"
        },
        "id": "hgQGyhYow9EZ",
        "outputId": "e217d642-fecb-4f16-babd-1608addea674"
      },
      "execution_count": 11,
      "outputs": [
        {
          "output_type": "stream",
          "name": "stdout",
          "text": [
            "35\n",
            "35\n",
            "35\n"
          ]
        }
      ]
    },
    {
      "cell_type": "markdown",
      "source": [
        "- A decorator is supposed to take only one argument, i.e., **`func`**.\n",
        "- A decorator syntax usually do not follow by parenthesis.\n",
        "\n",
        "\n",
        "### **Run_n_times()**\n",
        "\n",
        "Below is an example of a decorator that takes an argument: **`run_n_times()`**. The code for that decorator is repeated below to remind you how it works. Practice different ways of applying the decorator to the function **`print_sum()`**. Then I'll show you a funny prank you can play on your co-workers.\n",
        "\n",
        "```\n",
        "def run_n_times(n):\n",
        "    \"\"\"Define and return a decorator\"\"\"\n",
        "    def decorator(func):\n",
        "        def wrapper(*args, **kwargs):\n",
        "            for i in range(n):\n",
        "                func(*args, **kwargs)\n",
        "        return wrapper\n",
        "    return decorator\n",
        "```\n",
        "\n",
        "* Add the **`run_n_times()`** decorator to `print_sum()` using decorator syntax so that `print_sum()` runs 10 times.\n",
        "\n",
        "* Use `run_n_times()` to create a decorator `run_five_times()` that will run any function five times.\n",
        "\n",
        "* Here's the prank: use `run_n_times()` to modify the built-in `print()` function so that it always prints 20 times!"
      ],
      "metadata": {
        "id": "ZUnjGQu5ObdE"
      }
    },
    {
      "cell_type": "code",
      "metadata": {
        "colab": {
          "base_uri": "https://localhost:8080/"
        },
        "id": "wAlcSPBw6qW5",
        "outputId": "9a95bc4b-6e41-4db3-8dbc-0d42a096fb99"
      },
      "source": [
        "### Deccorators that take arguments\n",
        "\n",
        "def run_n_times(n):\n",
        "    \"\"\"Define and return a decorator\"\"\"\n",
        "    def decorator(func):\n",
        "        def wrapper(*args, **kwargs):\n",
        "            for i in range(n):\n",
        "              func(*args, **kwargs)\n",
        "        return wrapper\n",
        "    return decorator\n",
        "\n",
        "# Make print_sum() run 3 times with the run_n_times() decorator\n",
        "@run_n_times(3)\n",
        "def print_sum(a, b):\n",
        "  print(a + b)\n",
        "\n",
        "print_sum(15, 20)\n",
        "\n",
        "# Modify the printn() function to always run 3 times\n",
        "# ขี้เกียจแก้ เลยเปลี่ยนเป็น printn\n",
        "printn = run_n_times(3)(print)\n",
        "\n",
        "printn('What is happening?!?!')"
      ],
      "execution_count": null,
      "outputs": [
        {
          "output_type": "stream",
          "text": [
            "35\n",
            "35\n",
            "35\n",
            "What is happening?!?!\n",
            "What is happening?!?!\n",
            "What is happening?!?!\n"
          ],
          "name": "stdout"
        }
      ]
    },
    {
      "cell_type": "markdown",
      "source": [
        "Notice how when you use decorator syntax for a decorator that takes arguments, you ***need to call the decorator by adding parentheses***, but you don't add parenthesis for decorators that don't take arguments.\n",
        "\n",
        "_Warning: overwriting commonly used functions is probably not a great idea, so think twice before using these powers for evil._\n",
        "\n",
        "### **HTML Generator**\n",
        "\n",
        "You have written two decorators that will add bold or italics tags to any function that returns a string. You notice, however, that these two decorators look very similar. Instead of writing a bunch of other similar looking decorators, you want to create one decorator, **`html()`**, that can take any pair of opening and closing tags.\n",
        "\n",
        "```\n",
        "def bold(func):\n",
        "    @wraps(func)\n",
        "    def wrapper(*args, **kwargs):\n",
        "        msg = func(*args, **kwargs)\n",
        "        return '<b>{}</b>'.format(msg)\n",
        "    return wrapper\n",
        "\n",
        "def italics(func):\n",
        "    @wraps(func)\n",
        "    def wrapper(*args, **kwargs):\n",
        "        msg = func(*args, **kwargs)\n",
        "        return '<i>{}</i>'.format(msg)\n",
        "    return wrapper\n",
        "```\n",
        "1. Return the decorator and the decorated function from the correct places in the new `html()` decorator.\n",
        "\n",
        "2. Use the `html()` decorator to wrap the return value of `hello()` in the strings `<b>` and `</b>` (the HTML tags that mean \"bold\").\n",
        "\n",
        "3. Use `html()` to wrap the return value of `goodbye()` in the strings `<i>` and `</i>` (the HTML tags that mean \"italics\").\n",
        "\n",
        "4. Use `html()` to wrap `hello_goodbye()` in a **`DIV`**, which is done by adding the strings `<div>` and `</div>` tags around a string."
      ],
      "metadata": {
        "id": "jg5B_AAZdSbY"
      }
    },
    {
      "cell_type": "code",
      "metadata": {
        "colab": {
          "base_uri": "https://localhost:8080/"
        },
        "id": "U3N-Q3j4_P2p",
        "outputId": "2c13c74d-5aac-4b6f-f0df-25901960ded1"
      },
      "source": [
        "# แทนที่จะเขียน decorators ซ้ำๆกันแบบนี้\n",
        "from functools import wraps\n",
        "\n",
        "def bold(func):\n",
        "    @wraps(func)\n",
        "    def wrapper(*args, **kwargs):\n",
        "        msg = func(*args, **kwargs)\n",
        "        return '<b>{}</b>'.format(msg)\n",
        "    return wrapper\n",
        "def italics(func):\n",
        "    @wraps(func)\n",
        "    def wrapper(*args, **kwargs):\n",
        "        msg = func(*args, **kwargs)\n",
        "        return '<i>{}</i>'.format(msg)\n",
        "    return wrapper\n",
        "\n",
        "# เขียนเป็น decorators ที่มีตัวแปรแบบนี้ดีกว่า\n",
        "\n",
        "def html(open_tag, close_tag):\n",
        "    def decorator(func):\n",
        "        @wraps(func)\n",
        "        def wrapper(*args, **kwargs):\n",
        "            msg = func(*args, **kwargs)\n",
        "            return '{}{}{}'.format(open_tag, msg, close_tag)\n",
        "        # Return the decorated function\n",
        "        return wrapper\n",
        "    # Return the decorator\n",
        "    return decorator\n",
        "\n",
        "# Make hello() return bolded text\n",
        "@html(\"<b>\", \"</b>\")\n",
        "def hello(name):\n",
        "  return 'Hello {}!'.format(name)\n",
        "\n",
        "print(hello('Alice'))\n",
        "\n",
        "# Make goodbye() return italicized text\n",
        "@html(\"<i>\", \"</i>\")\n",
        "def goodbye(name):\n",
        "  return 'Goodbye {}.'.format(name)\n",
        "\n",
        "print(goodbye('Alice'))\n",
        "\n",
        "# Wrap the result of hello_goodbye() in <div> and </div>\n",
        "@html(\"<div>\", \"</div>\")\n",
        "def hello_goodbye(name):\n",
        "  return '\\n{}\\n{}\\n'.format(hello(name), goodbye(name))\n",
        "\n",
        "print(hello_goodbye('Alice'))"
      ],
      "execution_count": null,
      "outputs": [
        {
          "output_type": "stream",
          "text": [
            "<b>Hello Alice!</b>\n",
            "<i>Goodbye Alice.</i>\n",
            "<div>\n",
            "<b>Hello Alice!</b>\n",
            "<i>Goodbye Alice.</i>\n",
            "</div>\n"
          ],
          "name": "stdout"
        }
      ]
    },
    {
      "cell_type": "markdown",
      "source": [
        "With the new `html()` decorator you can focus on writing simple functions that return the information you want to display on the webpage and let the decorator take care of wrapping them in the appropriate HTML tags.\n",
        "\n",
        "# ***Timeout Decorator***\n",
        "\n",
        "* The **`raise_timeout()`** function simply raises a **`TimeoutError`** when it is called.\n",
        "\n",
        "## ***The Signal Module***\n",
        "\n",
        "* The **`signal.signal()`** function tells Python, \"When you see the signal whose number is **`signalnum`**, call the handler function.\" In this case, we tell Python to call **`raise_timeout()`** whenever it sees the alarm signal.\n",
        "\n",
        "* The **`signal.alarm()`** function lets us set an alarm for some number of seconds in the future. Passing **`0`** to the **`signal.alarm()`** function cancels the alarm.\n",
        "\n",
        "\n",
        "            \n",
        "            try:\n",
        "                # Call the decorated func\n",
        "                return func(*args, **kwargs)\n",
        "            finally:\n",
        "                # Cancel alarm\n",
        "                signal.alarm(0)\n",
        "\n",
        "* The **`finally`** block ensures that the alarm either rings or gets canceled."
      ],
      "metadata": {
        "id": "OgHjPZplkJBj"
      }
    },
    {
      "cell_type": "code",
      "source": [
        "import signal, time\n",
        "from functools import wraps\n",
        "\n",
        "def raise_timeout(*args, **kwargs):\n",
        "    raise TimeoutError()\n",
        "\n",
        "# When an \"alarm\" signal goes off, call raise_timeout()\n",
        "signal.signal(signalnum=signal.SIGALRM, handler=raise_timeout)\n",
        "\n",
        "\n",
        "def timeout(n_seconds):\n",
        "    def decorator(func):\n",
        "        @wraps(func)\n",
        "        def wrapper(*args, **kwargs):\n",
        "            # Set an alarm for n seconds\n",
        "            signal.alarm(n_seconds)\n",
        "            try:\n",
        "                # Call the decorated func\n",
        "                return func(*args, **kwargs)\n",
        "            finally:\n",
        "                # Cancel alarm\n",
        "                signal.alarm(0)\n",
        "        return wrapper\n",
        "    return decorator\n",
        "\n",
        "@timeout(2)\n",
        "def foo():\n",
        "    time.sleep(10)\n",
        "    print('foo!')\n",
        "\n",
        "foo()"
      ],
      "metadata": {
        "colab": {
          "base_uri": "https://localhost:8080/",
          "height": 360
        },
        "id": "k9KKjNe3kTT0",
        "outputId": "c70d9714-39e6-40b8-b550-2eae75926fe9"
      },
      "execution_count": null,
      "outputs": [
        {
          "output_type": "error",
          "ename": "TimeoutError",
          "evalue": "ignored",
          "traceback": [
            "\u001b[0;31m---------------------------------------------------------------------------\u001b[0m",
            "\u001b[0;31mTimeoutError\u001b[0m                              Traceback (most recent call last)",
            "\u001b[0;32m<ipython-input-4-c5aa4af669d4>\u001b[0m in \u001b[0;36m<module>\u001b[0;34m()\u001b[0m\n\u001b[1;32m     29\u001b[0m     \u001b[0mprint\u001b[0m\u001b[0;34m(\u001b[0m\u001b[0;34m'foo!'\u001b[0m\u001b[0;34m)\u001b[0m\u001b[0;34m\u001b[0m\u001b[0;34m\u001b[0m\u001b[0m\n\u001b[1;32m     30\u001b[0m \u001b[0;34m\u001b[0m\u001b[0m\n\u001b[0;32m---> 31\u001b[0;31m \u001b[0mfoo\u001b[0m\u001b[0;34m(\u001b[0m\u001b[0;34m)\u001b[0m\u001b[0;34m\u001b[0m\u001b[0;34m\u001b[0m\u001b[0m\n\u001b[0m",
            "\u001b[0;32m<ipython-input-4-c5aa4af669d4>\u001b[0m in \u001b[0;36mwrapper\u001b[0;34m(*args, **kwargs)\u001b[0m\n\u001b[1;32m     17\u001b[0m             \u001b[0;32mtry\u001b[0m\u001b[0;34m:\u001b[0m\u001b[0;34m\u001b[0m\u001b[0;34m\u001b[0m\u001b[0m\n\u001b[1;32m     18\u001b[0m                 \u001b[0;31m# Call the decorated func\u001b[0m\u001b[0;34m\u001b[0m\u001b[0;34m\u001b[0m\u001b[0;34m\u001b[0m\u001b[0m\n\u001b[0;32m---> 19\u001b[0;31m                 \u001b[0;32mreturn\u001b[0m \u001b[0mfunc\u001b[0m\u001b[0;34m(\u001b[0m\u001b[0;34m*\u001b[0m\u001b[0margs\u001b[0m\u001b[0;34m,\u001b[0m \u001b[0;34m**\u001b[0m\u001b[0mkwargs\u001b[0m\u001b[0;34m)\u001b[0m\u001b[0;34m\u001b[0m\u001b[0;34m\u001b[0m\u001b[0m\n\u001b[0m\u001b[1;32m     20\u001b[0m             \u001b[0;32mfinally\u001b[0m\u001b[0;34m:\u001b[0m\u001b[0;34m\u001b[0m\u001b[0;34m\u001b[0m\u001b[0m\n\u001b[1;32m     21\u001b[0m                 \u001b[0;31m# Cancel alarm\u001b[0m\u001b[0;34m\u001b[0m\u001b[0;34m\u001b[0m\u001b[0;34m\u001b[0m\u001b[0m\n",
            "\u001b[0;32m<ipython-input-4-c5aa4af669d4>\u001b[0m in \u001b[0;36mfoo\u001b[0;34m()\u001b[0m\n\u001b[1;32m     26\u001b[0m \u001b[0;34m@\u001b[0m\u001b[0mtimeout\u001b[0m\u001b[0;34m(\u001b[0m\u001b[0;36m2\u001b[0m\u001b[0;34m)\u001b[0m\u001b[0;34m\u001b[0m\u001b[0;34m\u001b[0m\u001b[0m\n\u001b[1;32m     27\u001b[0m \u001b[0;32mdef\u001b[0m \u001b[0mfoo\u001b[0m\u001b[0;34m(\u001b[0m\u001b[0;34m)\u001b[0m\u001b[0;34m:\u001b[0m\u001b[0;34m\u001b[0m\u001b[0;34m\u001b[0m\u001b[0m\n\u001b[0;32m---> 28\u001b[0;31m     \u001b[0mtime\u001b[0m\u001b[0;34m.\u001b[0m\u001b[0msleep\u001b[0m\u001b[0;34m(\u001b[0m\u001b[0;36m10\u001b[0m\u001b[0;34m)\u001b[0m\u001b[0;34m\u001b[0m\u001b[0;34m\u001b[0m\u001b[0m\n\u001b[0m\u001b[1;32m     29\u001b[0m     \u001b[0mprint\u001b[0m\u001b[0;34m(\u001b[0m\u001b[0;34m'foo!'\u001b[0m\u001b[0;34m)\u001b[0m\u001b[0;34m\u001b[0m\u001b[0;34m\u001b[0m\u001b[0m\n\u001b[1;32m     30\u001b[0m \u001b[0;34m\u001b[0m\u001b[0m\n",
            "\u001b[0;32m<ipython-input-4-c5aa4af669d4>\u001b[0m in \u001b[0;36mraise_timeout\u001b[0;34m(*args, **kwargs)\u001b[0m\n\u001b[1;32m      3\u001b[0m \u001b[0;34m\u001b[0m\u001b[0m\n\u001b[1;32m      4\u001b[0m \u001b[0;32mdef\u001b[0m \u001b[0mraise_timeout\u001b[0m\u001b[0;34m(\u001b[0m\u001b[0;34m*\u001b[0m\u001b[0margs\u001b[0m\u001b[0;34m,\u001b[0m \u001b[0;34m**\u001b[0m\u001b[0mkwargs\u001b[0m\u001b[0;34m)\u001b[0m\u001b[0;34m:\u001b[0m\u001b[0;34m\u001b[0m\u001b[0;34m\u001b[0m\u001b[0m\n\u001b[0;32m----> 5\u001b[0;31m     \u001b[0;32mraise\u001b[0m \u001b[0mTimeoutError\u001b[0m\u001b[0;34m(\u001b[0m\u001b[0;34m)\u001b[0m\u001b[0;34m\u001b[0m\u001b[0;34m\u001b[0m\u001b[0m\n\u001b[0m\u001b[1;32m      6\u001b[0m \u001b[0;34m\u001b[0m\u001b[0m\n\u001b[1;32m      7\u001b[0m \u001b[0;31m# When an \"alarm\" signal goes off, call raise_timeout()\u001b[0m\u001b[0;34m\u001b[0m\u001b[0;34m\u001b[0m\u001b[0;34m\u001b[0m\u001b[0m\n",
            "\u001b[0;31mTimeoutError\u001b[0m: "
          ]
        }
      ]
    },
    {
      "cell_type": "code",
      "source": [
        "@timeout(20)\n",
        "def bar():\n",
        "    time.sleep(2)\n",
        "    print('bar!')\n",
        "\n",
        "bar()"
      ],
      "metadata": {
        "colab": {
          "base_uri": "https://localhost:8080/"
        },
        "id": "Y8wSIsu6kwZ6",
        "outputId": "fb8e0410-8f0f-45a8-8da3-f87ca740e9f0"
      },
      "execution_count": null,
      "outputs": [
        {
          "output_type": "stream",
          "name": "stdout",
          "text": [
            "bar!\n"
          ]
        }
      ]
    },
    {
      "cell_type": "markdown",
      "source": [
        "### **Tag your functions**\n",
        "\n",
        "Tagging something means that you have given that thing one or more strings that act as labels. For instance, we often tag emails or photos so that we can search for them later. You've decided to write a decorator that will let you tag your functions with an arbitrary list of tags. You could use these tags for many things:\n",
        "\n",
        "* Adding information about who has worked on the function, so a user can look up who to ask if they run into trouble using it.\n",
        "* Labeling functions as \"experimental\" so that users know that the inputs and outputs might change in the future.\n",
        "* Marking any functions that you plan to remove in a future version of the code.\n",
        "* Etc.\n",
        "\n",
        "1. Define a new decorator, named **`decorator()`**, to return.\n",
        "2. Ensure the decorated function keeps its metadata.\n",
        "3. Call the function being decorated and return the result.\n",
        "4. Return the new decorator."
      ],
      "metadata": {
        "id": "xIfIbty2otHb"
      }
    },
    {
      "cell_type": "code",
      "metadata": {
        "colab": {
          "base_uri": "https://localhost:8080/"
        },
        "id": "knIdP3ioA-6d",
        "outputId": "c4489736-c344-41f1-d7c5-b81c9c9822cc"
      },
      "source": [
        "from functools import wraps\n",
        "\n",
        "def tag(*tags):\n",
        "    # Define a new decorator, named \"decorator\", to return\n",
        "    def decorator(func):\n",
        "        # Ensure the decorated function keeps its metadata\n",
        "        @wraps(func)\n",
        "        def wrapper(*args, **kwargs):\n",
        "            # Call the function being decorated and return the result\n",
        "            return func(*args, **kwargs)\n",
        "        wrapper.tags = tags\n",
        "        return wrapper\n",
        "    # Return the new decorator\n",
        "    return decorator\n",
        "\n",
        "@tag('test', 'this is a tag')\n",
        "def foo():\n",
        "    pass\n",
        "\n",
        "print(foo.tags)"
      ],
      "execution_count": null,
      "outputs": [
        {
          "output_type": "stream",
          "text": [
            "('test', 'this is a tag')\n"
          ],
          "name": "stdout"
        }
      ]
    },
    {
      "cell_type": "markdown",
      "source": [
        "With this new decorator, you can do some really interesting things. For instance, you could tag a bunch of image transforming functions, and then write code that searches for all of the functions that transform images and apply them, one after the other, on a given input image. What other neat uses can you come up with for this decorator?\n",
        "\n",
        "### **Check the return type**\n",
        "\n",
        "Python's flexibility around data types is usually cited as one of the benefits of the language. It can sometimes cause problems though if incorrect data types go unnoticed. You've decided that ***in order to ensure your code is doing exactly what you want it to do, you will explicitly check the return types in all of your functions and make sure they're returning what you expect.*** To do that, you are going to create a decorator that checks if the return type of the decorated function is correct.\n",
        "\n",
        "Note: **`assert`** is a keyword that you can use to test whether something is true. If you type **`assert`** condition and condition is **`True`**, this function doesn't do anything. If condition is **`False`**, this function raises an error. The type of error that it raises is called an **`AssertionError`**.\n",
        "\n",
        "1. Start by completing the `returns_dict()` decorator so that it raises an **`AssertionError`** if the return type of the decorated function is not a dictionary.\n",
        "\n",
        "2. Now complete the **`returns()`** decorator, which takes the expected return type as an argument.\n"
      ],
      "metadata": {
        "id": "ab8piSv7qE4p"
      }
    },
    {
      "cell_type": "code",
      "metadata": {
        "colab": {
          "base_uri": "https://localhost:8080/"
        },
        "id": "Jpwuh5AYECt3",
        "outputId": "1d5dbc16-c184-4b4c-967f-a27f22ced283"
      },
      "source": [
        "def returns_dict(func):\n",
        "    # Complete the returns_dict() decorator\n",
        "    def wrapper(*args, **kwargs):\n",
        "        result = func(*args, **kwargs)\n",
        "        assert(type(result) == dict)\n",
        "        return result\n",
        "    return wrapper\n",
        "\n",
        "@returns_dict\n",
        "def foo(value):\n",
        "    return value\n",
        "\n",
        "try:\n",
        "    print(foo([1,2,3]))\n",
        "except AssertionError:\n",
        "    print('foo() did not return a dict!')\n",
        "\n",
        "# เราเขียนเป็น Decorators ที่ระบุตัวแปรได้แบบนี้\n",
        "\n",
        "def returns(return_type):\n",
        "    # Complete the returns() decorator\n",
        "    def decorator(func):\n",
        "        def wrapper(*args, **kwargs):\n",
        "            result = func(*args, **kwargs)\n",
        "            assert(type(result) == return_type)\n",
        "            return result\n",
        "        return wrapper\n",
        "    return decorator\n",
        "\n",
        "@returns(dict)\n",
        "def foo(value):\n",
        "    return value\n",
        "\n",
        "try:\n",
        "    print(foo([1,2,3]))\n",
        "except AssertionError:\n",
        "    print('foo() did not return a dict!')"
      ],
      "execution_count": null,
      "outputs": [
        {
          "output_type": "stream",
          "text": [
            "foo() did not return a dict!\n",
            "foo() did not return a dict!\n"
          ],
          "name": "stdout"
        }
      ]
    },
    {
      "cell_type": "markdown",
      "source": [
        "You know how to write your own decorators now, but even more importantly, you know why they work the way they do."
      ],
      "metadata": {
        "id": "BcmkYcFbU05l"
      }
    }
  ]
}